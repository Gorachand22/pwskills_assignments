{
 "cells": [
  {
   "attachments": {},
   "cell_type": "markdown",
   "metadata": {},
   "source": [
    "<h1 style = 'color:red'><b>Assignment-2</b><h1>"
   ]
  },
  {
   "attachments": {},
   "cell_type": "markdown",
   "metadata": {},
   "source": [
    "Name  - Gorachanda Dash<br>\n",
    "Date - May 15 2023"
   ]
  },
  {
   "attachments": {},
   "cell_type": "markdown",
   "metadata": {},
   "source": [
    "<p style=\" color : #4233FF\"><b>Q1. How do you comment code in Python? What are the different types of comments?</b>"
   ]
  },
  {
   "attachments": {},
   "cell_type": "markdown",
   "metadata": {},
   "source": [
    "In Python, we can add comments to our code to provide explanations, make notes, or temporarily disable certain lines of code. Comments are not executed as part of the program and are meant to be read by developers or maintainers. There are two types of comments in Python:"
   ]
  },
  {
   "attachments": {},
   "cell_type": "markdown",
   "metadata": {},
   "source": [
    "i. `single-line comment: ` Single-line comments are used for brief explanations or notes on a single line"
   ]
  },
  {
   "cell_type": "code",
   "execution_count": null,
   "metadata": {},
   "outputs": [],
   "source": [
    "# This is a single-line comment\n",
    "x = 5  # Assigning the value 5 to the variable x"
   ]
  },
  {
   "attachments": {},
   "cell_type": "markdown",
   "metadata": {},
   "source": [
    "ii. `Multi-line comments`: Multi-line comments, also known as block comments, are used for longer explanations or comments that span multiple lines."
   ]
  },
  {
   "cell_type": "code",
   "execution_count": null,
   "metadata": {},
   "outputs": [],
   "source": [
    "\"\"\"\n",
    "This is a multi-line comment.\n",
    "This is another multi-line comment.\n",
    "\"\"\""
   ]
  },
  {
   "attachments": {},
   "cell_type": "markdown",
   "metadata": {},
   "source": []
  },
  {
   "attachments": {},
   "cell_type": "markdown",
   "metadata": {},
   "source": [
    "<p style=\" color : #4233FF\"><b>Q2. What are variables in Python? How do you declare and assign values to variables?</b>"
   ]
  },
  {
   "attachments": {},
   "cell_type": "markdown",
   "metadata": {},
   "source": [
    "In Python, variables are used to store and manipulate data. A variable is essentially a named location in memory that holds a value. We can assign different types of values, such as numbers, strings, lists, or objects, to variables. Here's how we declare and assign values to variables in Python:"
   ]
  },
  {
   "attachments": {},
   "cell_type": "markdown",
   "metadata": {},
   "source": [
    "`i. Variable declaration:` To declare a variable, you simply choose a name and follow the naming rules. Variable names can contain letters (both uppercase and lowercase), digits, and underscores (_). However, they cannot start with a digit. Here's an example of declaring a variable:"
   ]
  },
  {
   "cell_type": "code",
   "execution_count": null,
   "metadata": {},
   "outputs": [],
   "source": [
    "x = 10\n",
    "# In this case, we declared a variable named x and assigned the value 10 to it."
   ]
  },
  {
   "attachments": {},
   "cell_type": "markdown",
   "metadata": {},
   "source": [
    "`ii. Value assignment:` To assign a value to a variable, we use the assignment operator (=). The value on the right side of the operator is assigned to the variable on the left side. Here are a few examples:"
   ]
  },
  {
   "cell_type": "code",
   "execution_count": null,
   "metadata": {},
   "outputs": [],
   "source": [
    "name = \"Gorachanda Dash\"      # Assigning a string value to a variable named 'name'\n",
    "age = 23           # Assigning an integer value to a variable named 'age'\n",
    "pi = 3.14159       # Assigning a float value to a variable named 'pi'\n",
    "is_student = True  # Assigning a boolean value to a variable named 'is_student'\n",
    "\n",
    "# we assigned different types of values to variables with appropriate names."
   ]
  },
  {
   "attachments": {},
   "cell_type": "markdown",
   "metadata": {},
   "source": [
    "`iii. Variable reassignment:` Python allows you to change the value of a variable by assigning a new value to it. For example:"
   ]
  },
  {
   "cell_type": "code",
   "execution_count": null,
   "metadata": {},
   "outputs": [],
   "source": [
    "x = 5       # Assigning an initial value of 5 to 'x'\n",
    "x = 8       # Reassigning a new value of 8 to 'x'\n",
    "\n",
    "# In this case, the variable x was initially assigned a value of 5, but later it was reassigned a new value of 8."
   ]
  },
  {
   "attachments": {},
   "cell_type": "markdown",
   "metadata": {},
   "source": []
  },
  {
   "attachments": {},
   "cell_type": "markdown",
   "metadata": {},
   "source": [
    "<p style=\" color : #4233FF\"><b>Q3. How do you convert one data type to another in Python?</b>"
   ]
  },
  {
   "attachments": {},
   "cell_type": "markdown",
   "metadata": {},
   "source": [
    "In Python, we can convert one data type to another using type conversion functions."
   ]
  },
  {
   "attachments": {},
   "cell_type": "markdown",
   "metadata": {},
   "source": [
    "`i. int():` This function is used to convert a value to an integer data type. It can convert float, string, or boolean values to integers. For example:"
   ]
  },
  {
   "cell_type": "code",
   "execution_count": null,
   "metadata": {},
   "outputs": [],
   "source": [
    "x = int(3.14)   # Converts the float value 3.14 to an integer\n",
    "y = int(\"42\")   # Converts the string value \"42\" to an integer"
   ]
  },
  {
   "attachments": {},
   "cell_type": "markdown",
   "metadata": {},
   "source": [
    "`ii. float():` The float() function is used to convert a value to a floating-point data type. It can convert integers, strings, or boolean values to floats. For example:"
   ]
  },
  {
   "cell_type": "code",
   "execution_count": null,
   "metadata": {},
   "outputs": [],
   "source": [
    "x = float(5)        # Converts the integer value 5 to a float\n",
    "y = float(\"3.14\")   # Converts the string value \"3.14\" to a float"
   ]
  },
  {
   "attachments": {},
   "cell_type": "markdown",
   "metadata": {},
   "source": [
    "`iii. bool():` The bool() function converts a value to a boolean data type. It can convert integers, floats, strings, or other types to booleans. For example:"
   ]
  },
  {
   "cell_type": "code",
   "execution_count": null,
   "metadata": {},
   "outputs": [],
   "source": [
    "x = bool(0)         # Converts the integer value 0 to False\n",
    "y = bool(3.14)      # Converts the non-zero float value 3.14 to True\n",
    "z = bool(\"Hello\")   # Converts the non-empty string value \"Hello\" to True\n",
    "\n",
    "# These are just a few examples of the type conversion functions available in Python."
   ]
  },
  {
   "attachments": {},
   "cell_type": "markdown",
   "metadata": {},
   "source": []
  },
  {
   "attachments": {},
   "cell_type": "markdown",
   "metadata": {},
   "source": [
    "<p style=\" color : #4233FF\"><b>Q4. How do you write and execute a Python script from the command line?</b>"
   ]
  },
  {
   "attachments": {},
   "cell_type": "markdown",
   "metadata": {},
   "source": [
    "`i. ` To write and execute a Python script from the command line, these are follwing steps:\n",
    "\n",
    "`ii. ` `Open a text editor:` \n",
    "Use a text editor  to write Python script like Notepad, Sublime Text, Visual Studio Code, or any other text editor that supports plain text.\n",
    "\n",
    "`iii. ` In the text editor, write Python code. For example: <br>\n",
    "print(\"Hello, World!\")\n",
    "Then Save the file with a .py extension, such as hello.py.\n",
    "\n",
    "`iv. ` `Open the command line:` Open the command line or terminal on your operating system.\n",
    "My OS is windows so I use `command prompt` (cmd)\n",
    "\n",
    "`v. ` `Navigate to the script's directory: `\n",
    "Use the cd command to navigate to the directory where Python script is present. \n",
    "For example, script is in the Documents folder, so navigate to it using the following command: `cd Documents`\n",
    "\n",
    "`vi. ` `Execute the Python script:` \n",
    "Once you are in the directory containing Python script, we can execute it by typing python followed by the name of script file. For example: `python hello.py`\n",
    "\n",
    "`vii. ` Press Enter, and the Python interpreter will execute script."
   ]
  },
  {
   "attachments": {},
   "cell_type": "markdown",
   "metadata": {},
   "source": []
  },
  {
   "attachments": {},
   "cell_type": "markdown",
   "metadata": {},
   "source": [
    "<p style=\" color : #4233FF\"><b>Q5.Given a list my_list = [1, 2, 3, 4, 5], write the code to slice the list and obtain the sub-list [2, 3].</b>"
   ]
  },
  {
   "cell_type": "code",
   "execution_count": 2,
   "metadata": {},
   "outputs": [
    {
     "name": "stdout",
     "output_type": "stream",
     "text": [
      "[2, 3]\n"
     ]
    }
   ],
   "source": [
    "my_list = [1, 2, 3, 4, 5]\n",
    "sub_list=my_list[1:3] # Index slicing of my_list\n",
    "print(sub_list)"
   ]
  },
  {
   "attachments": {},
   "cell_type": "markdown",
   "metadata": {},
   "source": [
    "<p style=\" color : #4233FF\"><b>Q6.What is a complex number in mathematics, and how is it represented in Python?</b>"
   ]
  },
  {
   "attachments": {},
   "cell_type": "markdown",
   "metadata": {},
   "source": [
    "`In mathematics`, a complex number is a number of the form a + bi, where a and b are real numbers, and i represents the imaginary unit (√-1). The real part of the complex number is denoted by a, and the imaginary part is denoted by b. Complex numbers are used to represent quantities that involve both real and imaginary components.\n",
    "\n",
    "`In Python`, complex numbers are represented using the complex data type. The complex type is built-in, and we can create complex numbers by using the j suffix to indicate the imaginary part. Here are a few examples:\n"
   ]
  },
  {
   "cell_type": "code",
   "execution_count": null,
   "metadata": {},
   "outputs": [],
   "source": [
    "z1 = 3 + 2j        # Complex number with real part 3 and imaginary part 2\n",
    "z2 = -1.5 - 4j     # Complex number with real part -1.5 and imaginary part -4\n",
    "z4 = complex(1, -3)  # Complex number with real part 1 and imaginary part -3"
   ]
  },
  {
   "cell_type": "code",
   "execution_count": 6,
   "metadata": {},
   "outputs": [
    {
     "name": "stdout",
     "output_type": "stream",
     "text": [
      "(4-3j)\n",
      "(2+7j)\n",
      "(13-13j)\n",
      "(-0.2692307692307692+0.6538461538461539j)\n"
     ]
    }
   ],
   "source": [
    "# some complex number operations\n",
    "z1 = 3 + 2j\n",
    "z2 = 1 - 5j\n",
    "\n",
    "sum = z1 + z2\n",
    "difference = z1 - z2\n",
    "product = z1 * z2\n",
    "quotient = z1 / z2\n",
    "\n",
    "print(sum)         # Output: (4-3j)\n",
    "print(difference)  # Output: (2+7j)\n",
    "print(product)     # Output: (13-7j)\n",
    "print(quotient)    # Output: (-0.24444444444444444+0.7777777777777778j)\n"
   ]
  },
  {
   "attachments": {},
   "cell_type": "markdown",
   "metadata": {},
   "source": []
  },
  {
   "attachments": {},
   "cell_type": "markdown",
   "metadata": {},
   "source": [
    "<p style=\" color : #4233FF\"><b>Q7.What is the correct way to declare a variable named age and assign the value 25 to it?</b>"
   ]
  },
  {
   "cell_type": "code",
   "execution_count": null,
   "metadata": {},
   "outputs": [],
   "source": [
    "age = 25"
   ]
  },
  {
   "attachments": {},
   "cell_type": "markdown",
   "metadata": {},
   "source": [
    "In this line of code, age is the variable name, and 25 is the value assigned to the variable. The = symbol is the assignment operator used to assign the value to the variable.\n",
    "\n",
    "After executing this line of code, the variable age will hold the value 25, and we can use the variable throughout your program to access or manipulate the assigned value.\n",
    "\n",
    "It's worth noting that in Python, you don't need to explicitly specify the data type of the variable during declaration. As python automatically detects the data type when we are assigned a value. Here python automatically\n",
    "detects the data type is integer."
   ]
  },
  {
   "attachments": {},
   "cell_type": "markdown",
   "metadata": {},
   "source": []
  },
  {
   "attachments": {},
   "cell_type": "markdown",
   "metadata": {},
   "source": [
    "<p style=\" color : #4233FF\"><b>Q8.Declare a variable named price and assign the value 9.99 to it. What data type does this variable belong to?</b>"
   ]
  },
  {
   "cell_type": "code",
   "execution_count": 7,
   "metadata": {},
   "outputs": [
    {
     "name": "stdout",
     "output_type": "stream",
     "text": [
      "<class 'float'>\n"
     ]
    }
   ],
   "source": [
    "price = 9.99\n",
    "print(type(price))"
   ]
  },
  {
   "attachments": {},
   "cell_type": "markdown",
   "metadata": {},
   "source": [
    "The type() function returns the data type of the variable price, which in this case is <class 'float'>, confirming that it belongs to the float data type."
   ]
  },
  {
   "attachments": {},
   "cell_type": "markdown",
   "metadata": {},
   "source": []
  },
  {
   "attachments": {},
   "cell_type": "markdown",
   "metadata": {},
   "source": [
    "<p style=\" color : #4233FF\"><b>Q9.Create a variable named name and assign your full name to it as a string. How would you print the value of this variable?</b>"
   ]
  },
  {
   "cell_type": "code",
   "execution_count": 8,
   "metadata": {},
   "outputs": [
    {
     "name": "stdout",
     "output_type": "stream",
     "text": [
      "Gorachanda Dash\n"
     ]
    }
   ],
   "source": [
    "name = \"Gorachanda Dash\" # Assign my full name\n",
    "print(name)"
   ]
  },
  {
   "cell_type": "code",
   "execution_count": null,
   "metadata": {},
   "outputs": [],
   "source": []
  },
  {
   "attachments": {},
   "cell_type": "markdown",
   "metadata": {},
   "source": [
    "<p style=\" color : #4233FF\"><b>Q10. Given the string \"Hello, World!\", extract the substring \"World\".</b>"
   ]
  },
  {
   "cell_type": "code",
   "execution_count": 10,
   "metadata": {},
   "outputs": [
    {
     "name": "stdout",
     "output_type": "stream",
     "text": [
      "World\n"
     ]
    }
   ],
   "source": [
    "st = \"Hello, World!\"\n",
    "\n",
    "print(st[st.find('W'):-1])"
   ]
  },
  {
   "attachments": {},
   "cell_type": "markdown",
   "metadata": {},
   "source": []
  },
  {
   "attachments": {},
   "cell_type": "markdown",
   "metadata": {},
   "source": [
    "<p style=\" color : #4233FF\"><b>Q11. Create a variable named \"is_student\" and assign it a boolean value indicating whether you are currently a student or not.</b>"
   ]
  },
  {
   "cell_type": "code",
   "execution_count": null,
   "metadata": {},
   "outputs": [],
   "source": [
    "# if you are currently a student, the code would be:\n",
    "\n",
    "is_student = True\n",
    "\n",
    "# If you are not a student, the code would be:\n",
    "is_student = False"
   ]
  },
  {
   "attachments": {},
   "cell_type": "markdown",
   "metadata": {},
   "source": [
    "\n",
    "<h1 style = 'color:orange'>\n",
    "    <b><div>THANK YOU</div></b>\n",
    "</h1>\n"
   ]
  }
 ],
 "metadata": {
  "kernelspec": {
   "display_name": "Python 3",
   "language": "python",
   "name": "python3"
  },
  "language_info": {
   "codemirror_mode": {
    "name": "ipython",
    "version": 3
   },
   "file_extension": ".py",
   "mimetype": "text/x-python",
   "name": "python",
   "nbconvert_exporter": "python",
   "pygments_lexer": "ipython3",
   "version": "3.9.13"
  },
  "orig_nbformat": 4
 },
 "nbformat": 4,
 "nbformat_minor": 2
}
