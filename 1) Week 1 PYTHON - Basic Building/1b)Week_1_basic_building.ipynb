{
 "cells": [
  {
   "attachments": {},
   "cell_type": "markdown",
   "metadata": {},
   "source": [
    "<h1 style = 'color:red'><b>Assignment-1</b><h1>"
   ]
  },
  {
   "attachments": {},
   "cell_type": "markdown",
   "metadata": {},
   "source": [
    "Name  - Gorachanda Dash<br>\n",
    "Date - May 05 2023"
   ]
  },
  {
   "attachments": {},
   "cell_type": "markdown",
   "metadata": {},
   "source": [
    "\n",
    "<p style=\" color : #4233FF\"><b>Q1. Create one variable containing following type of data:</b>\n",
    "    <ol>\n",
    "    <li>string</li>\n",
    "    <li>list</li>\n",
    "    <li>float</li>\n",
    "    <li>tuple</li>\n",
    "    </ol>\n",
    "</p>"
   ]
  },
  {
   "cell_type": "code",
   "execution_count": 1,
   "metadata": {},
   "outputs": [],
   "source": [
    "# string variable\n",
    "my_string = \"Hello, world!\"\n",
    "\n",
    "# list variable\n",
    "my_list = [1, 2, 3, \"apple\", \"banana\"]\n",
    "\n",
    "# float variable\n",
    "my_float = 3.14\n",
    "\n",
    "# tuple variable\n",
    "my_tuple = (4, 5, 6, \"orange\", \"grape\")\n"
   ]
  },
  {
   "attachments": {},
   "cell_type": "markdown",
   "metadata": {},
   "source": [
    "<p style=\" color : #4233FF\"><b>Q2. Given are some following variables containing data:</b>\n",
    "    <ol>\n",
    "    <li>var1 = ‘ ‘</li>\n",
    "    <li>var2 = ‘[ DS , ML , Python]’</li>\n",
    "    <li>var3 = [ ‘DS’ , ’ML’ , ‘Python’ ]</li>\n",
    "    <li>var4 = 1.</li>\n",
    "    </ol>\n",
    "</p>What will be the data type of the above given variable."
   ]
  },
  {
   "attachments": {},
   "cell_type": "markdown",
   "metadata": {},
   "source": [
    "<p style=\" color : orange\"><b>The answers are:</b>\n",
    "    <ul>\n",
    "    <li>var1 is a string data type.</li>\n",
    "    <li>var2 is a string data type.</li>\n",
    "    <li>var3 is a list data type.</li>\n",
    "    <li>var4 is a float data type.\t</li>\n",
    "    </ul>"
   ]
  },
  {
   "attachments": {},
   "cell_type": "markdown",
   "metadata": {},
   "source": [
    "<p style=\" color : #4233FF\"><b>Q3. Explain the use of the following operators using an example in python:</b>\n",
    "    <ol>\n",
    "    <li>/</li>\n",
    "    <li>%</li>\n",
    "    <li>//</li>\n",
    "    <li>**</li>\n",
    "    </ol>\n",
    "</p>"
   ]
  },
  {
   "cell_type": "code",
   "execution_count": 2,
   "metadata": {},
   "outputs": [
    {
     "name": "stdout",
     "output_type": "stream",
     "text": [
      "Division Operator 3.3333333333333335\n",
      "**********************************************************************\n",
      "Modulus Operator 1\n",
      "**********************************************************************\n",
      "Floor Division Operator 3\n",
      "**********************************************************************\n",
      "Exponentiation Operator: 8\n"
     ]
    }
   ],
   "source": [
    "# (1) / - Division Operator:\n",
    "a = 10\n",
    "b = 3\n",
    "c = a / b\n",
    "print(\"Division Operator\",c)\n",
    "\n",
    "print('*'*70)\n",
    "\n",
    "# (2) % - Modulus Operator:\n",
    "a = 10\n",
    "b = 3\n",
    "c = a % b\n",
    "print(\"Modulus Operator\",c)\n",
    "\n",
    "print('*'*70)\n",
    "\n",
    "# (3) // - Floor Division Operator:\n",
    "a = 10\n",
    "b = 3\n",
    "c = a // b\n",
    "print('Floor Division Operator',c) \n",
    "\n",
    "print('*'*70)\n",
    "\n",
    "# (4) ** - Exponentiation Operator: \n",
    "a = 2\n",
    "b = 3\n",
    "c = a ** b\n",
    "print('Exponentiation Operator:',c)"
   ]
  },
  {
   "attachments": {},
   "cell_type": "markdown",
   "metadata": {},
   "source": [
    "<p style=\" color : #4233FF\"><b>Q4. Create a list of length 10 of your choice containing multiple types of data. Using for loop print the \n",
    "element and its data type</b>"
   ]
  },
  {
   "cell_type": "code",
   "execution_count": 4,
   "metadata": {},
   "outputs": [
    {
     "name": "stdout",
     "output_type": "stream",
     "text": [
      "1 <class 'int'>\n",
      "******************************\n",
      "2.0 <class 'float'>\n",
      "******************************\n",
      "three <class 'str'>\n",
      "******************************\n",
      "[4, 5] <class 'list'>\n",
      "******************************\n",
      "{'six': 6} <class 'dict'>\n",
      "******************************\n",
      "True <class 'bool'>\n",
      "******************************\n",
      "None <class 'NoneType'>\n",
      "******************************\n",
      "(7, 8) <class 'tuple'>\n",
      "******************************\n",
      "{'ten', 'nine'} <class 'set'>\n",
      "******************************\n"
     ]
    }
   ],
   "source": [
    "# Here we are creating a list with different data types as elements.\n",
    "my_list = [1, 2.0, \"three\", [4, 5], {\"six\": 6}, True, None, (7, 8), {\"nine\", \"ten\"}]\n",
    "\n",
    "# Using a for loop to iterate through the elements in my_list and print each element along with its data type.\n",
    "for element in my_list:\n",
    "    print(element, type(element))\n",
    "    print('*'*30)\n"
   ]
  },
  {
   "attachments": {},
   "cell_type": "markdown",
   "metadata": {},
   "source": [
    "<p style=\" color : #4233FF\"><b>Q5. Using a while loop, verify if the number A is purely divisible by number B and if so then how many \n",
    "times it can be divisible.</b>"
   ]
  },
  {
   "cell_type": "code",
   "execution_count": 23,
   "metadata": {},
   "outputs": [
    {
     "name": "stdout",
     "output_type": "stream",
     "text": [
      "120 is divisible by 2 exactly 3 times\n"
     ]
    }
   ],
   "source": [
    "# Take user input for A and B\n",
    "A = int(input(\"Enter the value of A: \"))\n",
    "a= A\n",
    "B = int(input(\"Enter the value of B: \"))\n",
    "b = B\n",
    "# Initialize count to 0\n",
    "count = 0\n",
    "\n",
    "# Check if A is divisible by B and count the number of times\n",
    "while A % B == 0 and B!=1:\n",
    "    A /= B\n",
    "    count += 1\n",
    "\n",
    "# Print the result\n",
    "if B == 1:\n",
    "    print(\"B cannot be equal to 1\")\n",
    "\n",
    "elif count > 0:\n",
    "    print(f\"{a} is divisible by {b} exactly {count} times\")\n",
    "\n",
    "else:\n",
    "    print(f\"{a} is not divisible by {b}\")\n"
   ]
  },
  {
   "attachments": {},
   "cell_type": "markdown",
   "metadata": {},
   "source": [
    "<p style=\" color : #4233FF\"><b>Q6. Create a list containing 25 int type data. Using for loop and if-else condition print if the element is \n",
    "divisible by 3 or not</b>"
   ]
  },
  {
   "cell_type": "code",
   "execution_count": 26,
   "metadata": {},
   "outputs": [
    {
     "name": "stdout",
     "output_type": "stream",
     "text": [
      "2 is not divisible by 3\n",
      "------------------------------\n",
      "6 is divisible by 3\n",
      "------------------------------\n",
      "9 is divisible by 3\n",
      "------------------------------\n",
      "10 is not divisible by 3\n",
      "------------------------------\n",
      "12 is divisible by 3\n",
      "------------------------------\n",
      "15 is divisible by 3\n",
      "------------------------------\n",
      "16 is not divisible by 3\n",
      "------------------------------\n",
      "18 is divisible by 3\n",
      "------------------------------\n",
      "21 is divisible by 3\n",
      "------------------------------\n",
      "22 is not divisible by 3\n",
      "------------------------------\n",
      "24 is divisible by 3\n",
      "------------------------------\n",
      "27 is divisible by 3\n",
      "------------------------------\n",
      "28 is not divisible by 3\n",
      "------------------------------\n",
      "30 is divisible by 3\n",
      "------------------------------\n",
      "33 is divisible by 3\n",
      "------------------------------\n",
      "36 is divisible by 3\n",
      "------------------------------\n",
      "38 is not divisible by 3\n",
      "------------------------------\n",
      "39 is divisible by 3\n",
      "------------------------------\n",
      "42 is divisible by 3\n",
      "------------------------------\n",
      "45 is divisible by 3\n",
      "------------------------------\n",
      "46 is not divisible by 3\n",
      "------------------------------\n",
      "48 is divisible by 3\n",
      "------------------------------\n",
      "51 is divisible by 3\n",
      "------------------------------\n",
      "54 is divisible by 3\n",
      "------------------------------\n",
      "57 is divisible by 3\n",
      "------------------------------\n"
     ]
    }
   ],
   "source": [
    "# Create a list of 25 integers\n",
    "my_list = [2, 6, 9, 10, 12, 15, 16, 18, 21, 22, 24, 27, 28, 30, 33, 36, 38, 39, 42, 45, 46, 48, 51, 54, 57]\n",
    "\n",
    "# Loop through the list and check if each element is divisible by 3\n",
    "for num in my_list:\n",
    "    if num % 3 == 0:\n",
    "        print(f\"{num} is divisible by 3\")\n",
    "        print('-'*30)\n",
    "    else:\n",
    "        print(f\"{num} is not divisible by 3\")\n",
    "        print('-'*30)\n"
   ]
  },
  {
   "attachments": {},
   "cell_type": "markdown",
   "metadata": {},
   "source": [
    "<p style=\" color : #4233FF\"><b>Q7. What do you understand about mutable and immutable data types? Give examples for both showing \n",
    "this property</b>"
   ]
  },
  {
   "attachments": {},
   "cell_type": "markdown",
   "metadata": {},
   "source": [
    "<p>\n",
    "    In Python, data types can be classified as either <b style=\"border:orange 2px solid\">mutable</b> or <b style=\"border:green 2px solid\">immutable</b>. Mutable data types are those that can be modified after they are created, while immutable data types are those that cannot be modified after they are created.\n",
    "</p>\n",
    "<hr>\n",
    "<p>\n",
    "    Immutable data types include <mark><b>int, float, bool, str, and tuple</b></mark>. Once an immutable object is created, its value cannot be changed. Any operation that appears to modify an immutable object actually creates a new object with the modified value.\n",
    "</p>\n",
    "\n",
    "Here's an example of an immutable data type in Python:"
   ]
  },
  {
   "cell_type": "code",
   "execution_count": 28,
   "metadata": {},
   "outputs": [
    {
     "name": "stdout",
     "output_type": "stream",
     "text": [
      "hello\n",
      "hello\n"
     ]
    }
   ],
   "source": [
    "# Example of an immutable data type (string)\n",
    "my_string = \"hello\"\n",
    "print(my_string)    # Output: hello\n",
    "\n",
    "# Attempt to modify the string\n",
    "my_string[0] = 'H'  # This will raise a TypeError\n",
    "\n",
    "# Print the string again (unchanged)\n",
    "print(my_string)    # Output: hello"
   ]
  },
  {
   "attachments": {},
   "cell_type": "markdown",
   "metadata": {},
   "source": [
    "In the above example, my_string is an immutable string. I've attempted to modify the first character of the string using the assignment statement <b>my_string[0] = 'H'</b>, but this raises a TypeError because strings are immutable and cannot be modified in place. Instead, any operation that appears to modify the string actually creates a new string with the modified value."
   ]
  },
  {
   "attachments": {},
   "cell_type": "markdown",
   "metadata": {},
   "source": [
    "<p>\n",
    "    Mutable data types include <mark><b>list, set, and dictionary</b>,</mark>. These data types can be modified after they are created by adding, removing, or updating elements in the collection.\n",
    "</p>\n",
    "Here's an example of a mutable data type in Python:"
   ]
  },
  {
   "cell_type": "code",
   "execution_count": 29,
   "metadata": {},
   "outputs": [
    {
     "name": "stdout",
     "output_type": "stream",
     "text": [
      "[1, 2, 3, 4, 5]\n",
      "[10, 2, 3, 4, 5, 6]\n"
     ]
    }
   ],
   "source": [
    "# Example of a mutable data type (list)\n",
    "my_list = [1, 2, 3, 4, 5]\n",
    "print(my_list)    # Output: [1, 2, 3, 4, 5]\n",
    "\n",
    "# Modify the list\n",
    "my_list[0] = 10\n",
    "my_list.append(6)\n",
    "print(my_list)    # Output: [10, 2, 3, 4, 5, 6]"
   ]
  },
  {
   "attachments": {},
   "cell_type": "markdown",
   "metadata": {},
   "source": [
    "In the above example, my_list is a mutable list. I've modified the first element of the list using the assignment statement my_list[0] = 10 and added a new element to the end of the list using the append method. These operations modify the original list in place, rather than creating a new list with the modified values."
   ]
  },
  {
   "attachments": {},
   "cell_type": "markdown",
   "metadata": {},
   "source": [
    "\n",
    "<h1 style = 'color:orange'>\n",
    "    <b><div>THANK YOU</div></b>\n",
    "</h1>\n"
   ]
  }
 ],
 "metadata": {
  "kernelspec": {
   "display_name": "Python 3",
   "language": "python",
   "name": "python3"
  },
  "language_info": {
   "codemirror_mode": {
    "name": "ipython",
    "version": 3
   },
   "file_extension": ".py",
   "mimetype": "text/x-python",
   "name": "python",
   "nbconvert_exporter": "python",
   "pygments_lexer": "ipython3",
   "version": "3.9.13"
  },
  "orig_nbformat": 4
 },
 "nbformat": 4,
 "nbformat_minor": 2
}
