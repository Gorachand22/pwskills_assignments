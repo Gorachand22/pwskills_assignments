{
  "cells": [
    {
      "cell_type": "markdown",
      "metadata": {
        "id": "jHKORN_4cJKm"
      },
      "source": [
        "<h1 style = 'color:red'><b>Week-8, Pandas Advance Assignment</b><h1>"
      ]
    },
    {
      "cell_type": "markdown",
      "metadata": {
        "id": "dVUW29xlcJKo"
      },
      "source": [
        "Name - Gorachanda Dash <br>\n",
        "Date - 24 Feb 2023\n",
        "Week 8, Pandas Advance Assignment"
      ]
    },
    {
      "cell_type": "markdown",
      "metadata": {
        "id": "fKnfvSL5cJK2"
      },
      "source": [
        "<p style=\" color : #4233FF\"><b>Q1. List any five functions of the pandas library with execution.<br></b></p>"
      ]
    },
    {
      "cell_type": "code",
      "execution_count": 1,
      "metadata": {},
      "outputs": [],
      "source": [
        "import pandas as pd"
      ]
    },
    {
      "cell_type": "code",
      "execution_count": null,
      "metadata": {},
      "outputs": [],
      "source": [
        "# 1. read_csv(): This function is used to read data from a CSV file and create a DataFrame.\n",
        "# Read a CSV file into a DataFrame\n",
        "df = pd.read_csv('data.csv')\n",
        "\n",
        "# 2. head(): This function is used to display the first n rows of a DataFrame.\n",
        "# Display the first 5 rows of a DataFrame\n",
        "df.head()\n",
        "\n",
        "# 3. describe(): This function provides summary statistics of numerical columns in a DataFrame, such as count, mean, min, max, etc.\n",
        "# Get summary statistics of numerical columns\n",
        "df.describe()\n",
        "\n",
        "# 4. groupby(): This function is used for grouping data based on one or more columns and applying aggregate functions.\n",
        "# Group data by 'Category' column and calculate the average 'Price'\n",
        "grouped_df = df.groupby('Category')['Price'].mean()\n",
        "\n",
        "\n",
        "# 5. to_csv(): This function is used to save a DataFrame to a CSV file.\n",
        "\n",
        "# Save the DataFrame to a CSV file\n",
        "df.to_csv('output.csv', index=False)\n"
      ]
    },
    {
      "cell_type": "code",
      "execution_count": null,
      "metadata": {
        "id": "lW4IuWbT6TWq"
      },
      "outputs": [],
      "source": []
    },
    {
      "cell_type": "markdown",
      "metadata": {
        "id": "l7nokEV7cJK3"
      },
      "source": [
        "<p style=\" color : #4233FF\"><b>Q2. Given a Pandas DataFrame df with columns 'A', 'B', and 'C', write a Python function to re-index the DataFrame with a new index that starts from 1 and increments by 2 for each row.<br></b></p>"
      ]
    },
    {
      "cell_type": "code",
      "execution_count": 40,
      "metadata": {},
      "outputs": [
        {
          "data": {
            "text/html": [
              "<div>\n",
              "<style scoped>\n",
              "    .dataframe tbody tr th:only-of-type {\n",
              "        vertical-align: middle;\n",
              "    }\n",
              "\n",
              "    .dataframe tbody tr th {\n",
              "        vertical-align: top;\n",
              "    }\n",
              "\n",
              "    .dataframe thead th {\n",
              "        text-align: right;\n",
              "    }\n",
              "</style>\n",
              "<table border=\"1\" class=\"dataframe\">\n",
              "  <thead>\n",
              "    <tr style=\"text-align: right;\">\n",
              "      <th></th>\n",
              "      <th>A</th>\n",
              "      <th>B</th>\n",
              "      <th>C</th>\n",
              "    </tr>\n",
              "  </thead>\n",
              "  <tbody>\n",
              "    <tr>\n",
              "      <th>1</th>\n",
              "      <td>Ajib</td>\n",
              "      <td>Yeh</td>\n",
              "      <td>Mubarke</td>\n",
              "    </tr>\n",
              "    <tr>\n",
              "      <th>3</th>\n",
              "      <td>dastan</td>\n",
              "      <td>roshni</td>\n",
              "      <td>tumhe</td>\n",
              "    </tr>\n",
              "    <tr>\n",
              "      <th>5</th>\n",
              "      <td>hai</td>\n",
              "      <td>ke</td>\n",
              "      <td>ke</td>\n",
              "    </tr>\n",
              "    <tr>\n",
              "      <th>7</th>\n",
              "      <td>yeh</td>\n",
              "      <td>sath</td>\n",
              "      <td>Tum</td>\n",
              "    </tr>\n",
              "    <tr>\n",
              "      <th>9</th>\n",
              "      <td>Kaha</td>\n",
              "      <td>kyu</td>\n",
              "      <td>kisi</td>\n",
              "    </tr>\n",
              "    <tr>\n",
              "      <th>11</th>\n",
              "      <td>shuru</td>\n",
              "      <td>Dhuan</td>\n",
              "      <td>ke</td>\n",
              "    </tr>\n",
              "    <tr>\n",
              "      <th>13</th>\n",
              "      <td>kaha</td>\n",
              "      <td>utha</td>\n",
              "      <td>nur</td>\n",
              "    </tr>\n",
              "    <tr>\n",
              "      <th>15</th>\n",
              "      <td>khatam</td>\n",
              "      <td>chirag</td>\n",
              "      <td>ho</td>\n",
              "    </tr>\n",
              "    <tr>\n",
              "      <th>17</th>\n",
              "      <td>Yeh</td>\n",
              "      <td>se</td>\n",
              "      <td>gaye</td>\n",
              "    </tr>\n",
              "    <tr>\n",
              "      <th>19</th>\n",
              "      <td>manjile</td>\n",
              "      <td>Yeh</td>\n",
              "      <td>Mubarke</td>\n",
              "    </tr>\n",
              "    <tr>\n",
              "      <th>21</th>\n",
              "      <td>hai</td>\n",
              "      <td>roshni</td>\n",
              "      <td>tumhe</td>\n",
              "    </tr>\n",
              "    <tr>\n",
              "      <th>23</th>\n",
              "      <td>kaun</td>\n",
              "      <td>ke</td>\n",
              "      <td>ke</td>\n",
              "    </tr>\n",
              "    <tr>\n",
              "      <th>25</th>\n",
              "      <td>si</td>\n",
              "      <td>sath</td>\n",
              "      <td>Tum</td>\n",
              "    </tr>\n",
              "    <tr>\n",
              "      <th>27</th>\n",
              "      <td>naa</td>\n",
              "      <td>kyu</td>\n",
              "      <td>kisi</td>\n",
              "    </tr>\n",
              "    <tr>\n",
              "      <th>29</th>\n",
              "      <td>Woh</td>\n",
              "      <td>Dhuan</td>\n",
              "      <td>ke</td>\n",
              "    </tr>\n",
              "    <tr>\n",
              "      <th>31</th>\n",
              "      <td>samajh</td>\n",
              "      <td>utha</td>\n",
              "      <td>nur</td>\n",
              "    </tr>\n",
              "    <tr>\n",
              "      <th>33</th>\n",
              "      <td>sake</td>\n",
              "      <td>chirag</td>\n",
              "      <td>ho</td>\n",
              "    </tr>\n",
              "    <tr>\n",
              "      <th>35</th>\n",
              "      <td>naa</td>\n",
              "      <td>se</td>\n",
              "      <td>gaye</td>\n",
              "    </tr>\n",
              "    <tr>\n",
              "      <th>37</th>\n",
              "      <td>ham</td>\n",
              "      <td>Yeh</td>\n",
              "      <td>Kisi</td>\n",
              "    </tr>\n",
              "  </tbody>\n",
              "</table>\n",
              "</div>"
            ],
            "text/plain": [
              "          A       B        C\n",
              "1      Ajib     Yeh  Mubarke\n",
              "3    dastan  roshni    tumhe\n",
              "5       hai      ke       ke\n",
              "7       yeh    sath      Tum\n",
              "9      Kaha     kyu     kisi\n",
              "11    shuru   Dhuan       ke\n",
              "13     kaha    utha      nur\n",
              "15   khatam  chirag       ho\n",
              "17      Yeh      se     gaye\n",
              "19  manjile     Yeh  Mubarke\n",
              "21      hai  roshni    tumhe\n",
              "23     kaun      ke       ke\n",
              "25       si    sath      Tum\n",
              "27      naa     kyu     kisi\n",
              "29      Woh   Dhuan       ke\n",
              "31   samajh    utha      nur\n",
              "33     sake  chirag       ho\n",
              "35      naa      se     gaye\n",
              "37      ham     Yeh     Kisi"
            ]
          },
          "execution_count": 40,
          "metadata": {},
          "output_type": "execute_result"
        }
      ],
      "source": [
        "df1 = {\n",
        "    'A':['Ajib', 'dastan', 'hai', 'yeh', 'Kaha', 'shuru', 'kaha', 'khatam', 'Yeh', 'manjile', 'hai', 'kaun', 'si', 'naa', 'Woh', 'samajh', 'sake', 'naa', 'ham'],\n",
        "    'B':['Yeh', 'roshni', 'ke', 'sath', 'kyu', 'Dhuan', 'utha', 'chirag', 'se', 'Yeh', 'roshni', 'ke', 'sath', 'kyu', 'Dhuan', 'utha', 'chirag', 'se', 'Yeh'],\n",
        "    'C':['Mubarke', 'tumhe', 'ke', 'Tum', 'kisi', 'ke', 'nur', 'ho', 'gaye', 'Mubarke', 'tumhe', 'ke', 'Tum', 'kisi', 'ke', 'nur', 'ho', 'gaye', 'Kisi']\n",
        "}\n",
        "\n",
        "def reindex_dataframe(df):\n",
        "    # Create a new index starting from 1 and incrementing by 2\n",
        "    df=df.set_index(pd.RangeIndex(start = 1, stop = len(df)*2, step = 2))\n",
        "\n",
        "    return df\n",
        "\n",
        "# Example DataFrame\n",
        "df = pd.DataFrame(df1)\n",
        "\n",
        "# Re-index the DataFrame\n",
        "new_df = reindex_dataframe(df)\n",
        "\n",
        "new_df"
      ]
    },
    {
      "cell_type": "code",
      "execution_count": null,
      "metadata": {},
      "outputs": [],
      "source": []
    },
    {
      "cell_type": "markdown",
      "metadata": {
        "id": "HMuh9StycJK3"
      },
      "source": [
        "<p style=\" color : #4233FF\"><b>Q3. You have a Pandas DataFrame df with a column named 'Values'. <br>\n",
        "\n",
        "Write a Python function that iterates over the DataFrame and calculates the sum of the first three values in the 'Values' column. The function should print the sum to the console.<br>\n",
        "\n",
        "For example, if the 'Values' column of df contains the values [10, 20, 30, 40, 50], your function shouldcalculate and print the sum of the first three values, which is 60.</b></p>"
      ]
    },
    {
      "cell_type": "code",
      "execution_count": 41,
      "metadata": {
        "colab": {
          "base_uri": "https://localhost:8080/"
        },
        "id": "_kD9H636cJK4",
        "outputId": "f8f0ea87-8e68-44aa-8714-811e422acfe8"
      },
      "outputs": [
        {
          "name": "stdout",
          "output_type": "stream",
          "text": [
            "Sum of the first three values: 60\n"
          ]
        }
      ],
      "source": [
        "import pandas as pd\n",
        "\n",
        "def calculate_sum(df):\n",
        "    values_column = df['Values']  # Access the 'Values' column\n",
        "    first_three_values = values_column.iloc[:3]  # Access the first three values\n",
        "    sum_of_values = first_three_values.sum()  # Calculate the sum\n",
        "    print(\"Sum of the first three values:\", sum_of_values)\n",
        "\n",
        "# Example DataFrame\n",
        "df = pd.DataFrame({'Values': [10, 20, 30, 40, 50]})\n",
        "\n",
        "# Call the function\n",
        "calculate_sum(df)\n"
      ]
    },
    {
      "cell_type": "code",
      "execution_count": null,
      "metadata": {},
      "outputs": [],
      "source": []
    },
    {
      "cell_type": "markdown",
      "metadata": {
        "id": "9aKHN4uEcJK4"
      },
      "source": [
        "<p style=\" color : #4233FF\"><b>Q4. Given a Pandas DataFrame df with a column 'Text', write a Python function to create a new column 'Word_Count' that contains the number of words in each row of the 'Text' column.<br></b></p>"
      ]
    },
    {
      "cell_type": "code",
      "execution_count": 49,
      "metadata": {},
      "outputs": [
        {
          "data": {
            "text/html": [
              "<div>\n",
              "<style scoped>\n",
              "    .dataframe tbody tr th:only-of-type {\n",
              "        vertical-align: middle;\n",
              "    }\n",
              "\n",
              "    .dataframe tbody tr th {\n",
              "        vertical-align: top;\n",
              "    }\n",
              "\n",
              "    .dataframe thead th {\n",
              "        text-align: right;\n",
              "    }\n",
              "</style>\n",
              "<table border=\"1\" class=\"dataframe\">\n",
              "  <thead>\n",
              "    <tr style=\"text-align: right;\">\n",
              "      <th></th>\n",
              "      <th>Text</th>\n",
              "      <th>Word_Count</th>\n",
              "    </tr>\n",
              "  </thead>\n",
              "  <tbody>\n",
              "    <tr>\n",
              "      <th>0</th>\n",
              "      <td>Hello world</td>\n",
              "      <td>2</td>\n",
              "    </tr>\n",
              "    <tr>\n",
              "      <th>1</th>\n",
              "      <td>This is a sentence</td>\n",
              "      <td>4</td>\n",
              "    </tr>\n",
              "    <tr>\n",
              "      <th>2</th>\n",
              "      <td>Pandas is great</td>\n",
              "      <td>3</td>\n",
              "    </tr>\n",
              "  </tbody>\n",
              "</table>\n",
              "</div>"
            ],
            "text/plain": [
              "                 Text  Word_Count\n",
              "0         Hello world           2\n",
              "1  This is a sentence           4\n",
              "2     Pandas is great           3"
            ]
          },
          "execution_count": 49,
          "metadata": {},
          "output_type": "execute_result"
        }
      ],
      "source": [
        "import pandas as pd\n",
        "\n",
        "def calculate_word_count(df):\n",
        "    # Define a lambda function to count words in a text string\n",
        "    word_count = lambda text: len(text.split())\n",
        "\n",
        "    # Apply the lambda function to each row of the 'Text' column\n",
        "    df['Word_Count'] = df['Text'].apply(word_count)\n",
        "\n",
        "    # Print the updated DataFrame\n",
        "    return df\n",
        "\n",
        "# Example DataFrame\n",
        "df = pd.DataFrame({'Text': ['Hello world', 'This is a sentence', 'Pandas is great']})\n",
        "\n",
        "# Call the function\n",
        "calculate_word_count(df)"
      ]
    },
    {
      "cell_type": "code",
      "execution_count": null,
      "metadata": {},
      "outputs": [],
      "source": []
    },
    {
      "cell_type": "markdown",
      "metadata": {
        "id": "z2avHLHDcJK4"
      },
      "source": [
        "<p style=\" color : #4233FF\"><b>Q5. How are DataFrame.size() and DataFrame.shape() different?<br></b></p>"
      ]
    },
    {
      "cell_type": "markdown",
      "metadata": {},
      "source": [
        "The `DataFrame.size()` and `DataFrame.shape()` methods in pandas provide different information about the DataFrame.\n",
        "\n",
        "1. `DataFrame.size()`: This method returns the total number of elements in the DataFrame. It calculates the size by multiplying the number of rows (`DataFrame.shape[0]`) with the number of columns (`DataFrame.shape[1]`). It provides the total count of elements in the DataFrame, including all cells, regardless of their values.\n",
        "\n",
        "2. `DataFrame.shape()`: This method returns a tuple representing the dimensions of the DataFrame. It provides the number of rows and columns in the DataFrame as (`DataFrame.shape[0]`, `DataFrame.shape[1]`). The shape of the DataFrame represents its structure and is often used to determine its dimensions and to perform operations based on the number of rows or columns.\n",
        "\n",
        "In summary, the main difference is that `DataFrame.size()` returns the total number of elements in the DataFrame, while `DataFrame.shape()` returns a tuple representing the dimensions (number of rows and columns) of the DataFrame."
      ]
    },
    {
      "cell_type": "code",
      "execution_count": null,
      "metadata": {
        "colab": {
          "base_uri": "https://localhost:8080/"
        },
        "id": "NV-35wfmE0rj",
        "outputId": "c2e03371-a91f-4763-b564-889b0b12fc3b"
      },
      "outputs": [],
      "source": []
    },
    {
      "cell_type": "markdown",
      "metadata": {
        "id": "1Ynu0WrsFtgy"
      },
      "source": [
        "<p style=\" color : #4233FF\"><b>Q6. Which function of pandas do we use to read an excel file?<br></b></p>"
      ]
    },
    {
      "cell_type": "code",
      "execution_count": null,
      "metadata": {},
      "outputs": [],
      "source": [
        "import pandas as pd\n",
        "\n",
        "# Read the Excel file\n",
        "df = pd.read_excel('file.xlsx')\n",
        "\n"
      ]
    },
    {
      "cell_type": "code",
      "execution_count": null,
      "metadata": {},
      "outputs": [],
      "source": []
    },
    {
      "cell_type": "markdown",
      "metadata": {},
      "source": [
        "<p style=\" color : #4233FF\"><b>Q7. You have a Pandas DataFrame df that contains a column named 'Email' that contains email addresses in the format 'username@domain.com'. \n",
        "\n",
        "Write a Python function that creates a new column 'Username' in df that contains only the username part of each email address.\n",
        "The username is the part of the email address that appears before the '@' symbol. For example, if the email address is 'john.doe@example.com', the 'Username' column should contain 'john.doe'. \n",
        "\n",
        "Your function should extract the username from each email address and store it in the new 'Username'\n",
        "column.<br></b></p>"
      ]
    },
    {
      "cell_type": "code",
      "execution_count": 58,
      "metadata": {},
      "outputs": [
        {
          "data": {
            "text/html": [
              "<div>\n",
              "<style scoped>\n",
              "    .dataframe tbody tr th:only-of-type {\n",
              "        vertical-align: middle;\n",
              "    }\n",
              "\n",
              "    .dataframe tbody tr th {\n",
              "        vertical-align: top;\n",
              "    }\n",
              "\n",
              "    .dataframe thead th {\n",
              "        text-align: right;\n",
              "    }\n",
              "</style>\n",
              "<table border=\"1\" class=\"dataframe\">\n",
              "  <thead>\n",
              "    <tr style=\"text-align: right;\">\n",
              "      <th></th>\n",
              "      <th>Email</th>\n",
              "      <th>Username</th>\n",
              "    </tr>\n",
              "  </thead>\n",
              "  <tbody>\n",
              "    <tr>\n",
              "      <th>0</th>\n",
              "      <td>john.doe@example.com</td>\n",
              "      <td>john.doe</td>\n",
              "    </tr>\n",
              "    <tr>\n",
              "      <th>1</th>\n",
              "      <td>jane.smith@example.com</td>\n",
              "      <td>jane.smith</td>\n",
              "    </tr>\n",
              "    <tr>\n",
              "      <th>2</th>\n",
              "      <td>mark.wilson@example.com</td>\n",
              "      <td>mark.wilson</td>\n",
              "    </tr>\n",
              "  </tbody>\n",
              "</table>\n",
              "</div>"
            ],
            "text/plain": [
              "                     Email     Username\n",
              "0     john.doe@example.com     john.doe\n",
              "1   jane.smith@example.com   jane.smith\n",
              "2  mark.wilson@example.com  mark.wilson"
            ]
          },
          "execution_count": 58,
          "metadata": {},
          "output_type": "execute_result"
        }
      ],
      "source": [
        "def extract_username(df):\n",
        "    df['Username'] = df['Email'].str.split('@').str[0]\n",
        "    return df\n",
        "\n",
        "# Example usage:\n",
        "df = pd.DataFrame({'Email': ['john.doe@example.com', 'jane.smith@example.com', 'mark.wilson@example.com']})\n",
        "df = extract_username(df)\n",
        "df\n"
      ]
    },
    {
      "cell_type": "code",
      "execution_count": 59,
      "metadata": {},
      "outputs": [
        {
          "data": {
            "text/html": [
              "<div>\n",
              "<style scoped>\n",
              "    .dataframe tbody tr th:only-of-type {\n",
              "        vertical-align: middle;\n",
              "    }\n",
              "\n",
              "    .dataframe tbody tr th {\n",
              "        vertical-align: top;\n",
              "    }\n",
              "\n",
              "    .dataframe thead th {\n",
              "        text-align: right;\n",
              "    }\n",
              "</style>\n",
              "<table border=\"1\" class=\"dataframe\">\n",
              "  <thead>\n",
              "    <tr style=\"text-align: right;\">\n",
              "      <th></th>\n",
              "      <th>Email</th>\n",
              "      <th>username</th>\n",
              "    </tr>\n",
              "  </thead>\n",
              "  <tbody>\n",
              "    <tr>\n",
              "      <th>0</th>\n",
              "      <td>john.doe@example.com</td>\n",
              "      <td>john.doe</td>\n",
              "    </tr>\n",
              "    <tr>\n",
              "      <th>1</th>\n",
              "      <td>jane.smith@example.com</td>\n",
              "      <td>jane.smith</td>\n",
              "    </tr>\n",
              "    <tr>\n",
              "      <th>2</th>\n",
              "      <td>mark.wilson@example.com</td>\n",
              "      <td>mark.wilson</td>\n",
              "    </tr>\n",
              "  </tbody>\n",
              "</table>\n",
              "</div>"
            ],
            "text/plain": [
              "                     Email     username\n",
              "0     john.doe@example.com     john.doe\n",
              "1   jane.smith@example.com   jane.smith\n",
              "2  mark.wilson@example.com  mark.wilson"
            ]
          },
          "execution_count": 59,
          "metadata": {},
          "output_type": "execute_result"
        }
      ],
      "source": [
        "# alternate methode\n",
        "def extract_username(df):\n",
        "    df['username']=df['Email'].apply(lambda x: x.split('@')[0])\n",
        "    return df\n",
        "\n",
        "# Example usage:\n",
        "df = pd.DataFrame({'Email': ['john.doe@example.com', 'jane.smith@example.com', 'mark.wilson@example.com']})\n",
        "df = extract_username(df)\n",
        "df"
      ]
    },
    {
      "cell_type": "code",
      "execution_count": null,
      "metadata": {},
      "outputs": [],
      "source": []
    },
    {
      "cell_type": "markdown",
      "metadata": {},
      "source": [
        "<p style=\" color : #4233FF\"><b>Q8. You have a Pandas DataFrame df with columns 'A', 'B', and 'C'.<br> Write a Python function that selects all rows where the value in column 'A' is greater than 5 and the value in column 'B' is less than 10. The function should return a new DataFrame that contains only the selected rows.<br>\n",
        "For example, if df contains the following values:<br>\n",
        "A B C<br>\n",
        "3 5 1<br>\n",
        "8 2 7<br>\n",
        "6 9 4<br>\n",
        "2 3 5<br>\n",
        "9 1 2<br>\n",
        "\n",
        "Your function should select the following rows: A B C<br>\n",
        "8 2 7<br>\n",
        "9 1 2<br>\n",
        "The function should return a new DataFrame that contains only the selected rows.<br></b></p>"
      ]
    },
    {
      "cell_type": "code",
      "execution_count": 60,
      "metadata": {},
      "outputs": [
        {
          "data": {
            "text/html": [
              "<div>\n",
              "<style scoped>\n",
              "    .dataframe tbody tr th:only-of-type {\n",
              "        vertical-align: middle;\n",
              "    }\n",
              "\n",
              "    .dataframe tbody tr th {\n",
              "        vertical-align: top;\n",
              "    }\n",
              "\n",
              "    .dataframe thead th {\n",
              "        text-align: right;\n",
              "    }\n",
              "</style>\n",
              "<table border=\"1\" class=\"dataframe\">\n",
              "  <thead>\n",
              "    <tr style=\"text-align: right;\">\n",
              "      <th></th>\n",
              "      <th>A</th>\n",
              "      <th>B</th>\n",
              "      <th>C</th>\n",
              "    </tr>\n",
              "  </thead>\n",
              "  <tbody>\n",
              "    <tr>\n",
              "      <th>1</th>\n",
              "      <td>8</td>\n",
              "      <td>2</td>\n",
              "      <td>7</td>\n",
              "    </tr>\n",
              "    <tr>\n",
              "      <th>2</th>\n",
              "      <td>6</td>\n",
              "      <td>9</td>\n",
              "      <td>4</td>\n",
              "    </tr>\n",
              "    <tr>\n",
              "      <th>4</th>\n",
              "      <td>9</td>\n",
              "      <td>1</td>\n",
              "      <td>2</td>\n",
              "    </tr>\n",
              "  </tbody>\n",
              "</table>\n",
              "</div>"
            ],
            "text/plain": [
              "   A  B  C\n",
              "1  8  2  7\n",
              "2  6  9  4\n",
              "4  9  1  2"
            ]
          },
          "execution_count": 60,
          "metadata": {},
          "output_type": "execute_result"
        }
      ],
      "source": [
        "import pandas as pd\n",
        "\n",
        "def select_rows(df):\n",
        "    selected_rows = df[(df['A'] > 5) & (df['B'] < 10)]\n",
        "    return selected_rows\n",
        "\n",
        "# Example usage:\n",
        "df = pd.DataFrame({'A': [3, 8, 6, 2, 9],\n",
        "                   'B': [5, 2, 9, 3, 1],\n",
        "                   'C': [1, 7, 4, 5, 2]})\n",
        "\n",
        "selected_df = select_rows(df)\n",
        "selected_df\n"
      ]
    },
    {
      "cell_type": "code",
      "execution_count": null,
      "metadata": {},
      "outputs": [],
      "source": []
    },
    {
      "cell_type": "markdown",
      "metadata": {},
      "source": [
        "<p style=\" color : #4233FF\"><b>Q9. Given a Pandas DataFrame df with a column 'Values', write a Python function to calculate the mean, median, and standard deviation of the values in the 'Values' column.<br></b></p>"
      ]
    },
    {
      "cell_type": "code",
      "execution_count": 61,
      "metadata": {},
      "outputs": [
        {
          "name": "stdout",
          "output_type": "stream",
          "text": [
            "Mean: 30.0\n",
            "Median: 30.0\n",
            "Standard Deviation: 14.142135623730951\n"
          ]
        }
      ],
      "source": [
        "import numpy as np\n",
        "\n",
        "def calculate_statistics(df):\n",
        "    values = df['Values']\n",
        "    mean = np.mean(values)\n",
        "    median = np.median(values)\n",
        "    std_dev = np.std(values)\n",
        "    return mean, median, std_dev\n",
        "\n",
        "# Example usage:\n",
        "df = pd.DataFrame({'Values': [10, 20, 30, 40, 50]})\n",
        "\n",
        "mean, median, std_dev = calculate_statistics(df)\n",
        "print(\"Mean:\", mean)\n",
        "print(\"Median:\", median)\n",
        "print(\"Standard Deviation:\", std_dev)\n"
      ]
    },
    {
      "cell_type": "code",
      "execution_count": null,
      "metadata": {},
      "outputs": [],
      "source": []
    },
    {
      "cell_type": "markdown",
      "metadata": {},
      "source": [
        "<p style=\" color : #4233FF\"><b>Q10. Given a Pandas DataFrame df with a column 'Sales' and a column 'Date', write a Python function to create a new column 'MovingAverage' that contains the moving average of the sales for the past 7 days for each row in the DataFrame. The moving average should be calculated using a window of size 7 and should include the current day.<br></b></p>"
      ]
    },
    {
      "cell_type": "code",
      "execution_count": 63,
      "metadata": {},
      "outputs": [
        {
          "name": "stdout",
          "output_type": "stream",
          "text": [
            "        Date  Sales  MovingAverage\n",
            "0 2022-01-01     10           10.0\n",
            "1 2022-01-02     20           15.0\n",
            "2 2022-01-03     30           20.0\n",
            "3 2022-01-04     40           25.0\n",
            "4 2022-01-05     50           30.0\n",
            "5 2022-01-06     60           35.0\n",
            "6 2022-01-07     70           40.0\n",
            "7 2022-01-08     80           50.0\n",
            "8 2022-01-09     90           60.0\n",
            "9 2022-01-10    100           70.0\n"
          ]
        }
      ],
      "source": [
        "import pandas as pd\n",
        "\n",
        "def calculate_moving_average(df):\n",
        "    df['MovingAverage'] = df['Sales'].rolling(window=7, min_periods=1).mean()\n",
        "    return df\n",
        "\n",
        "# Example usage:\n",
        "df = pd.DataFrame({\n",
        "    'Date': pd.date_range(start='2022-01-01', periods=10),\n",
        "    'Sales': [10, 20, 30, 40, 50, 60, 70, 80, 90, 100]\n",
        "})\n",
        "\n",
        "df = calculate_moving_average(df)\n",
        "print(df)\n"
      ]
    },
    {
      "cell_type": "code",
      "execution_count": null,
      "metadata": {},
      "outputs": [],
      "source": []
    },
    {
      "cell_type": "markdown",
      "metadata": {},
      "source": [
        "<p style=\" color : #4233FF\"><b>Q11. You have a Pandas DataFrame df with a column 'Date'. Write a Python function that creates a new column 'Weekday' in the DataFrame.<br> The 'Weekday' column should contain the weekday name (e.g. Monday, Tuesday) corresponding to each date in the 'Date' column.<br>\n",
        "For example, if df contains the following values:<br>\n",
        "Date<br>\n",
        "0 2023-01-01<br>\n",
        "1 2023-01-02<br>\n",
        "2 2023-01-03<br>\n",
        "3 2023-01-04<br>\n",
        "4 2023-01-05<br>\n",
        "Your function should create the following DataFrame:<br>\n",
        "\n",
        "Date Weekday<br>\n",
        "0 2023-01-01 Sunday<br>\n",
        "1 2023-01-02 Monday<br>\n",
        "2 2023-01-03 Tuesday<br>\n",
        "3 2023-01-04 Wednesday<br>\n",
        "4 2023-01-05 Thursday<br>\n",
        "The function should return the modified DataFrame.<br></b></p>"
      ]
    },
    {
      "cell_type": "code",
      "execution_count": 66,
      "metadata": {},
      "outputs": [
        {
          "data": {
            "text/html": [
              "<div>\n",
              "<style scoped>\n",
              "    .dataframe tbody tr th:only-of-type {\n",
              "        vertical-align: middle;\n",
              "    }\n",
              "\n",
              "    .dataframe tbody tr th {\n",
              "        vertical-align: top;\n",
              "    }\n",
              "\n",
              "    .dataframe thead th {\n",
              "        text-align: right;\n",
              "    }\n",
              "</style>\n",
              "<table border=\"1\" class=\"dataframe\">\n",
              "  <thead>\n",
              "    <tr style=\"text-align: right;\">\n",
              "      <th></th>\n",
              "      <th>Date</th>\n",
              "      <th>Weekday</th>\n",
              "    </tr>\n",
              "  </thead>\n",
              "  <tbody>\n",
              "    <tr>\n",
              "      <th>0</th>\n",
              "      <td>2023-01-01</td>\n",
              "      <td>Sunday</td>\n",
              "    </tr>\n",
              "    <tr>\n",
              "      <th>1</th>\n",
              "      <td>2023-01-02</td>\n",
              "      <td>Monday</td>\n",
              "    </tr>\n",
              "    <tr>\n",
              "      <th>2</th>\n",
              "      <td>2023-01-03</td>\n",
              "      <td>Tuesday</td>\n",
              "    </tr>\n",
              "    <tr>\n",
              "      <th>3</th>\n",
              "      <td>2023-01-04</td>\n",
              "      <td>Wednesday</td>\n",
              "    </tr>\n",
              "    <tr>\n",
              "      <th>4</th>\n",
              "      <td>2023-01-05</td>\n",
              "      <td>Thursday</td>\n",
              "    </tr>\n",
              "  </tbody>\n",
              "</table>\n",
              "</div>"
            ],
            "text/plain": [
              "        Date    Weekday\n",
              "0 2023-01-01     Sunday\n",
              "1 2023-01-02     Monday\n",
              "2 2023-01-03    Tuesday\n",
              "3 2023-01-04  Wednesday\n",
              "4 2023-01-05   Thursday"
            ]
          },
          "execution_count": 66,
          "metadata": {},
          "output_type": "execute_result"
        }
      ],
      "source": [
        "import pandas as pd\n",
        "\n",
        "def add_weekday_column(df):\n",
        "    df['Weekday'] = df['Date'].dt.strftime('%A')\n",
        "    return df\n",
        "\n",
        "# Example usage:\n",
        "df = pd.DataFrame({'Date': pd.date_range(start='2023-01-01', periods=5)})\n",
        "\n",
        "df = add_weekday_column(df)\n",
        "df\n"
      ]
    },
    {
      "cell_type": "code",
      "execution_count": null,
      "metadata": {},
      "outputs": [],
      "source": []
    },
    {
      "cell_type": "markdown",
      "metadata": {},
      "source": [
        "<p style=\" color : #4233FF\"><b>Q12. Given a Pandas DataFrame df with a column 'Date' that contains timestamps, write a Python function to select all rows where the date is between '2023-01-01' and '2023-01-31'.<br></b></p>"
      ]
    },
    {
      "cell_type": "code",
      "execution_count": 67,
      "metadata": {},
      "outputs": [
        {
          "data": {
            "text/html": [
              "<div>\n",
              "<style scoped>\n",
              "    .dataframe tbody tr th:only-of-type {\n",
              "        vertical-align: middle;\n",
              "    }\n",
              "\n",
              "    .dataframe tbody tr th {\n",
              "        vertical-align: top;\n",
              "    }\n",
              "\n",
              "    .dataframe thead th {\n",
              "        text-align: right;\n",
              "    }\n",
              "</style>\n",
              "<table border=\"1\" class=\"dataframe\">\n",
              "  <thead>\n",
              "    <tr style=\"text-align: right;\">\n",
              "      <th></th>\n",
              "      <th>Date</th>\n",
              "    </tr>\n",
              "  </thead>\n",
              "  <tbody>\n",
              "    <tr>\n",
              "      <th>0</th>\n",
              "      <td>2023-01-01</td>\n",
              "    </tr>\n",
              "    <tr>\n",
              "      <th>1</th>\n",
              "      <td>2023-01-02</td>\n",
              "    </tr>\n",
              "    <tr>\n",
              "      <th>2</th>\n",
              "      <td>2023-01-03</td>\n",
              "    </tr>\n",
              "    <tr>\n",
              "      <th>3</th>\n",
              "      <td>2023-01-04</td>\n",
              "    </tr>\n",
              "    <tr>\n",
              "      <th>4</th>\n",
              "      <td>2023-01-05</td>\n",
              "    </tr>\n",
              "    <tr>\n",
              "      <th>5</th>\n",
              "      <td>2023-01-06</td>\n",
              "    </tr>\n",
              "    <tr>\n",
              "      <th>6</th>\n",
              "      <td>2023-01-07</td>\n",
              "    </tr>\n",
              "    <tr>\n",
              "      <th>7</th>\n",
              "      <td>2023-01-08</td>\n",
              "    </tr>\n",
              "    <tr>\n",
              "      <th>8</th>\n",
              "      <td>2023-01-09</td>\n",
              "    </tr>\n",
              "    <tr>\n",
              "      <th>9</th>\n",
              "      <td>2023-01-10</td>\n",
              "    </tr>\n",
              "    <tr>\n",
              "      <th>10</th>\n",
              "      <td>2023-01-11</td>\n",
              "    </tr>\n",
              "    <tr>\n",
              "      <th>11</th>\n",
              "      <td>2023-01-12</td>\n",
              "    </tr>\n",
              "    <tr>\n",
              "      <th>12</th>\n",
              "      <td>2023-01-13</td>\n",
              "    </tr>\n",
              "    <tr>\n",
              "      <th>13</th>\n",
              "      <td>2023-01-14</td>\n",
              "    </tr>\n",
              "    <tr>\n",
              "      <th>14</th>\n",
              "      <td>2023-01-15</td>\n",
              "    </tr>\n",
              "    <tr>\n",
              "      <th>15</th>\n",
              "      <td>2023-01-16</td>\n",
              "    </tr>\n",
              "    <tr>\n",
              "      <th>16</th>\n",
              "      <td>2023-01-17</td>\n",
              "    </tr>\n",
              "    <tr>\n",
              "      <th>17</th>\n",
              "      <td>2023-01-18</td>\n",
              "    </tr>\n",
              "    <tr>\n",
              "      <th>18</th>\n",
              "      <td>2023-01-19</td>\n",
              "    </tr>\n",
              "    <tr>\n",
              "      <th>19</th>\n",
              "      <td>2023-01-20</td>\n",
              "    </tr>\n",
              "    <tr>\n",
              "      <th>20</th>\n",
              "      <td>2023-01-21</td>\n",
              "    </tr>\n",
              "    <tr>\n",
              "      <th>21</th>\n",
              "      <td>2023-01-22</td>\n",
              "    </tr>\n",
              "    <tr>\n",
              "      <th>22</th>\n",
              "      <td>2023-01-23</td>\n",
              "    </tr>\n",
              "    <tr>\n",
              "      <th>23</th>\n",
              "      <td>2023-01-24</td>\n",
              "    </tr>\n",
              "    <tr>\n",
              "      <th>24</th>\n",
              "      <td>2023-01-25</td>\n",
              "    </tr>\n",
              "    <tr>\n",
              "      <th>25</th>\n",
              "      <td>2023-01-26</td>\n",
              "    </tr>\n",
              "    <tr>\n",
              "      <th>26</th>\n",
              "      <td>2023-01-27</td>\n",
              "    </tr>\n",
              "    <tr>\n",
              "      <th>27</th>\n",
              "      <td>2023-01-28</td>\n",
              "    </tr>\n",
              "    <tr>\n",
              "      <th>28</th>\n",
              "      <td>2023-01-29</td>\n",
              "    </tr>\n",
              "    <tr>\n",
              "      <th>29</th>\n",
              "      <td>2023-01-30</td>\n",
              "    </tr>\n",
              "    <tr>\n",
              "      <th>30</th>\n",
              "      <td>2023-01-31</td>\n",
              "    </tr>\n",
              "  </tbody>\n",
              "</table>\n",
              "</div>"
            ],
            "text/plain": [
              "         Date\n",
              "0  2023-01-01\n",
              "1  2023-01-02\n",
              "2  2023-01-03\n",
              "3  2023-01-04\n",
              "4  2023-01-05\n",
              "5  2023-01-06\n",
              "6  2023-01-07\n",
              "7  2023-01-08\n",
              "8  2023-01-09\n",
              "9  2023-01-10\n",
              "10 2023-01-11\n",
              "11 2023-01-12\n",
              "12 2023-01-13\n",
              "13 2023-01-14\n",
              "14 2023-01-15\n",
              "15 2023-01-16\n",
              "16 2023-01-17\n",
              "17 2023-01-18\n",
              "18 2023-01-19\n",
              "19 2023-01-20\n",
              "20 2023-01-21\n",
              "21 2023-01-22\n",
              "22 2023-01-23\n",
              "23 2023-01-24\n",
              "24 2023-01-25\n",
              "25 2023-01-26\n",
              "26 2023-01-27\n",
              "27 2023-01-28\n",
              "28 2023-01-29\n",
              "29 2023-01-30\n",
              "30 2023-01-31"
            ]
          },
          "execution_count": 67,
          "metadata": {},
          "output_type": "execute_result"
        }
      ],
      "source": [
        "import pandas as pd\n",
        "\n",
        "def select_rows_between_dates(df):\n",
        "    start_date = '2023-01-01'\n",
        "    end_date = '2023-01-31'\n",
        "    mask = (df['Date'] >= start_date) & (df['Date'] <= end_date)\n",
        "    selected_rows = df[mask]\n",
        "    return selected_rows\n",
        "\n",
        "# Example usage:\n",
        "df = pd.DataFrame({'Date': pd.date_range(start='2023-01-01', end='2023-02-28')})\n",
        "\n",
        "selected_df = select_rows_between_dates(df)\n",
        "selected_df\n"
      ]
    },
    {
      "cell_type": "code",
      "execution_count": null,
      "metadata": {},
      "outputs": [],
      "source": []
    },
    {
      "cell_type": "markdown",
      "metadata": {},
      "source": [
        "<p style=\" color : #4233FF\"><b>Q13. To use the basic functions of pandas, what is the first and foremost necessary library that needs to be imported?<br></b></p>"
      ]
    },
    {
      "cell_type": "code",
      "execution_count": null,
      "metadata": {},
      "outputs": [],
      "source": [
        "import pandas as pd"
      ]
    },
    {
      "cell_type": "markdown",
      "metadata": {
        "id": "eOINuiGOcJK4"
      },
      "source": [
        "\n",
        "<h1 style = 'color:orange'>\n",
        "    <b><div>THANK YOU</div></b>\n",
        "</h1>\n"
      ]
    },
    {
      "cell_type": "code",
      "execution_count": null,
      "metadata": {},
      "outputs": [],
      "source": []
    }
  ],
  "metadata": {
    "colab": {
      "provenance": []
    },
    "kernelspec": {
      "display_name": "Python 3",
      "language": "python",
      "name": "python3"
    },
    "language_info": {
      "codemirror_mode": {
        "name": "ipython",
        "version": 3
      },
      "file_extension": ".py",
      "mimetype": "text/x-python",
      "name": "python",
      "nbconvert_exporter": "python",
      "pygments_lexer": "ipython3",
      "version": "3.11.2"
    },
    "orig_nbformat": 4
  },
  "nbformat": 4,
  "nbformat_minor": 0
}
