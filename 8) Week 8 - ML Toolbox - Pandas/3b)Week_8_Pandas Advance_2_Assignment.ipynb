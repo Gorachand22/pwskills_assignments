{
  "cells": [
    {
      "cell_type": "markdown",
      "metadata": {
        "id": "jHKORN_4cJKm"
      },
      "source": [
        "<h1 style = 'color:red'><b>Week-8, Pandas Advance 2 Assignment</b><h1>"
      ]
    },
    {
      "cell_type": "markdown",
      "metadata": {
        "id": "dVUW29xlcJKo"
      },
      "source": [
        "Name - Gorachanda Dash <br>\n",
        "Date - 24 Feb 2023\n",
        "Week 8, Pandas Advance 22 Assignment"
      ]
    },
    {
      "cell_type": "markdown",
      "metadata": {},
      "source": [
        "Consider following code to answer further questions:\n",
        "import pandas as pd\n",
        "course_name = [‘Data Science’, ‘Machine Learning’, ‘Big Data’, ‘Data Engineer’]\n",
        "duration = [2,3,6,4]\n",
        "df = pd.DataFrame(data = {‘course_name’ : course_name, ‘duration’ : duration})"
      ]
    },
    {
      "cell_type": "code",
      "execution_count": 3,
      "metadata": {},
      "outputs": [],
      "source": [
        "import pandas as pd\n",
        "course_name = ['Data Science', 'Machine Learning', 'Big Data', 'Data Engineer']\n",
        "duration = [2,3,6,4]\n",
        "df = pd.DataFrame({'course_name' : course_name, 'duration' : duration})"
      ]
    },
    {
      "cell_type": "code",
      "execution_count": 7,
      "metadata": {},
      "outputs": [
        {
          "data": {
            "text/html": [
              "<div>\n",
              "<style scoped>\n",
              "    .dataframe tbody tr th:only-of-type {\n",
              "        vertical-align: middle;\n",
              "    }\n",
              "\n",
              "    .dataframe tbody tr th {\n",
              "        vertical-align: top;\n",
              "    }\n",
              "\n",
              "    .dataframe thead th {\n",
              "        text-align: right;\n",
              "    }\n",
              "</style>\n",
              "<table border=\"1\" class=\"dataframe\">\n",
              "  <thead>\n",
              "    <tr style=\"text-align: right;\">\n",
              "      <th></th>\n",
              "      <th>course_name</th>\n",
              "      <th>duration</th>\n",
              "    </tr>\n",
              "  </thead>\n",
              "  <tbody>\n",
              "    <tr>\n",
              "      <th>0</th>\n",
              "      <td>Data Science</td>\n",
              "      <td>2</td>\n",
              "    </tr>\n",
              "    <tr>\n",
              "      <th>1</th>\n",
              "      <td>Machine Learning</td>\n",
              "      <td>3</td>\n",
              "    </tr>\n",
              "    <tr>\n",
              "      <th>2</th>\n",
              "      <td>Big Data</td>\n",
              "      <td>6</td>\n",
              "    </tr>\n",
              "    <tr>\n",
              "      <th>3</th>\n",
              "      <td>Data Engineer</td>\n",
              "      <td>4</td>\n",
              "    </tr>\n",
              "  </tbody>\n",
              "</table>\n",
              "</div>"
            ],
            "text/plain": [
              "        course_name  duration\n",
              "0      Data Science         2\n",
              "1  Machine Learning         3\n",
              "2          Big Data         6\n",
              "3     Data Engineer         4"
            ]
          },
          "execution_count": 7,
          "metadata": {},
          "output_type": "execute_result"
        }
      ],
      "source": [
        "df"
      ]
    },
    {
      "cell_type": "markdown",
      "metadata": {
        "id": "fKnfvSL5cJK2"
      },
      "source": [
        "<p style=\" color : #4233FF\"><b>Q1. Write a code to print the data present in the second row of the dataframe, df.<br></b></p>"
      ]
    },
    {
      "cell_type": "code",
      "execution_count": 11,
      "metadata": {},
      "outputs": [
        {
          "data": {
            "text/plain": [
              "course_name    Machine Learning\n",
              "duration                      3\n",
              "Name: 1, dtype: object"
            ]
          },
          "execution_count": 11,
          "metadata": {},
          "output_type": "execute_result"
        }
      ],
      "source": [
        "df.iloc[1, :]"
      ]
    },
    {
      "cell_type": "code",
      "execution_count": null,
      "metadata": {
        "id": "lW4IuWbT6TWq"
      },
      "outputs": [],
      "source": []
    },
    {
      "cell_type": "markdown",
      "metadata": {
        "id": "l7nokEV7cJK3"
      },
      "source": [
        "<p style=\" color : #4233FF\"><b>Q2. What is the difference between the functions loc and iloc in pandas.DataFrame?<br></b></p>"
      ]
    },
    {
      "cell_type": "markdown",
      "metadata": {},
      "source": [
        "The `loc` and `iloc` functions in pandas.DataFrame are used for indexing and selecting data from a DataFrame, but they have some differences in how they operate:\n",
        "\n",
        "1. `loc`: \n",
        "   - `loc` is primarily label-based indexing, meaning it is used to select data based on row and column labels.\n",
        "   - It accepts row and column labels as input and returns the specified rows and columns based on those labels.\n",
        "   - The indexing is inclusive of both the start and end labels.\n",
        "   - The syntax for using `loc` is `df.loc[row_labels, column_labels]`.\n",
        "\n",
        "2. `iloc`:\n",
        "   - `iloc` is primarily integer-based indexing, meaning it is used to select data based on row and column integer positions.\n",
        "   - It accepts row and column integer positions as input and returns the specified rows and columns based on those positions.\n",
        "   - The indexing is exclusive of the end position, similar to Python slicing.\n",
        "   - The syntax for using `iloc` is `df.iloc[row_positions, column_positions]`.\n",
        "\n",
        "Here's a comparison between `loc` and `iloc` to illustrate their differences:\n",
        "\n",
        "\n",
        "In summary, `loc` is used for label-based indexing and accepts labels as input, while `iloc` is used for integer-based indexing and accepts positions as input."
      ]
    },
    {
      "cell_type": "code",
      "execution_count": 13,
      "metadata": {},
      "outputs": [
        {
          "name": "stdout",
          "output_type": "stream",
          "text": [
            "4\n",
            "********************\n",
            "   B  C\n",
            "a  4  7\n",
            "b  5  8\n",
            "********************\n",
            "4\n",
            "********************\n",
            "   B  C\n",
            "a  4  7\n",
            "b  5  8\n"
          ]
        }
      ],
      "source": [
        "# Example DataFrame\n",
        "df = pd.DataFrame({'A': [1, 2, 3], 'B': [4, 5, 6], 'C': [7, 8, 9]}, index=['a', 'b', 'c'])\n",
        "\n",
        "# Using loc to select data by labels\n",
        "print(df.loc['a', 'B'])\n",
        "print('*'*20)\n",
        "print(df.loc[['a', 'b'], 'B':'C'])\n",
        "print('*'*20)\n",
        "\n",
        "# Using iloc to select data by positions\n",
        "print(df.iloc[0, 1])  \n",
        "print('*'*20)\n",
        "\n",
        "print(df.iloc[[0, 1], 1:3])"
      ]
    },
    {
      "cell_type": "markdown",
      "metadata": {
        "id": "HMuh9StycJK3"
      },
      "source": [
        "<p style=\" color : #4233FF\"><b>Q3. Reindex the given dataframe using a variable, reindex = [3,0,1,2] and store it in the variable, new_df then find the output for both new_df.loc[2] and new_df.iloc[2].<br>\n",
        "\n",
        "- Did you observe any difference in both the outputs? If so then explain it.\n",
        "Consider the below code to answer further questions:<br>\n",
        "```python\n",
        "import pandas as pd\n",
        "import numpy as np\n",
        "columns = ['column_1', 'column_2', 'column_3', 'column_4', 'column_5', 'column_6']\n",
        "indices = [1,2,3,4,5,6]\n",
        "#Creating a dataframe:\n",
        "df1 = pd.DataFrame(np.random.rand(6,6), columns = columns, index = indices)</b></p>"
      ]
    },
    {
      "cell_type": "code",
      "execution_count": 25,
      "metadata": {},
      "outputs": [
        {
          "name": "stdout",
          "output_type": "stream",
          "text": [
            "   column_1  column_2  column_3  column_4  column_5  column_6\n",
            "3  0.941822  0.249190  0.428581  0.404642  0.482239  0.680339\n",
            "0       NaN       NaN       NaN       NaN       NaN       NaN\n",
            "1  0.809105  0.995536  0.600920  0.532732  0.111479  0.157665\n",
            "2  0.319851  0.020240  0.637510  0.655414  0.156658  0.135906\n",
            "********************\n",
            "column_1    0.319851\n",
            "column_2    0.020240\n",
            "column_3    0.637510\n",
            "column_4    0.655414\n",
            "column_5    0.156658\n",
            "column_6    0.135906\n",
            "Name: 2, dtype: float64\n",
            "********************\n",
            "column_1    0.809105\n",
            "column_2    0.995536\n",
            "column_3    0.600920\n",
            "column_4    0.532732\n",
            "column_5    0.111479\n",
            "column_6    0.157665\n",
            "Name: 1, dtype: float64\n"
          ]
        }
      ],
      "source": [
        "import pandas as pd\n",
        "import numpy as np\n",
        "columns = ['column_1', 'column_2', 'column_3', 'column_4', 'column_5', 'column_6']\n",
        "indices = [1,2,3,4,5,6]\n",
        "#Creating a dataframe:\n",
        "df1 = pd.DataFrame(np.random.rand(6,6), columns = columns, index = indices)\n",
        "reindex = [3, 0, 1, 2]\n",
        "new_df = df1.reindex(reindex)\n",
        "print(new_df)\n",
        "print('*'*20)\n",
        "print(new_df.loc[2])\n",
        "print('*'*20)\n",
        "print(new_df.iloc[2])"
      ]
    },
    {
      "cell_type": "markdown",
      "metadata": {},
      "source": [
        "- When we use new_df.loc[2], it will look for the row label '2' in the index of new_df and return the corresponding row. In this case, since new_df was reindexed using the list [3, 0, 1, 2], the row label '2' will refer to the row that was originally at index position 1 in the original DataFrame. Therefore, new_df.loc[2] will return the row with the label '2' in the reindexed DataFrame.\n",
        "\n",
        "- On the other hand, when we use new_df.iloc[2], it will look for the row at integer position 2 in the index of new_df and return the corresponding row. In this case, since new_df was reindexed using the list [3, 0, 1, 2], the row at integer position 2 will refer to the row that was originally at index position 1 in the original DataFrame. Therefore, new_df.iloc[2] will also return the row at index position 1 in the reindexed DataFrame."
      ]
    },
    {
      "cell_type": "code",
      "execution_count": null,
      "metadata": {},
      "outputs": [],
      "source": []
    },
    {
      "cell_type": "markdown",
      "metadata": {
        "id": "9aKHN4uEcJK4"
      },
      "source": [
        "<p style=\" color : #4233FF\"><b>Q4. Write a code to find the following statistical measurements for the above dataframe df1:<br>\n",
        "\n",
        "(i) mean of each and every column present in the dataframe.<br>\n",
        "(ii) standard deviation of column, ‘column_2’<br></b></p>"
      ]
    },
    {
      "cell_type": "code",
      "execution_count": 31,
      "metadata": {},
      "outputs": [
        {
          "name": "stdout",
          "output_type": "stream",
          "text": [
            "Mean of each column:\n",
            "column_1    0.293240\n",
            "column_2    0.354124\n",
            "column_3    0.703253\n",
            "column_4    0.379267\n",
            "column_5    0.492539\n",
            "column_6    0.275647\n",
            "dtype: float64\n",
            "\n",
            "Standard deviation of column 'column_2':\n",
            "0.18871398431316525\n"
          ]
        }
      ],
      "source": [
        "import pandas as pd\n",
        "import numpy as np\n",
        "\n",
        "columns = ['column_1', 'column_2', 'column_3', 'column_4', 'column_5', 'column_6']\n",
        "indices = [1, 2, 3, 4, 5, 6]\n",
        "\n",
        "# Creating a dataframe:\n",
        "df1 = pd.DataFrame(np.random.rand(6, 6), columns=columns, index=indices)\n",
        "\n",
        "# (i) Mean of each column\n",
        "column_means = df1.mean()\n",
        "print(\"Mean of each column:\")\n",
        "print(column_means)\n",
        "print()\n",
        "\n",
        "# (ii) Standard deviation of column 'column_2'\n",
        "column2_std = df1['column_2'].std()\n",
        "print(\"Standard deviation of column 'column_2':\")\n",
        "print(column2_std)\n"
      ]
    },
    {
      "cell_type": "markdown",
      "metadata": {
        "id": "z2avHLHDcJK4"
      },
      "source": [
        "<p style=\" color : #4233FF\"><b>Q5. Replace the data present in the second row of column, ‘column_2’ by a string variable then find the mean of column, column_2.<br>\n",
        "If you are getting errors in executing it then explain why.<br>\n",
        "[Hint: To replace the data use df1.loc[] and equate this to string data of your choice.]<br></b></p>"
      ]
    },
    {
      "cell_type": "code",
      "execution_count": 32,
      "metadata": {
        "colab": {
          "base_uri": "https://localhost:8080/"
        },
        "id": "NV-35wfmE0rj",
        "outputId": "c2e03371-a91f-4763-b564-889b0b12fc3b"
      },
      "outputs": [
        {
          "name": "stdout",
          "output_type": "stream",
          "text": [
            "Error: unsupported operand type(s) for +: 'float' and 'str'\n"
          ]
        }
      ],
      "source": [
        "import pandas as pd\n",
        "import numpy as np\n",
        "\n",
        "columns = ['column_1', 'column_2', 'column_3', 'column_4', 'column_5', 'column_6']\n",
        "indices = [1, 2, 3, 4, 5, 6]\n",
        "\n",
        "# Creating a dataframe:\n",
        "df1 = pd.DataFrame(np.random.rand(6, 6), columns=columns, index=indices)\n",
        "\n",
        "# Replacing data in the second row of 'column_2' with a string variable\n",
        "df1.loc[2, 'column_2'] = 'string_data'\n",
        "\n",
        "# Calculating the mean of 'column_2'\n",
        "try:\n",
        "    column2_mean = df1['column_2'].mean()\n",
        "    print(\"Mean of column 'column_2':\", column2_mean)\n",
        "except TypeError as e:\n",
        "    print(\"Error:\", str(e))\n"
      ]
    },
    {
      "cell_type": "markdown",
      "metadata": {},
      "source": [
        "- replacing the numerical data with a string variable causes a TypeError when calculating the mean. The error occurs because pandas expects numerical values for mean calculation, but a string cannot be converted to a float for calculating the mean."
      ]
    },
    {
      "cell_type": "code",
      "execution_count": null,
      "metadata": {},
      "outputs": [],
      "source": []
    },
    {
      "cell_type": "markdown",
      "metadata": {
        "id": "1Ynu0WrsFtgy"
      },
      "source": [
        "<p style=\" color : #4233FF\"><b>Q6. What do you understand about the windows function in pandas and list the types of windows functions?<br></b></p>"
      ]
    },
    {
      "cell_type": "markdown",
      "metadata": {},
      "source": [
        "In pandas, the `rolling()` function provides functionality for window functions, which allows you to perform calculations on a sliding window of data. Window functions are applied to a specific column or series of a DataFrame and compute a summary statistic or transform the data within a specified window size.\n",
        "\n",
        "The types of window functions available in pandas are:\n",
        "\n",
        "1. Aggregation Functions:\n",
        "   - `count()`: Number of non-null values in the window.\n",
        "   - `sum()`: Sum of values in the window.\n",
        "   - `mean()`: Mean of values in the window.\n",
        "   - `median()`: Median of values in the window.\n",
        "   - `min()`: Minimum value in the window.\n",
        "   - `max()`: Maximum value in the window.\n",
        "   - `std()`: Standard deviation of values in the window.\n",
        "   - `var()`: Variance of values in the window.\n",
        "\n",
        "2. Expanding Functions:\n",
        "   - `expanding()`: Provides expanding transformations, including cumulative sum, cumulative min, cumulative max, etc.\n",
        "\n",
        "3. Rolling Functions:\n",
        "   - `rolling()`: Computes rolling transformations, including rolling sum, rolling mean, rolling median, rolling standard deviation, etc.\n",
        "\n",
        "4. Transformation Functions:\n",
        "   - `apply()`: Applies a custom function to the window.\n",
        "   - `aggregate()`: Applies multiple functions to the window simultaneously.\n",
        "\n",
        "These window functions allow you to perform various calculations and transformations on sliding windows of data in pandas, enabling you to analyze trends, smooth data, compute rolling averages, and more."
      ]
    },
    {
      "cell_type": "markdown",
      "metadata": {},
      "source": [
        "<p style=\" color : #4233FF\"><b>Q7. Write a code to print only the current month and year at the time of answering this question.\n",
        "[Hint: Use pandas.datetime function]<br></b></p>"
      ]
    },
    {
      "cell_type": "code",
      "execution_count": 34,
      "metadata": {},
      "outputs": [
        {
          "name": "stdout",
          "output_type": "stream",
          "text": [
            "Current Month: 7\n",
            "Current Year: 2023\n"
          ]
        }
      ],
      "source": [
        "import pandas as pd\n",
        "\n",
        "current_date = pd.to_datetime('today')\n",
        "current_month = current_date.month\n",
        "current_year = current_date.year\n",
        "\n",
        "print(f\"Current Month: {current_month}\")\n",
        "print(f\"Current Year: {current_year}\")\n"
      ]
    },
    {
      "cell_type": "code",
      "execution_count": null,
      "metadata": {},
      "outputs": [],
      "source": []
    },
    {
      "cell_type": "markdown",
      "metadata": {},
      "source": [
        "<p style=\" color : #4233FF\"><b>Q8. Write a Python program that takes in two dates as input (in the format YYYY-MM-DD) and calculates the difference between them in days, hours, and minutes using Pandas time delta. The program should prompt the user to enter the dates and display the result.<br></b></p>"
      ]
    },
    {
      "cell_type": "code",
      "execution_count": 35,
      "metadata": {},
      "outputs": [
        {
          "name": "stdout",
          "output_type": "stream",
          "text": [
            "Difference: 8505 days, 0 hours, 0 minutes\n"
          ]
        }
      ],
      "source": [
        "import pandas as pd\n",
        "\n",
        "# Prompt the user to enter the dates\n",
        "date1 = input(\"Enter the first date (YYYY-MM-DD): \")\n",
        "date2 = input(\"Enter the second date (YYYY-MM-DD): \")\n",
        "\n",
        "# Convert the input strings to datetime objects\n",
        "date1 = pd.to_datetime(date1)\n",
        "date2 = pd.to_datetime(date2)\n",
        "\n",
        "# Calculate the time difference\n",
        "time_diff = date2 - date1\n",
        "\n",
        "# Extract the days, hours, and minutes from the time difference\n",
        "days = time_diff.days\n",
        "hours = time_diff.seconds // 3600\n",
        "minutes = (time_diff.seconds % 3600) // 60\n",
        "\n",
        "# Display the result\n",
        "print(f\"Difference: {days} days, {hours} hours, {minutes} minutes\")\n"
      ]
    },
    {
      "cell_type": "code",
      "execution_count": null,
      "metadata": {},
      "outputs": [],
      "source": []
    },
    {
      "cell_type": "markdown",
      "metadata": {},
      "source": [
        "<p style=\" color : #4233FF\"><b>Q9. Write a Python program that reads a CSV file containing categorical data and converts a specified column to a categorical data type. The program should prompt the user to enter the file path, column name, and category order, and then display the sorted data.<br></b></p>"
      ]
    },
    {
      "cell_type": "code",
      "execution_count": 47,
      "metadata": {},
      "outputs": [
        {
          "name": "stdout",
          "output_type": "stream",
          "text": [
            "0       P\n",
            "532     P\n",
            "536     P\n",
            "538     P\n",
            "543     P\n",
            "       ..\n",
            "290     Q\n",
            "651     Q\n",
            "289     Q\n",
            "166     Q\n",
            "184     Q\n",
            "Name: Sex, Length: 891, dtype: category\n",
            "Categories (2, object): ['P' < ' Q']\n"
          ]
        }
      ],
      "source": [
        "import pandas as pd\n",
        "\n",
        "# Prompt the user to enter the file path, column name, and category order\n",
        "csv_file_path = input(\"Enter the CSV file path: \")\n",
        "column_name = input(\"Enter the column name: \")\n",
        "category_order = input(\"Enter the category order (comma-separated values): \")\n",
        "\n",
        "# Read the CSV file\n",
        "df = pd.read_csv(csv_file_path)\n",
        "\n",
        "# Replace missing values with a default category\n",
        "default_category = \"Unknown\"\n",
        "df[column_name] = df[column_name].fillna(default_category)\n",
        "\n",
        "# Replace the values in the specified column with the desired categories\n",
        "category_mapping = {value: category for value, category in zip(df[column_name].unique(), category_order.split(\",\"))}\n",
        "df[column_name] = df[column_name].replace(category_mapping)\n",
        "\n",
        "# Convert the specified column to a categorical data type\n",
        "df[column_name] = pd.Categorical(df[column_name], categories=category_order.split(\",\"), ordered=True)\n",
        "\n",
        "# Sort the data by the specified column\n",
        "df_sorted = df.sort_values(column_name)\n",
        "\n",
        "\n",
        "# Print the sorted data\n",
        "print(df_sorted[column_name])"
      ]
    },
    {
      "cell_type": "code",
      "execution_count": null,
      "metadata": {},
      "outputs": [],
      "source": []
    },
    {
      "cell_type": "markdown",
      "metadata": {},
      "source": [
        "<p style=\" color : #4233FF\"><b>Q10. Write a Python program that reads a CSV file containing sales data for different products and visualizes the data using a stacked bar chart to show the sales of each product category over time. The program should prompt the user to enter the file path and display the chart.<br></b></p>"
      ]
    },
    {
      "cell_type": "code",
      "execution_count": 60,
      "metadata": {},
      "outputs": [
        {
          "data": {
            "text/html": [
              "<div>\n",
              "<style scoped>\n",
              "    .dataframe tbody tr th:only-of-type {\n",
              "        vertical-align: middle;\n",
              "    }\n",
              "\n",
              "    .dataframe tbody tr th {\n",
              "        vertical-align: top;\n",
              "    }\n",
              "\n",
              "    .dataframe thead th {\n",
              "        text-align: right;\n",
              "    }\n",
              "</style>\n",
              "<table border=\"1\" class=\"dataframe\">\n",
              "  <thead>\n",
              "    <tr style=\"text-align: right;\">\n",
              "      <th></th>\n",
              "      <th>Product</th>\n",
              "      <th>Product Category</th>\n",
              "      <th>Date</th>\n",
              "      <th>Sales</th>\n",
              "    </tr>\n",
              "  </thead>\n",
              "  <tbody>\n",
              "    <tr>\n",
              "      <th>0</th>\n",
              "      <td>writer</td>\n",
              "      <td>Home Decor</td>\n",
              "      <td>2023-07-05</td>\n",
              "      <td>310</td>\n",
              "    </tr>\n",
              "    <tr>\n",
              "      <th>1</th>\n",
              "      <td>property</td>\n",
              "      <td>Home Decor</td>\n",
              "      <td>2023-07-03</td>\n",
              "      <td>651</td>\n",
              "    </tr>\n",
              "    <tr>\n",
              "      <th>2</th>\n",
              "      <td>take</td>\n",
              "      <td>Beauty</td>\n",
              "      <td>2023-07-03</td>\n",
              "      <td>786</td>\n",
              "    </tr>\n",
              "    <tr>\n",
              "      <th>3</th>\n",
              "      <td>course</td>\n",
              "      <td>Books</td>\n",
              "      <td>2023-07-04</td>\n",
              "      <td>126</td>\n",
              "    </tr>\n",
              "    <tr>\n",
              "      <th>4</th>\n",
              "      <td>bit</td>\n",
              "      <td>Electronics</td>\n",
              "      <td>2023-07-11</td>\n",
              "      <td>768</td>\n",
              "    </tr>\n",
              "  </tbody>\n",
              "</table>\n",
              "</div>"
            ],
            "text/plain": [
              "    Product Product Category        Date  Sales\n",
              "0    writer       Home Decor  2023-07-05    310\n",
              "1  property       Home Decor  2023-07-03    651\n",
              "2      take           Beauty  2023-07-03    786\n",
              "3    course            Books  2023-07-04    126\n",
              "4       bit      Electronics  2023-07-11    768"
            ]
          },
          "execution_count": 60,
          "metadata": {},
          "output_type": "execute_result"
        }
      ],
      "source": [
        "from faker import Faker\n",
        "import pandas as pd\n",
        "import random\n",
        "from datetime import datetime, timedelta\n",
        "\n",
        "# Set up Faker\n",
        "fake = Faker()\n",
        "\n",
        "# Define product categories\n",
        "categories = ['Electronics', 'Clothing', 'Home Decor', 'Books', 'Beauty', 'Sports']\n",
        "\n",
        "# Generate fake sales data\n",
        "data = []\n",
        "end_date = datetime.now().date()\n",
        "start_date = end_date - timedelta(days=14)\n",
        "for _ in range(100):\n",
        "    product = fake.word()\n",
        "    category = random.choice(categories)\n",
        "    date = fake.date_between_dates(date_start=start_date, date_end=end_date)\n",
        "    sales = random.randint(100, 1000)\n",
        "    data.append((product, category, date, sales))\n",
        "\n",
        "# Create a DataFrame from the generated data\n",
        "df = pd.DataFrame(data, columns=['Product', 'Product Category', 'Date', 'Sales'])\n",
        "\n",
        "# Print the DataFrame\n",
        "df.head()"
      ]
    },
    {
      "cell_type": "code",
      "execution_count": 70,
      "metadata": {},
      "outputs": [
        {
          "data": {
            "image/png": "[encoded data removed]",
            "text/plain": [
              "<Figure size 1000x800 with 1 Axes>"
            ]
          },
          "metadata": {},
          "output_type": "display_data"
        }
      ],
      "source": [
        "import matplotlib.pyplot as plt\n",
        "# Group the data by product category and calculate the total sales for each category over time\n",
        "df_grouped = df.groupby(['Product Category', 'Date'])['Sales'].sum().reset_index()\n",
        "\n",
        "# Pivot the data to reshape it for the stacked bar chart\n",
        "df_pivot = df_grouped.pivot(index='Date', columns='Product Category', values='Sales')\n",
        "\n",
        "# Plot the stacked bar chart\n",
        "df_pivot.plot(kind='bar', stacked=True, figsize=(10, 8))\n",
        "\n",
        "# Customize the chart\n",
        "plt.title('Sales by Product Category')\n",
        "plt.xlabel('Date')\n",
        "plt.ylabel('Sales')\n",
        "plt.xticks(rotation=45)\n",
        "# Display the chart\n",
        "plt.show()"
      ]
    },
    {
      "cell_type": "markdown",
      "metadata": {},
      "source": [
        "<p style=\" color : #4233FF\"><b><p style=\" color : #4233FF\"><b>Q11. You are given a CSV file containing student data that includes the student ID and their test score. Write a Python program that reads the CSV file, calculates the mean, median, and mode of the test scores, and displays the results in a table.<br>\n",
        "\n",
        "The program should do the following<br>\n",
        "- Prompt the user to enter the file path of the CSV file containing the student data.\n",
        "- Read the CSV file into a Pandas DataFrame.\n",
        "- Calculate the mean, median, and mode of the test scores using Pandas tools.\n",
        "- Display the mean, median, and mode in a table.\n",
        "- Assume the CSV file contains the following columns.\n",
        "- Student ID: The ID of the student.\n",
        "- Test Score: The score of the student's test.<br>\n",
        "Example usage of the program:<br>\n",
        "Enter the file path of the CSV file containing the student data: student_data.csv<br>\n",
        "+-----------+--------+<br>\n",
        "| Statistic | Value |<br>\n",
        "+-----------+--------+<br>\n",
        "| Mean | 79.6 |<br>\n",
        "| Median | 82 |<br>\n",
        "| Mode | 85, 90 |<br>\n",
        "+-----------+--------+<br>\n",
        "Assume that the CSV file student_data.csv contains the following data:<br>\n",
        "Student ID,Test Score<br>\n",
        "1,85<br>\n",
        "2,90<br>\n",
        "3,80<br>\n",
        "4,75<br>\n",
        "5,85<br>\n",
        "6,82<br>\n",
        "7,78<br>\n",
        "8,85<br>\n",
        "9,90<br>\n",
        "10,85<br>\n",
        "The program should calculate the mean, median, and mode of the test scores and display the results in a table.<br></b></p><br></b></p>"
      ]
    },
    {
      "cell_type": "code",
      "execution_count": 1,
      "metadata": {},
      "outputs": [
        {
          "name": "stdout",
          "output_type": "stream",
          "text": [
            "╒═════════════╤═════════╕\n",
            "│ Statistic   │   Value │\n",
            "╞═════════════╪═════════╡\n",
            "│ Mean        │    83.5 │\n",
            "├─────────────┼─────────┤\n",
            "│ Median      │    85   │\n",
            "├─────────────┼─────────┤\n",
            "│ Mode        │    85   │\n",
            "╘═════════════╧═════════╛\n"
          ]
        }
      ],
      "source": [
        "import pandas as pd\n",
        "from tabulate import tabulate\n",
        "\n",
        "# Prompt the user to enter the file path of the CSV file\n",
        "file_path = input(\"Enter the file path of the CSV file containing the student data: \")\n",
        "\n",
        "# Read the CSV file into a Pandas DataFrame\n",
        "df = pd.read_csv(file_path)\n",
        "\n",
        "# Calculate the mean, median, and mode of the test scores\n",
        "mean_score = df['Test Score'].mean()\n",
        "median_score = df['Test Score'].median()\n",
        "mode_scores = df['Test Score'].mode()\n",
        "\n",
        "# Create a table to display the results\n",
        "table = [['Statistic', 'Value'],\n",
        "         ['Mean', mean_score],\n",
        "         ['Median', median_score],\n",
        "         ['Mode', ', '.join(map(str, mode_scores))]]\n",
        "\n",
        "# Display the table\n",
        "print(tabulate(table, headers='firstrow', tablefmt='fancy_grid'))\n"
      ]
    },
    {
      "cell_type": "markdown",
      "metadata": {
        "id": "eOINuiGOcJK4"
      },
      "source": [
        "\n",
        "<h1 style = 'color:orange'>\n",
        "    <b><div>THANK YOU</div></b>\n",
        "</h1>\n"
      ]
    }
  ],
  "metadata": {
    "colab": {
      "provenance": []
    },
    "kernelspec": {
      "display_name": "Python 3",
      "language": "python",
      "name": "python3"
    },
    "language_info": {
      "codemirror_mode": {
        "name": "ipython",
        "version": 3
      },
      "file_extension": ".py",
      "mimetype": "text/x-python",
      "name": "python",
      "nbconvert_exporter": "python",
      "pygments_lexer": "ipython3",
      "version": "3.11.2"
    },
    "orig_nbformat": 4
  },
  "nbformat": 4,
  "nbformat_minor": 0
}
