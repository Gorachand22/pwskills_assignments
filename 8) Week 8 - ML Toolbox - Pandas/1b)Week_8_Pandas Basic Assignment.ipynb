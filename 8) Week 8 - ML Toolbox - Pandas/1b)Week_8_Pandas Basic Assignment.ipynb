{
  "cells": [
    {
      "cell_type": "markdown",
      "metadata": {
        "id": "jHKORN_4cJKm"
      },
      "source": [
        "<h1 style = 'color:red'><b>Week-8, Pandas Basic Assignment</b><h1>"
      ]
    },
    {
      "cell_type": "markdown",
      "metadata": {
        "id": "dVUW29xlcJKo"
      },
      "source": [
        "Name - Gorachanda Dash <br>\n",
        "Date - 22 Feb 2023\n",
        "Week 8, Pandas Basic Assignment"
      ]
    },
    {
      "cell_type": "markdown",
      "metadata": {
        "id": "fKnfvSL5cJK2"
      },
      "source": [
        "<p style=\" color : #4233FF\"><b>Q1. Create a Pandas Series that contains the following data: 4, 8, 15, 16, 23, and 42. Then, print the series.<br></b></p>"
      ]
    },
    {
      "cell_type": "code",
      "execution_count": 2,
      "metadata": {},
      "outputs": [
        {
          "name": "stdout",
          "output_type": "stream",
          "text": [
            "0     4\n",
            "1     8\n",
            "2    15\n",
            "3    16\n",
            "4    23\n",
            "5    42\n",
            "dtype: int64\n"
          ]
        }
      ],
      "source": [
        "import pandas as pd\n",
        "\n",
        "data = [4, 8, 15, 16, 23, 42]\n",
        "series = pd.Series(data)\n",
        "\n",
        "print(series)"
      ]
    },
    {
      "cell_type": "code",
      "execution_count": null,
      "metadata": {
        "id": "lW4IuWbT6TWq"
      },
      "outputs": [],
      "source": []
    },
    {
      "cell_type": "markdown",
      "metadata": {
        "id": "l7nokEV7cJK3"
      },
      "source": [
        "<p style=\" color : #4233FF\"><b>Q2. Create a variable of list type containing 10 elements in it, and apply pandas.Series function on the variable print it.<br></b></p>"
      ]
    },
    {
      "cell_type": "code",
      "execution_count": 3,
      "metadata": {
        "colab": {
          "base_uri": "https://localhost:8080/"
        },
        "id": "2EE8UwO77N7v",
        "outputId": "76503968-c4a4-4ad3-9288-73861449d730"
      },
      "outputs": [
        {
          "name": "stdout",
          "output_type": "stream",
          "text": [
            "0     10\n",
            "1     20\n",
            "2     30\n",
            "3     40\n",
            "4     50\n",
            "5     60\n",
            "6     70\n",
            "7     80\n",
            "8     90\n",
            "9    100\n",
            "dtype: int64\n"
          ]
        }
      ],
      "source": [
        "import pandas as pd\n",
        "\n",
        "my_list = [10, 20, 30, 40, 50, 60, 70, 80, 90, 100]\n",
        "series = pd.Series(my_list)\n",
        "\n",
        "print(series)\n"
      ]
    },
    {
      "cell_type": "code",
      "execution_count": null,
      "metadata": {
        "id": "pSG-G8J77Pm3"
      },
      "outputs": [],
      "source": []
    },
    {
      "attachments": {
        "image.png": {
          "image/png": "[encoded data removed]"
        }
      },
      "cell_type": "markdown",
      "metadata": {
        "id": "HMuh9StycJK3"
      },
      "source": [
        "<p style=\" color : #4233FF\"><b>Q3. Create a Pandas DataFrame that contains the following data:<br>\n",
        "\n",
        "![image.png](attachment:image.png)<br>\n",
        "Then, print the DataFrame.</b></p>"
      ]
    },
    {
      "cell_type": "code",
      "execution_count": 4,
      "metadata": {
        "colab": {
          "base_uri": "https://localhost:8080/"
        },
        "id": "_kD9H636cJK4",
        "outputId": "f8f0ea87-8e68-44aa-8714-811e422acfe8"
      },
      "outputs": [
        {
          "name": "stdout",
          "output_type": "stream",
          "text": [
            "     Name  Age  Gender\n",
            "0   Alice   25  Female\n",
            "1     Bob   30    Male\n",
            "2  Claire   27  Female\n"
          ]
        }
      ],
      "source": [
        "import pandas as pd\n",
        "\n",
        "data = {\n",
        "    'Name': ['Alice', 'Bob', 'Claire'],\n",
        "    'Age': [25, 30, 27],\n",
        "    'Gender': ['Female', 'Male', 'Female']\n",
        "}\n",
        "\n",
        "df = pd.DataFrame(data)\n",
        "print(df)\n"
      ]
    },
    {
      "cell_type": "code",
      "execution_count": null,
      "metadata": {},
      "outputs": [],
      "source": []
    },
    {
      "cell_type": "markdown",
      "metadata": {
        "id": "9aKHN4uEcJK4"
      },
      "source": [
        "<p style=\" color : #4233FF\"><b>Q4. What is ‘DataFrame’ in pandas and how is it different from pandas.series? Explain with an example.<br></b></p>"
      ]
    },
    {
      "cell_type": "markdown",
      "metadata": {},
      "source": [
        "\n",
        "In pandas, a `DataFrame` is a two-dimensional data structure that can store data in tabular form, similar to a spreadsheet or a SQL table. It is one of the core data structures provided by the pandas library.\n",
        "\n",
        "A `DataFrame` consists of rows and columns, where each column can have a different data type (e.g., numeric, string, datetime). It provides various functionalities to manipulate, analyze, and transform the data. DataFrames are highly flexible and efficient for handling large datasets.\n",
        "\n",
        "On the other hand, a `pandas Series` is a one-dimensional array-like object that can store a single column of data with an associated index. It can be seen as a single column of a DataFrame. Each element in a Series has a unique label, called an index, which allows for easy and efficient data access and manipulation."
      ]
    },
    {
      "cell_type": "code",
      "execution_count": 5,
      "metadata": {
        "colab": {
          "base_uri": "https://localhost:8080/"
        },
        "id": "-9lUni6qcJK4",
        "outputId": "3fe2ef07-8a7b-446b-88ac-6237f52e2911"
      },
      "outputs": [
        {
          "name": "stdout",
          "output_type": "stream",
          "text": [
            "0    10\n",
            "1    20\n",
            "2    30\n",
            "3    40\n",
            "4    50\n",
            "dtype: int64\n",
            "     Name  Age  Gender\n",
            "0   Alice   25  Female\n",
            "1     Bob   30    Male\n",
            "2  Claire   27  Female\n"
          ]
        }
      ],
      "source": [
        "import pandas as pd\n",
        "\n",
        "# Creating a Series\n",
        "s = pd.Series([10, 20, 30, 40, 50])\n",
        "print(s)\n",
        "\n",
        "# Creating a DataFrame\n",
        "data = {\n",
        "    'Name': ['Alice', 'Bob', 'Claire'],\n",
        "    'Age': [25, 30, 27],\n",
        "    'Gender': ['Female', 'Male', 'Female']\n",
        "}\n",
        "df = pd.DataFrame(data)\n",
        "print(df)\n"
      ]
    },
    {
      "cell_type": "code",
      "execution_count": null,
      "metadata": {},
      "outputs": [],
      "source": []
    },
    {
      "cell_type": "markdown",
      "metadata": {
        "id": "z2avHLHDcJK4"
      },
      "source": [
        "<p style=\" color : #4233FF\"><b>Q5. What are some common functions you can use to manipulate data in a Pandas DataFrame? Can you give an example of when you might use one of these functions?<br></b></p>"
      ]
    },
    {
      "cell_type": "markdown",
      "metadata": {},
      "source": [
        "Pandas provides a wide range of functions to manipulate and transform data in a DataFrame. Some common functions include:\n",
        "\n",
        "1. `head()` and `tail()`: These functions allow you to view the first few rows (`head()`) or the last few rows (`tail()`) of a DataFrame. They are useful for quickly inspecting the data.\n",
        "\n",
        "2. `info()`: This function provides a summary of the DataFrame, including the number of rows and columns, data types, and memory usage. It is helpful for understanding the structure of the data.\n",
        "\n",
        "3. `describe()`: This function generates descriptive statistics of the numeric columns in the DataFrame, such as count, mean, standard deviation, minimum, maximum, and quartiles. It provides insights into the distribution of the data.\n",
        "\n",
        "4. `shape`: This attribute returns the dimensions (number of rows and columns) of the DataFrame as a tuple. It is useful for quickly checking the size of the DataFrame.\n",
        "\n",
        "5. `columns` and `index`: These attributes return the column names and index labels of the DataFrame, respectively. They allow you to access and manipulate the column and index information.\n",
        "\n",
        "6. `sort_values()`: This function sorts the DataFrame based on one or more columns. It is useful for arranging the data in a specific order, such as sorting by a numeric column or sorting by multiple columns.\n",
        "\n",
        "7. `groupby()`: This function allows you to group the data based on one or more columns and perform aggregations or calculations within each group. It is commonly used for data analysis tasks such as calculating group-wise statistics.\n",
        "\n",
        "8. `fillna()`: This function fills missing values in the DataFrame with a specified value or using different filling strategies, such as forward filling or backward filling. It helps handle missing data in the dataset.\n",
        "\n",
        "9. `drop()`: This function allows you to remove specific rows or columns from the DataFrame based on labels or conditions. It helps in data cleaning and filtering.\n",
        "\n",
        "10. `apply()`: This function applies a function to each element, row, or column of the DataFrame. It enables custom transformations or computations on the data.\n"
      ]
    },
    {
      "cell_type": "code",
      "execution_count": 6,
      "metadata": {},
      "outputs": [
        {
          "name": "stdout",
          "output_type": "stream",
          "text": [
            "             Age\n",
            "count   3.000000\n",
            "mean   27.333333\n",
            "std     2.516611\n",
            "min    25.000000\n",
            "25%    26.000000\n",
            "50%    27.000000\n",
            "75%    28.500000\n",
            "max    30.000000\n",
            "     Name  Age  Gender\n",
            "1     Bob   30    Male\n",
            "2  Claire   27  Female\n",
            "0   Alice   25  Female\n"
          ]
        }
      ],
      "source": [
        "import pandas as pd\n",
        "\n",
        "# Creating a DataFrame\n",
        "data = {\n",
        "    'Name': ['Alice', 'Bob', 'Claire'],\n",
        "    'Age': [25, 30, 27],\n",
        "    'Gender': ['Female', 'Male', 'Female']\n",
        "}\n",
        "df = pd.DataFrame(data)\n",
        "\n",
        "# Example: Using the describe() function\n",
        "print(df.describe())\n",
        "\n",
        "# Example: Sorting the DataFrame by Age in descending order\n",
        "sorted_df = df.sort_values('Age', ascending=False)\n",
        "print(sorted_df)"
      ]
    },
    {
      "cell_type": "code",
      "execution_count": null,
      "metadata": {
        "colab": {
          "base_uri": "https://localhost:8080/"
        },
        "id": "NV-35wfmE0rj",
        "outputId": "c2e03371-a91f-4763-b564-889b0b12fc3b"
      },
      "outputs": [],
      "source": []
    },
    {
      "cell_type": "markdown",
      "metadata": {
        "id": "1Ynu0WrsFtgy"
      },
      "source": [
        "<p style=\" color : #4233FF\"><b>Q6. Which of the following is mutable in nature Series, DataFrame, Panel?<br></b></p>"
      ]
    },
    {
      "cell_type": "markdown",
      "metadata": {},
      "source": [
        "Among the options given (Series, DataFrame, Panel), both Series and DataFrame are mutable in nature, while Panel is not.\n",
        "\n",
        "A `Series` is a one-dimensional labeled array that can hold any data type. It is mutable, meaning its values can be modified after creation. You can change the values of individual elements or assign new values to specific indices.\n",
        "\n",
        "A `DataFrame` is a two-dimensional labeled data structure with columns of potentially different data types. Like Series, it is also mutable. You can modify the values in specific cells, add or remove columns, or update the entire column with new data.\n",
        "\n",
        "On the other hand, `Panel` is a three-dimensional data structure in pandas that is not as commonly used as Series and DataFrame. Panels are less flexible and have been deprecated in recent versions of pandas in favor of using multi-indexing with DataFrames. Panels are considered less mutable, as they are not as widely used or supported compared to Series and DataFrame."
      ]
    },
    {
      "cell_type": "code",
      "execution_count": null,
      "metadata": {},
      "outputs": [],
      "source": []
    },
    {
      "cell_type": "markdown",
      "metadata": {},
      "source": [
        "<p style=\" color : #4233FF\"><b>Q7. Create a DataFrame using multiple Series. Explain with an example.<br></b></p>"
      ]
    },
    {
      "cell_type": "code",
      "execution_count": 7,
      "metadata": {},
      "outputs": [
        {
          "name": "stdout",
          "output_type": "stream",
          "text": [
            "     Name  Age  Gender\n",
            "0   Alice   25  Female\n",
            "1     Bob   30    Male\n",
            "2  Claire   27  Female\n"
          ]
        }
      ],
      "source": [
        "import pandas as pd\n",
        "\n",
        "# Create Series objects\n",
        "name_series = pd.Series(['Alice', 'Bob', 'Claire'])\n",
        "age_series = pd.Series([25, 30, 27])\n",
        "gender_series = pd.Series(['Female', 'Male', 'Female'])\n",
        "\n",
        "# Create DataFrame using the Series\n",
        "data = {'Name': name_series, 'Age': age_series, 'Gender': gender_series}\n",
        "df = pd.DataFrame(data)\n",
        "\n",
        "# Print the DataFrame\n",
        "print(df)\n"
      ]
    },
    {
      "cell_type": "markdown",
      "metadata": {
        "id": "eOINuiGOcJK4"
      },
      "source": [
        "\n",
        "<h1 style = 'color:orange'>\n",
        "    <b><div>THANK YOU</div></b>\n",
        "</h1>\n"
      ]
    },
    {
      "cell_type": "code",
      "execution_count": null,
      "metadata": {},
      "outputs": [],
      "source": []
    }
  ],
  "metadata": {
    "colab": {
      "provenance": []
    },
    "kernelspec": {
      "display_name": "Python 3",
      "language": "python",
      "name": "python3"
    },
    "language_info": {
      "codemirror_mode": {
        "name": "ipython",
        "version": 3
      },
      "file_extension": ".py",
      "mimetype": "text/x-python",
      "name": "python",
      "nbconvert_exporter": "python",
      "pygments_lexer": "ipython3",
      "version": "3.11.2"
    },
    "orig_nbformat": 4
  },
  "nbformat": 4,
  "nbformat_minor": 0
}
