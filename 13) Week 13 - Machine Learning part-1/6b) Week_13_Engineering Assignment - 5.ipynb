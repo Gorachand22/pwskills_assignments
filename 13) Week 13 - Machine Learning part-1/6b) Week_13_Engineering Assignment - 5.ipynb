{
  "cells": [
    {
      "cell_type": "markdown",
      "metadata": {
        "id": "jHKORN_4cJKm"
      },
      "source": [
        "<h1 style = 'color:red'><b>Week-13, Feature Engineering-6 Assignment</b><h1>"
      ]
    },
    {
      "cell_type": "markdown",
      "metadata": {
        "id": "dVUW29xlcJKo"
      },
      "source": [
        "Name - Gorachanda Dash <br>\n",
        "Date - 22-Mar-2023<br>\n",
        "Week-13, Feature Engineering-5 Assignment"
      ]
    },
    {
      "cell_type": "markdown",
      "metadata": {
        "id": "fKnfvSL5cJK2"
      },
      "source": [
        "<p style=\" color : #4233FF\"><b>Q1. Pearson correlation coefficient is a measure of the linear relationship between two variables. Suppose you have collected data on the amount of time students spend studying for an exam and their final exam scores. Calculate the Pearson correlation coefficient between these two variables and interpret the result.</b></p>"
      ]
    },
    {
      "cell_type": "code",
      "execution_count": 8,
      "metadata": {},
      "outputs": [
        {
          "name": "stdout",
          "output_type": "stream",
          "text": [
            "Pearson Correlation Coefficient: 0.9823116330815121\n",
            "Interpretation: There is a positive linear relationship.\n"
          ]
        }
      ],
      "source": [
        "import pandas as pd\n",
        "\n",
        "df = pd.DataFrame({\n",
        "    'study_time' : [10, 12, 8, 15, 7, 11, 9, 14, 13, 6], \n",
        "    'exam_scores' : [85, 88, 78, 92, 76, 87, 80, 91, 89, 75]\n",
        "})\n",
        "\n",
        "correlation_coefficient=df.corr().iloc[0, 1]\n",
        "\n",
        "# Interpret the result\n",
        "print(\"Pearson Correlation Coefficient:\", correlation_coefficient)\n",
        "\n",
        "if abs(correlation_coefficient) == 1:\n",
        "    interpretation = \"There is a perfect linear relationship.\"\n",
        "elif correlation_coefficient > 0:\n",
        "    interpretation = \"There is a positive linear relationship.\"\n",
        "else:\n",
        "    interpretation = \"There is a negative linear relationship.\"\n",
        "\n",
        "print(\"Interpretation:\", interpretation)"
      ]
    },
    {
      "cell_type": "code",
      "execution_count": 1,
      "metadata": {},
      "outputs": [
        {
          "name": "stdout",
          "output_type": "stream",
          "text": [
            "Pearson Correlation Coefficient: 0.9823116330815118\n",
            "Interpretation: There is a positive linear relationship.\n"
          ]
        }
      ],
      "source": [
        "# alternative method\n",
        "\n",
        "import scipy.stats\n",
        "\n",
        "# Example data\n",
        "study_time = [10, 12, 8, 15, 7, 11, 9, 14, 13, 6]\n",
        "exam_scores = [85, 88, 78, 92, 76, 87, 80, 91, 89, 75]\n",
        "\n",
        "# Calculate the Pearson correlation coefficient\n",
        "correlation_coefficient, p_value = scipy.stats.pearsonr(study_time, exam_scores)\n",
        "\n",
        "# Interpret the result\n",
        "print(\"Pearson Correlation Coefficient:\", correlation_coefficient)\n",
        "\n",
        "if abs(correlation_coefficient) == 1:\n",
        "    interpretation = \"There is a perfect linear relationship.\"\n",
        "elif correlation_coefficient > 0:\n",
        "    interpretation = \"There is a positive linear relationship.\"\n",
        "else:\n",
        "    interpretation = \"There is a negative linear relationship.\"\n",
        "\n",
        "print(\"Interpretation:\", interpretation)\n"
      ]
    },
    {
      "cell_type": "code",
      "execution_count": null,
      "metadata": {},
      "outputs": [],
      "source": []
    },
    {
      "cell_type": "markdown",
      "metadata": {
        "id": "HMuh9StycJK3"
      },
      "source": [
        "<p style=\" color : #4233FF\"><b>Q2. Spearman's rank correlation is a measure of the monotonic relationship between two variables. Suppose you have collected data on the amount of sleep individuals get each night and their overall job satisfaction level on a scale of 1 to 10. Calculate the Spearman's rank correlation between these two variables and interpret the result.</b>\n",
        "</p>"
      ]
    },
    {
      "cell_type": "code",
      "execution_count": 9,
      "metadata": {},
      "outputs": [
        {
          "name": "stdout",
          "output_type": "stream",
          "text": [
            "Spearman Correlation Coefficient: 1.0\n",
            "Interpretation: There is a perfect linear relationship.\n"
          ]
        }
      ],
      "source": [
        "import pandas as pd\n",
        "\n",
        "df = pd.DataFrame({\n",
        "    'sleep_hours' : [10, 12, 8, 15, 7, 11, 9, 14, 13, 6], \n",
        "    'job_satisfaction' : [85, 88, 78, 92, 76, 87, 80, 91, 89, 75]\n",
        "})\n",
        "\n",
        "correlation_coefficient=df.corr(method='spearman').iloc[0, 1]\n",
        "\n",
        "# Interpret the result\n",
        "print(\"Spearman Correlation Coefficient:\", correlation_coefficient)\n",
        "\n",
        "if abs(correlation_coefficient) == 1:\n",
        "    interpretation = \"There is a perfect linear relationship.\"\n",
        "elif correlation_coefficient > 0:\n",
        "    interpretation = \"There is a positive linear relationship.\"\n",
        "else:\n",
        "    interpretation = \"There is a negative linear relationship.\"\n",
        "\n",
        "print(\"Interpretation:\", interpretation)"
      ]
    },
    {
      "cell_type": "code",
      "execution_count": 10,
      "metadata": {},
      "outputs": [
        {
          "name": "stdout",
          "output_type": "stream",
          "text": [
            "Spearman's Rank Correlation Coefficient: 1.0\n",
            "Interpretation: There is a perfect monotonic positive relationship.\n"
          ]
        }
      ],
      "source": [
        "# alternatively\n",
        "\n",
        "import scipy.stats\n",
        "\n",
        "# Example data \n",
        "sleep_hours = [7, 6, 8, 5, 7, 9, 6, 8, 7, 6]\n",
        "job_satisfaction = [5, 4, 6, 3, 5, 7, 4, 6, 5, 4]\n",
        "\n",
        "# Calculate the Spearman's rank correlation coefficient\n",
        "correlation_coefficient, p_value = scipy.stats.spearmanr(sleep_hours, job_satisfaction)\n",
        "\n",
        "# Interpret the result\n",
        "print(\"Spearman's Rank Correlation Coefficient:\", correlation_coefficient)\n",
        "\n",
        "if correlation_coefficient == 1:\n",
        "    interpretation = \"There is a perfect monotonic positive relationship.\"\n",
        "elif correlation_coefficient == -1:\n",
        "    interpretation = \"There is a perfect monotonic negative relationship.\"\n",
        "elif correlation_coefficient > 0:\n",
        "    interpretation = \"There is a monotonic positive relationship.\"\n",
        "else:\n",
        "    interpretation = \"There is a monotonic negative relationship.\"\n",
        "\n",
        "print(\"Interpretation:\", interpretation)"
      ]
    },
    {
      "cell_type": "markdown",
      "metadata": {},
      "source": [
        "<p style=\" color : #4233FF\"><b>Q3. Suppose you are conducting a study to examine the relationship between the number of hours of exercise per week and body mass index (BMI) in a sample of adults. You collected data on both variables for 50 participants. Calculate the Pearson correlation coefficient and the Spearman's rank correlation between these two variables and compare the results.</b></p>"
      ]
    },
    {
      "cell_type": "code",
      "execution_count": 12,
      "metadata": {},
      "outputs": [
        {
          "name": "stdout",
          "output_type": "stream",
          "text": [
            "Pearson Correlation Coefficient: -0.8399025476414693\n",
            "Spearman's Rank Correlation Coefficient: -0.8247381335426541\n"
          ]
        }
      ],
      "source": [
        "import pandas as pd\n",
        "\n",
        "df = pd.DataFrame({\n",
        "    'exercise_hours' : [3, 5, 2, 4, 6, 2, 1, 5, 3, 4, 2, 1, 3, 5, 6, 4, 2, 3, 4, 5, 1, 2, 3, 4, 5, 6, 7, 8, 9, 2, 4, 5, 3, 6, 7, 8, 1, 3, 4, 2, 5, 6, 7, 8, 9, 10, 2, 4, 6], \n",
        "    'bmi' : [25.5, 27.0, 30.2, 26.8, 24.2, 31.5, 35.2, 27.8, 29.0, 26.1, 29.5, 34.8, 27.4, 25.0, 23.7, 25.9, 28.6, 26.7, 25.3, 24.1, 36.2, 32.8, 28.9, 26.7, 24.5, 23.8, 22.6, 21.4, 20.2, 37.1, 29.3, 26.7, 27.5, 30.1, 28.2, 25.9, 35.6, 29.7, 28.4, 31.0, 25.8, 23.2, 22.1, 20.9, 19.7, 18.6, 36.9, 32.3, 28.7]\n",
        "})\n",
        "\n",
        "pearson_corr=df.corr(method='pearson').iloc[0, 1]\n",
        "spearman_corr=df.corr(method='spearman').iloc[0, 1]\n",
        "\n",
        "# Print the results\n",
        "print(\"Pearson Correlation Coefficient:\", pearson_corr)\n",
        "print(\"Spearman's Rank Correlation Coefficient:\", spearman_corr)\n"
      ]
    },
    {
      "cell_type": "code",
      "execution_count": null,
      "metadata": {},
      "outputs": [
        {
          "name": "stdout",
          "output_type": "stream",
          "text": [
            "Pearson Correlation Coefficient: -0.8399025476414693\n",
            "Spearman's Rank Correlation Coefficient: -0.8247381335426541\n"
          ]
        }
      ],
      "source": [
        "# alternatively\n",
        "import numpy as np\n",
        "import scipy.stats\n",
        "\n",
        "# Example data (replace this with your actual data)\n",
        "exercise_hours = np.array([3, 5, 2, 4, 6, 2, 1, 5, 3, 4, 2, 1, 3, 5, 6, 4, 2, 3, 4, 5, 1, 2, 3, 4, 5, 6, 7, 8, 9, 2, 4, 5, 3, 6, 7, 8, 1, 3, 4, 2, 5, 6, 7, 8, 9, 10, 2, 4, 6])\n",
        "bmi = np.array([25.5, 27.0, 30.2, 26.8, 24.2, 31.5, 35.2, 27.8, 29.0, 26.1, 29.5, 34.8, 27.4, 25.0, 23.7, 25.9, 28.6, 26.7, 25.3, 24.1, 36.2, 32.8, 28.9, 26.7, 24.5, 23.8, 22.6, 21.4, 20.2, 37.1, 29.3, 26.7, 27.5, 30.1, 28.2, 25.9, 35.6, 29.7, 28.4, 31.0, 25.8, 23.2, 22.1, 20.9, 19.7, 18.6, 36.9, 32.3, 28.7])\n",
        "\n",
        "# Calculate Pearson correlation coefficient\n",
        "pearson_corr, _ = scipy.stats.pearsonr(exercise_hours, bmi)\n",
        "\n",
        "# Calculate Spearman's rank correlation coefficient\n",
        "spearman_corr, _ = scipy.stats.spearmanr(exercise_hours, bmi)\n",
        "\n",
        "# Print the results\n",
        "print(\"Pearson Correlation Coefficient:\", pearson_corr)\n",
        "print(\"Spearman's Rank Correlation Coefficient:\", spearman_corr)\n"
      ]
    },
    {
      "cell_type": "code",
      "execution_count": null,
      "metadata": {},
      "outputs": [],
      "source": []
    },
    {
      "cell_type": "markdown",
      "metadata": {},
      "source": [
        "<p style=\" color : #4233FF\"><b>Q4. A researcher is interested in examining the relationship between the number of hours individuals spend watching television per day and their level of physical activity. The researcher collected data on both variables from a sample of 50 participants. Calculate the Pearson correlation coefficient between these two variables.</b></p>"
      ]
    },
    {
      "cell_type": "code",
      "execution_count": 18,
      "metadata": {},
      "outputs": [
        {
          "name": "stdout",
          "output_type": "stream",
          "text": [
            "Pearson Correlation Coefficient: 0.9853655831739034\n"
          ]
        }
      ],
      "source": [
        "import pandas as pd\n",
        "\n",
        "df = pd.DataFrame({\n",
        "    'exercise_hours' : [2.5, 3.0, 4.5, 2.0, 5.5, 1.0, 3.5, 4.0, 2.0, 6.0, 1.5, 2.5, 3.0, 4.0, 3.5, 2.0, 5.0, 1.5, 2.5, 3.0, 4.5, 2.0, 5.5, 1.0, 3.5, 4.0, 2.0, 6.0, 1.5, 2.5, 3.0, 4.0, 3.5, 2.0, 5.0, 1.5, 2.5, 3.0, 4.5, 2.0, 5.5, 1.0, 3.5, 4.0, 2.0, 6.0, 1.5], \n",
        "    'bmi' : [2, 3, 4, 2, 5, 1, 3, 4, 2, 6, 1, 2, 3, 4, 3, 2, 5, 1, 2, 3, 4, 2, 5, 1, 3, 4, 2, 6, 1, 2, 3, 4, 3, 2, 5, 1, 2, 3, 4, 2, 5, 1, 3, 4, 2, 6, 1]\n",
        "})\n",
        "\n",
        "pearson_corr=df.corr(method='pearson').iloc[0, 1]\n",
        "\n",
        "# Print the results\n",
        "print(\"Pearson Correlation Coefficient:\", pearson_corr)\n"
      ]
    },
    {
      "cell_type": "code",
      "execution_count": 20,
      "metadata": {},
      "outputs": [
        {
          "name": "stdout",
          "output_type": "stream",
          "text": [
            "Pearson Correlation Coefficient: 0.9853655831739037\n"
          ]
        }
      ],
      "source": [
        "# alternative\n",
        "\n",
        "import numpy as np\n",
        "import scipy.stats\n",
        "\n",
        "# Example data\n",
        "tv_hours = np.array([2.5, 3.0, 4.5, 2.0, 5.5, 1.0, 3.5, 4.0, 2.0, 6.0, 1.5, 2.5, 3.0, 4.0, 3.5, 2.0, 5.0, 1.5, 2.5, 3.0, 4.5, 2.0, 5.5, 1.0, 3.5, 4.0, 2.0, 6.0, 1.5, 2.5, 3.0, 4.0, 3.5, 2.0, 5.0, 1.5, 2.5, 3.0, 4.5, 2.0, 5.5, 1.0, 3.5, 4.0, 2.0, 6.0, 1.5])\n",
        "physical_activity = np.array([2, 3, 4, 2, 5, 1, 3, 4, 2, 6, 1, 2, 3, 4, 3, 2, 5, 1, 2, 3, 4, 2, 5, 1, 3, 4, 2, 6, 1, 2, 3, 4, 3, 2, 5, 1, 2, 3, 4, 2, 5, 1, 3, 4, 2, 6, 1])\n",
        "\n",
        "# Calculate the Pearson correlation coefficient\n",
        "pearson_corr, _ = scipy.stats.pearsonr(tv_hours, physical_activity)\n",
        "\n",
        "# Print the result\n",
        "print(\"Pearson Correlation Coefficient:\", pearson_corr)\n"
      ]
    },
    {
      "cell_type": "code",
      "execution_count": null,
      "metadata": {},
      "outputs": [],
      "source": []
    },
    {
      "cell_type": "markdown",
      "metadata": {
        "id": "z2avHLHDcJK4"
      },
      "source": [
        "<p style=\" color : #4233FF\"><b>User\n",
        "Q5. A survey was conducted to examine the relationship between age and preference for a particular brand of soft drink. The survey results are shown below:</b></p>\n",
        "---------------------------------------<br>\n",
        "Age(Years)|    Soft drink Preference | <br>\n",
        "---------------------------------------<br>\n",
        "25   |      Coke|<br>\n",
        "42   |     Pepsi|<br>\n",
        "37    |     Mountain dew|<br>\n",
        "19    |     Coke|<br>\n",
        "31    |      Pepsi|<br>\n",
        "28    |     Coke|<br>\n"
      ]
    },
    {
      "cell_type": "markdown",
      "metadata": {},
      "source": [
        "To examine the relationship between age and preference for a particular brand of soft drink, we can calculate the Point-Biserial Correlation Coefficient. This correlation coefficient measures the strength and direction of the relationship between a continuous variable (age) and a dichotomous categorical variable (soft drink preference, which has two categories: Coke and Pepsi in this case).\n",
        "\n",
        "However, the Point-Biserial Correlation Coefficient is not readily available in most common statistical libraries. Instead, we can calculate the Phi coefficient, which is a measure of association between two categorical variables. In this case, we can treat age as a categorical variable by grouping it into categories, and then calculate the Phi coefficient.\n",
        "\n",
        "Here's a step-by-step guide on how to calculate the Phi coefficient for this data:\n",
        "\n",
        "1. Group the age variable into categories. For example, we can create two age groups: \"Under 30\" and \"30 and Over.\" we can choose different age cutoffs if needed.\n",
        "\n",
        "2. Create a contingency table (also known as a cross-tabulation) to show the frequency of each combination of age group and soft drink preference:\n",
        "\n",
        "```\n",
        "                 | Coke  | Pepsi |\n",
        "---------------------------------\n",
        "Under 30         |   2   |   1   |\n",
        "---------------------------------\n",
        "30 and Over      |   1   |   1   |\n",
        "---------------------------------\n",
        "```\n",
        "\n",
        "3. Calculate the Phi coefficient using the following formula:\n",
        "\n",
        "```python\n",
        "Phi = (ad - bc) / sqrt((a + b)(c + d)(a + c)(b + d))\n",
        "```\n",
        "\n",
        "- `a`: Number of observations in the \"Under 30\" age group who prefer Coke.\n",
        "- `b`: Number of observations in the \"Under 30\" age group who prefer Pepsi.\n",
        "- `c`: Number of observations in the \"30 and Over\" age group who prefer Coke.\n",
        "- `d`: Number of observations in the \"30 and Over\" age group who prefer Pepsi.\n",
        "\n",
        "Using the values from the contingency table:\n",
        "\n",
        "```python\n",
        "a = 2\n",
        "b = 1\n",
        "c = 1\n",
        "d = 1\n",
        "```\n",
        "\n",
        "Plug these values into the formula:\n",
        "\n",
        "```python\n",
        "Phi = (2*1 - 1*1) / sqrt((2+1)(1+1)(2+1)(1+1))\n",
        "Phi = (2 - 1) / sqrt(3*2*3*2)\n",
        "Phi = 1 / sqrt(72)\n",
        "Phi ≈ 0.122\n",
        "```\n",
        "\n",
        "The Phi coefficient measures the strength of association between age group and soft drink preference. In this case, a Phi coefficient of approximately 0.122 suggests a weak positive association between age group and soft drink preference. This means that there might be a slight tendency for individuals under 30 to prefer Coke, but the association is not very strong."
      ]
    },
    {
      "cell_type": "code",
      "execution_count": null,
      "metadata": {},
      "outputs": [],
      "source": []
    },
    {
      "cell_type": "markdown",
      "metadata": {},
      "source": [
        "<p style=\" color : #4233FF\"><b>Q6. A company is interested in examining the relationship between the number of sales calls made per day and the number of sales made per week. The company collected data on both variables from a sample of 30 sales representatives. Calculate the Pearson correlation coefficient between these two variables.</b>\n",
        "</p>"
      ]
    },
    {
      "cell_type": "code",
      "execution_count": 22,
      "metadata": {},
      "outputs": [
        {
          "name": "stdout",
          "output_type": "stream",
          "text": [
            "Pearson Correlation Coefficient: 0.9414675234257487\n"
          ]
        }
      ],
      "source": [
        "import pandas as pd\n",
        "\n",
        "# Example data\n",
        "df = pd.DataFrame({'sales_calls_per_day': [20, 25, 15, 30, 18, 22, 28, 24, 19, 27, 16, 21, 26, 17, 23, 29, 18, 25, 30, 22, 16, 20, 27, 14, 19, 23, 15, 26, 21, 24],\n",
        "'sales_per_week':[3, 4, 2, 5, 3, 4, 5, 4, 3, 5, 2, 3, 4, 2, 3, 5, 3, 4, 5, 4, 2, 3, 5, 2, 3, 4, 2, 4, 3, 5]\n",
        "})\n",
        "# Calculate the Pearson correlation coefficient\n",
        "pearson_corr = df.corr(method='pearson').iloc[0, 1]\n",
        "\n",
        "# Print the result\n",
        "print(\"Pearson Correlation Coefficient:\", pearson_corr)\n"
      ]
    },
    {
      "cell_type": "code",
      "execution_count": null,
      "metadata": {},
      "outputs": [
        {
          "name": "stdout",
          "output_type": "stream",
          "text": [
            "Pearson Correlation Coefficient: 0.9414675234257489\n"
          ]
        }
      ],
      "source": [
        "import numpy as np\n",
        "import scipy.stats\n",
        "\n",
        "# Example data\n",
        "sales_calls_per_day = np.array([20, 25, 15, 30, 18, 22, 28, 24, 19, 27, 16, 21, 26, 17, 23, 29, 18, 25, 30, 22, 16, 20, 27, 14, 19, 23, 15, 26, 21, 24])\n",
        "sales_per_week = np.array([3, 4, 2, 5, 3, 4, 5, 4, 3, 5, 2, 3, 4, 2, 3, 5, 3, 4, 5, 4, 2, 3, 5, 2, 3, 4, 2, 4, 3, 5])\n",
        "\n",
        "# Calculate the Pearson correlation coefficient\n",
        "pearson_corr, _ = scipy.stats.pearsonr(sales_calls_per_day, sales_per_week)\n",
        "\n",
        "# Print the result\n",
        "print(\"Pearson Correlation Coefficient:\", pearson_corr)\n"
      ]
    },
    {
      "cell_type": "markdown",
      "metadata": {
        "id": "eOINuiGOcJK4"
      },
      "source": [
        "<h1 style = 'color:orange'>\n",
        "    <b><div>🙏🙏🙏🙏🙏       THANK YOU        🙏🙏🙏🙏🙏</div></b>\n",
        "</h1>\n"
      ]
    }
  ],
  "metadata": {
    "colab": {
      "provenance": []
    },
    "kernelspec": {
      "display_name": "Python 3",
      "language": "python",
      "name": "python3"
    },
    "language_info": {
      "codemirror_mode": {
        "name": "ipython",
        "version": 3
      },
      "file_extension": ".py",
      "mimetype": "text/x-python",
      "name": "python",
      "nbconvert_exporter": "python",
      "pygments_lexer": "ipython3",
      "version": "3.11.2"
    },
    "orig_nbformat": 4
  },
  "nbformat": 4,
  "nbformat_minor": 0
}
