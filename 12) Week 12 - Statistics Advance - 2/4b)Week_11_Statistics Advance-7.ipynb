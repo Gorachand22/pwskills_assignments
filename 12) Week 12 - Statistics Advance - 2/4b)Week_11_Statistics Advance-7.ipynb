{
  "cells": [
    {
      "cell_type": "markdown",
      "metadata": {
        "id": "jHKORN_4cJKm"
      },
      "source": [
        "<h1 style = 'color:red'><b>Week-12, Statistics Advance-7 Assignment</b><h1>"
      ]
    },
    {
      "cell_type": "markdown",
      "metadata": {
        "id": "dVUW29xlcJKo"
      },
      "source": [
        "Name - Gorachanda Dash <br>\n",
        "Date - 13-Mar-2023<br>\n",
        "Week 12, Statistics Advance-7 Assignment"
      ]
    },
    {
      "cell_type": "markdown",
      "metadata": {
        "id": "fKnfvSL5cJK2"
      },
      "source": [
        "<p style=\" color : #4233FF\"><b>Q1. Write a Python function that takes in two arrays of data and calculates the F-value for a variance ratio test. The function should return the F-value and the corresponding p-value for the test.</b></p>"
      ]
    },
    {
      "cell_type": "code",
      "execution_count": 10,
      "metadata": {},
      "outputs": [
        {
          "name": "stdout",
          "output_type": "stream",
          "text": [
            "F-Value: 3.0033112582781443\n",
            "P-Value: 0.15601743388321243\n"
          ]
        }
      ],
      "source": [
        "import numpy as np\n",
        "from scipy import stats\n",
        "\n",
        "def variance_ratio_test(data1, data2):\n",
        "    \"\"\"\n",
        "    Perform a variance ratio test (F-test for comparing variances) between two arrays of data.\n",
        "    \n",
        "    Parameters:\n",
        "    data1 (array-like): First array of data.\n",
        "    data2 (array-like): Second array of data.\n",
        "    \n",
        "    Returns:\n",
        "    f_value (float): Calculated F-value.\n",
        "    p_value (float): Corresponding p-value.\n",
        "    \"\"\"\n",
        "    # Calculate the variances of the two data arrays\n",
        "    variance1 = np.var(data1, ddof=1)  # Using ddof=1 for sample variance\n",
        "    variance2 = np.var(data2, ddof=1)\n",
        "    \n",
        "    # Calculate the F-value\n",
        "    f_value = variance1 / variance2\n",
        "    \n",
        "    # Calculate the degrees of freedom for the F-distribution\n",
        "    df1 = len(data1) - 1\n",
        "    df2 = len(data2) - 1\n",
        "    \n",
        "    # Calculate the corresponding p-value\n",
        "    p_value = 1 - stats.f.cdf(f_value, df1, df2)\n",
        "    \n",
        "    return f_value, p_value\n",
        "\n",
        "# Example usage\n",
        "data1 = [10.2, 11.5, 9.8, 12.1, 10.5]\n",
        "data2 = [8.7, 9.5, 10.1, 8.9, 9.2]\n",
        "\n",
        "f_value, p_value = variance_ratio_test(data1, data2)\n",
        "print(\"F-Value:\", f_value)\n",
        "print(\"P-Value:\", p_value)\n"
      ]
    },
    {
      "cell_type": "code",
      "execution_count": null,
      "metadata": {},
      "outputs": [],
      "source": []
    },
    {
      "cell_type": "markdown",
      "metadata": {
        "id": "l7nokEV7cJK3"
      },
      "source": [
        "<p style=\" color : #4233FF\"><b>Q2. Given a significance level of 0.05 and the degrees of freedom for the numerator and denominator of an F-distribution, write a Python function that returns the critical F-value for a two-tailed test.</b></p>"
      ]
    },
    {
      "cell_type": "code",
      "execution_count": 11,
      "metadata": {},
      "outputs": [
        {
          "name": "stdout",
          "output_type": "stream",
          "text": [
            "Critical F-Value: 3.858698666273216\n"
          ]
        }
      ],
      "source": [
        "from scipy import stats\n",
        "\n",
        "def critical_f_value(alpha, dfn, dfd):\n",
        "    \"\"\"\n",
        "    Calculate the critical F-value for a two-tailed test.\n",
        "    \n",
        "    Parameters:\n",
        "    alpha (float): Significance level (e.g., 0.05 for 5% significance).\n",
        "    dfn (int): Degrees of freedom for the numerator.\n",
        "    dfd (int): Degrees of freedom for the denominator.\n",
        "    \n",
        "    Returns:\n",
        "    critical_f (float): Critical F-value.\n",
        "    \"\"\"\n",
        "    critical_f = stats.f.ppf(1 - alpha / 2, dfn, dfd)\n",
        "    return critical_f\n",
        "\n",
        "# Example usage\n",
        "alpha = 0.05\n",
        "dfn = 3\n",
        "dfd = 20\n",
        "\n",
        "critical_f = critical_f_value(alpha, dfn, dfd)\n",
        "print(\"Critical F-Value:\", critical_f)\n"
      ]
    },
    {
      "cell_type": "code",
      "execution_count": null,
      "metadata": {},
      "outputs": [],
      "source": []
    },
    {
      "cell_type": "markdown",
      "metadata": {
        "id": "HMuh9StycJK3"
      },
      "source": [
        "<p style=\" color : #4233FF\"><b>Q3. Write a Python program that generates random samples from two normal distributions with known variances and uses an F-test to determine if the variances are equal. The program should output the F-value, degrees of freedom, and p-value for the test.</b>\n",
        "</p>"
      ]
    },
    {
      "cell_type": "code",
      "execution_count": 12,
      "metadata": {},
      "outputs": [
        {
          "name": "stdout",
          "output_type": "stream",
          "text": [
            "F-Value: 0.4152541679996125\n",
            "Degrees of Freedom (Numerator): 29\n",
            "Degrees of Freedom (Denominator): 29\n",
            "P-Value: 0.02087559545078621\n",
            "Are Variances Equal? False\n"
          ]
        }
      ],
      "source": [
        "import numpy as np\n",
        "from scipy import stats\n",
        "\n",
        "def perform_variance_equality_test(sample1, sample2, alpha=0.05):\n",
        "    \"\"\"\n",
        "    Perform an F-test for testing the equality of variances of two samples.\n",
        "    \n",
        "    Parameters:\n",
        "    sample1 (array-like): First sample of data.\n",
        "    sample2 (array-like): Second sample of data.\n",
        "    alpha (float): Significance level (default is 0.05).\n",
        "    \n",
        "    Returns:\n",
        "    f_value (float): Calculated F-value.\n",
        "    dfn (int): Degrees of freedom for the numerator.\n",
        "    dfd (int): Degrees of freedom for the denominator.\n",
        "    p_value (float): Corresponding p-value.\n",
        "    is_equal (bool): True if variances are considered equal, False otherwise.\n",
        "    \"\"\"\n",
        "    # Calculate variances of the two samples\n",
        "    variance1 = np.var(sample1, ddof=1)  # Using ddof=1 for sample variance\n",
        "    variance2 = np.var(sample2, ddof=1)\n",
        "    \n",
        "    # Calculate the F-value\n",
        "    f_value = variance1 / variance2\n",
        "    \n",
        "    # Calculate degrees of freedom\n",
        "    dfn = len(sample1) - 1\n",
        "    dfd = len(sample2) - 1\n",
        "    \n",
        "    # Calculate the p-value\n",
        "    p_value = 2 * min(stats.f.cdf(f_value, dfn, dfd), 1 - stats.f.cdf(f_value, dfn, dfd))\n",
        "    \n",
        "    # Compare p-value with significance level\n",
        "    is_equal = p_value > alpha\n",
        "    \n",
        "    return f_value, dfn, dfd, p_value, is_equal\n",
        "\n",
        "# Example usage\n",
        "np.random.seed(42)  # For reproducibility\n",
        "sample1 = np.random.normal(loc=10, scale=2, size=30)\n",
        "sample2 = np.random.normal(loc=10, scale=3, size=30)\n",
        "\n",
        "f_value, dfn, dfd, p_value, is_equal = perform_variance_equality_test(sample1, sample2)\n",
        "print(\"F-Value:\", f_value)\n",
        "print(\"Degrees of Freedom (Numerator):\", dfn)\n",
        "print(\"Degrees of Freedom (Denominator):\", dfd)\n",
        "print(\"P-Value:\", p_value)\n",
        "print(\"Are Variances Equal?\", is_equal)\n"
      ]
    },
    {
      "cell_type": "code",
      "execution_count": null,
      "metadata": {},
      "outputs": [],
      "source": []
    },
    {
      "cell_type": "markdown",
      "metadata": {
        "id": "9aKHN4uEcJK4"
      },
      "source": [
        "<p style=\" color : #4233FF\"><b>Q4.The variances of two populations are known to be 10 and 15. A sample of 12 observations is taken from each population. Conduct an F-test at the 5% significance level to determine if the variances are significantly different.</b>\n",
        "</p>"
      ]
    },
    {
      "cell_type": "code",
      "execution_count": 13,
      "metadata": {},
      "outputs": [
        {
          "name": "stdout",
          "output_type": "stream",
          "text": [
            "Fail to reject the null hypothesis. Variances are not significantly different.\n"
          ]
        }
      ],
      "source": [
        "from scipy.stats import f\n",
        "\n",
        "# Given data\n",
        "variance1 = 10\n",
        "variance2 = 15\n",
        "sample_size = 12\n",
        "alpha = 0.05\n",
        "\n",
        "# Calculate F-statistic\n",
        "f_statistic = max(variance1, variance2) / min(variance1, variance2)\n",
        "\n",
        "# Calculate degrees of freedom\n",
        "dfn = sample_size - 1\n",
        "dfd = sample_size - 1\n",
        "\n",
        "# Calculate critical value\n",
        "critical_value = f.ppf(1 - alpha / 2, dfn, dfd)\n",
        "\n",
        "# Compare F-statistic and critical value\n",
        "if f_statistic > critical_value:\n",
        "    print(\"Reject the null hypothesis. Variances are significantly different.\")\n",
        "else:\n",
        "    print(\"Fail to reject the null hypothesis. Variances are not significantly different.\")\n"
      ]
    },
    {
      "cell_type": "code",
      "execution_count": null,
      "metadata": {},
      "outputs": [],
      "source": []
    },
    {
      "cell_type": "markdown",
      "metadata": {
        "id": "z2avHLHDcJK4"
      },
      "source": [
        "<p style=\" color : #4233FF\"><b>Q5. A manufacturer claims that the variance of the diameter of a certain product is 0.005. A sample of 25 products is taken, and the sample variance is found to be 0.006. Conduct an F-test at the 1% significance level to determine if the claim is justified.</b>\n",
        "</p>"
      ]
    },
    {
      "cell_type": "markdown",
      "metadata": {},
      "source": [
        "`State the Hypotheses:`\n",
        "   - Null Hypothesis (H0): The claimed variance is justified (σ_claimed^2 = 0.005).\n",
        "   - Alternative Hypothesis (Ha): The claimed variance is not justified (σ_claimed^2 ≠ 0.005)."
      ]
    },
    {
      "cell_type": "code",
      "execution_count": 14,
      "metadata": {},
      "outputs": [
        {
          "name": "stdout",
          "output_type": "stream",
          "text": [
            "Fail to reject the null hypothesis. The claimed variance is justified.\n"
          ]
        }
      ],
      "source": [
        "from scipy.stats import f\n",
        "\n",
        "# Given data\n",
        "claimed_variance = 0.005\n",
        "sample_variance = 0.006\n",
        "sample_size = 25\n",
        "alpha = 0.01\n",
        "\n",
        "# Calculate F-statistic\n",
        "f_statistic = max(claimed_variance, sample_variance) / min(claimed_variance, sample_variance)\n",
        "\n",
        "# Calculate degrees of freedom\n",
        "dfn = sample_size - 1\n",
        "dfd = sample_size - 1\n",
        "\n",
        "# Calculate critical values\n",
        "lower_critical_value = f.ppf(alpha / 2, dfn, dfd)\n",
        "upper_critical_value = f.ppf(1 - alpha / 2, dfn, dfd)\n",
        "\n",
        "# Compare F-statistic with critical values\n",
        "if f_statistic < lower_critical_value or f_statistic > upper_critical_value:\n",
        "    print(\"Reject the null hypothesis. The claimed variance is not justified.\")\n",
        "else:\n",
        "    print(\"Fail to reject the null hypothesis. The claimed variance is justified.\")"
      ]
    },
    {
      "cell_type": "code",
      "execution_count": null,
      "metadata": {},
      "outputs": [],
      "source": []
    },
    {
      "cell_type": "markdown",
      "metadata": {},
      "source": [
        "<p style=\" color : #4233FF\"><b>Q6. Write a Python function that takes in the degrees of freedom for the numerator and denominator of an F-distribution and calculates the mean and variance of the distribution. The function should return the mean and variance as a tuple.</b>\n",
        "</p>"
      ]
    },
    {
      "cell_type": "code",
      "execution_count": 15,
      "metadata": {},
      "outputs": [
        {
          "name": "stdout",
          "output_type": "stream",
          "text": [
            "Mean of F-distribution: 1.25\n",
            "Variance of F-distribution: 1.3541666666666667\n"
          ]
        }
      ],
      "source": [
        "def f_distribution_mean_variance(dfn, dfd):\n",
        "    \"\"\"\n",
        "    Calculate the mean and variance of an F-distribution.\n",
        "    \n",
        "    Parameters:\n",
        "    dfn (int): Degrees of freedom for the numerator.\n",
        "    dfd (int): Degrees of freedom for the denominator.\n",
        "    \n",
        "    Returns:\n",
        "    mean (float): Mean of the F-distribution.\n",
        "    variance (float): Variance of the F-distribution.\n",
        "    \"\"\"\n",
        "    if dfn <= 2:\n",
        "        raise ValueError(\"Degrees of freedom for the numerator must be greater than 2.\")\n",
        "    \n",
        "    mean = dfd / (dfd - 2)\n",
        "    variance = (2 * dfd**2 * (dfn + dfd - 2)) / (dfn * (dfd - 2)**2 * (dfd - 4))\n",
        "    \n",
        "    return mean, variance\n",
        "\n",
        "# Example usage\n",
        "dfn = 5\n",
        "dfd = 10\n",
        "\n",
        "mean, variance = f_distribution_mean_variance(dfn, dfd)\n",
        "print(\"Mean of F-distribution:\", mean)\n",
        "print(\"Variance of F-distribution:\", variance)\n"
      ]
    },
    {
      "cell_type": "code",
      "execution_count": null,
      "metadata": {},
      "outputs": [],
      "source": []
    },
    {
      "cell_type": "markdown",
      "metadata": {},
      "source": [
        "<p style=\" color : #4233FF\"><b>Q7. A random sample of 10 measurements is taken from a normal population with unknown variance. The sample variance is found to be 25. Another random sample of 15 measurements is taken from another normal population with unknown variance, and the sample variance is found to be 20. Conduct an F-test at the 10% significance level to determine if the variances are significantly different.</b>\n",
        "</p>"
      ]
    },
    {
      "cell_type": "markdown",
      "metadata": {},
      "source": [
        "`State the Hypotheses:`\n",
        "\n",
        "- Null Hypothesis (H0): The variances are equal (σ1^2 = σ2^2).\n",
        "- Alternative Hypothesis (Ha): The variances are not equal (σ1^2 ≠ σ2^2)."
      ]
    },
    {
      "cell_type": "code",
      "execution_count": 16,
      "metadata": {},
      "outputs": [
        {
          "name": "stdout",
          "output_type": "stream",
          "text": [
            "Fail to reject the null hypothesis. Variances are not significantly different.\n"
          ]
        }
      ],
      "source": [
        "from scipy.stats import f\n",
        "\n",
        "# Given data\n",
        "sample_variance1 = 25\n",
        "sample_variance2 = 20\n",
        "sample_size1 = 10\n",
        "sample_size2 = 15\n",
        "alpha = 0.10\n",
        "\n",
        "# Calculate F-statistic\n",
        "f_statistic = max(sample_variance1, sample_variance2) / min(sample_variance1, sample_variance2)\n",
        "\n",
        "# Calculate degrees of freedom\n",
        "dfn = sample_size1 - 1\n",
        "dfd = sample_size2 - 1\n",
        "\n",
        "# Calculate critical values\n",
        "lower_critical_value = f.ppf(alpha / 2, dfn, dfd)\n",
        "upper_critical_value = f.ppf(1 - alpha / 2, dfn, dfd)\n",
        "\n",
        "# Compare F-statistic with critical values\n",
        "if f_statistic < lower_critical_value or f_statistic > upper_critical_value:\n",
        "    print(\"Reject the null hypothesis. Variances are significantly different.\")\n",
        "else:\n",
        "    print(\"Fail to reject the null hypothesis. Variances are not significantly different.\")\n"
      ]
    },
    {
      "cell_type": "code",
      "execution_count": null,
      "metadata": {},
      "outputs": [],
      "source": []
    },
    {
      "cell_type": "markdown",
      "metadata": {},
      "source": [
        "<p style=\" color : #4233FF\"><b>Q8. The following data represent the waiting times in minutes at two different restaurants on a Saturday night: Restaurant A: 24, 25, 28, 23, 22, 20, 27; Restaurant B: 31, 33, 35, 30, 32, 36. Conduct an F-test at the 5% significance level to determine if the variances are significantly different.</b>\n",
        "</p>"
      ]
    },
    {
      "cell_type": "markdown",
      "metadata": {},
      "source": [
        "To conduct an F-test to determine if the variances of two populations are significantly different, you can follow the steps outlined earlier. Here's how you can do it using the given data:\n",
        "\n",
        "`State the Hypotheses:`\n",
        "   - Null Hypothesis (H0): The variances are equal (σ1^2 = σ2^2).\n",
        "   - Alternative Hypothesis (Ha): The variances are not equal (σ1^2 ≠ σ2^2)."
      ]
    },
    {
      "cell_type": "code",
      "execution_count": 17,
      "metadata": {},
      "outputs": [
        {
          "name": "stdout",
          "output_type": "stream",
          "text": [
            "Fail to reject the null hypothesis. Variances are not significantly different.\n"
          ]
        }
      ],
      "source": [
        "from scipy.stats import f\n",
        "\n",
        "# Given data\n",
        "data_restaurant_a = [24, 25, 28, 23, 22, 20, 27]\n",
        "data_restaurant_b = [31, 33, 35, 30, 32, 36]\n",
        "alpha = 0.05\n",
        "\n",
        "# Calculate sample variances\n",
        "sample_variance_a = sum([(x - sum(data_restaurant_a)/len(data_restaurant_a))**2 for x in data_restaurant_a]) / (len(data_restaurant_a) - 1)\n",
        "sample_variance_b = sum([(x - sum(data_restaurant_b)/len(data_restaurant_b))**2 for x in data_restaurant_b]) / (len(data_restaurant_b) - 1)\n",
        "\n",
        "# Calculate F-statistic\n",
        "f_statistic = max(sample_variance_a, sample_variance_b) / min(sample_variance_a, sample_variance_b)\n",
        "\n",
        "# Calculate degrees of freedom\n",
        "dfn = len(data_restaurant_a) - 1\n",
        "dfd = len(data_restaurant_b) - 1\n",
        "\n",
        "# Calculate critical values\n",
        "lower_critical_value = f.ppf(alpha / 2, dfn, dfd)\n",
        "upper_critical_value = f.ppf(1 - alpha / 2, dfn, dfd)\n",
        "\n",
        "# Compare F-statistic with critical values\n",
        "if f_statistic < lower_critical_value or f_statistic > upper_critical_value:\n",
        "    print(\"Reject the null hypothesis. Variances are significantly different.\")\n",
        "else:\n",
        "    print(\"Fail to reject the null hypothesis. Variances are not significantly different.\")"
      ]
    },
    {
      "cell_type": "code",
      "execution_count": null,
      "metadata": {},
      "outputs": [],
      "source": []
    },
    {
      "cell_type": "markdown",
      "metadata": {},
      "source": [
        "<p style=\" color : #4233FF\"><b>Q9. The following data represent the test scores of two groups of students: Group A: 80, 85, 90, 92, 87, 83; Group B: 75, 78, 82, 79, 81, 84. Conduct an F-test at the 1% significance level to determine if the variances are significantly different.</b>\n",
        "</p>"
      ]
    },
    {
      "cell_type": "markdown",
      "metadata": {},
      "source": [
        "To conduct an F-test to determine if the variances of two populations are significantly different, you can follow the steps outlined earlier. Here's how you can do it using the given data:\n",
        "\n",
        "`State the Hypotheses:`\n",
        "\n",
        "- Null Hypothesis (H0): The variances are equal (σ1^2 = σ2^2).\n",
        "- Alternative Hypothesis (Ha): The variances are not equal (σ1^2 ≠ σ2^2)."
      ]
    },
    {
      "cell_type": "code",
      "execution_count": 18,
      "metadata": {},
      "outputs": [
        {
          "name": "stdout",
          "output_type": "stream",
          "text": [
            "Fail to reject the null hypothesis. Variances are not significantly different.\n"
          ]
        }
      ],
      "source": [
        "from scipy.stats import f\n",
        "\n",
        "# Given data\n",
        "data_group_a = [80, 85, 90, 92, 87, 83]\n",
        "data_group_b = [75, 78, 82, 79, 81, 84]\n",
        "alpha = 0.01\n",
        "\n",
        "# Calculate sample variances\n",
        "sample_variance_group_a = sum([(x - sum(data_group_a)/len(data_group_a))**2 for x in data_group_a]) / (len(data_group_a) - 1)\n",
        "sample_variance_group_b = sum([(x - sum(data_group_b)/len(data_group_b))**2 for x in data_group_b]) / (len(data_group_b) - 1)\n",
        "\n",
        "# Calculate F-statistic\n",
        "f_statistic = max(sample_variance_group_a, sample_variance_group_b) / min(sample_variance_group_a, sample_variance_group_b)\n",
        "\n",
        "# Calculate degrees of freedom\n",
        "dfn = len(data_group_a) - 1\n",
        "dfd = len(data_group_b) - 1\n",
        "\n",
        "# Calculate critical values\n",
        "lower_critical_value = f.ppf(alpha / 2, dfn, dfd)\n",
        "upper_critical_value = f.ppf(1 - alpha / 2, dfn, dfd)\n",
        "\n",
        "# Compare F-statistic with critical values\n",
        "if f_statistic < lower_critical_value or f_statistic > upper_critical_value:\n",
        "    print(\"Reject the null hypothesis. Variances are significantly different.\")\n",
        "else:\n",
        "    print(\"Fail to reject the null hypothesis. Variances are not significantly different.\")\n"
      ]
    },
    {
      "cell_type": "markdown",
      "metadata": {
        "id": "eOINuiGOcJK4"
      },
      "source": [
        "<h1 style = 'color:orange'>\n",
        "    <b><div>🙏🙏🙏🙏🙏       THANK YOU        🙏🙏🙏🙏🙏</div></b>\n",
        "</h1>\n"
      ]
    }
  ],
  "metadata": {
    "colab": {
      "provenance": []
    },
    "kernelspec": {
      "display_name": "Python 3",
      "language": "python",
      "name": "python3"
    },
    "language_info": {
      "codemirror_mode": {
        "name": "ipython",
        "version": 3
      },
      "file_extension": ".py",
      "mimetype": "text/x-python",
      "name": "python",
      "nbconvert_exporter": "python",
      "pygments_lexer": "ipython3",
      "version": "3.11.2"
    },
    "orig_nbformat": 4
  },
  "nbformat": 4,
  "nbformat_minor": 0
}
