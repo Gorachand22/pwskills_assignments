{
  "cells": [
    {
      "cell_type": "markdown",
      "metadata": {
        "id": "jHKORN_4cJKm"
      },
      "source": [
        "<h1 style = 'color:red'><b>Week-12, Statistics Advance-2 Assignment</b><h1>"
      ]
    },
    {
      "cell_type": "markdown",
      "metadata": {
        "id": "dVUW29xlcJKo"
      },
      "source": [
        "Name - Gorachanda Dash <br>\n",
        "Date - 11-Mar-2023<br>\n",
        "Week 12, Statistics Advance-2 Assignment"
      ]
    },
    {
      "cell_type": "markdown",
      "metadata": {
        "id": "fKnfvSL5cJK2"
      },
      "source": [
        "<p style=\" color : #4233FF\"><b>Q1: What is the difference between a t-test and a z-test? Provide an example scenario where you would use each type of test.</b></p>"
      ]
    },
    {
      "cell_type": "markdown",
      "metadata": {},
      "source": [
        "The t-test and z-test are both statistical hypothesis tests used to make inferences about population parameters based on sample data, but they are applied under different circumstances.\n",
        "\n",
        "**`T-Test:`**\n",
        "\n",
        "The t-test is used when the sample size is relatively small (typically less than 30) and the population standard deviation is unknown. It is more appropriate when dealing with small sample sizes or situations where the population standard deviation is not available.\n",
        "\n",
        "**`Example Scenario for T-Test:`**\n",
        "Suppose you are testing a new drug's effectiveness in reducing blood pressure. You randomly select a small group of 20 patients and measure their blood pressure before and after administering the drug. You want to determine if there is a significant difference in blood pressure before and after taking the drug.\n",
        "\n",
        "**`Z-Test:`**\n",
        "\n",
        "The z-test is used when the sample size is larger (typically greater than 30) and the population standard deviation is known. It is more appropriate for larger sample sizes where the Central Limit Theorem applies, allowing the distribution of the sample mean to be approximately normal.\n",
        "\n",
        "**`Example Scenario for Z-Test:`**\n",
        "Imagine a scenario where you are analyzing the weights of apples produced by a large orchard. You have a sample of 100 apples, and you want to test if the average weight of the apples in your sample is significantly different from the known average weight of all apples produced by the orchard.\n",
        "\n",
        "In summary, the choice between a t-test and a z-test depends on factors like sample size and knowledge of population parameters. A t-test is used when the sample size is small and the population standard deviation is unknown, while a z-test is used when the sample size is larger and the population standard deviation is known."
      ]
    },
    {
      "cell_type": "code",
      "execution_count": null,
      "metadata": {},
      "outputs": [],
      "source": []
    },
    {
      "cell_type": "markdown",
      "metadata": {
        "id": "l7nokEV7cJK3"
      },
      "source": [
        "<p style=\" color : #4233FF\"><b>Q2: Differentiate between one-tailed and two-tailed tests.</b></p>"
      ]
    },
    {
      "cell_type": "markdown",
      "metadata": {},
      "source": [
        "**`One-Tailed Test:`**\n",
        "\n",
        "In a one-tailed test, the alternative hypothesis is formulated in a specific direction. This means that you are testing for the possibility of an effect in only one direction (either an increase or a decrease). One-tailed tests are often used when you have a specific expectation or hypothesis about the direction of the effect.\n",
        "\n",
        "**`Example:`**\n",
        "Suppose you are testing a new treatment for a medical condition and you expect the treatment to improve patient outcomes. Your null hypothesis (H0) could be that the treatment has no effect, and your alternative hypothesis (Ha) could be that the treatment improves patient outcomes. This is a one-tailed test because you are only interested in detecting an improvement in outcomes.\n",
        "\n",
        "**`Two-Tailed Test:`**\n",
        "\n",
        "In a two-tailed test, the alternative hypothesis is formulated in both directions. This means that you are testing for the possibility of an effect in either direction (increase or decrease). Two-tailed tests are often used when you are interested in determining if there is any significant difference, regardless of the direction.\n",
        "\n",
        "**`Example:`**\n",
        "Continuing with the medical treatment example, if you want to test whether the new treatment has any effect on patient outcomes (regardless of whether it's positive or negative), you would use a two-tailed test. Your null hypothesis (H0) could be that the treatment has no effect, and your alternative hypothesis (Ha) could be that the treatment has an effect (either improvement or worsening of outcomes).\n",
        "\n",
        "In summary, the key difference between one-tailed and two-tailed tests lies in the formulation of the alternative hypothesis. One-tailed tests focus on a specific direction of effect, while two-tailed tests consider effects in both directions. The choice between the two depends on the specific research question and hypotheses being tested."
      ]
    },
    {
      "cell_type": "code",
      "execution_count": null,
      "metadata": {},
      "outputs": [],
      "source": []
    },
    {
      "cell_type": "markdown",
      "metadata": {
        "id": "HMuh9StycJK3"
      },
      "source": [
        "<p style=\" color : #4233FF\"><b>Q3: Explain the concept of Type 1 and Type 2 errors in hypothesis testing. Provide an example scenario for each type of error.</b>\n",
        "</p>"
      ]
    },
    {
      "cell_type": "markdown",
      "metadata": {},
      "source": [
        "**`Type 1 Error (False Positive):`**\n",
        "\n",
        "A Type 1 error occurs when we reject the null hypothesis when it is actually true. In other words, we conclude that there is a significant effect or difference when, in reality, there is no such effect. This is also known as a `\"false positive.\"`\n",
        "\n",
        "**`Example Scenario:`**\n",
        "Suppose a pharmaceutical company is testing a new drug to determine if it reduces cholesterol levels. The null hypothesis (H0) states that the drug has no effect on cholesterol levels. However, due to random variability or sampling error, the study finds a significant reduction in cholesterol levels even though the drug has no real effect. The researchers incorrectly reject the null hypothesis and conclude that the drug is effective, which is a Type 1 error.\n",
        "\n",
        "**`Type 2 Error (False Negative):`**\n",
        "\n",
        "A Type 2 error occurs when we fail to reject the null hypothesis when it is actually false. In other words, we fail to detect a significant effect or difference when there is indeed such an effect. This is also known as a \"false negative.\"\n",
        "\n",
        "**`Example Scenario:`**\n",
        "Continuing with the pharmaceutical example, let's say the new drug truly reduces cholesterol levels. However, the study fails to find a significant reduction due to a small sample size or other factors. As a result, the researchers incorrectly fail to reject the null hypothesis and conclude that the drug is not effective, which is a Type 2 error.\n",
        "\n",
        "In summary, Type 1 and Type 2 errors represent the two potential mistakes that can occur in hypothesis testing. Type 1 errors involve erroneously rejecting a true null hypothesis, while Type 2 errors involve failing to reject a false null hypothesis. The balance between these two types of errors is crucial in hypothesis testing, as they impact the validity of the conclusions drawn from the analysis."
      ]
    },
    {
      "cell_type": "code",
      "execution_count": null,
      "metadata": {},
      "outputs": [],
      "source": []
    },
    {
      "cell_type": "markdown",
      "metadata": {
        "id": "9aKHN4uEcJK4"
      },
      "source": [
        "<p style=\" color : #4233FF\"><b>Q4: Explain Bayes's theorem with an example.</b>\n",
        "</p>"
      ]
    },
    {
      "cell_type": "markdown",
      "metadata": {},
      "source": [
        "Bayes's Theorem is a fundamental concept in probability theory and statistics that describes how to update the probability of a hypothesis based on new evidence. It's a way to calculate conditional probabilities, taking into account both prior knowledge and new information.\n",
        "\n",
        "The theorem is often stated as:\n",
        "\n",
        "P(A|B) = (P(B|A). P(A))/ P(B)\n",
        "\n",
        "Where:\n",
        "- P(A|B) is the posterior probability of event A given evidence B.\n",
        "- P(B|A) is the likelihood of evidence B given event A.\n",
        "- P(A) is the prior probability of event A.\n",
        "- P(B) is the probability of evidence B.\n",
        "\n",
        "Let's illustrate this with a practical example:\n",
        "\n",
        "Imagine we have a medical test to detect a certain disease. Let:\n",
        "- Event A = Having the disease\n",
        "- Event B = Testing positive for the disease\n",
        "\n",
        "We know the following probabilities:\n",
        "- P(A), the prior probability of having the disease, is 0.02 (2% of the population has the disease).\n",
        "- P(B|A), the probability of testing positive given that you have the disease, is 0.95 (95% accurate test).\n",
        "- P(- B|- A), the probability of testing negative given that you don't have the disease, is 0.90 (90% accurate test for healthy people).\n",
        "\n",
        "Now, we want to find \\( P(A|B) \\), the probability of actually having the disease given that you tested positive.\n",
        "\n",
        "Using Bayes's Theorem:\n",
        "P(A|B) = {P(B|A) . P(A)}/ P(B)\n",
        "\n",
        "We need P(B), which is the probability of testing positive. This can be calculated using the complement rule: P(B) = P(B|A) . P(A) + P(B|- A) . P(-A).\n",
        "- P(B|A)is 0.95 (testing positive if you have the disease).\n",
        "- P(\\neg A), the probability of not having the disease, is 0.98 (1 - 0.02).\n",
        "- P(B|\\neg A) , the probability of testing positive if you don't have the disease, is 1 - 0.90 = 0.10.\n",
        "\n",
        "Now we can calculate P(B) :\n",
        "P(B) = (0.95 \\cdot 0.02) + (0.10 \\cdot 0.98) = 0.024 + 0.098 = 0.122 \n",
        "\n",
        "Finally, we can use Bayes's Theorem to find  P(A|B) :\n",
        "P(A|B) = P(B|A) . P(A) / {P(B)} = {0.95 . 0.02}/{0.122} ≈ 0.1557 \n",
        "\n",
        "So, even though you tested positive, the probability of actually having the disease is only about 15.57%. This illustrates how Bayes's Theorem allows us to update our beliefs based on new evidence."
      ]
    },
    {
      "cell_type": "code",
      "execution_count": null,
      "metadata": {},
      "outputs": [],
      "source": []
    },
    {
      "cell_type": "markdown",
      "metadata": {
        "id": "z2avHLHDcJK4"
      },
      "source": [
        "<p style=\" color : #4233FF\"><b>Q5: What is a confidence interval? How to calculate the confidence interval, explain with an example.</b>\n",
        "</p>"
      ]
    },
    {
      "cell_type": "markdown",
      "metadata": {},
      "source": [
        "A confidence interval is a range of values around a sample statistic that is used to estimate the range of likely values for an unknown population parameter. It provides a measure of the uncertainty or precision of the sample statistic.\n",
        "\n",
        "`Calculating a Confidence Interval:`\n",
        "The formula for calculating a confidence interval depends on the type of data and the parameter being estimated. The general formula for a confidence interval is:\n",
        "\n",
        "Confidence Interval = {Sample Statistic} ± {Margin of Error} \n",
        "\n",
        "The margin of error depends on the confidence level, sample size, and the standard deviation (or standard error) of the sample.\n",
        "\n",
        "`Example:`\n",
        "Let's say we want to estimate the average height of a certain population. We take a random sample of 100 individuals and measure their heights. The sample mean height is 165 cm, and the sample standard deviation is 8 cm. We want to calculate a 95% confidence interval for the population mean height.\n",
        "\n",
        "1. `Determine the Confidence Level:`\n",
        "A 95% confidence interval corresponds to a z-score of approximately 1.96 (for a normal distribution).\n",
        "\n",
        "2. `Calculate the Margin of Error:`\n",
        "The margin of error (MOE) is calculated as:\n",
        "MOE=Critical Value × (Sample Standard Deviation/ √Sample Size)\n",
        "\n",
        "For our example:\n",
        "\n",
        "MOE = 1.96 x (8/ √100) = 1.568\n",
        "\n",
        "3. `Calculate the Confidence Interval:`\n",
        "The confidence interval is then calculated as:\n",
        "Confidence Interval = {Sample Statistic} ± {Margin of Error} \n",
        "\n",
        "For our example:\n",
        "\n",
        "Confidence Interval = 165 ± 1.568 = (163.432, 166.568)\n",
        "\n",
        "`Interpretation:`\n",
        "We can be 95% confident that the true population mean height lies within the interval (163.432, 166.568) cm. This means that if we were to take many random samples and calculate 95% confidence intervals for each, about 95% of these intervals would contain the true population mean height.\n",
        "\n",
        "`Note:` The above example assumes a large enough sample size (n ≥ 30) to use the z-score. For smaller sample sizes, t-distribution critical values should be used.\n",
        "\n",
        "Confidence intervals help us understand the precision of our estimates and provide a way to communicate the uncertainty associated with our sample statistics."
      ]
    },
    {
      "cell_type": "code",
      "execution_count": null,
      "metadata": {},
      "outputs": [],
      "source": []
    },
    {
      "cell_type": "markdown",
      "metadata": {},
      "source": [
        "<p style=\" color : #4233FF\"><b>Q6. Use Bayes' Theorem to calculate the probability of an event occurring given prior knowledge of the event's probability and new evidence. Provide a sample problem and solution.</b>\n",
        "</p>"
      ]
    },
    {
      "cell_type": "markdown",
      "metadata": {},
      "source": [
        "Bayes' Theorem is a mathematical formula used to update the probability of an event based on new evidence or information. It's often used in probability and statistics to make predictions or decisions. The formula is:\n",
        "P(A∣B) = {P(B|A).P(A)} / P(B)\n",
        "\n",
        "- P(A∣B) is the probability of event A occurring given that event B has occurred.\n",
        "- P(B∣A) is the probability of event B occurring given that event A has occurred.\n",
        "- P(A) is the prior probability of event A.\n",
        "- P(B) is the prior probability of event B.\n",
        "\n",
        "Here's a sample problem and its solution using Bayes' Theorem:\n",
        "\n",
        "`Sample Problem:`\n",
        "Suppose you are testing a rare disease in a population. The disease affects 1 in every 1000 people. The test for the disease is 98% accurate, meaning it correctly identifies a person with the disease 98% of the time and correctly identifies a person without the disease 98% of the time. If a person tests positive for the disease, what is the probability that they actually have the disease?\n",
        "\n",
        "Solution:\n",
        "Let's define the events:\n",
        "\n",
        "- Event A: Having the disease\n",
        "- Event B: Testing positive for the disease\n",
        "Given information:\n",
        "- P(A)= 1/1000=0.001 (Prior probability of having the disease)\n",
        "- P(B∣A)=0.98 (Probability of testing positive given that the person has the disease)\n",
        "- P(B∣-A)=0.02 (Probability of testing positive given that the person does not have the disease)\n",
        "\n",
        "We want to find P(A∣B), the probability of having the disease given a positive test result.\n",
        "\n",
        "P(A∣B) = {P(B|A).P(A)} / P(B)\n",
        "\n",
        "`We need to calculate P(B)`\n",
        "\n",
        "P(B)=P(B∣A)⋅P(A)+P(B∣¬A)⋅P(¬A)<br>\n",
        "=(0.98⋅0.001)+(0.02.0.999)<br>\n",
        "P(B)=(0.98⋅0.001)+(0.02⋅0.999)=0.02196<br>\n",
        "P(B)=0.02196<br>\n",
        "\n",
        "`Now we can calculate P(A∣B):`\n",
        "\n",
        "P(A∣B) = {P(B|A).P(A)} / P(B)<br>\n",
        "= (0.98⋅0.001)/0.02196<br>\n",
        "​≈ 0.0446\n",
        "\n",
        "So, the probability that a person actually has the disease given a positive test result is approximately 0.0446, or about 4.46%. This demonstrates how Bayes' Theorem helps update probabilities based on new evidence."
      ]
    },
    {
      "cell_type": "code",
      "execution_count": null,
      "metadata": {},
      "outputs": [],
      "source": []
    },
    {
      "cell_type": "markdown",
      "metadata": {},
      "source": [
        "<p style=\" color : #4233FF\"><b>Q7. Calculate the 95% confidence interval for a sample of data with a mean of 50 and a standard deviation of 5. Interpret the results.</b>\n",
        "</p>"
      ]
    },
    {
      "cell_type": "markdown",
      "metadata": {},
      "source": [
        "To calculate the 95% confidence interval for a sample of data with a known mean and standard deviation, you can use the formula:\n",
        "\n",
        "Confidence Interval = Mean ± {Critical Value x (Standard Deviation / √Sample Size)}\n",
        "In this case, you have:\n",
        "\n",
        "Mean = 50\n",
        "Standard Deviation = 5\n",
        "\n",
        "Since you haven't provided the sample size. I am Assuming a large enough sample size and using the critical value of 1.96, the formula becomes:\n",
        "the sample size is 100, the confidence interval would be:\n",
        "\n",
        "Confidence Interval = 50 ± 1.96 x (5/ √100)  = 50  ± 0.98 \n",
        "\n",
        "So, the 95% confidence interval for the population mean based on this sample would be approximately (49.02, 50.98)."
      ]
    },
    {
      "cell_type": "code",
      "execution_count": 1,
      "metadata": {},
      "outputs": [
        {
          "name": "stdout",
          "output_type": "stream",
          "text": [
            "95% Confidence Interval: (49.02001800772997, 50.97998199227003)\n"
          ]
        }
      ],
      "source": [
        "import scipy.stats as stats\n",
        "\n",
        "# Given data\n",
        "sample_mean = 50\n",
        "sample_std_dev = 5\n",
        "sample_size = 100  # Assuming the  sample size\n",
        "\n",
        "# Calculate the margin of error\n",
        "critical_value = stats.norm.ppf(1- (0.05/2))\n",
        "margin_of_error = critical_value * (sample_std_dev / (sample_size ** 0.5))\n",
        "\n",
        "# Calculate the confidence interval\n",
        "confidence_interval = (sample_mean - margin_of_error, sample_mean + margin_of_error)\n",
        "\n",
        "print(\"95% Confidence Interval:\", confidence_interval)\n"
      ]
    },
    {
      "cell_type": "code",
      "execution_count": null,
      "metadata": {},
      "outputs": [],
      "source": []
    },
    {
      "cell_type": "markdown",
      "metadata": {},
      "source": [
        "<p style=\" color : #4233FF\"><b>Q8. What is the margin of error in a confidence interval? How does sample size affect the margin of error? Provide an example of a scenario where a larger sample size would result in a smaller margin of error.</b>\n",
        "</p>"
      ]
    },
    {
      "cell_type": "markdown",
      "metadata": {},
      "source": [
        "The margin of error in a confidence interval is a measure of the uncertainty or variability associated with using a sample statistic (like the sample mean) to estimate a population parameter (like the population mean). It quantifies the range within which the true population parameter is likely to fall. A larger margin of error indicates a wider interval, implying more uncertainty, while a smaller margin of error indicates a narrower interval, implying greater precision.\n",
        "\n",
        "The margin of error is typically calculated by multiplying a critical value (which is related to the desired confidence level) by the standard error of the sample statistic. The standard error accounts for the variability in the sample data.\n",
        "\n",
        "Sample size directly affects the margin of error. As the sample size increases:\n",
        "\n",
        "1. **`Variability Decreases`**: With a larger sample size, the variability or spread of the sample data becomes more representative of the population's variability. This reduces the uncertainty associated with the estimate.\n",
        "\n",
        "2. **`Standard Error Decreases`**: The standard error of the sample statistic decreases as the square root of the sample size. This means that the estimate becomes more precise as the sample size increases.\n",
        "\n",
        "3. **`Margin of Error Decreases`**: Since the margin of error is directly proportional to the standard error, a larger sample size leads to a smaller margin of error.\n",
        "\n",
        "`Example Scenario:`<br>\n",
        "Let's say we are conducting a survey to estimate the average height of people in a city. We take two scenarios with different sample sizes: Scenario A with a small sample size and Scenario B with a large sample size.\n",
        "\n",
        "- `Scenario A:` You survey 50 individuals and calculate the sample mean height as 165 cm with a standard deviation of 7 cm.\n",
        "\n",
        "- `Scenario B:` You survey 500 individuals and calculate the sample mean height as 165 cm with a standard deviation of 7 cm.\n",
        "\n",
        "Now, let's calculate the 95% confidence intervals for both scenarios using the formula: Confidence Interval = Sample Mean ± Margin of Error\n",
        "\n",
        "Assuming a critical value of `1.96 for a 95%` confidence interval:\n",
        "\n",
        "`For Scenario A:`\n",
        "Margin of Error A = 1.96 x 7/√50 = 1.96 x 0.9899 ​≈ 1.94\n",
        "Confidence Interval A = 165 ±1.94 = (163.06, 166.94)\n",
        "\n",
        "`For Scenario B:`\n",
        "Margin of Error B = 1.96 x (7/√500) ​≈ 1.96 x 0.3132 ​≈ 0.614\n",
        "Confidence Interval B= 165 ± 0.614 = (164.386, 165.614)\n",
        "\n",
        "As we can see, Scenario B with the larger sample size has a smaller margin of error and a narrower confidence interval, indicating a more precise estimate of the population parameter.\n",
        "\n",
        "In summary, a larger sample size results in a smaller margin of error, which signifies increased precision and confidence in the estimated population parameter."
      ]
    },
    {
      "cell_type": "code",
      "execution_count": null,
      "metadata": {},
      "outputs": [],
      "source": []
    },
    {
      "cell_type": "markdown",
      "metadata": {},
      "source": [
        "<p style=\" color : #4233FF\"><b>Q9. Calculate the z-score for a data point with a value of 75, a population mean of 70, and a population standard deviation of 5. Interpret the results.</b>\n",
        "</p>"
      ]
    },
    {
      "cell_type": "markdown",
      "metadata": {},
      "source": [
        "The z-score (also known as the standard score) measures how many standard deviations a data point is away from the mean of the population. It's calculated using the formula:\n",
        "\n",
        "z = x−μ/ ​σ\n",
        "\n",
        "Where:<br>\n",
        "- z  is the z-score\n",
        "- x  is the data point's value\n",
        "- μ  is the population mean\n",
        "- ​σ is the population standard deviation\n",
        "\n",
        "Given the values:\n",
        "- x = 75\n",
        "- μ = 70\n",
        "- ​σ = 5\n",
        "\n",
        "Substituting these values into the formula:\n",
        "\n",
        "z = {75 - 70}/{5} = 1 \n",
        "\n",
        "`Interpretation:`\n",
        "The calculated z-score of 1 means that the data point with a value of 75 is 1 standard deviation above the population mean of 70. In other words, it's relatively higher than the average value of the population by one standard deviation. This indicates that the data point is somewhat further out in the distribution, showing a moderate level of deviation from the mean."
      ]
    },
    {
      "cell_type": "code",
      "execution_count": 2,
      "metadata": {},
      "outputs": [
        {
          "name": "stdout",
          "output_type": "stream",
          "text": [
            "Z-Score: 1.0\n"
          ]
        }
      ],
      "source": [
        "# Given data\n",
        "data_point = 75\n",
        "population_mean = 70\n",
        "population_std_dev = 5\n",
        "\n",
        "# Calculate the z-score\n",
        "z_score = (data_point - population_mean) / population_std_dev\n",
        "\n",
        "print(\"Z-Score:\", z_score)"
      ]
    },
    {
      "cell_type": "code",
      "execution_count": null,
      "metadata": {},
      "outputs": [],
      "source": []
    },
    {
      "cell_type": "markdown",
      "metadata": {},
      "source": [
        "<p style=\" color : #4233FF\"><b>Q10. In a study of the effectiveness of a new weight loss drug, a sample of 50 participants lost an average of 6 pounds with a standard deviation of 2.5 pounds. Conduct a hypothesis test to determine if the drug is significantly effective at a 95% confidence level using a t-test.</b>\n",
        "</p>"
      ]
    },
    {
      "cell_type": "markdown",
      "metadata": {},
      "source": [
        "To conduct a hypothesis test using a t-test, we need to set up the null and alternative hypotheses, calculate the t-statistic, and compare it to the critical t-value to determine if the drug is significantly effective.\n",
        "\n",
        "Here are the hypotheses:\n",
        "- `Null Hypothesis  (H0):` The new weight loss drug is not significantly effective (μ= μ0).\n",
        "- `Alternative Hypothesis (H1):` The new weight loss drug is significantly effective (μ≠ μ0).\n",
        "\n",
        "Where:\n",
        "- μ is the population mean weight loss with the new drug.\n",
        "- μ0 is the hypothesized population mean weight loss without the new drug.\n",
        "\n",
        "We'll use a two-tailed t-test since the alternative hypothesis is two-sided (μ ≠ μ0).\n",
        "\n",
        "Given:\n",
        "- Sample size (n) = 50\n",
        "- Sample mean (x_bar) = 6 pounds\n",
        "- Sample standard deviation (s) = 2.5 pounds\n",
        "- Confidence level = 95%\n",
        "\n",
        "Let's perform the hypothesis test:\n",
        "\n",
        "degrees_of_freedom = sample_size - 1 = 50-1 = 49\n",
        "\n",
        "Since we're testing if there's a significant difference<br>\n",
        "hypothesized_mean = 0\n",
        "\n",
        "t_statistic = (sample_mean - hypothesized_mean) / (sample_std_dev / √sample_size)\n",
        " = (6- 0)/(2.5 / √50) = 16.970562748477143\n",
        "\n",
        "Using the t-distribution with 49 degrees of freedom:<br>\n",
        "\n",
        "p-value=2×P(T>∣t∣)\n",
        "\n",
        "Where T is the t-distributed random variable.\n",
        "\n",
        "Using a t-table or a calculator, you can find that P(T>15.13) is a very small value, close to 0. Therefore, p-value≈0.\n",
        "\n",
        "Compare the p-Value with the Significance Level (α) With a confidence level of 95%, the significance level (α) is 1−0.95=0.05\n",
        "\n",
        "Since the calculated p-value (p-value≈0) is much less than the significance level (α=0.05), we reject the null hypothesis.\n",
        "\n",
        "`Make a Decision`\n",
        "Based on the p-value approach, we reject the null hypothesis. This suggests that there is strong evidence to conclude that the new weight loss drug is significantly effective.\n",
        "\n",
        "In summary, based on the manual calculation using the p-value approach, we reject the null hypothesis and conclude that the new weight loss drug is significantly effective at the 95% confidence level."
      ]
    },
    {
      "cell_type": "code",
      "execution_count": 5,
      "metadata": {},
      "outputs": [
        {
          "name": "stdout",
          "output_type": "stream",
          "text": [
            "Reject the null hypothesis. The drug is significantly effective.\n",
            "P-value: 0.0\n"
          ]
        }
      ],
      "source": [
        "import scipy.stats as stats\n",
        "\n",
        "# Given data\n",
        "sample_size = 50\n",
        "sample_mean = 6\n",
        "sample_std_dev = 2.5\n",
        "confidence_level = 0.95\n",
        "\n",
        "# Hypothesized population mean (under the null hypothesis)\n",
        "hypothesized_mean = 0  # Since we're testing if there's a significant difference\n",
        "\n",
        "# Calculate the t-statistic\n",
        "t_statistic = (sample_mean - hypothesized_mean) / (sample_std_dev / (sample_size ** 0.5))\n",
        "\n",
        "# Calculate the degrees of freedom\n",
        "degrees_of_freedom = sample_size - 1\n",
        "\n",
        "# Calculate the p-value\n",
        "p_value = 2 * (1 - stats.t.cdf(abs(t_statistic), df=degrees_of_freedom))\n",
        "\n",
        "# Compare p-value with alpha (significance level)\n",
        "alpha = 1 - confidence_level\n",
        "if p_value < alpha:\n",
        "    print(\"Reject the null hypothesis. The drug is significantly effective.\")\n",
        "else:\n",
        "    print(\"Fail to reject the null hypothesis. The drug is not significantly effective.\")\n",
        "    \n",
        "print(\"P-value:\", p_value)\n"
      ]
    },
    {
      "cell_type": "code",
      "execution_count": null,
      "metadata": {},
      "outputs": [],
      "source": []
    },
    {
      "cell_type": "markdown",
      "metadata": {},
      "source": [
        "<p style=\" color : #4233FF\"><b>Q11. In a survey of 500 people, 65% reported being satisfied with their current job. Calculate the 95% confidence interval for the true proportion of people who are satisfied with their job.</b>\n",
        "</p>"
      ]
    },
    {
      "cell_type": "markdown",
      "metadata": {},
      "source": [
        "Certainly, let's calculate the 95% confidence interval for the true proportion of people who are satisfied with their job manually:\n",
        "\n",
        "Given data:\n",
        "- Sample proportion (p̂) = 0.65\n",
        "- Sample size (n) = 500\n",
        "- Confidence level = 95%\n",
        "- Critical z-value (z) for a 95% confidence level ≈ 1.96\n",
        "\n",
        "`Step 1: Calculate the Standard Error`\n",
        "Standard Error = √(p̂.(1-p̂)/n)\n",
        "Standard Error = √{{0.65 . (1 - 0.65)}/500} ​≈ 0.0232 \n",
        "\n",
        "`Step 2: Calculate the Margin of Error`\n",
        "Margin of Error = z x {Standard Error}\n",
        "Margin of Error = 1.96 x 0.0232 ​≈ 0.0454\n",
        "\n",
        "`Step 3: Calculate the Confidence Interval`\n",
        "Lower Bound: ( p̂ - Margin of Error)\n",
        "Upper Bound: ( p̂ + Margin of Error)\n",
        "\n",
        "Lower Bound = 0.65 - 0.0454 ​≈ 0.6046\n",
        "Upper Bound = 0.65 + 0.0454 ​≈ 0.6954\n",
        "\n",
        "The 95% confidence interval for the true proportion of people who are satisfied with their job is approximately `(0.6046, 0.6954)`\n",
        "\n",
        "This means that we are 95% confident that the true proportion of people who are satisfied with their job lies within the interval `(0.6046, 0.6954)` based on the given sample."
      ]
    },
    {
      "cell_type": "code",
      "execution_count": 6,
      "metadata": {},
      "outputs": [
        {
          "name": "stdout",
          "output_type": "stream",
          "text": [
            "95% Confidence Interval: (0.608191771144905, 0.6918082288550951)\n"
          ]
        }
      ],
      "source": [
        "import math\n",
        "\n",
        "# Given data\n",
        "sample_proportion = 0.65\n",
        "sample_size = 500\n",
        "confidence_level = 0.95\n",
        "\n",
        "# Calculate the critical z-value\n",
        "critical_z = 1.96\n",
        "\n",
        "# Calculate the standard error\n",
        "standard_error = math.sqrt((sample_proportion * (1 - sample_proportion)) / sample_size)\n",
        "\n",
        "# Calculate the margin of error\n",
        "margin_of_error = critical_z * standard_error\n",
        "\n",
        "# Calculate the confidence interval\n",
        "lower_bound = sample_proportion - margin_of_error\n",
        "upper_bound = sample_proportion + margin_of_error\n",
        "\n",
        "print(\"95% Confidence Interval:\", (lower_bound, upper_bound))\n"
      ]
    },
    {
      "cell_type": "code",
      "execution_count": null,
      "metadata": {},
      "outputs": [],
      "source": []
    },
    {
      "cell_type": "markdown",
      "metadata": {},
      "source": [
        "<p style=\" color : #4233FF\"><b>Q12. A researcher is testing the effectiveness of two different teaching methods on student performance. Sample A has a mean score of 85 with a standard deviation of 6, while sample B has a mean score of 82 with a standard deviation of 5. Conduct a hypothesis test to determine if the two teaching methods have a significant difference in student performance using a t-test with a significance level of 0.01.</b>\n",
        "</p>"
      ]
    },
    {
      "cell_type": "markdown",
      "metadata": {},
      "source": [
        "To conduct a hypothesis test to determine if there is a significant difference in student performance between two teaching methods, we'll use a two-sample t-test. The null and alternative hypotheses are as follows:\n",
        "\n",
        "- Null Hypothesis (H0): There is no significant difference in student performance between the two teaching methods (μA - μB = 0 ).\n",
        "- Alternative Hypothesis (H1): There is a significant difference in student performance between the two teaching methods (μA - μB ≠ 0).\n",
        "\n",
        "Where:\n",
        "- μA is the population mean score for teaching method A.\n",
        "- μB is the population mean score for teaching method B.\n",
        "\n",
        "Given data:\n",
        "- Sample mean score for sample A (x_bar_A) = 85\n",
        "- Sample standard deviation for sample A (s_A) = 6\n",
        "- Sample size for sample A (n_A) = 50\n",
        "- Sample mean score for sample B (x_bar_B) = 82\n",
        "- Sample standard deviation for sample B (s_B ) = 5\n",
        "- Sample size for sample B (n_B) =  50\n",
        "- Significance level (α) = 0.01\n",
        "\n",
        "`Step 1: Calculate the Pooled Standard Deviation`\n",
        "\n",
        "Pooled Standard Deviation = √{{(n_A - 1 ). s_A^2 + (n_B - 1). s_B^2 }/ {n_A + n_B - 2}}\n",
        "\n",
        "= √ {{(50-1). 6^2 + (50-1). 5^2} / (50+50-2)} ​≈ 5.52\n",
        "\n",
        "`Step 2: Calculate the t-Statistic`<br\n",
        "\n",
        "t = (x_bar_A - x_bar_B) / {Pooled Standard Deviation . (√ 2/n_A)} ​≈ 4.88\n",
        "\n",
        "`Step 3: Calculate Degrees of Freedom`<br\n",
        "Degrees of freedom (df) = n_A + n_B -2 = 50 + 50 + 50 -2 = 98\n",
        "\n",
        "`Step 4: Calculate the p-Value`<br>\n",
        "Using the t-distribution with 98 degrees of freedom and the calculated t-statistic:<br>\n",
        "p-value=2×P(T>∣t∣)<br>\n",
        "\n",
        "Where T is the t-distributed random variable.<br>\n",
        "Using a t-table or a calculator, you can find that P(T>4.88) is a very small value, close to 0. Therefore, p-value≈0.\n",
        "\n",
        "`Step 5: Compare p-Value with the Significance Level (α)`<br>\n",
        "With a significance level of 0.01, since p-value≈0 is less than α=0.01, we reject the null hypothesis.\n",
        "\n",
        "In conclusion, based on the manual calculation using the p-value approach, we reject the null hypothesis and conclude that there is a significant difference in student performance between the two teaching methods."
      ]
    },
    {
      "cell_type": "code",
      "execution_count": 8,
      "metadata": {},
      "outputs": [
        {
          "name": "stdout",
          "output_type": "stream",
          "text": [
            "Reject the null hypothesis. There is a significant difference in student performance.\n",
            "P-Value: 0.0\n"
          ]
        }
      ],
      "source": [
        "import scipy.stats as stats\n",
        "\n",
        "# Given data for sample A\n",
        "sample_mean_A = 85\n",
        "sample_std_dev_A = 6\n",
        "sample_size_A = 50\n",
        "\n",
        "# Given data for sample B\n",
        "sample_mean_B = 82\n",
        "sample_std_dev_B = 5\n",
        "sample_size_B = 50\n",
        "\n",
        "# Significance level\n",
        "alpha = 0.01\n",
        "\n",
        "# Calculate the pooled standard deviation\n",
        "pooled_std_dev = ((sample_std_dev_A ** 2 / sample_size_A) + (sample_std_dev_B ** 2 / sample_size_B)) ** 0.5\n",
        "\n",
        "# Calculate the t-statistic\n",
        "t_statistic = (sample_mean_A - sample_mean_B) / (pooled_std_dev * (2 / sample_size_A)) ** 0.5\n",
        "\n",
        "# Calculate the degrees of freedom\n",
        "degrees_of_freedom = sample_size_A + sample_size_B - 2\n",
        "\n",
        "# Calculate the p-value\n",
        "p_value = 2 * (1 - stats.t.cdf(abs(t_statistic), df=degrees_of_freedom))\n",
        "\n",
        "# Compare p-value with alpha\n",
        "if p_value < alpha:\n",
        "    print(\"Reject the null hypothesis. There is a significant difference in student performance.\")\n",
        "else:\n",
        "    print(\"Fail to reject the null hypothesis. There is no significant difference in student performance.\")\n",
        "    \n",
        "print(\"P-Value:\", p_value)"
      ]
    },
    {
      "cell_type": "code",
      "execution_count": null,
      "metadata": {},
      "outputs": [],
      "source": []
    },
    {
      "cell_type": "markdown",
      "metadata": {},
      "source": [
        "<p style=\" color : #4233FF\"><b>Q13. A population has a mean of 60 and a standard deviation of 8. A sample of 50 observations has a mean of 65. Calculate the 90% confidence interval for the true population mean.</b>\n",
        "</p>"
      ]
    },
    {
      "cell_type": "markdown",
      "metadata": {},
      "source": [
        "\n",
        "\n",
        "Given data:\n",
        "- Sample mean (x_bar) = 65\n",
        "- Population standard deviation (​σ) = 8\n",
        "- Sample size ( n ) = 50\n",
        "- Confidence level = 90%\n",
        "- Critical z-value ( z ) for a 90% confidence level ≈ 1.645\n",
        "\n",
        "`Step 1: Calculate the Standard Error`<br>\n",
        "Standard Error = ​σ/√{n}<br>\n",
        "Standard Error = 8 / √{50}  ​≈ 1.1314\n",
        "\n",
        "`Step 2: Calculate the Margin of Error`<br>\n",
        "Margin of Error = z x Standard Error<br>\n",
        "Margin of Error = 1.645 x 1.1314 ​≈ 1.8643 \n",
        "\n",
        "Step 3: Calculate the Confidence Interval\n",
        "Lower Bound: ( x_bar - Margin of Error)\n",
        "Upper Bound: ( x_bar + Margin of Error)\n",
        "\n",
        "Lower Bound = 65 - 1.8643 ​≈ 63.1357 \n",
        "Upper Bound = 65 + 1.8643 ​≈ 66.8643\n",
        "\n",
        "The 90% confidence interval for the true population mean is approximately (63.1357, 66.8643) .\n",
        "\n",
        "This means that we are 90% confident that the true population mean lies within the interval (63.1357, 66.8643) based on the given sample."
      ]
    },
    {
      "cell_type": "code",
      "execution_count": 9,
      "metadata": {},
      "outputs": [
        {
          "name": "stdout",
          "output_type": "stream",
          "text": [
            "90% Confidence Interval: (63.13889495191701, 66.86110504808299)\n"
          ]
        }
      ],
      "source": [
        "import math\n",
        "\n",
        "# Given data\n",
        "sample_mean = 65\n",
        "population_std_dev = 8\n",
        "sample_size = 50\n",
        "confidence_level = 0.90\n",
        "\n",
        "# Calculate the critical z-value\n",
        "critical_z = 1.645\n",
        "\n",
        "# Calculate the standard error\n",
        "standard_error = population_std_dev / math.sqrt(sample_size)\n",
        "\n",
        "# Calculate the margin of error\n",
        "margin_of_error = critical_z * standard_error\n",
        "\n",
        "# Calculate the confidence interval\n",
        "lower_bound = sample_mean - margin_of_error\n",
        "upper_bound = sample_mean + margin_of_error\n",
        "\n",
        "print(\"90% Confidence Interval:\", (lower_bound, upper_bound))"
      ]
    },
    {
      "cell_type": "code",
      "execution_count": null,
      "metadata": {},
      "outputs": [],
      "source": []
    },
    {
      "cell_type": "markdown",
      "metadata": {},
      "source": [
        "<p style=\" color : #4233FF\"><b>Q14. In a study of the effects of caffeine on reaction time, a sample of 30 participants had an average reaction time of 0.25 seconds with a standard deviation of 0.05 seconds. Conduct a hypothesis test to determine if the caffeine has a significant effect on reaction time at a 90% confidence level using a t-test.</b>\n",
        "</p>"
      ]
    },
    {
      "cell_type": "markdown",
      "metadata": {},
      "source": [
        "Given data:\n",
        "- Sample size (n) = 30\n",
        "- Sample mean (x_bar) = 0.25 seconds\n",
        "- Sample standard deviation (s) = 0.05 seconds\n",
        "- Confidence level = 90%\n",
        "- Hypothesized population mean (μ0) = 0 (under the null hypothesis)\n",
        "\n",
        "`Step 1: Set Up Hypotheses`\n",
        "- Null Hypothesis (H0): Caffeine has no significant effect on reaction time (μ = μ0).\n",
        "- Alternative Hypothesis (H1): Caffeine has a significant effect on reaction time (μ ≠ μ0).\n",
        "\n",
        "`Step 2: Calculate the Test Statistic`<br>\n",
        "t = {X_bar - μ0}/{{s}.{√{n}}}<br>\n",
        "t = {0.25 - 0}/{{0.05}{√{30}}} ​≈ 8.66025\n",
        "\n",
        "`Step 3: Degrees of Freedom`<br>\n",
        "Degrees of freedom (df) = Sample size - 1 = 30 - 1 = 29\n",
        "\n",
        "`Step 4: Calculate the Critical t-Value`\n",
        "For a two-tailed test and a 90% confidence level, we divide the significance level by 2:\n",
        "alpha = {0.10}/{2} = 0.05\n",
        "\n",
        "Using a t-table or calculator, the critical t-value for ( alpha = 0.05 ) and ( df = 29) is approximately 1.6991.\n",
        "\n",
        "`Step 5: Calculate the p-Value`<br>\n",
        "Since it's a two-tailed test, we calculate the probability of obtaining a t-statistic as extreme as the one calculated ( t = 8.66025 ) in both tails of the t-distribution with 29 degrees of freedom. p-value = 2 \\x P(T > |t|)\n",
        "\n",
        "Using a t-table or calculator, you can find that P(T > 8.66025) is a very small value, close to 0. Therefore, p-value ​≈ 0 .\n",
        "\n",
        "`Step 6: Compare p-Value with Significance Level (alpha)`<br>\n",
        "With a significance level of 0.10 (due to the two-tailed test), since ( p-value ​≈0 ) is much less than ( α = 0.10 ), we reject the null hypothesis.\n",
        "\n",
        "In conclusion, based on the manual calculation using the p-value approach, we reject the null hypothesis and conclude that caffeine has a significant effect on reaction time at the 90% confidence level."
      ]
    },
    {
      "cell_type": "code",
      "execution_count": 11,
      "metadata": {},
      "outputs": [
        {
          "name": "stdout",
          "output_type": "stream",
          "text": [
            "Reject the null hypothesis. Caffeine has a significant effect on reaction time.\n",
            "P-value: 0.0\n"
          ]
        }
      ],
      "source": [
        "import scipy.stats as stats\n",
        "\n",
        "# Given data\n",
        "sample_size = 30\n",
        "sample_mean = 0.25\n",
        "sample_std_dev = 0.05\n",
        "confidence_level = 0.90\n",
        "\n",
        "# Hypothesized population mean (under the null hypothesis)\n",
        "hypothesized_mean = 0  # No effect, since we're testing if there's a significant difference\n",
        "\n",
        "# Calculate the t-statistic\n",
        "t_statistic = (sample_mean - hypothesized_mean) / (sample_std_dev / (sample_size ** 0.5))\n",
        "\n",
        "# Calculate the degrees of freedom\n",
        "degrees_of_freedom = sample_size - 1\n",
        "\n",
        "# Calculate the p-value\n",
        "p_value = 2 * (1 - stats.t.cdf(abs(t_statistic), df=degrees_of_freedom))\n",
        "\n",
        "# Compare p-value with alpha (significance level)\n",
        "alpha = 1 - confidence_level\n",
        "if p_value < alpha:\n",
        "    print(\"Reject the null hypothesis. Caffeine has a significant effect on reaction time.\")\n",
        "else:\n",
        "    print(\"Fail to reject the null hypothesis. Caffeine does not have a significant effect on reaction time.\")\n",
        "    \n",
        "print(\"P-value:\", p_value)"
      ]
    },
    {
      "cell_type": "markdown",
      "metadata": {
        "id": "eOINuiGOcJK4"
      },
      "source": [
        "<h1 style = 'color:orange'>\n",
        "    <b><div>🙏🙏🙏🙏🙏       THANK YOU        🙏🙏🙏🙏🙏</div></b>\n",
        "</h1>\n"
      ]
    }
  ],
  "metadata": {
    "colab": {
      "provenance": []
    },
    "kernelspec": {
      "display_name": "Python 3",
      "language": "python",
      "name": "python3"
    },
    "language_info": {
      "codemirror_mode": {
        "name": "ipython",
        "version": 3
      },
      "file_extension": ".py",
      "mimetype": "text/x-python",
      "name": "python",
      "nbconvert_exporter": "python",
      "pygments_lexer": "ipython3",
      "version": "3.11.2"
    },
    "orig_nbformat": 4
  },
  "nbformat": 4,
  "nbformat_minor": 0
}
