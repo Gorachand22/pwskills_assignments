{
  "cells": [
    {
      "cell_type": "markdown",
      "metadata": {
        "id": "jHKORN_4cJKm"
      },
      "source": [
        "<h1 style = 'color:red'><b>Week-9, Statistics Basic-1 Assignment</b><h1>"
      ]
    },
    {
      "cell_type": "markdown",
      "metadata": {
        "id": "dVUW29xlcJKo"
      },
      "source": [
        "Name - Gorachanda Dash <br>\n",
        "Date - 06-Mar-2023<br>\n",
        "Week 9, Statistics Basic-1 Assignment"
      ]
    },
    {
      "cell_type": "markdown",
      "metadata": {
        "id": "fKnfvSL5cJK2"
      },
      "source": [
        "<p style=\" color : #4233FF\"><b>Q1. What is Statistics?</b></p>"
      ]
    },
    {
      "cell_type": "markdown",
      "metadata": {},
      "source": [
        "Statistics in data science is the art of extracting valuable insights and patterns from data. It involves both descriptive techniques to summarize and visualize data, and inferential methods to make predictions and draw meaningful conclusions. Statistics serves as a crucial foundation for data scientists, enabling them to derive knowledge, make data-driven decisions, and unlock the full potential of data for various applications."
      ]
    },
    {
      "cell_type": "code",
      "execution_count": null,
      "metadata": {},
      "outputs": [],
      "source": []
    },
    {
      "cell_type": "markdown",
      "metadata": {
        "id": "l7nokEV7cJK3"
      },
      "source": [
        "<p style=\" color : #4233FF\"><b>Q2. Define the different types of statistics and give an example of when each type might be used.</b></p>"
      ]
    },
    {
      "cell_type": "markdown",
      "metadata": {},
      "source": [
        "There are two main types of statistics: descriptive statistics and inferential statistics.\n",
        "\n",
        "1. Descriptive Statistics: Descriptive statistics involve summarizing and presenting data in a meaningful way. It provides a clear and concise overview of the data, facilitating data exploration and understanding. Examples include measures of central tendency (e.g., mean, median, mode) and measures of variability (e.g., range, standard deviation).\n",
        "\n",
        "Example: Descriptive statistics can be used to analyze a dataset of student exam scores to determine the average score, the most frequent grade, and the spread of scores.\n",
        "\n",
        "2. Inferential Statistics: Inferential statistics involves making predictions and drawing conclusions about a larger population based on a sample of data. It helps in generalizing findings from a smaller group to a broader context. Examples include hypothesis testing, confidence intervals, and regression analysis.\n",
        "\n",
        "Example: Inferential statistics can be used to assess whether a new drug is effective by testing it on a sample of patients and then drawing conclusions about its effectiveness for the entire population of patients with a particular condition.\n",
        "\n",
        "In summary, descriptive statistics provide a snapshot of the data, while inferential statistics enable data scientists to make informed decisions and predictions based on the collected data and draw meaningful conclusions for broader contexts. Both types of statistics are integral to the field of data science and aid in gaining valuable insights from data."
      ]
    },
    {
      "cell_type": "markdown",
      "metadata": {
        "id": "HMuh9StycJK3"
      },
      "source": [
        "<p style=\" color : #4233FF\"><b>Q3. What are the different types of data and how do they differ from each other? Provide an example of each type of data.</b>\n",
        "</p>"
      ]
    },
    {
      "cell_type": "markdown",
      "metadata": {},
      "source": [
        "There are four main types of data:\n",
        "\n",
        "1. `Nominal Data:` Nominal data represents categories or names and has no inherent order or numerical value. It involves discrete and mutually exclusive categories. Examples include gender (male, female), colors (red, blue, green), or types of fruits (apple, banana, orange).\n",
        "\n",
        "2. `Ordinal Data:` Ordinal data has distinct categories with a meaningful order or ranking, but the differences between categories are not necessarily equal. It involves data that can be ranked or ordered. Examples include education levels (high school, college, graduate), customer satisfaction ratings (low, medium, high), or survey responses (strongly agree, agree, neutral, disagree, strongly disagree).\n",
        "\n",
        "3. `Interval Data:` Interval data has distinct categories with a meaningful order, and the differences between categories are equal, but it lacks a true zero point. Interval data allows for addition and subtraction but not multiplication or division. Examples include temperature measured in Celsius or Fahrenheit, time of day (measured in hours or minutes), or dates (days of the week, months).\n",
        "\n",
        "4. `Ratio Data:` Ratio data has distinct categories with a meaningful order, the differences between categories are equal, and it has a true zero point. Ratio data allows for all arithmetic operations. Examples include height, weight, age, and income."
      ]
    },
    {
      "cell_type": "code",
      "execution_count": null,
      "metadata": {},
      "outputs": [],
      "source": []
    },
    {
      "cell_type": "markdown",
      "metadata": {
        "id": "9aKHN4uEcJK4"
      },
      "source": [
        "<p style=\" color : #4233FF\"><b>Q4. Categorise the following datasets with respect to quantitative and qualitative data types:</b>\n",
        "</p>\n",
        "(i) Grading in exam: A+, A, B+, B, C+, C, D, E<br>\n",
        "(ii) Colour of mangoes: yellow, green, orange, red<br>\n",
        "(iii) Height data of a class: [178.9, 179, 179.5, 176, 177.2, 178.3, 175.8,...]<br>\n",
        "(iv) Number of mangoes exported by a farm: [500, 600, 478, 672, ...]"
      ]
    },
    {
      "cell_type": "markdown",
      "metadata": {},
      "source": [
        "(i) Grading in exam: `Qualitative data (ordinal)`. The data represents categories (A+, A, B+, B, C+, C, D, E) with a meaningful order but does not involve numerical values.\n",
        "\n",
        "(ii) Colour of mangoes: `Qualitative data (nominal)`. The data represents distinct categories (yellow, green, orange, red) with no inherent order or numerical values.\n",
        "\n",
        "(iii) Height data of a class: `Quantitative data (ratio)`. The data represents numerical values (heights in centimeters) with a meaningful order, equal intervals, and a true zero point, making it ratio data.\n",
        "\n",
        "(iv) Number of mangoes exported by a farm: `Quantitative data (ratio)`. The data represents numerical values (number of mangoes) with a meaningful order, equal intervals, and a true zero point, making it ratio data."
      ]
    },
    {
      "cell_type": "code",
      "execution_count": null,
      "metadata": {},
      "outputs": [],
      "source": []
    },
    {
      "cell_type": "markdown",
      "metadata": {
        "id": "z2avHLHDcJK4"
      },
      "source": [
        "<p style=\" color : #4233FF\"><b>Q5. Explain the concept of levels of measurement and give an example of a variable for each level.</b>\n",
        "</p>"
      ]
    },
    {
      "cell_type": "markdown",
      "metadata": {},
      "source": [
        "Levels of measurement, also known as scales of measurement or data levels, refer to the hierarchical classification of data based on the properties and characteristics of the data. There are four main levels of measurement:\n",
        "\n",
        "1. Nominal Level: At this level, data are categorized into discrete and mutually exclusive categories with no inherent order or numerical value. The only operation that can be applied is counting the frequency of each category. Examples: Gender (male, female), colors (red, blue, green), or types of animals (dog, cat, bird).\n",
        "\n",
        "2. Ordinal Level: At this level, data have distinct categories with a meaningful order or ranking, but the differences between categories are not necessarily equal. Data can be ranked or ordered, but mathematical operations beyond ranking are not meaningful. Examples: Education levels (high school, college, graduate), customer satisfaction ratings (low, medium, high), or survey responses (strongly agree, agree, neutral, disagree, strongly disagree).\n",
        "\n",
        "3. Interval Level: At this level, data have distinct categories with a meaningful order, and the differences between categories are equal. However, there is no true zero point. Data can be added and subtracted, but multiplication and division are not meaningful. Examples: Temperature measured in Celsius or Fahrenheit, time of day (measured in hours or minutes), or dates (days of the week, months).\n",
        "\n",
        "4. Ratio Level: At this level, data have distinct categories with a meaningful order, equal intervals, and a true zero point. All arithmetic operations, including addition, subtraction, multiplication, and division, are meaningful. Examples: Height, weight, age, and income."
      ]
    },
    {
      "cell_type": "code",
      "execution_count": null,
      "metadata": {},
      "outputs": [],
      "source": []
    },
    {
      "cell_type": "markdown",
      "metadata": {},
      "source": [
        "<p style=\" color : #4233FF\"><b>Q6. Why is it important to understand the level of measurement when analyzing data? Provide an example to illustrate your answer.</b>\n",
        "</p>"
      ]
    },
    {
      "cell_type": "markdown",
      "metadata": {},
      "source": [
        "Understanding the level of measurement is crucial when analyzing data because it determines the appropriate statistical methods that can be applied, the types of calculations that are meaningful, and the interpretation of the results. Using the wrong level of measurement can lead to incorrect conclusions and misleading interpretations of the data.\n",
        "\n",
        "For example, let's consider a study investigating the effectiveness of different training programs on employee performance in a company. The researchers collect data on the training programs attended by each employee and their corresponding performance ratings on a scale from 1 to 10.\n",
        "\n",
        "1. If the performance ratings are treated as nominal data (level 1), where each rating is just a category with no inherent order, applying statistical measures like the mean or standard deviation would not make sense. It would be incorrect to say that a rating of \"7\" is higher or better than a rating of \"5\".\n",
        "\n",
        "2. If the performance ratings are treated as ordinal data (level 2), where there is a meaningful order but no equal intervals between the ratings, calculating the median or using non-parametric tests like the Mann-Whitney U test for comparison would be appropriate. However, it would not be valid to calculate the average difference between ratings as the intervals between the ratings are not equal.\n",
        "\n",
        "3. If the performance ratings are treated as interval data (level 3), where there is a meaningful order and equal intervals between the ratings, calculating the mean, standard deviation, and conducting parametric tests like t-tests or ANOVA would be appropriate. However, statements like \"a rating of 8 is twice as good as a rating of 4\" would be incorrect because there is no true zero point.\n",
        "\n",
        "4. If the performance ratings are treated as ratio data (level 4), where there is a meaningful order, equal intervals, and a true zero point (such as absolute zero performance rating), all statistical measures and calculations can be applied accurately. Statements like \"an employee with a rating of 8 performed twice as well as an employee with a rating of 4\" would be meaningful.\n",
        "\n",
        "In this example, understanding the level of measurement of the performance ratings is crucial in selecting the appropriate statistical analysis method, drawing valid conclusions, and making meaningful interpretations about the effectiveness of the training programs on employee performance."
      ]
    },
    {
      "cell_type": "markdown",
      "metadata": {},
      "source": [
        "<p style=\" color : #4233FF\"><b>Q7. How nominal data type is different from ordinal data type.</b>\n",
        "</p>"
      ]
    },
    {
      "cell_type": "markdown",
      "metadata": {},
      "source": [
        "Nominal and ordinal data types are both categorical data types, but they differ in the level of measurement and the nature of the data they represent.\n",
        "\n",
        "1. `Nominal Data:`\n",
        "- Nominal data is the lowest level of measurement.\n",
        "- It represents data in categories or labels where there is no inherent order or ranking between the categories.\n",
        "- Examples of nominal data include colors (e.g., red, blue, green), gender (e.g., male, female), and types of fruits (e.g., apple, banana, orange).\n",
        "- You can only determine if two categories are the same or different based on nominal data.\n",
        "\n",
        "2. `Ordinal Data:`\n",
        "- Ordinal data is the second level of measurement.\n",
        "- It represents data in categories or labels that have a meaningful order or ranking, but the intervals between the categories are not equal.\n",
        "- Examples of ordinal data include ranks (e.g., 1st, 2nd, 3rd), education levels (e.g., elementary, high school, college), and satisfaction ratings (e.g., very dissatisfied, dissatisfied, neutral, satisfied, very satisfied).\n",
        "- You can determine the order of categories and make comparisons like greater than, less than, or equal to based on ordinal data."
      ]
    },
    {
      "cell_type": "markdown",
      "metadata": {},
      "source": []
    },
    {
      "cell_type": "markdown",
      "metadata": {},
      "source": [
        "<p style=\" color : #4233FF\"><b>Q8. Which type of plot can be used to display data in terms of range?</b>\n",
        "</p>"
      ]
    },
    {
      "cell_type": "markdown",
      "metadata": {},
      "source": [
        "A box plot (also known as a box-and-whisker plot) is commonly used to display data in terms of range. It shows the distribution of data along with key statistics such as the minimum, first quartile (Q1), median (second quartile or Q2), third quartile (Q3), and maximum. The \"box\" in the plot represents the interquartile range (IQR), which spans from Q1 to Q3, and the \"whiskers\" extend to the minimum and maximum values within a certain range or as outliers.\n",
        "\n",
        "Box plots are helpful in visualizing the spread and variability of data, identifying potential outliers, and understanding the central tendency. They are particularly useful when comparing multiple groups or datasets side by side to gain insights into their respective distributions."
      ]
    },
    {
      "cell_type": "markdown",
      "metadata": {},
      "source": [
        "<p style=\" color : #4233FF\"><b>Q9. Describe the difference between descriptive and inferential statistics. Give an example of each type of statistics and explain how they are used.</b>\n",
        "</p>"
      ]
    },
    {
      "cell_type": "markdown",
      "metadata": {},
      "source": [
        "`Descriptive Statistics:`\n",
        "- Descriptive statistics involve summarizing and presenting data in a meaningful and concise way to describe its main features.\n",
        "- It provides information about the central tendency, variability, and shape of the data.\n",
        "- Descriptive statistics are used to gain a quick understanding of the data, identify patterns, and communicate the key characteristics to others.\n",
        "Example: Calculating the mean, median, and standard deviation of the test scores of students in a class. These statistics would provide insights into the average performance, the spread of scores, and the typical score achieved by students.\n",
        "\n",
        "`Inferential Statistics:`\n",
        "- Inferential statistics involves making predictions, inferences, or generalizations about a larger population based on a sample of data.\n",
        "- It uses probability and sampling techniques to draw conclusions from a sample and make statements about the entire population.\n",
        "- Inferential statistics are used to make predictions, test hypotheses, and support decision-making in various fields, such as marketing, medicine, and social sciences.\n",
        "Example: Conducting a hypothesis test to determine if a new drug is effective in treating a certain medical condition. By comparing the results from a sample of patients who received the drug with those who received a placebo, inferential statistics can provide insights into whether the drug is likely to have a significant effect on the broader population of patients with the condition."
      ]
    },
    {
      "cell_type": "code",
      "execution_count": null,
      "metadata": {},
      "outputs": [],
      "source": []
    },
    {
      "cell_type": "markdown",
      "metadata": {},
      "source": [
        "<p style=\" color : #4233FF\"><b>Q10. What are some common measures of central tendency and variability used in statistics? Explain how each measure can be used to describe a dataset.</b>\n",
        "</p>"
      ]
    },
    {
      "cell_type": "markdown",
      "metadata": {},
      "source": [
        "`Common Measures of Central Tendency:`\n",
        "\n",
        "1.` Mean:` The mean is the arithmetic average of a dataset. It is calculated by adding up all the values and dividing by the number of data points. The mean represents the \"typical\" value in the dataset and is sensitive to extreme values. It provides a measure of the central value around which the data is clustered.\n",
        "\n",
        "2. `Median:` The median is the middle value in an ordered dataset. It divides the data into two equal halves, where 50% of the data lies above and 50% lies below the median. The median is less affected by extreme values and is a robust measure of central tendency, particularly in skewed datasets.\n",
        "\n",
        "3. `Mode:` The mode is the most frequently occurring value in a dataset. It represents the value that appears the most and is useful for describing the most common observation or category in the data.\n",
        "\n",
        "`Common Measures of Variability:`\n",
        "\n",
        "1. `Range:` The range is the difference between the maximum and minimum values in a dataset. It gives an indication of the spread or dispersion of the data but is sensitive to extreme values.\n",
        "\n",
        "2. `Variance:` The variance is the average of the squared differences between each data point and the mean. It measures the average spread of the data points from the mean and provides a quantification of variability.\n",
        "\n",
        "3. `Standard Deviation:` The standard deviation is the square root of the variance. It is a widely used measure of variability and provides a standard unit of measurement for dispersion around the mean. A smaller standard deviation indicates less variability, while a larger standard deviation suggests greater spread.\n",
        "\n",
        "Each of these measures serves a different purpose in describing a dataset:\n",
        "\n",
        "- Mean, median, and mode help describe the central tendency of the data, giving insights into where most of the data points cluster or concentrate.\n",
        "- Range provides an idea of the total spread of the data, from the minimum to the maximum values.\n",
        "- Variance and standard deviation quantify the dispersion or variability of the data points around the mean. A smaller standard deviation indicates more consistency and vice versa."
      ]
    },
    {
      "cell_type": "markdown",
      "metadata": {},
      "source": []
    },
    {
      "cell_type": "markdown",
      "metadata": {
        "id": "eOINuiGOcJK4"
      },
      "source": [
        "<h1 style = 'color:orange'>\n",
        "    <b><div>THANK YOU</div></b>\n",
        "</h1>\n"
      ]
    }
  ],
  "metadata": {
    "colab": {
      "provenance": []
    },
    "kernelspec": {
      "display_name": "Python 3",
      "language": "python",
      "name": "python3"
    },
    "language_info": {
      "codemirror_mode": {
        "name": "ipython",
        "version": 3
      },
      "file_extension": ".py",
      "mimetype": "text/x-python",
      "name": "python",
      "nbconvert_exporter": "python",
      "pygments_lexer": "ipython3",
      "version": "3.11.2"
    },
    "orig_nbformat": 4
  },
  "nbformat": 4,
  "nbformat_minor": 0
}
