{
 "cells": [
  {
   "attachments": {},
   "cell_type": "markdown",
   "metadata": {},
   "source": [
    "<h1 style = 'color:red'><b>Week-5, Exception Handling Assignment - 1</b><h1>"
   ]
  },
  {
   "attachments": {},
   "cell_type": "markdown",
   "metadata": {},
   "source": [
    "Name - Gorachanda Dash <br>\n",
    "Date - Feb 12 2023\n",
    "Week 5, Exception handling-1"
   ]
  },
  {
   "attachments": {},
   "cell_type": "markdown",
   "metadata": {},
   "source": [
    "<p style=\" color : #4233FF\"><b>Q1. What is an Exception in python? Write the difference between Exceptions and Syntax errors.<b>"
   ]
  },
  {
   "attachments": {},
   "cell_type": "markdown",
   "metadata": {},
   "source": [
    "In `Python`, an exception is an event that occurs during the execution of a program, which disrupts the normal flow of the program. It represents an error condition or an exceptional circumstance that needs to be handled. When an exception occurs, Python raises an exception object, which can be caught and handled by appropriate code.\n",
    "\n",
    "`Difference between Exceptions and Syntax Errors:`\n",
    "\n",
    "1. `Syntax Errors:` Syntax errors occur when the code violates the syntax rules of the programming language. These errors are detected by the Python interpreter during the parsing phase before the program is executed. They indicate that there is a mistake in the structure or syntax of the code. Syntax errors prevent the program from running and must be fixed before executing the program. Examples of syntax errors include misspelled keywords, missing colons, incorrect indentation, or invalid use of operators.\n",
    "\n",
    "2. `Exceptions:` Exceptions, on the other hand, occur during the execution of a program when something unexpected happens that disrupts the normal flow. They can be caused by various factors such as invalid user input, file not found, division by zero, network errors, or resource unavailability. Exceptions can be handled by using try-except blocks, which allow the program to catch and handle the exception gracefully, preventing the program from crashing. By handling exceptions, developers can take appropriate actions to recover from errors, provide error messages to users, or log the error information for debugging purposes.\n"
   ]
  },
  {
   "attachments": {},
   "cell_type": "markdown",
   "metadata": {},
   "source": []
  },
  {
   "attachments": {},
   "cell_type": "markdown",
   "metadata": {},
   "source": [
    "<p style=\" color : #4233FF\"><b>Q2. What happens when an exception is not handled? Explain with an example.</b>"
   ]
  },
  {
   "attachments": {},
   "cell_type": "markdown",
   "metadata": {},
   "source": [
    "When an exception is not handled, it results in the termination of the program and the printing of an error message called a traceback. The traceback provides information about the exception that occurred and the sequence of function calls that led to the exception."
   ]
  },
  {
   "cell_type": "code",
   "execution_count": 1,
   "metadata": {},
   "outputs": [
    {
     "ename": "ZeroDivisionError",
     "evalue": "division by zero",
     "output_type": "error",
     "traceback": [
      "\u001b[1;31m---------------------------------------------------------------------------\u001b[0m",
      "\u001b[1;31mZeroDivisionError\u001b[0m                         Traceback (most recent call last)",
      "Cell \u001b[1;32mIn[1], line 7\u001b[0m\n\u001b[0;32m      4\u001b[0m num1 \u001b[39m=\u001b[39m \u001b[39m10\u001b[39m\n\u001b[0;32m      5\u001b[0m num2 \u001b[39m=\u001b[39m \u001b[39m0\u001b[39m\n\u001b[1;32m----> 7\u001b[0m result \u001b[39m=\u001b[39m divide(num1, num2)\n\u001b[0;32m      8\u001b[0m \u001b[39mprint\u001b[39m(\u001b[39m\"\u001b[39m\u001b[39mResult:\u001b[39m\u001b[39m\"\u001b[39m, result)\n",
      "Cell \u001b[1;32mIn[1], line 2\u001b[0m, in \u001b[0;36mdivide\u001b[1;34m(a, b)\u001b[0m\n\u001b[0;32m      1\u001b[0m \u001b[39mdef\u001b[39;00m \u001b[39mdivide\u001b[39m(a, b):\n\u001b[1;32m----> 2\u001b[0m     \u001b[39mreturn\u001b[39;00m a \u001b[39m/\u001b[39;49m b\n",
      "\u001b[1;31mZeroDivisionError\u001b[0m: division by zero"
     ]
    }
   ],
   "source": [
    "def divide(a, b):\n",
    "    return a / b\n",
    "\n",
    "num1 = 10\n",
    "num2 = 0\n",
    "\n",
    "result = divide(num1, num2)\n",
    "print(\"Result:\", result)"
   ]
  },
  {
   "cell_type": "code",
   "execution_count": null,
   "metadata": {},
   "outputs": [],
   "source": []
  },
  {
   "attachments": {},
   "cell_type": "markdown",
   "metadata": {},
   "source": [
    "<p style=\" color : #4233FF\"><b>Q3. Which Python statements are used to catch and handle exceptions? Explain with an example.</b>"
   ]
  },
  {
   "attachments": {},
   "cell_type": "markdown",
   "metadata": {},
   "source": [
    "In Python, the `try-except` statements are used to catch and handle exceptions. The try block is used to enclose the code that may potentially raise an exception, and the except block is used to specify the code that should be executed if the specified exception occurs."
   ]
  },
  {
   "cell_type": "code",
   "execution_count": 2,
   "metadata": {},
   "outputs": [
    {
     "name": "stdout",
     "output_type": "stream",
     "text": [
      "Error: Division by zero is not allowed\n"
     ]
    }
   ],
   "source": [
    "num1 = 10\n",
    "num2 = 0\n",
    "\n",
    "try:\n",
    "    result = num1 / num2\n",
    "    print(\"Result:\", result)\n",
    "except ZeroDivisionError:\n",
    "    print(\"Error: Division by zero is not allowed\")"
   ]
  },
  {
   "attachments": {},
   "cell_type": "markdown",
   "metadata": {},
   "source": [
    "In this above example, the try block contains the code that performs the division operation between num1 and num2. Since dividing by zero is not allowed and will raise a ZeroDivisionError, this is the code that may potentially raise an exception.\n",
    "\n",
    "The except block specifies the exception type to catch, in this case, the ZeroDivisionError. If the specified exception occurs in the try block, the code inside the except block will be executed. In this example, the except block prints an error message indicating that division by zero is not allowed.\n",
    "\n",
    "When the program is executed, the division operation in the try block will raise a ZeroDivisionError. Instead of terminating the program with an unhandled exception, the except block is triggered, and the error message \"Error: Division by zero is not allowed\" is printed."
   ]
  },
  {
   "cell_type": "code",
   "execution_count": null,
   "metadata": {},
   "outputs": [],
   "source": []
  },
  {
   "attachments": {},
   "cell_type": "markdown",
   "metadata": {},
   "source": [
    "<p style=\" color : #4233FF\"><b>Q4. Explain with an example:</b>\n",
    "\n",
    "a. try and else<br>\n",
    "b. finally<br>\n",
    "c. raiseWhy self is used in OOPs?"
   ]
  },
  {
   "attachments": {},
   "cell_type": "markdown",
   "metadata": {},
   "source": [
    "a. `try and else:`<br>\n",
    "The `try` and `else` blocks are used together to handle exceptions and specify code that should be executed if no exception occurs. The code inside the `try` block is monitored for exceptions, and if no exception is raised, the code inside the `else` block is executed."
   ]
  },
  {
   "cell_type": "code",
   "execution_count": 3,
   "metadata": {},
   "outputs": [
    {
     "name": "stdout",
     "output_type": "stream",
     "text": [
      "Division successful. Result: 5.0\n"
     ]
    }
   ],
   "source": [
    "try:\n",
    "    # Code that may raise an exception\n",
    "    x = 10 / 2  # Division operation\n",
    "except ZeroDivisionError:\n",
    "    # Code to handle the ZeroDivisionError exception\n",
    "    print(\"Error: Division by zero is not allowed\")\n",
    "else:\n",
    "    # Code to be executed if no exception occurs\n",
    "    print(\"Division successful. Result:\", x)"
   ]
  },
  {
   "attachments": {},
   "cell_type": "markdown",
   "metadata": {},
   "source": [
    "In this example, the `try` block contains the division operation, which is not expected to raise a ZeroDivisionError. However, the `except` block is provided to handle any potential ZeroDivisionError that may occur.\n",
    "\n",
    "Since the division is valid and doesn't result in a division by zero, no exception is raised, and the code inside the `else` block is executed. The message \"Division successful. Result: 5.0\" is printed."
   ]
  },
  {
   "attachments": {},
   "cell_type": "markdown",
   "metadata": {},
   "source": [
    "b. `finally:`<br>\n",
    "The `finally` block is used to specify code that should be executed regardless of whether an exception occurs or not. It is typically used to perform cleanup actions or release resources."
   ]
  },
  {
   "cell_type": "code",
   "execution_count": 7,
   "metadata": {},
   "outputs": [
    {
     "name": "stdout",
     "output_type": "stream",
     "text": [
      "Error: Division by zero is not allowed\n",
      "Denominator always have to possitive\n"
     ]
    }
   ],
   "source": [
    "try:\n",
    "    # Code that may raise an exception\n",
    "    x = 10 / 0  # Division operation\n",
    "except ZeroDivisionError:\n",
    "    # Code to handle the ZeroDivisionError exception\n",
    "    print(\"Error: Division by zero is not allowed\")\n",
    "finally:\n",
    "    # Code to be executed regardless of exceptions\n",
    "    print('Denominator always have to possitive')  # Close the file"
   ]
  },
  {
   "attachments": {},
   "cell_type": "markdown",
   "metadata": {},
   "source": [
    "In this example, the `try` block contains the division operation, which is  expected to raise a ZeroDivisionError. However, the `except` block is provided to handle any potential ZeroDivisionError.\n",
    "\n",
    "Since the division is not valid and exception is raised. But `finally` Code to be executed regardless of exceptions"
   ]
  },
  {
   "attachments": {},
   "cell_type": "markdown",
   "metadata": {},
   "source": [
    "c. `raise:`<br>\n",
    "The `raise` statement is used to manually raise an exception in Python. It allows you to create custom exceptions or raise built-in exceptions at specific points in your code."
   ]
  },
  {
   "cell_type": "code",
   "execution_count": 8,
   "metadata": {},
   "outputs": [
    {
     "name": "stdout",
     "output_type": "stream",
     "text": [
      "Error: Division by zero is not allowed\n"
     ]
    }
   ],
   "source": [
    "def divide(a, b):\n",
    "    if b == 0:\n",
    "        raise ZeroDivisionError(\"Error: Division by zero is not allowed\")\n",
    "    return a / b\n",
    "\n",
    "try:\n",
    "    result = divide(10, 0)\n",
    "except ZeroDivisionError as e:\n",
    "    print(e)"
   ]
  },
  {
   "attachments": {},
   "cell_type": "markdown",
   "metadata": {},
   "source": [
    "In this example, the `divide()` function is defined to perform division between two numbers. However, before performing the division, it checks if the divisor (`b`) is zero. If it is, the `raise` statement is used to raise a `ZeroDivisionError` with a custom error message.\n",
    "\n",
    "In the `try` block, the `divide()` function is called with `10` and `0` as arguments. Since the divisor is zero, the `raise` statement is triggered, raising a `ZeroDivisionError` with the specified error message.\n",
    "\n",
    "The `except` block catches the `ZeroDivisionError` and prints the error message using the `print()` function. In this case, the output will be \"Error: Division by zero is not allowed\".\n",
    "\n",
    "The `raise` statement allows you to explicitly raise exceptions when certain conditions are met, providing control over exception handling in your code."
   ]
  },
  {
   "cell_type": "code",
   "execution_count": null,
   "metadata": {},
   "outputs": [],
   "source": []
  },
  {
   "attachments": {},
   "cell_type": "markdown",
   "metadata": {},
   "source": [
    "<p style=\" color : #4233FF\"><b>Q5. What are Custom Exceptions in python? Why do we need Custom Exceptions? Explain with an example.</b>"
   ]
  },
  {
   "attachments": {},
   "cell_type": "markdown",
   "metadata": {},
   "source": [
    "`Custom exceptions` in Python are user-defined exceptions that allow you to create your own types of exceptions specific to your application or use case. They inherit from the base Exception class or any of its subclasses, and you can define custom properties and behaviors for these exceptions.\n",
    "\n",
    "We need custom exceptions in Python for the following reasons:\n",
    "\n",
    "`Specificity:` Custom exceptions allow you to define exceptions that are specific to your application's domain or requirements. This makes it easier to handle and differentiate between different types of errors or exceptional situations in your code.\n",
    "\n",
    "`Readability and Maintainability:` By using custom exceptions, you can provide more meaningful and descriptive error messages, making it easier to understand the cause of an exception. This improves code readability and helps in maintaining and debugging the codebase.\n",
    "\n",
    "`Code Organization:` Custom exceptions help in organizing and categorizing related types of exceptions within your code. By creating a hierarchy of custom exceptions, you can represent different levels or types of errors and handle them accordingly."
   ]
  },
  {
   "cell_type": "code",
   "execution_count": 12,
   "metadata": {},
   "outputs": [
    {
     "name": "stdout",
     "output_type": "stream",
     "text": [
      "Error: Negative numbers not allowed\n"
     ]
    }
   ],
   "source": [
    "class CustomException(Exception):\n",
    "    def __init__(self, message):\n",
    "        self.message = message\n",
    "\n",
    "    def __str__(self):\n",
    "        return self.message\n",
    "\n",
    "\n",
    "try:\n",
    "    number = int(input(\"Enter a number: \"))\n",
    "    if number < 0:\n",
    "        raise CustomException(\"Error: Negative numbers not allowed\")\n",
    "    else:\n",
    "        print(\"Number:\", number)\n",
    "except CustomException as e:\n",
    "    print(e)\n"
   ]
  },
  {
   "attachments": {},
   "cell_type": "markdown",
   "metadata": {},
   "source": [
    "The custom exception class CustomException is created by deriving it from the base Exception class. It is then used to handle an exception by raising it with a custom error message and catching it using the except block, allowing for specific handling of the exceptional condition defined by the custom exception."
   ]
  },
  {
   "cell_type": "code",
   "execution_count": null,
   "metadata": {},
   "outputs": [],
   "source": []
  },
  {
   "attachments": {},
   "cell_type": "markdown",
   "metadata": {},
   "source": [
    "<p style=\" color : #4233FF\"><b>Q6. Create a custom exception class. Use this class to handle an exception.</b>"
   ]
  },
  {
   "cell_type": "code",
   "execution_count": 11,
   "metadata": {},
   "outputs": [
    {
     "name": "stdout",
     "output_type": "stream",
     "text": [
      "amount cannot be negative\n",
      "logout from all the devices\n"
     ]
    }
   ],
   "source": [
    "class MyException(Exception):\n",
    "    def __init__(self, message):\n",
    "        print(message)\n",
    "    \n",
    "    def logout(self):\n",
    "        print('logout from all the devices')\n",
    "\n",
    "class Atm:\n",
    "    def __init__(self,balance):\n",
    "        self.balance = balance\n",
    "    \n",
    "    def withdraw(self,amount):\n",
    "        if type(amount) == str:  # Check if amount is of type string\n",
    "            raise MyException('amount must be an integer or a float')  # Raise MyException with error message\n",
    "        elif amount < 0:  # Check if amount is negative\n",
    "            raise MyException('amount cannot be negative')  # Raise MyException with error message\n",
    "        elif amount > self.balance:  # Check if amount is greater than account balance\n",
    "            raise MyException('Insufficient balance')  # Raise MyException with error message\n",
    "        else:\n",
    "            self.balance = self.balance - amount  # Deduct amount from balance\n",
    "            print('Balance deducted. Your current balance is: ' + str(self.balance))\n",
    "\n",
    "obj = Atm(10000)\n",
    "\n",
    "try:\n",
    "    obj.withdraw(-5000)  # Attempt to withdraw a negative amount\n",
    "except MyException as e:  # Catch MyException and assign it to variable e\n",
    "    e.logout()  # Call the logout() method of the MyException class\n",
    "else:\n",
    "    pass"
   ]
  },
  {
   "attachments": {},
   "cell_type": "markdown",
   "metadata": {},
   "source": [
    "In this code, the `MyException` class is defined as a custom exception class. It has an __init__() method that prints the error message passed to it, and a logout() method that prints a logout message.\n",
    "\n",
    "The `Atm` class represents an ATM and has an __init__() method to initialize the account balance, and a withdraw() method to perform withdrawals. Inside the withdraw() method, several checks are performed: it checks if the amount is of type string, if it is negative, and if it exceeds the account balance. If any of these conditions are met, a MyException is raised with the respective error message.\n",
    "\n",
    "An object obj of the Atm class is created with an initial balance of 10,000. In the try block, an attempt is made to withdraw a negative amount (-5000). Since the amount is negative, a MyException is raised. The except block catches the exception and calls the logout() method of the MyException class, which prints a logout message."
   ]
  },
  {
   "cell_type": "code",
   "execution_count": null,
   "metadata": {},
   "outputs": [],
   "source": []
  },
  {
   "attachments": {},
   "cell_type": "markdown",
   "metadata": {},
   "source": [
    "\n",
    "<h1 style = 'color:orange'>\n",
    "    <b><div>THANK YOU</div></b>\n",
    "</h1>\n"
   ]
  }
 ],
 "metadata": {
  "kernelspec": {
   "display_name": "Python 3",
   "language": "python",
   "name": "python3"
  },
  "language_info": {
   "codemirror_mode": {
    "name": "ipython",
    "version": 3
   },
   "file_extension": ".py",
   "mimetype": "text/x-python",
   "name": "python",
   "nbconvert_exporter": "python",
   "pygments_lexer": "ipython3",
   "version": "3.11.2"
  },
  "orig_nbformat": 4
 },
 "nbformat": 4,
 "nbformat_minor": 2
}
