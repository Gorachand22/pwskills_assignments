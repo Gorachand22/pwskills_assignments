{
 "cells": [
  {
   "attachments": {},
   "cell_type": "markdown",
   "metadata": {},
   "source": [
    "<h1 style = 'color:red'><b>Week-5, Multiprocessing Assignment</b><h1>"
   ]
  },
  {
   "attachments": {},
   "cell_type": "markdown",
   "metadata": {},
   "source": [
    "Name - Gorachanda Dash <br>\n",
    "Date - Feb 154 2023\n",
    "Week 5, Multiprocessing"
   ]
  },
  {
   "attachments": {},
   "cell_type": "markdown",
   "metadata": {},
   "source": [
    "<p style=\" color : #4233FF\"><b>Q1. What is multiprocessing in python? Why is it useful?<br></b></p>"
   ]
  },
  {
   "attachments": {},
   "cell_type": "markdown",
   "metadata": {},
   "source": [
    "Multiprocessing in Python refers to the capability of executing multiple processes simultaneously, leveraging multiple CPU cores or processors. It allows for the execution of multiple tasks in parallel, leading to improved performance and efficient utilization of system resources.\n",
    "\n",
    "The multiprocessing module in Python provides a way to create and manage multiple processes. Each process runs independently and has its own memory space, allowing for true parallel execution. This is different from multithreading, where multiple threads share the same memory space and are executed within a single process.\n",
    "\n",
    "`Multiprocessing is useful in several scenarios:`\n",
    "\n",
    "1. `Improved Performance:` By utilizing multiple processors or CPU cores, multiprocessing enables parallel execution of tasks. This can significantly reduce the overall execution time, especially for CPU-intensive tasks, as the workload is distributed among multiple processes.\n",
    "\n",
    "2. `CPU-bound Tasks:` Multiprocessing is particularly beneficial for CPU-bound tasks that require significant computation or processing power. It allows the workload to be divided among multiple processes, maximizing CPU utilization and speeding up the execution.\n",
    "\n",
    "3. `Avoiding Global Interpreter Lock (GIL):` In Python, the Global Interpreter Lock restricts the execution of multiple threads within a single process. However, with multiprocessing, each process operates independently and is not affected by the GIL. This makes multiprocessing a suitable choice for achieving true parallelism in Python.\n",
    "\n",
    "4. `Fault Isolation:` Since each process has its own memory space, errors or crashes in one process generally do not affect other processes. This provides better fault isolation and helps in building robust and reliable applications.\n",
    "\n",
    "Overall, multiprocessing is useful when there is a need for parallel execution, improved performance, utilization of multiple CPU cores, and isolation of processes. It is commonly employed in tasks such as data processing, scientific computing, simulations, and other computationally intensive applications."
   ]
  },
  {
   "cell_type": "code",
   "execution_count": null,
   "metadata": {},
   "outputs": [],
   "source": []
  },
  {
   "attachments": {},
   "cell_type": "markdown",
   "metadata": {},
   "source": [
    "<p style=\" color : #4233FF\"><b>Q2. What are the differences between multiprocessing and multithreading?</b></p>\n"
   ]
  },
  {
   "attachments": {},
   "cell_type": "markdown",
   "metadata": {},
   "source": [
    "`The differences between multiprocessing and multithreading are as follows:`\n",
    "\n",
    "1. `Execution Model:`\n",
    "   - Multiprocessing: In multiprocessing, multiple processes are created and executed independently. Each process has its own memory space and runs in parallel, utilizing separate CPU cores or processors.\n",
    "   - Multithreading: In multithreading, multiple threads are created within a single process. Threads share the same memory space and execute concurrently, but due to the Global Interpreter Lock (GIL) in Python, only one thread can execute Python bytecode at a time, resulting in pseudo-parallelism.\n",
    "\n",
    "2. `Concurrency:`\n",
    "   - Multiprocessing: Multiprocessing achieves true parallelism, allowing multiple processes to execute simultaneously on different CPU cores or processors. Processes do not share memory directly but can communicate through inter-process communication (IPC) mechanisms.\n",
    "   - Multithreading: Multithreading provides concurrent execution within a single process, but it does not achieve true parallelism. Due to the GIL, only one thread can execute Python bytecode at a time, resulting in a performance limitation for CPU-bound tasks. However, it can be beneficial for I/O-bound tasks or tasks involving waiting or blocking operations.\n",
    "\n",
    "3. `Resource Utilization:`\n",
    "   - Multiprocessing: Multiprocessing allows for efficient utilization of multiple CPU cores or processors, as each process can run on a separate core. It maximizes CPU utilization and can significantly improve the performance of CPU-intensive tasks.\n",
    "   - Multithreading: Multithreading is limited by the GIL, which restricts true parallelism. It may not utilize multiple CPU cores effectively for CPU-bound tasks, but it can be beneficial for I/O-bound tasks or tasks involving waiting or blocking operations, as threads can be scheduled to perform other tasks while waiting.\n",
    "\n",
    "4. `Memory Isolation and Fault Handling:`\n",
    "   - Multiprocessing: Each process in multiprocessing has its own memory space, providing better isolation and fault handling. Errors or crashes in one process generally do not affect other processes, leading to improved robustness.\n",
    "   - Multithreading: Threads share the same memory space, which can lead to potential issues like race conditions and deadlocks. Errors or exceptions in one thread can impact the entire process, making error handling and synchronization more critical.\n",
    "\n",
    "In summary, multiprocessing provides true parallelism and efficient utilization of multiple CPU cores, while multithreading provides concurrent execution within a single process but is limited by the GIL. The choice between multiprocessing and multithreading depends on the specific requirements of the application, the nature of the tasks, and the desired performance characteristics."
   ]
  },
  {
   "cell_type": "code",
   "execution_count": null,
   "metadata": {},
   "outputs": [],
   "source": []
  },
  {
   "attachments": {},
   "cell_type": "markdown",
   "metadata": {},
   "source": [
    "<p style=\" color : #4233FF\"><b>Q3. Write a python code to create a process using the multiprocessing module.</b></p>\n"
   ]
  },
  {
   "cell_type": "code",
   "execution_count": 1,
   "metadata": {},
   "outputs": [
    {
     "name": "stdout",
     "output_type": "stream",
     "text": [
      "Process completed\n"
     ]
    }
   ],
   "source": [
    "import multiprocessing\n",
    "\n",
    "def my_function():\n",
    "    # Code to be executed in the process\n",
    "    print(\"This is a process\")\n",
    "\n",
    "if __name__ == \"__main__\":\n",
    "    # Create a process\n",
    "    process = multiprocessing.Process(target=my_function)\n",
    "\n",
    "    # Start the process\n",
    "    process.start()\n",
    "\n",
    "    # Wait for the process to finish\n",
    "    process.join()\n",
    "\n",
    "    # Process has finished\n",
    "    print(\"Process completed\")\n"
   ]
  },
  {
   "cell_type": "code",
   "execution_count": null,
   "metadata": {},
   "outputs": [],
   "source": []
  },
  {
   "attachments": {},
   "cell_type": "markdown",
   "metadata": {},
   "source": [
    "<p style=\" color : #4233FF\"><b>Q4. What is a multiprocessing pool in python? Why is it used?</b>"
   ]
  },
  {
   "attachments": {},
   "cell_type": "markdown",
   "metadata": {},
   "source": [
    "A multiprocessing pool in Python refers to a mechanism provided by the multiprocessing module to efficiently manage and distribute tasks across multiple processes. It allows for parallel execution of a function or a set of functions by dividing the workload among a pool of worker processes.\n",
    "\n",
    "The multiprocessing pool is used to achieve parallelism and speed up the execution of tasks that can be divided into smaller independent units. It offers several advantages:\n",
    "\n",
    "1. `Improved Performance:` By utilizing multiple processes in the pool, the multiprocessing pool allows for parallel execution of tasks, distributing the workload among the available CPU cores or processors. This can lead to significant performance improvements, especially for CPU-bound tasks that can benefit from true parallelism.\n",
    "\n",
    "2. `Efficient Resource Utilization:` The pool manages a fixed number of worker processes that can be reused for multiple tasks. This avoids the overhead of creating and terminating processes for each task, resulting in efficient utilization of system resources.\n",
    "\n",
    "3. `Simplified Interface:` The multiprocessing pool provides a simple and high-level interface for executing tasks in parallel. It abstracts the complexity of process management and task distribution, allowing developers to focus on the logic of their functions.\n",
    "\n",
    "4. `Load Balancing:` The pool automatically distributes the tasks among the available worker processes, ensuring a balanced workload distribution. This helps to optimize resource utilization and maximize the efficiency of the parallel execution.\n",
    "\n",
    "Overall, the multiprocessing pool is used when there is a need to execute tasks in parallel, leveraging multiple processes and CPU cores. It is particularly useful for CPU-bound tasks that can be divided into smaller independent units, such as data processing, scientific computing, and other computationally intensive operations."
   ]
  },
  {
   "cell_type": "code",
   "execution_count": null,
   "metadata": {},
   "outputs": [],
   "source": []
  },
  {
   "attachments": {},
   "cell_type": "markdown",
   "metadata": {},
   "source": [
    "<p style=\" color : #4233FF\"><b>Q5. How can we create a pool of worker processes in python using the multiprocessing module?</b>"
   ]
  },
  {
   "attachments": {},
   "cell_type": "markdown",
   "metadata": {},
   "source": [
    "To create a pool of worker processes in Python using the multiprocessing module, you can utilize the Pool class. Here's an example of how to create a pool and use it to execute tasks in parallel:"
   ]
  },
  {
   "cell_type": "code",
   "execution_count": 2,
   "metadata": {},
   "outputs": [],
   "source": [
    "import multiprocessing\n",
    "\n",
    "def task_function(number):\n",
    "    # Code representing the task to be executed\n",
    "    result = number ** 2\n",
    "    return result\n",
    "\n",
    "if __name__ == \"__main__\":\n",
    "    # Create a pool of worker processes\n",
    "    pool = multiprocessing.Pool()\n",
    "\n",
    "    # List of input values for the task\n",
    "    input_values = [1, 2, 3, 4, 5]\n",
    "\n",
    "    # Apply the task function to the input values using the pool\n",
    "    results = pool.map(task_function, input_values)\n",
    "\n",
    "    # Close the pool to prevent further task submission\n",
    "    pool.close()\n",
    "\n",
    "    # Wait for all tasks to complete\n",
    "    pool.join()\n",
    "\n",
    "    # Print the results\n",
    "    print(results)\n"
   ]
  },
  {
   "cell_type": "code",
   "execution_count": null,
   "metadata": {},
   "outputs": [],
   "source": []
  },
  {
   "attachments": {},
   "cell_type": "markdown",
   "metadata": {},
   "source": [
    "<p style=\" color : #4233FF\"><b>Q6. Write a python program to create 4 processes, each process should print a different number using the multiprocessing module in python.</b>"
   ]
  },
  {
   "cell_type": "code",
   "execution_count": null,
   "metadata": {},
   "outputs": [],
   "source": [
    "import multiprocessing\n",
    "\n",
    "def print_number(number):\n",
    "    print(\"Process ID:\", multiprocessing.current_process().pid, \"Number:\", number)\n",
    "\n",
    "if __name__ == \"__main__\":\n",
    "    # Create a list of numbers\n",
    "    numbers = [1, 2, 3, 4]\n",
    "\n",
    "    # Create a process for each number\n",
    "    processes = []\n",
    "    for number in numbers:\n",
    "        process = multiprocessing.Process(target=print_number, args=(number,))\n",
    "        processes.append(process)\n",
    "        process.start()\n",
    "\n",
    "    # Wait for all processes to finish\n",
    "    for process in processes:\n",
    "        process.join()\n"
   ]
  },
  {
   "cell_type": "code",
   "execution_count": null,
   "metadata": {},
   "outputs": [],
   "source": []
  },
  {
   "attachments": {},
   "cell_type": "markdown",
   "metadata": {},
   "source": [
    "\n",
    "<h1 style = 'color:orange'>\n",
    "    <b><div>THANK YOU</div></b>\n",
    "</h1>\n"
   ]
  }
 ],
 "metadata": {
  "kernelspec": {
   "display_name": "Python 3",
   "language": "python",
   "name": "python3"
  },
  "language_info": {
   "codemirror_mode": {
    "name": "ipython",
    "version": 3
   },
   "file_extension": ".py",
   "mimetype": "text/x-python",
   "name": "python",
   "nbconvert_exporter": "python",
   "pygments_lexer": "ipython3",
   "version": "3.11.2"
  },
  "orig_nbformat": 4
 },
 "nbformat": 4,
 "nbformat_minor": 2
}
