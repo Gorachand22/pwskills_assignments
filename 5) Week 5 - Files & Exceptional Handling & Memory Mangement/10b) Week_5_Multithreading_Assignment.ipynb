{
 "cells": [
  {
   "attachments": {},
   "cell_type": "markdown",
   "metadata": {},
   "source": [
    "<h1 style = 'color:red'><b>Week-5, Multithreading Assignment</b><h1>"
   ]
  },
  {
   "attachments": {},
   "cell_type": "markdown",
   "metadata": {},
   "source": [
    "Name - Gorachanda Dash <br>\n",
    "Date - Feb 14 2023\n",
    "Week 5, Multithreading"
   ]
  },
  {
   "attachments": {},
   "cell_type": "markdown",
   "metadata": {},
   "source": [
    "<p style=\" color : #4233FF\"><b>Q1. what is multithreading in python? why is it used? Name the module used to handle threads in python<br></b></p>"
   ]
  },
  {
   "attachments": {},
   "cell_type": "markdown",
   "metadata": {},
   "source": [
    "Multithreading in Python refers to the ability to execute multiple threads concurrently within a single program. A thread is a lightweight process that can perform tasks independently and concurrently with other threads.\n",
    "\n",
    "Multithreading is used to achieve concurrent execution, where multiple tasks can be executed simultaneously, improving the overall performance and responsiveness of the program. It allows for the efficient utilization of system resources and enables the execution of multiple tasks concurrently without blocking the main program's execution.\n",
    "\n",
    "The module used to handle threads in Python is called `threading`. It provides a high-level interface and tools for creating and managing threads in Python. The `threading` module allows developers to create and start new threads, synchronize thread execution, communicate between threads, and handle thread-specific operations such as locks, events, and timers."
   ]
  },
  {
   "cell_type": "code",
   "execution_count": null,
   "metadata": {},
   "outputs": [],
   "source": []
  },
  {
   "attachments": {},
   "cell_type": "markdown",
   "metadata": {},
   "source": [
    "<p style=\" color : #4233FF\"><b>Q2. why threading module used? write the use of the following functions</b></p>\n",
    "1. activeCount<br>\n",
    "2. currentThread<br>\n",
    "3. enumerate"
   ]
  },
  {
   "attachments": {},
   "cell_type": "markdown",
   "metadata": {},
   "source": [
    "The threading module in Python is used for creating and managing threads. It provides a high-level interface to work with threads and offers various functions to perform different operations. Here are the use cases for the following functions in the threading module:"
   ]
  },
  {
   "attachments": {},
   "cell_type": "markdown",
   "metadata": {},
   "source": [
    "1. `activeCount():` This function is used to retrieve the number of Thread objects currently active (alive) in the program. It returns an integer value representing the count of active threads. It can be useful to monitor and track the number of active threads in a multithreaded application."
   ]
  },
  {
   "cell_type": "code",
   "execution_count": 1,
   "metadata": {},
   "outputs": [
    {
     "name": "stdout",
     "output_type": "stream",
     "text": [
      "Thread is active\n",
      "Thread is active\n",
      "Active threads: 6\n"
     ]
    },
    {
     "name": "stderr",
     "output_type": "stream",
     "text": [
      "C:\\Users\\babul\\AppData\\Local\\Temp\\ipykernel_12324\\380637425.py:13: DeprecationWarning: activeCount() is deprecated, use active_count() instead\n",
      "  active_threads = threading.activeCount()\n"
     ]
    }
   ],
   "source": [
    "import threading\n",
    "\n",
    "def my_function():\n",
    "    print(\"Thread is active\")\n",
    "\n",
    "# Create and start multiple threads\n",
    "thread1 = threading.Thread(target=my_function)\n",
    "thread2 = threading.Thread(target=my_function)\n",
    "thread1.start()\n",
    "thread2.start()\n",
    "\n",
    "# Get the count of active threads\n",
    "active_threads = threading.activeCount()\n",
    "print(\"Active threads:\", active_threads)\n"
   ]
  },
  {
   "attachments": {},
   "cell_type": "markdown",
   "metadata": {},
   "source": [
    "2. `currentThread():` This function returns the Thread object corresponding to the current thread of execution. It is used to access information and perform operations on the currently running thread."
   ]
  },
  {
   "cell_type": "code",
   "execution_count": 2,
   "metadata": {},
   "outputs": [
    {
     "name": "stdout",
     "output_type": "stream",
     "text": [
      "Current Thread: Thread-7 (my_function)\n"
     ]
    },
    {
     "name": "stderr",
     "output_type": "stream",
     "text": [
      "C:\\Users\\babul\\AppData\\Local\\Temp\\ipykernel_12324\\352959096.py:4: DeprecationWarning: currentThread() is deprecated, use current_thread() instead\n",
      "  current_thread = threading.currentThread()\n"
     ]
    }
   ],
   "source": [
    "import threading\n",
    "\n",
    "def my_function():\n",
    "    current_thread = threading.currentThread()\n",
    "    print(\"Current Thread:\", current_thread.name)\n",
    "\n",
    "# Create and start a thread\n",
    "thread = threading.Thread(target=my_function)\n",
    "thread.start()\n"
   ]
  },
  {
   "attachments": {},
   "cell_type": "markdown",
   "metadata": {},
   "source": [
    "3. `enumerate():` The enumerate() function returns a list of all active Thread objects currently running in the program. It is useful for obtaining a list of all threads and performing operations on each thread individually."
   ]
  },
  {
   "cell_type": "code",
   "execution_count": 3,
   "metadata": {},
   "outputs": [
    {
     "name": "stdout",
     "output_type": "stream",
     "text": [
      "Thread is active\n",
      "Thread is active\n",
      "Active Threads:\n",
      "MainThread\n",
      "IOPub\n",
      "Heartbeat\n",
      "Control\n",
      "IPythonHistorySavingThread\n",
      "Thread-4\n"
     ]
    }
   ],
   "source": [
    "import threading\n",
    "\n",
    "def my_function():\n",
    "    print(\"Thread is active\")\n",
    "\n",
    "# Create and start multiple threads\n",
    "thread1 = threading.Thread(target=my_function)\n",
    "thread2 = threading.Thread(target=my_function)\n",
    "thread1.start()\n",
    "thread2.start()\n",
    "\n",
    "# Enumerate all active threads\n",
    "thread_list = threading.enumerate()\n",
    "print(\"Active Threads:\")\n",
    "for thread in thread_list:\n",
    "    print(thread.name)\n"
   ]
  },
  {
   "cell_type": "code",
   "execution_count": null,
   "metadata": {},
   "outputs": [],
   "source": []
  },
  {
   "attachments": {},
   "cell_type": "markdown",
   "metadata": {},
   "source": [
    "<p style=\" color : #4233FF\"><b>Q3. Explain the following functions:</b></p>\n",
    "1. run()<br>\n",
    "2. start()<br>\n",
    "3. join()<br>\n",
    "4. isAlive()"
   ]
  },
  {
   "attachments": {},
   "cell_type": "markdown",
   "metadata": {},
   "source": [
    "1. `run():` The run() method is the entry point for the thread's execution logic. It is the method that defines the behavior of the thread when it is started. You can override this method in a subclass of the Thread class to provide the specific functionality that the thread should perform. The run() method should contain the code that will be executed in the thread."
   ]
  },
  {
   "cell_type": "code",
   "execution_count": 4,
   "metadata": {},
   "outputs": [
    {
     "name": "stdout",
     "output_type": "stream",
     "text": [
      "Thread is running\n"
     ]
    }
   ],
   "source": [
    "import threading\n",
    "\n",
    "class MyThread(threading.Thread):\n",
    "    def run(self):\n",
    "        print(\"Thread is running\")\n",
    "\n",
    "# Create and start the thread\n",
    "thread = MyThread()\n",
    "thread.start()\n"
   ]
  },
  {
   "attachments": {},
   "cell_type": "markdown",
   "metadata": {},
   "source": [
    "2. `start():` The start() method is used to start the execution of a thread. It creates a new thread of execution and invokes the run() method of the thread. When the start() method is called, the thread goes into the \"started\" state, and the run() method is executed in a separate thread."
   ]
  },
  {
   "cell_type": "code",
   "execution_count": null,
   "metadata": {},
   "outputs": [],
   "source": [
    "import threading\n",
    "\n",
    "def my_function():\n",
    "    print(\"Thread is running\")\n",
    "\n",
    "# Create and start the thread\n",
    "thread = threading.Thread(target=my_function)\n",
    "thread.start()\n"
   ]
  },
  {
   "attachments": {},
   "cell_type": "markdown",
   "metadata": {},
   "source": [
    "3. `join():` The join() method is used to wait for a thread to complete its execution. It blocks the calling thread until the thread on which it is called has finished executing. This is useful when you want to ensure that a particular thread completes its execution before proceeding with the rest of the program."
   ]
  },
  {
   "cell_type": "code",
   "execution_count": 5,
   "metadata": {},
   "outputs": [
    {
     "name": "stdout",
     "output_type": "stream",
     "text": [
      "Thread is running\n",
      "Thread has completed\n"
     ]
    }
   ],
   "source": [
    "import threading\n",
    "\n",
    "def my_function():\n",
    "    print(\"Thread is running\")\n",
    "\n",
    "# Create and start the thread\n",
    "thread = threading.Thread(target=my_function)\n",
    "thread.start()\n",
    "\n",
    "# Wait for the thread to finish\n",
    "thread.join()\n",
    "print(\"Thread has completed\")\n"
   ]
  },
  {
   "attachments": {},
   "cell_type": "markdown",
   "metadata": {},
   "source": [
    "3. `isAlive():` The isAlive() method is used to check whether a thread is currently running or not. It returns True if the thread is still alive and executing, and False otherwise. This method can be useful to determine the status of a thread and make decisions based on its execution state."
   ]
  },
  {
   "cell_type": "code",
   "execution_count": 7,
   "metadata": {},
   "outputs": [
    {
     "name": "stdout",
     "output_type": "stream",
     "text": [
      "Thread is runningThread is still running\n",
      "\n"
     ]
    }
   ],
   "source": [
    "import threading\n",
    "\n",
    "def my_function():\n",
    "    print(\"Thread is running\")\n",
    "\n",
    "# Create and start the thread\n",
    "thread = threading.Thread(target=my_function)\n",
    "thread.start()\n",
    "\n",
    "# Check if the thread is alive\n",
    "if thread.is_alive:\n",
    "    print(\"Thread is still running\")\n",
    "else:\n",
    "    print(\"Thread has finished\")\n"
   ]
  },
  {
   "cell_type": "code",
   "execution_count": null,
   "metadata": {},
   "outputs": [],
   "source": []
  },
  {
   "attachments": {},
   "cell_type": "markdown",
   "metadata": {},
   "source": [
    "<p style=\" color : #4233FF\"><b>Q4. write a python program to create two threads. Thread one must print the list of squares and thread two must print the list of cubes</b>"
   ]
  },
  {
   "cell_type": "code",
   "execution_count": 8,
   "metadata": {},
   "outputs": [
    {
     "name": "stdout",
     "output_type": "stream",
     "text": [
      "Square of 1 is 1\n",
      "Square of 2 is 4\n",
      "Square of 3 is 9\n",
      "Square of 4 is 16\n",
      "Square of 5 is 25\n",
      "Cube of 1 is 1\n",
      "Cube of 2 is 8\n",
      "Cube of 3 is 27\n",
      "Cube of 4 is 64\n",
      "Cube of 5 is 125\n",
      "Program execution completed.\n"
     ]
    }
   ],
   "source": [
    "import threading\n",
    "\n",
    "def print_squares():\n",
    "    for i in range(1, 6):\n",
    "        print(\"Square of\", i, \"is\", i**2)\n",
    "\n",
    "def print_cubes():\n",
    "    for i in range(1, 6):\n",
    "        print(\"Cube of\", i, \"is\", i**3)\n",
    "\n",
    "# Create the threads\n",
    "thread1 = threading.Thread(target=print_squares)\n",
    "thread2 = threading.Thread(target=print_cubes)\n",
    "\n",
    "# Start the threads\n",
    "thread1.start()\n",
    "thread2.start()\n",
    "\n",
    "# Wait for both threads to finish\n",
    "thread1.join()\n",
    "thread2.join()\n",
    "\n",
    "print(\"Program execution completed.\")\n"
   ]
  },
  {
   "cell_type": "code",
   "execution_count": null,
   "metadata": {},
   "outputs": [],
   "source": []
  },
  {
   "attachments": {},
   "cell_type": "markdown",
   "metadata": {},
   "source": [
    "<p style=\" color : #4233FF\"><b>Q5. State advantages and disadvantages of multithreading</b>"
   ]
  },
  {
   "attachments": {},
   "cell_type": "markdown",
   "metadata": {},
   "source": [
    "`Advantages of Multithreading:`\n",
    "\n",
    "1. `Improved Responsiveness:` Multithreading allows concurrent execution of tasks, enabling the program to remain responsive even while performing time-consuming operations. It allows for better user experience and smooth execution of parallel tasks.\n",
    "\n",
    "2. `Efficient Resource Utilization:` By utilizing multiple threads, a program can make better use of available system resources, such as CPU cores. Multithreading enables parallel processing and can significantly improve the overall performance and throughput of the application.\n",
    "\n",
    "3. `Simplified Design and Modularity:` Multithreading facilitates the design of modular and organized code. It allows for breaking down complex tasks into smaller, manageable threads, improving code readability and maintainability. Different threads can handle separate functionalities, leading to cleaner and more maintainable code.\n",
    "\n",
    "`Disadvantages of Multithreading:`\n",
    "\n",
    "1. `Complexity and Synchronization:` Multithreading introduces complexity due to the need for proper synchronization and coordination between threads. Ensuring thread safety and avoiding race conditions requires careful handling of shared resources, which can increase the complexity of the code.\n",
    "\n",
    "2. `Increased Memory Usage:` Each thread requires its own stack space and memory resources. Creating and managing multiple threads can lead to increased memory usage compared to single-threaded applications. If not managed properly, excessive thread creation can consume system resources and potentially degrade performance.\n",
    "\n",
    "3. `Potential for Deadlocks and Starvation:` Incorrect synchronization or resource locking can lead to deadlocks, where multiple threads are stuck waiting for each other, resulting in program freeze. Additionally, thread scheduling algorithms may lead to thread starvation, where certain threads are continuously neglected and do not receive sufficient CPU time.\n",
    "\n",
    "4. `Debugging and Testing Challenges:` Multithreaded programs can be more challenging to debug and test due to non-deterministic behavior caused by thread scheduling and timing issues. Reproducing and diagnosing issues related to race conditions or thread interactions can be more complex and time-consuming.\n",
    "\n",
    "It's important to carefully design and implement multithreaded applications, considering the advantages and disadvantages, and thoroughly test and analyze the behavior to ensure correct and efficient execution."
   ]
  },
  {
   "cell_type": "code",
   "execution_count": null,
   "metadata": {},
   "outputs": [],
   "source": []
  },
  {
   "attachments": {},
   "cell_type": "markdown",
   "metadata": {},
   "source": [
    "<p style=\" color : #4233FF\"><b>Q6. Explain deadlocks and race conditions.</b>"
   ]
  },
  {
   "attachments": {},
   "cell_type": "markdown",
   "metadata": {},
   "source": [
    "`Deadlock:`\n",
    "Deadlock is a situation that occurs in a concurrent system when two or more threads or processes are unable to proceed because each is waiting for the other to release a resource. In other words, it is a state where two or more threads are stuck in a permanent waiting state, leading to a system freeze or unresponsiveness.\n",
    "\n",
    "`Deadlocks typically occur when four conditions are met:`\n",
    "1. Mutual Exclusion: At least one resource must be held in a non-shareable mode, meaning only one thread can use it at a time.\n",
    "2. Hold and Wait: A thread holding a resource is waiting to acquire additional resources held by other threads.\n",
    "3. No Preemption: Resources cannot be forcibly taken away from a thread.\n",
    "4. Circular Wait: A circular chain of two or more threads exists, where each thread is waiting for a resource held by the next thread in the chain.\n",
    "\n",
    "To prevent deadlocks, techniques such as resource allocation strategies, resource ordering, and deadlock detection algorithms can be employed.\n",
    "\n",
    "`Race Condition:`\n",
    "A race condition occurs when two or more threads access shared data or resources concurrently, and the final outcome depends on the relative timing or interleaving of their execution. It is an undesired situation that can lead to unpredictable and incorrect results.\n",
    "\n",
    "Race conditions typically arise when threads perform operations that are not atomic, meaning they can be interrupted or interleaved by other threads. This can result in data inconsistency or unexpected behavior.\n",
    "\n",
    "For example, consider two threads incrementing a shared counter simultaneously. If the increment operation is not atomic, both threads may read the current value, increment it independently, and write it back. As a result, the counter may end up with a value lower than expected, as the increments overwrite each other.\n",
    "\n",
    "To avoid race conditions, synchronization techniques like locks, mutexes, and semaphores can be used to enforce mutual exclusion and ensure that only one thread can access the shared resource at a time."
   ]
  },
  {
   "cell_type": "code",
   "execution_count": null,
   "metadata": {},
   "outputs": [],
   "source": []
  },
  {
   "attachments": {},
   "cell_type": "markdown",
   "metadata": {},
   "source": [
    "\n",
    "<h1 style = 'color:orange'>\n",
    "    <b><div>THANK YOU</div></b>\n",
    "</h1>\n"
   ]
  }
 ],
 "metadata": {
  "kernelspec": {
   "display_name": "Python 3",
   "language": "python",
   "name": "python3"
  },
  "language_info": {
   "codemirror_mode": {
    "name": "ipython",
    "version": 3
   },
   "file_extension": ".py",
   "mimetype": "text/x-python",
   "name": "python",
   "nbconvert_exporter": "python",
   "pygments_lexer": "ipython3",
   "version": "3.11.2"
  },
  "orig_nbformat": 4
 },
 "nbformat": 4,
 "nbformat_minor": 2
}
