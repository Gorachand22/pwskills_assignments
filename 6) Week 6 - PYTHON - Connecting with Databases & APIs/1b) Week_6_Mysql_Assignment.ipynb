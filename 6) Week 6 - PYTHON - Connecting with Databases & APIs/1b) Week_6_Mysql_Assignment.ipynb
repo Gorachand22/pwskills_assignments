{
 "cells": [
  {
   "attachments": {},
   "cell_type": "markdown",
   "metadata": {},
   "source": [
    "<h1 style = 'color:red'><b>Week-6, Mysql Assignment</b><h1>"
   ]
  },
  {
   "attachments": {},
   "cell_type": "markdown",
   "metadata": {},
   "source": [
    "Name - Gorachanda Dash <br>\n",
    "Date - 16 Feb 2023\n",
    "Week 6, MySql"
   ]
  },
  {
   "attachments": {},
   "cell_type": "markdown",
   "metadata": {},
   "source": [
    "<p style=\" color : #4233FF\"><b>Q1. What is a database? Differentiate between SQL and NoSQL databases.<br></b></p>"
   ]
  },
  {
   "attachments": {},
   "cell_type": "markdown",
   "metadata": {},
   "source": [
    "A `database` is a structured collection of data that is organized and managed to provide efficient storage, retrieval, and manipulation of data. It allows users and applications to store, access, and manage large amounts of data effectively.\n",
    "\n",
    "SQL (Structured Query Language) and NoSQL (Not only SQL) are two different types of database management systems with distinct characteristics:\n",
    "\n",
    "`SQL Databases:`\n",
    "- SQL databases are based on a relational model, where data is organized into tables with predefined schemas.\n",
    "- They use SQL as the standard query language for defining and manipulating data.\n",
    "- SQL databases provide strong consistency, ACID (Atomicity, Consistency, Isolation, Durability) properties, and support for complex joins and transactions.\n",
    "- They are suitable for structured and well-defined data with complex relationships.\n",
    "- Examples of SQL databases include MySQL, Oracle, PostgreSQL, and SQL Server.\n",
    "\n",
    "`NoSQL Databases:`\n",
    "- NoSQL databases are non-relational databases that provide a flexible and scalable approach to data storage and retrieval.\n",
    "- They use various data models like key-value pairs, documents, graphs, or column-family formats to store data.\n",
    "- NoSQL databases offer high scalability, availability, and performance for handling large volumes of data and high-traffic applications.\n",
    "- They are suitable for unstructured or semi-structured data, schema-less data, and distributed computing environments.\n",
    "- Examples of NoSQL databases include MongoDB, Cassandra, Redis, and Neo4j.\n",
    "\n",
    "In summary, the main difference between SQL and NoSQL databases lies in their data models, query languages, consistency models, and suitability for different types of data and application requirements. SQL databases are well-suited for structured data and complex relationships, while NoSQL databases excel in handling unstructured data, scalability, and high-performance scenarios."
   ]
  },
  {
   "cell_type": "code",
   "execution_count": null,
   "metadata": {},
   "outputs": [],
   "source": []
  },
  {
   "attachments": {},
   "cell_type": "markdown",
   "metadata": {},
   "source": [
    "<p style=\" color : #4233FF\"><b>Q2. What is DDL? Explain why CREATE, DROP, ALTER, and TRUNCATE are used with an example.<br></b></p>"
   ]
  },
  {
   "attachments": {},
   "cell_type": "markdown",
   "metadata": {},
   "source": [
    "DDL stands for Data Definition Language. It is a subset of SQL (Structured Query Language) that is used to define and manage the structure of a database, including creating, altering, and deleting database objects.\n",
    "\n",
    "Here are explanations and examples of how the CREATE, DROP, ALTER, and TRUNCATE statements are used in DDL:\n",
    "\n",
    "1. `CREATE:`\n",
    "The CREATE statement is used to create new database objects such as tables, indexes, views, or procedures. It specifies the name of the object, its columns or attributes, and any constraints.\n",
    "\n",
    "Example: Creating a new table named \"Employees\" with columns for ID, Name, and Salary.\n",
    "\n",
    "```\n",
    "CREATE TABLE Employees (\n",
    "    ID INT,\n",
    "    Name VARCHAR(50),\n",
    "    Salary DECIMAL(10, 2)\n",
    ");\n",
    "```\n",
    "\n",
    "2. `DROP:`\n",
    "The DROP statement is used to delete existing database objects, such as tables, indexes, or views. It permanently removes the object from the database.\n",
    "\n",
    "Example: Dropping the table \"Employees\" from the database.\n",
    "\n",
    "```\n",
    "DROP TABLE Employees;\n",
    "```\n",
    "\n",
    "3. `ALTER:`\n",
    "The ALTER statement is used to modify the structure of an existing database object. It allows you to add, modify, or drop columns, constraints, or other properties of a table.\n",
    "\n",
    "Example: Adding a new column named \"Age\" to the \"Employees\" table.\n",
    "\n",
    "```\n",
    "ALTER TABLE Employees\n",
    "ADD Age INT;\n",
    "```\n",
    "\n",
    "4. `TRUNCATE:`\n",
    "The TRUNCATE statement is used to delete all the data from a table while keeping its structure intact. It is a faster alternative to the DELETE statement when you want to remove all records from a table.\n",
    "\n",
    "Example: Truncating the table \"Employees\" to remove all its records.\n",
    "\n",
    "```\n",
    "TRUNCATE TABLE Employees;\n",
    "```\n"
   ]
  },
  {
   "cell_type": "code",
   "execution_count": null,
   "metadata": {},
   "outputs": [],
   "source": []
  },
  {
   "attachments": {},
   "cell_type": "markdown",
   "metadata": {},
   "source": [
    "<p style=\" color : #4233FF\"><b>Q3. What is DML? Explain INSERT, UPDATE, and DELETE with an example.<br></b></p>"
   ]
  },
  {
   "attachments": {},
   "cell_type": "markdown",
   "metadata": {},
   "source": [
    "DML stands for `Data Manipulation Language`. It is a subset of SQL (Structured Query Language) that is used to retrieve, insert, update, and delete data in a database. DML statements are used to perform operations on the data stored in database objects.\n",
    "\n",
    "Here are explanations and examples of how the INSERT, UPDATE, and DELETE statements are used in DML:\n",
    "\n",
    "1. `INSERT:`\n",
    "The INSERT statement is used to insert new records or data into a table. It allows you to specify the table name and the values to be inserted into the corresponding columns.\n",
    "\n",
    "Example: Inserting a new record into the \"Customers\" table with values for the columns \"Name\" and \"Email\".\n",
    "\n",
    "```\n",
    "INSERT INTO Customers (Name, Email)\n",
    "VALUES ('Gorachand', 'gora@gmail.com');\n",
    "```\n",
    "\n",
    "2. `UPDATE:`\n",
    "The UPDATE statement is used to modify or update existing records in a table. It allows you to specify the table name, the columns to be updated, and the new values.\n",
    "\n",
    "Example: Updating the \"Salary\" column for the record with an ID of 1 in the \"Employees\" table.\n",
    "\n",
    "```\n",
    "UPDATE Employees\n",
    "SET Salary = 5000\n",
    "WHERE ID = 1;\n",
    "```\n",
    "\n",
    "3. `DELETE:`\n",
    "The DELETE statement is used to delete existing records from a table. It allows you to specify the table name and the condition for selecting the records to be deleted.\n",
    "\n",
    "Example: Deleting all records from the \"Orders\" table where the status is 'Cancelled'.\n",
    "\n",
    "```\n",
    "DELETE FROM Orders\n",
    "WHERE Status = 'Cancelled';\n",
    "```\n"
   ]
  },
  {
   "cell_type": "code",
   "execution_count": null,
   "metadata": {},
   "outputs": [],
   "source": []
  },
  {
   "attachments": {},
   "cell_type": "markdown",
   "metadata": {},
   "source": [
    "<p style=\" color : #4233FF\"><b>Q4. What is DQL? Explain SELECT with an example.<br></b></p>"
   ]
  },
  {
   "attachments": {},
   "cell_type": "markdown",
   "metadata": {},
   "source": [
    "DQL stands for `Data Query Language`. It is a subset of SQL (Structured Query Language) that is used to retrieve data from a database. DQL statements are primarily focused on querying and retrieving data without modifying it.\n",
    "\n",
    "The most commonly used DQL statement is SELECT, which is used to retrieve data from one or more tables in a database. It allows you to specify the columns to be selected, the table(s) to retrieve data from, and optional conditions to filter the results.\n",
    "\n",
    "Example: Retrieving all records from the \"Customers\" table.\n",
    "\n",
    "```\n",
    "SELECT * FROM Customers;\n",
    "```\n",
    "\n",
    "This statement selects all columns (`*`) from the \"Customers\" table, returning all records present in the table.\n",
    "\n",
    "Example: Retrieving specific columns from the \"Employees\" table with a condition.\n",
    "\n",
    "```\n",
    "SELECT Name, Salary FROM Employees WHERE Department = 'IT';\n",
    "```\n",
    "\n",
    "This statement selects only the \"Name\" and \"Salary\" columns from the \"Employees\" table where the \"Department\" is 'IT'. It retrieves only the records that match the given condition.\n",
    "\n",
    "SELECT statements can be further enhanced with various clauses like ORDER BY, GROUP BY, JOIN, and more to customize the result set according to specific requirements."
   ]
  },
  {
   "cell_type": "code",
   "execution_count": null,
   "metadata": {},
   "outputs": [],
   "source": []
  },
  {
   "attachments": {},
   "cell_type": "markdown",
   "metadata": {},
   "source": [
    "<p style=\" color : #4233FF\"><b>Q5. Explain Primary Key and Foreign Key.<br></b></p>"
   ]
  },
  {
   "attachments": {},
   "cell_type": "markdown",
   "metadata": {},
   "source": [
    "In database management systems, a primary key and a foreign key are used to establish relationships between tables.\n",
    "\n",
    "A primary key is a column or a set of columns in a table that uniquely identifies each row in that table. It ensures that each row has a unique identity and serves as a unique identifier for referencing and accessing individual records. The primary key constraint enforces the uniqueness and integrity of the primary key column(s) by disallowing duplicate or null values. By designating a primary key, you can ensure the uniqueness and integrity of your data, and it provides a basis for establishing relationships with other tables.\n",
    "\n",
    "A foreign key, on the other hand, is a column or a set of columns in a table that refers to the primary key of another table. It establishes a relationship between two tables, where the foreign key column(s) in one table references the primary key column(s) in another table. This relationship allows you to associate and link data between tables. The foreign key constraint ensures that the values in the foreign key column(s) correspond to existing values in the referenced primary key column(s) or are null. It helps maintain data integrity and enforces referential integrity between related tables.\n",
    "\n",
    "Here's an example to illustrate the concept of primary key and foreign key:\n",
    "\n",
    "Consider two tables: \"Students\" and \"Courses.\"\n",
    "\n",
    "Table: Students\n",
    "-------------------------\n",
    "| StudentID | Name      |\n",
    "-------------------------\n",
    "|    1      | Gorachand |<br>\n",
    "|    2      | Laveena   |\n",
    "-------------------------\n",
    "\n",
    "Table: Courses\n",
    "----------------------------------------\n",
    "| CourseID | CourseName                |\n",
    "----------------------------------------\n",
    "|    101   |  Data Science             |<br>\n",
    "|    102   |  Full Stack Development   |\n",
    "----------------------------------------\n",
    "\n",
    "In this example, the \"StudentID\" column in the \"Students\" table can be designated as the primary key since it uniquely identifies each student. The primary key constraint ensures that each student has a unique ID.\n",
    "\n",
    "To establish a relationship between the \"Students\" and \"Courses\" table, you can create a foreign key in the \"Courses\" table that references the primary key \"StudentID\" in the \"Students\" table. This foreign key represents the association between students and the courses they are enrolled in.\n",
    "\n",
    "Table: Courses\n",
    "--------------------------------------------------\n",
    "| CourseID | CourseName              | StudentID |\n",
    "--------------------------------------------------\n",
    "|    101   |  Data Science           |     1     |<br>\n",
    "|    102   |  Full Stack Development |     2     |\n",
    "--------------------------------------------------\n",
    "\n",
    "In this example, the \"StudentID\" column in the \"Courses\" table is the foreign key that references the primary key \"StudentID\" in the \"Students\" table. This relationship allows you to link specific courses with the corresponding students.\n",
    "\n",
    "In summary, a primary key uniquely identifies each record in a table, while a foreign key establishes a relationship between tables by referencing the primary key of another table. The primary key ensures uniqueness and integrity within a table, while the foreign key facilitates associations and maintains referential integrity between related tables."
   ]
  },
  {
   "cell_type": "code",
   "execution_count": null,
   "metadata": {},
   "outputs": [],
   "source": []
  },
  {
   "attachments": {},
   "cell_type": "markdown",
   "metadata": {},
   "source": [
    "<p style=\" color : #4233FF\"><b>Q6. Write a python code to connect MySQL to python. Explain the cursor() and execute() method.<br></b></p>"
   ]
  },
  {
   "cell_type": "code",
   "execution_count": null,
   "metadata": {},
   "outputs": [],
   "source": [
    "import mysql.connector\n",
    "\n",
    "# Establishing the connection\n",
    "conn = mysql.connector.connect(\n",
    "    host=\"localhost\",\n",
    "    user=\"root\",\n",
    "    password=\"123456789\",\n",
    "    database=\"pwskills\"\n",
    ")\n",
    "\n",
    "# Creating a cursor object\n",
    "cursor = conn.cursor()\n",
    "\n",
    "# Executing a query\n",
    "query = \"SELECT * FROM students\"\n",
    "cursor.execute(query)\n",
    "\n",
    "# Fetching the results\n",
    "results = cursor.fetchall()\n",
    "\n",
    "# Printing the results\n",
    "for row in results:\n",
    "    print(row)\n",
    "\n",
    "# Closing the cursor and connection\n",
    "cursor.close()\n",
    "conn.close()\n"
   ]
  },
  {
   "attachments": {},
   "cell_type": "markdown",
   "metadata": {},
   "source": [
    "After establishing the connection, a cursor object is created using the `cursor()` method. The cursor serves as a pointer or handle to execute SQL queries and fetch the results.\n",
    "\n",
    "The execute() method is used to execute a SQL query. In this example, a simple SELECT query is executed to fetch all the records from a table. The query is passed as a parameter to the `execute()` method.\n",
    "\n",
    "Once the query is executed, the fetchall() method is used to retrieve all the results from the query execution. The results are stored in the results variable.\n",
    "\n",
    "Finally, the results are printed using a loop to display each row of the result set.\n",
    "\n",
    "After fetching the results and performing necessary operations, it is important to close the cursor and the connection using the close() method to release the resources and terminate the connection."
   ]
  },
  {
   "cell_type": "code",
   "execution_count": null,
   "metadata": {},
   "outputs": [],
   "source": []
  },
  {
   "attachments": {},
   "cell_type": "markdown",
   "metadata": {},
   "source": [
    "<p style=\" color : #4233FF\"><b>Q7. Give the order of execution of SQL clauses in an SQL query.<br></b></p>"
   ]
  },
  {
   "attachments": {},
   "cell_type": "markdown",
   "metadata": {},
   "source": [
    "1. FROM: The FROM clause specifies the table or tables from which the data is retrieved. It is typically the first clause in the query.\n",
    "\n",
    "2. JOIN: The JOIN clause is used to combine rows from multiple tables based on a related column between them.\n",
    "\n",
    "3. WHERE: The WHERE clause is used to filter the rows based on specified conditions.\n",
    "\n",
    "4. GROUP BY: The GROUP BY clause is used to group the result set based on specified columns.\n",
    "\n",
    "5. HAVING: The HAVING clause is used to filter the grouped rows based on specified conditions.\n",
    "\n",
    "6. SELECT: The SELECT clause is used to specify the columns or expressions to retrieve from the database.\n",
    "\n",
    "7. DISTINCT: The DISTINCT keyword is used to eliminate duplicate rows from the result set.\n",
    "\n",
    "8. ORDER BY: The ORDER BY clause is used to sort the result set based on specified columns or expressions."
   ]
  },
  {
   "attachments": {},
   "cell_type": "markdown",
   "metadata": {},
   "source": [
    "\n",
    "<h1 style = 'color:orange'>\n",
    "    <b><div>THANK YOU</div></b>\n",
    "</h1>\n"
   ]
  }
 ],
 "metadata": {
  "kernelspec": {
   "display_name": "Python 3",
   "language": "python",
   "name": "python3"
  },
  "language_info": {
   "codemirror_mode": {
    "name": "ipython",
    "version": 3
   },
   "file_extension": ".py",
   "mimetype": "text/x-python",
   "name": "python",
   "nbconvert_exporter": "python",
   "pygments_lexer": "ipython3",
   "version": "3.11.2"
  },
  "orig_nbformat": 4
 },
 "nbformat": 4,
 "nbformat_minor": 2
}
