{
 "cells": [
  {
   "attachments": {},
   "cell_type": "markdown",
   "metadata": {},
   "source": [
    "<h1 style = 'color:red'><b>Week-6, Flask-2 Assignment</b><h1>"
   ]
  },
  {
   "attachments": {},
   "cell_type": "markdown",
   "metadata": {},
   "source": [
    "Name - Gorachanda Dash <br>\n",
    "Date - 20 Feb 2023\n",
    "Week 6, Flask"
   ]
  },
  {
   "attachments": {},
   "cell_type": "markdown",
   "metadata": {},
   "source": [
    "<p style=\" color : #4233FF\"><b>Q1. Explain GET and POST methods.<br></b></p>"
   ]
  },
  {
   "attachments": {},
   "cell_type": "markdown",
   "metadata": {},
   "source": [
    "In web development, the GET and POST methods are two commonly used HTTP request methods. They define the type of request being sent to a server and how the server should handle that request. Here's an explanation of each method:\n",
    "\n",
    "1. GET Method:\n",
    "   - The GET method is used to request data from a server.\n",
    "   - It retrieves data from a specified resource without modifying or altering it.\n",
    "   - The requested data is appended in the URL as query parameters.\n",
    "   - GET requests can be cached, bookmarked, and shared as the data is exposed in the URL.\n",
    "   - It is generally used for safe, idempotent operations (operations that can be repeated without changing the result).\n",
    "   - For example, when you enter a URL in your browser's address bar and load a web page, it typically uses the GET method to retrieve the HTML content of that page.\n",
    "\n",
    "2. POST Method:\n",
    "   - The POST method is used to submit data to be processed by a server.\n",
    "   - It sends data to the server in the body of the HTTP request.\n",
    "   - POST requests are not cached and cannot be bookmarked or shared via URL alone.\n",
    "   - It is suitable for operations that modify or create new resources on the server.\n",
    "   - POST requests can contain sensitive information as the data is not exposed in the URL.\n",
    "   - For example, when you submit a form on a website, such as a registration form or a comment form, the form data is sent to the server using the POST method.\n",
    "\n",
    "In summary, the GET method is used for retrieving data from a server, while the POST method is used for submitting data to a server for processing or creating new resources. The choice between GET and POST depends on the purpose of the request and the type of operation you want to perform."
   ]
  },
  {
   "cell_type": "code",
   "execution_count": null,
   "metadata": {},
   "outputs": [],
   "source": []
  },
  {
   "attachments": {},
   "cell_type": "markdown",
   "metadata": {},
   "source": [
    "<p style=\" color : #4233FF\"><b>Q2. Why is request used in Flask?<br></b></p>"
   ]
  },
  {
   "attachments": {},
   "cell_type": "markdown",
   "metadata": {},
   "source": [
    "The `request` object in Flask is used to handle incoming client requests in a Flask application. It provides access to the data sent by the client in the HTTP request, such as form data, query parameters, headers, cookies, and more. Here are some reasons why the `request` object is used in Flask:\n",
    "\n",
    "1. Accessing Form Data: When a client submits a form on a web page, the form data is included in the request. The `request` object allows you to access this form data and extract values submitted by the user.\n",
    "\n",
    "2. Handling Query Parameters: Query parameters are used to send data in the URL, typically in a GET request. The `request` object allows you to access and process these query parameters.\n",
    "\n",
    "3. Handling Request Headers: HTTP headers provide additional information about the request. The `request` object gives you access to request headers, such as the user agent, content type, and more.\n",
    "\n",
    "4. Managing Cookies: Cookies are used to store and retrieve user-specific data. The `request` object allows you to handle cookies by accessing, setting, and deleting cookie values.\n",
    "\n",
    "5. Uploading Files: The `request` object provides methods to handle file uploads. It allows you to retrieve files uploaded by the client and save them to the server.\n",
    "\n",
    "By using the `request` object, you can extract and process data sent by the client, enabling you to build dynamic and interactive web applications in Flask. It provides a convenient interface to handle various aspects of the client's request, making it easier to work with incoming data and customize the application's behavior accordingly."
   ]
  },
  {
   "attachments": {},
   "cell_type": "markdown",
   "metadata": {},
   "source": [
    "<p style=\" color : #4233FF\"><b>Q3. Why is redirect() used in Flask?<br></b></p>"
   ]
  },
  {
   "attachments": {},
   "cell_type": "markdown",
   "metadata": {},
   "source": [
    "The `redirect()` function in Flask is used to redirect the client's web browser to a different URL. It is commonly used when you want to redirect the user to another page or route in your Flask application. Here are some reasons why the `redirect()` function is used:\n",
    "\n",
    "1. Page Redirection: When a user performs a certain action or accesses a specific route, you may want to redirect them to another page or route. The `redirect()` function allows you to specify the URL where the user should be redirected, and the client's browser will automatically navigate to that URL.\n",
    "\n",
    "2. Handling Form Submissions: After processing a form submission, it is often desirable to redirect the user to a different page to display the result or prevent the resubmission of form data. The `redirect()` function is commonly used in conjunction with form submissions to redirect the user to a thank you page, success page, or any other relevant page.\n",
    "\n",
    "3. Handling Authentication and Authorization: When implementing authentication and authorization in a Flask application, you may need to redirect the user to a login page or a different page based on their authentication status or permissions. The `redirect()` function is used to redirect the user to the appropriate page based on the authentication and authorization logic.\n",
    "\n",
    "4. URL Building: The `redirect()` function can also be used in combination with the `url_for()` function to perform URL building. This allows you to dynamically generate URLs based on route names and arguments, ensuring that the redirection is accurate and follows the defined routes in your application.\n",
    "\n",
    "By using the `redirect()` function, you can control the flow of the application and guide the user to different pages or routes based on specific conditions or actions. It provides a seamless way to navigate between different parts of the application and enhance the user experience."
   ]
  },
  {
   "cell_type": "code",
   "execution_count": null,
   "metadata": {},
   "outputs": [],
   "source": []
  },
  {
   "attachments": {},
   "cell_type": "markdown",
   "metadata": {},
   "source": [
    "<p style=\" color : #4233FF\"><b>Q4. What are templates in Flask? Why is the render_template() function used?<br></b></p>"
   ]
  },
  {
   "attachments": {},
   "cell_type": "markdown",
   "metadata": {},
   "source": [
    "In Flask, templates are used to separate the presentation logic from the application logic. Templates allow you to create dynamic HTML or other types of files that are rendered with dynamic data. They provide a way to generate dynamic content by combining static content with placeholders or variables that are replaced with actual values during rendering.\n",
    "\n",
    "The `render_template()` function in Flask is used to render a template by providing the name of the template file and any data that needs to be passed to the template. Here are some reasons why the `render_template()` function is used:\n",
    "\n",
    "1. Dynamic Content Generation: The `render_template()` function allows you to generate dynamic content by rendering templates with dynamic data. You can pass variables, objects, or any other data to the template, and they can be accessed and displayed in the rendered template. This enables you to create dynamic web pages that can adapt to different data or user inputs.\n",
    "\n",
    "2. Separation of Concerns: Templates help separate the presentation logic from the application logic. By using templates, you can focus on developing the application's functionality in the views or routes, while the templates handle the visual representation of the data. This separation improves code organization, readability, and maintainability.\n",
    "\n",
    "3. Reusability: Templates can be reused across multiple routes or views in your Flask application. You can define common elements such as headers, footers, or navigation bars in separate templates and include or extend them in other templates. This promotes code reuse and reduces duplication of code.\n",
    "\n",
    "4. HTML/CSS Structure: Templates allow you to define the structure and layout of the HTML pages. You can define the HTML structure, CSS classes, and styles in the templates, making it easier to maintain consistent visual presentation throughout your application.\n",
    "\n",
    "Overall, the `render_template()` function is a powerful tool in Flask that enables you to generate dynamic content and render templates with data. It helps in separating the presentation logic from the application logic, promotes code reuse, and allows for a flexible and maintainable web application development."
   ]
  },
  {
   "cell_type": "code",
   "execution_count": null,
   "metadata": {},
   "outputs": [],
   "source": []
  },
  {
   "attachments": {},
   "cell_type": "markdown",
   "metadata": {},
   "source": [
    "<p style=\" color : #4233FF\"><b>Q5. Create a simple API. Use Postman to test it. Attach the screenshot of the output in the Jupyter Notebook.<br></b></p>"
   ]
  },
  {
   "cell_type": "code",
   "execution_count": null,
   "metadata": {},
   "outputs": [],
   "source": [
    "from flask import Flask, jsonify\n",
    "app = Flask(__name__)\n",
    "app = Flask(__name__)\n",
    "@app.route('/api/hello', methods=['GET'])\n",
    "def hello():\n",
    "    return jsonify({'message': 'Hello, World!'})\n",
    "if __name__ == '__main__':\n",
    "    app.run(debug=True)"
   ]
  },
  {
   "attachments": {
    "image.png": {
     "image/png": "[encoded data removed]"
    }
   },
   "cell_type": "markdown",
   "metadata": {},
   "source": [
    "![image.png](attachment:image.png)"
   ]
  },
  {
   "attachments": {},
   "cell_type": "markdown",
   "metadata": {},
   "source": [
    "\n",
    "<h1 style = 'color:orange'>\n",
    "    <b><div>THANK YOU</div></b>\n",
    "</h1>\n"
   ]
  }
 ],
 "metadata": {
  "kernelspec": {
   "display_name": "Python 3",
   "language": "python",
   "name": "python3"
  },
  "language_info": {
   "codemirror_mode": {
    "name": "ipython",
    "version": 3
   },
   "file_extension": ".py",
   "mimetype": "text/x-python",
   "name": "python",
   "nbconvert_exporter": "python",
   "pygments_lexer": "ipython3",
   "version": "3.11.2"
  },
  "orig_nbformat": 4
 },
 "nbformat": 4,
 "nbformat_minor": 2
}
