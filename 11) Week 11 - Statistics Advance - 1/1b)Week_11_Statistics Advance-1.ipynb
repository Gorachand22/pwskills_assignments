{
  "cells": [
    {
      "cell_type": "markdown",
      "metadata": {
        "id": "jHKORN_4cJKm"
      },
      "source": [
        "<h1 style = 'color:red'><b>Week-11, Statistics Advance-1 Assignment</b><h1>"
      ]
    },
    {
      "cell_type": "markdown",
      "metadata": {
        "id": "dVUW29xlcJKo"
      },
      "source": [
        "Name - Gorachanda Dash <br>\n",
        "Date - 08-Mar-2023<br>\n",
        "Week 11, Statistics Advance-1 Assignment"
      ]
    },
    {
      "cell_type": "markdown",
      "metadata": {
        "id": "fKnfvSL5cJK2"
      },
      "source": [
        "<p style=\" color : #4233FF\"><b>Q1. What is the Probability density function?</b></p>"
      ]
    },
    {
      "cell_type": "markdown",
      "metadata": {},
      "source": [
        "The Probability Density Function (PDF) is a statistical concept used in probability theory to describe the likelihood of a continuous random variable taking on a specific value or falling within a certain range of values. It provides a mathematical model that characterizes the probability distribution of a continuous random variable.\n",
        "\n",
        "In mathematical terms, the PDF is denoted by \"f(x)\" and is defined such that the probability of the random variable \"X\" lying between two values \"a\" and \"b\" is given by the integral of the PDF over that range:\n",
        "\n",
        "P(a ≤ X ≤ b) = ∫(from a to b) f(x) dx\n",
        "\n",
        "The PDF has the following properties:\n",
        "1. The PDF is non-negative for all values of the random variable (f(x) ≥ 0).\n",
        "2. The total area under the PDF curve over the entire range of the random variable is equal to 1, indicating that the probability of the random variable taking any possible value is 100%.\n",
        "\n",
        "The PDF is particularly useful in continuous probability distributions, such as the normal distribution, exponential distribution, and uniform distribution, where the random variable can take on an infinite number of possible values within a specific range. It helps in understanding the likelihood of different outcomes and calculating probabilities associated with specific events or intervals in the continuous data."
      ]
    },
    {
      "cell_type": "code",
      "execution_count": null,
      "metadata": {},
      "outputs": [],
      "source": []
    },
    {
      "cell_type": "markdown",
      "metadata": {
        "id": "l7nokEV7cJK3"
      },
      "source": [
        "<p style=\" color : #4233FF\"><b>Q2. What are the types of Probability distribution?</b></p>"
      ]
    },
    {
      "cell_type": "markdown",
      "metadata": {},
      "source": [
        "There are several types of probability distributions, and they can be broadly categorized into two main types: discrete probability distributions and continuous probability distributions.\n",
        "\n",
        "1. `Discrete Probability Distributions:`\n",
        "Discrete probability distributions deal with random variables that can only take on a finite or countably infinite number of distinct values. Each value of the random variable is associated with a probability of occurrence. Some common examples of discrete probability distributions include:\n",
        "   - Bernoulli Distribution: Represents a binary outcome with two possible values, usually denoted as 0 and 1.\n",
        "   - Binomial Distribution: Describes the number of successes in a fixed number of independent Bernoulli trials.\n",
        "   - Poisson Distribution: Models the number of events occurring in a fixed interval of time or space.\n",
        "\n",
        "2. `Continuous Probability Distributions:`\n",
        "Continuous probability distributions deal with random variables that can take on any value within a specific range. These distributions are characterized by probability density functions (PDFs) instead of probability mass functions used in discrete distributions. Some common examples of continuous probability distributions include:\n",
        "   - Normal Distribution (Gaussian Distribution): A symmetric bell-shaped distribution widely used in statistics due to the Central Limit Theorem.\n",
        "   - Uniform Distribution: Represents a constant probability of occurrence for any value within a given interval.\n",
        "   - Exponential Distribution: Models the time between events occurring in a Poisson process."
      ]
    },
    {
      "cell_type": "code",
      "execution_count": null,
      "metadata": {},
      "outputs": [],
      "source": []
    },
    {
      "cell_type": "markdown",
      "metadata": {
        "id": "HMuh9StycJK3"
      },
      "source": [
        "<p style=\" color : #4233FF\"><b>Q3. Write a Python function to calculate the probability density function of a normal distribution with given mean and standard deviation at a given point.</b>\n",
        "</p>"
      ]
    },
    {
      "attachments": {
        "image.png": {
          "image/png": "[encoded data removed]"
        }
      },
      "cell_type": "markdown",
      "metadata": {},
      "source": [
        "![image.png](attachment:image.png)"
      ]
    },
    {
      "cell_type": "code",
      "execution_count": 1,
      "metadata": {},
      "outputs": [
        {
          "name": "stdout",
          "output_type": "stream",
          "text": [
            "PDF at x = 1.5 is 0.1295\n"
          ]
        }
      ],
      "source": [
        "import numpy as np\n",
        "\n",
        "def normal_pdf(x, mean, std_dev):\n",
        "    # Calculate the probability density function of a normal distribution at a given point.\n",
        "    # Parameters:\n",
        "    # x (float): The point at which to calculate the PDF.\n",
        "    # mean (float): The mean of the normal distribution.\n",
        "    # std_dev (float): The standard deviation of the normal distribution.\n",
        "\n",
        "    coefficient = 1 / (std_dev * np.sqrt(2 * np.pi))\n",
        "    exponent = -((x - mean) ** 2) / (2 * std_dev ** 2)\n",
        "    pdf_value = coefficient * np.exp(exponent)\n",
        "    return pdf_value\n",
        "\n",
        "\n",
        "mean = 0\n",
        "std_dev = 1\n",
        "x_value = 1.5\n",
        "pdf_value = normal_pdf(x_value, mean, std_dev)\n",
        "print(f\"PDF at x = {x_value} is {pdf_value:.4f}\")\n"
      ]
    },
    {
      "cell_type": "code",
      "execution_count": null,
      "metadata": {},
      "outputs": [],
      "source": []
    },
    {
      "cell_type": "markdown",
      "metadata": {
        "id": "9aKHN4uEcJK4"
      },
      "source": [
        "<p style=\" color : #4233FF\"><b>Q4. What are the properties of Binomial distribution? Give two examples of events where binomial distribution can be applied.</b>\n",
        "</p>"
      ]
    },
    {
      "cell_type": "markdown",
      "metadata": {},
      "source": [
        "The properties of the binomial distribution are as follows:\n",
        "\n",
        "1. The binomial distribution represents the number of successes in a fixed number of independent Bernoulli trials (experiments), where each trial has two possible outcomes: success or failure.\n",
        "2. Each trial is independent, meaning the outcome of one trial does not affect the outcome of other trials.\n",
        "3. The probability of success (denoted by \\(p\\)) remains constant for each trial, and the probability of failure (\\(1 - p\\)) is also constant.\n",
        "4. The random variable \\(X\\) represents the number of successes in \\(n\\) trials, and \\(X\\) follows a binomial distribution with parameters \\(n\\) (number of trials) and \\(p\\) (probability of success).\n",
        "\n",
        "Two examples of events where the binomial distribution can be applied are:\n",
        "\n",
        "1. `Tossing a Coin:` Consider tossing a fair coin (where the probability of getting heads is \\(p = 0.5\\)) 10 times. The number of times we get heads in these 10 tosses follows a binomial distribution with \\(n = 10\\) and \\(p = 0.5\\).\n",
        "\n",
        "2. `Quality Control in Manufacturing:` In a manufacturing process, a quality control team inspects a batch of 100 products. The probability of a product being defective is \\(p = 0.10\\). The team counts the number of defective products in the batch, and this count follows a binomial distribution with \\(n = 100\\) and \\(p = 0.10\\)."
      ]
    },
    {
      "cell_type": "code",
      "execution_count": null,
      "metadata": {},
      "outputs": [],
      "source": []
    },
    {
      "cell_type": "markdown",
      "metadata": {
        "id": "z2avHLHDcJK4"
      },
      "source": [
        "<p style=\" color : #4233FF\"><b>Q5. Generate a random sample of size 1000 from a binomial distribution with probability of success 0.4 and plot a histogram of the results using matplotlib.</b>\n",
        "</p>"
      ]
    },
    {
      "cell_type": "code",
      "execution_count": 2,
      "metadata": {},
      "outputs": [
        {
          "data": {
            "image/png": "[encoded data removed]",
            "text/plain": [
              "<Figure size 640x480 with 1 Axes>"
            ]
          },
          "metadata": {},
          "output_type": "display_data"
        }
      ],
      "source": [
        "import numpy as np\n",
        "import matplotlib.pyplot as plt\n",
        "\n",
        "# Parameters for the binomial distribution\n",
        "n = 10  # Number of trials\n",
        "p = 0.4  # Probability of success\n",
        "\n",
        "# Generate the random sample\n",
        "random_sample = np.random.binomial(n, p, 1000)\n",
        "\n",
        "# Plot the histogram\n",
        "plt.hist(random_sample, bins=range(n+2), align='left', rwidth=0.8, density=True)\n",
        "plt.xlabel('Number of Successes')\n",
        "plt.ylabel('Probability')\n",
        "plt.title('Histogram of Random Sample from Binomial Distribution')\n",
        "plt.xticks(range(n+1))\n",
        "plt.show()\n"
      ]
    },
    {
      "cell_type": "code",
      "execution_count": null,
      "metadata": {},
      "outputs": [],
      "source": []
    },
    {
      "cell_type": "markdown",
      "metadata": {},
      "source": [
        "<p style=\" color : #4233FF\"><b>Q6. Write a Python function to calculate the cumulative distribution function of a Poisson distribution with given mean at a given point.</b>\n",
        "</p>"
      ]
    },
    {
      "cell_type": "code",
      "execution_count": 3,
      "metadata": {},
      "outputs": [
        {
          "data": {
            "text/plain": [
              "1.0"
            ]
          },
          "execution_count": 3,
          "metadata": {},
          "output_type": "execute_result"
        }
      ],
      "source": [
        "from scipy.stats import poisson\n",
        "\n",
        "def poisson_cdf(mean, k):\n",
        "\n",
        "    # Parameters:\n",
        "    # mean (float): Mean of the Poisson distribution.\n",
        "    # k (int): Point at which to calculate the CDF.\n",
        "    \n",
        "    return poisson.cdf(k, mu=mean)\n",
        "\n",
        "poisson_cdf(0, 4)\n"
      ]
    },
    {
      "cell_type": "code",
      "execution_count": null,
      "metadata": {},
      "outputs": [],
      "source": []
    },
    {
      "cell_type": "markdown",
      "metadata": {},
      "source": [
        "<p style=\" color : #4233FF\"><b>Q7. How Binomial distribution different from Poisson distribution?</b>\n",
        "</p>"
      ]
    },
    {
      "cell_type": "markdown",
      "metadata": {},
      "source": [
        "The Binomial distribution and Poisson distribution are both probability distributions used in statistics, but they have different characteristics and applications:\n",
        "\n",
        "1. `Binomial Distribution:`\n",
        "   - The binomial distribution is used to model the number of successes in a fixed number of independent Bernoulli trials, where each trial has only two possible outcomes: success or failure.\n",
        "   - The trials are independent and have the same probability of success (p) in each trial.\n",
        "   - The random variable in a binomial distribution is discrete and represents the number of successes in the fixed number of trials.\n",
        "   - The probability mass function (PMF) of the binomial distribution gives the probability of getting exactly k successes in n trials.\n",
        "   - The binomial distribution is commonly used in scenarios where there are only two possible outcomes in each trial, such as coin flips, success/failure experiments, or yes/no questions.\n",
        "\n",
        "2. `Poisson Distribution:`\n",
        "   - The Poisson distribution is used to model the number of events that occur in a fixed interval of time or space, given the average rate of occurrence (λ) and assuming events occur independently and at a constant rate.\n",
        "   - The random variable in a Poisson distribution is also discrete and represents the count of events occurring in the given interval.\n",
        "   - The probability mass function (PMF) of the Poisson distribution gives the probability of observing k events in the interval.\n",
        "   - The Poisson distribution is commonly used in scenarios where events occur randomly in time or space, such as the number of customer arrivals in a given time period, the number of accidents on a road in a day, or the number of defects in a product.\n",
        "\n",
        "In summary, the main difference between the two distributions lies in the nature of the trials or events they model. The binomial distribution deals with a fixed number of independent trials with two outcomes, while the Poisson distribution deals with the count of events occurring in a fixed interval with a known average rate."
      ]
    },
    {
      "cell_type": "code",
      "execution_count": null,
      "metadata": {},
      "outputs": [],
      "source": []
    },
    {
      "cell_type": "markdown",
      "metadata": {},
      "source": [
        "<p style=\" color : #4233FF\"><b>Q8. Generate a random sample of size 1000 from a Poisson distribution with mean 5 and calculate the sample mean and variance.</b>\n",
        "</p>"
      ]
    },
    {
      "cell_type": "code",
      "execution_count": 4,
      "metadata": {},
      "outputs": [
        {
          "name": "stdout",
          "output_type": "stream",
          "text": [
            "Sample Mean: 4.934\n",
            "Sample Variance: 4.879644\n"
          ]
        }
      ],
      "source": [
        "import numpy as np\n",
        "\n",
        "# Parameters\n",
        "mean = 5\n",
        "sample_size = 1000\n",
        "\n",
        "# Generate random sample from Poisson distribution\n",
        "random_sample = np.random.poisson(mean, sample_size)\n",
        "\n",
        "# Calculate sample mean and variance\n",
        "sample_mean = np.mean(random_sample)\n",
        "sample_variance = np.var(random_sample)\n",
        "\n",
        "print(\"Sample Mean:\", sample_mean)\n",
        "print(\"Sample Variance:\", sample_variance)\n"
      ]
    },
    {
      "cell_type": "code",
      "execution_count": null,
      "metadata": {},
      "outputs": [],
      "source": []
    },
    {
      "cell_type": "markdown",
      "metadata": {},
      "source": [
        "<p style=\" color : #4233FF\"><b>Q9. How mean and variance are related in Binomial distribution and Poisson distribution?</b>\n",
        "</p>"
      ]
    },
    {
      "cell_type": "markdown",
      "metadata": {},
      "source": [
        "In both the Binomial distribution and Poisson distribution, the mean (μ) and variance (σ^2) are related, but the way they are related is different.\n",
        "\n",
        "For the `Binomial distribution:`\n",
        "- Mean (μ) = n * p\n",
        "- Variance (σ^2) = n * p * (1 - p)\n",
        "\n",
        "Where:\n",
        "- n is the number of trials\n",
        "- p is the probability of success in each trial\n",
        "\n",
        "In the `Binomial distribution`, the variance depends on both the number of trials (n) and the probability of success (p).\n",
        "\n",
        "For the `Poisson distribution:`\n",
        "- Mean (μ) = λ\n",
        "- Variance (σ^2) = λ\n",
        "\n",
        "Where:\n",
        "- λ (lambda) is the rate parameter, which represents the average number of events in a fixed interval.\n",
        "\n",
        "In the Poisson distribution, the variance is equal to the mean (λ), and it is solely determined by the rate parameter.\n",
        "\n",
        "In summary, for the Binomial distribution, the variance depends on both the number of trials and the probability of success, while in the Poisson distribution, the variance is equal to the mean and depends only on the rate parameter."
      ]
    },
    {
      "cell_type": "code",
      "execution_count": null,
      "metadata": {},
      "outputs": [],
      "source": []
    },
    {
      "cell_type": "markdown",
      "metadata": {},
      "source": [
        "<p style=\" color : #4233FF\"><b>Q10. In normal distribution with respect to mean position, where does the least frequent data appear?</b>\n",
        "</p>"
      ]
    },
    {
      "cell_type": "markdown",
      "metadata": {},
      "source": [
        "In a `normal distribution`, the least frequent data points appear in the tails of the distribution, farthest away from the mean. The normal distribution is symmetric, so data points are equally distributed on both sides of the mean. As we move away from the mean towards the tails, the frequency of data points decreases, making the extreme values the least frequent.\n",
        "\n",
        "In a standard normal distribution (mean = 0 and standard deviation = 1), approximately 68% of the data falls within one standard deviation from the mean, 95% falls within two standard deviations, and about 99.7% falls within three standard deviations. The data beyond three standard deviations (in the tails) is the least frequent and represents extreme values."
      ]
    },
    {
      "cell_type": "markdown",
      "metadata": {
        "id": "eOINuiGOcJK4"
      },
      "source": [
        "<h1 style = 'color:orange'>\n",
        "    <b><div>THANK YOU</div></b>\n",
        "</h1>\n"
      ]
    }
  ],
  "metadata": {
    "colab": {
      "provenance": []
    },
    "kernelspec": {
      "display_name": "Python 3",
      "language": "python",
      "name": "python3"
    },
    "language_info": {
      "codemirror_mode": {
        "name": "ipython",
        "version": 3
      },
      "file_extension": ".py",
      "mimetype": "text/x-python",
      "name": "python",
      "nbconvert_exporter": "python",
      "pygments_lexer": "ipython3",
      "version": "3.11.2"
    },
    "orig_nbformat": 4
  },
  "nbformat": 4,
  "nbformat_minor": 0
}
