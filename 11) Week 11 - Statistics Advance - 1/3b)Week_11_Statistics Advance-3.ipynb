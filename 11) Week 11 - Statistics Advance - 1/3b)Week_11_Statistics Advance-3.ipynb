{
  "cells": [
    {
      "cell_type": "markdown",
      "metadata": {
        "id": "jHKORN_4cJKm"
      },
      "source": [
        "<h1 style = 'color:red'><b>Week-11, Statistics Advance-3 Assignment</b><h1>"
      ]
    },
    {
      "cell_type": "markdown",
      "metadata": {
        "id": "dVUW29xlcJKo"
      },
      "source": [
        "Name - Gorachanda Dash <br>\n",
        "Date - 10-Mar-2023<br>\n",
        "Week 11, Statistics Advance-3 Assignment"
      ]
    },
    {
      "cell_type": "markdown",
      "metadata": {
        "id": "fKnfvSL5cJK2"
      },
      "source": [
        "<p style=\" color : #4233FF\"><b>Q1: What is Estimation Statistics? Explain point estimate and interval estimate.</b></p>"
      ]
    },
    {
      "cell_type": "markdown",
      "metadata": {},
      "source": [
        "Estimation statistics is a branch of inferential statistics that deals with estimating unknown population parameters based on sample data. In many real-world scenarios, it is often impractical or impossible to collect data from an entire population. Instead, we take a sample from the population and use it to make inferences about the population parameters.\n",
        "\n",
        "1. `Point Estimate:`\n",
        "A point estimate is a single value that is used to estimate the value of an unknown population parameter. It is based on a single sample and provides a best guess of the parameter's value. For example, if we want to estimate the mean height of all adult males in a city, we can take a sample of adult males and calculate their mean height. The resulting value is the point estimate of the population mean height.\n",
        "\n",
        "2. `Interval Estimate (Confidence Interval):`\n",
        "An interval estimate, also known as a confidence interval, is a range of values that is likely to contain the true value of the population parameter with a certain level of confidence. It is expressed as an interval, typically in the form of \"estimate ± margin of error.\" For example, if we calculate a 95% confidence interval for the mean height of adult males, it means that we are 95% confident that the true population mean height lies within that interval.\n",
        "\n",
        "The key difference between a point estimate and an interval estimate is that a point estimate provides a single value, while an interval estimate provides a range of values. Interval estimates are considered more informative and useful because they provide a measure of uncertainty and give us an idea of the variability of the estimate.\n",
        "\n",
        "Both point estimates and interval estimates are essential in statistical inference, as they allow us to draw conclusions about the population based on sample data and quantify the uncertainty associated with our estimates."
      ]
    },
    {
      "cell_type": "code",
      "execution_count": null,
      "metadata": {},
      "outputs": [],
      "source": []
    },
    {
      "cell_type": "markdown",
      "metadata": {
        "id": "l7nokEV7cJK3"
      },
      "source": [
        "<p style=\" color : #4233FF\"><b>Q2. Write a Python function to estimate the population mean using a sample mean and standard deviation.</b></p>"
      ]
    },
    {
      "cell_type": "code",
      "execution_count": 10,
      "metadata": {},
      "outputs": [
        {
          "name": "stdout",
          "output_type": "stream",
          "text": [
            "Estimated population mean: 25\n",
            "95% Confidence interval: (24.02, 25.98)\n"
          ]
        }
      ],
      "source": [
        "import numpy as np     \n",
        "import scipy.stats as st\n",
        "def estimate_population_mean(sample_mean, sample_std_dev, sample_size):\n",
        "    # Calculate the standard error of the mean (SEM)\n",
        "    sem = sample_std_dev / np.sqrt(sample_size)\n",
        "    \n",
        "    # Calculate the margin of error (using a 95% confidence level, z-score is 1.96)\n",
        "    margin_of_error = st.norm.ppf((1-(0.05/2))) * sem\n",
        "    \n",
        "    # Calculate the lower and upper bounds of the confidence interval\n",
        "    lower_bound = sample_mean - margin_of_error\n",
        "    upper_bound = sample_mean + margin_of_error\n",
        "    \n",
        "    # Return the population mean estimate and confidence interval\n",
        "    return sample_mean, (round(lower_bound,2), round(upper_bound,2))\n",
        "\n",
        "# Example usage\n",
        "sample_mean = 25\n",
        "sample_std_dev = 5\n",
        "sample_size = 100\n",
        "population_mean, confidence_interval = estimate_population_mean(sample_mean, sample_std_dev, sample_size)\n",
        "print(\"Estimated population mean:\", population_mean)\n",
        "print(\"95% Confidence interval:\", confidence_interval)\n"
      ]
    },
    {
      "cell_type": "code",
      "execution_count": null,
      "metadata": {},
      "outputs": [],
      "source": []
    },
    {
      "cell_type": "markdown",
      "metadata": {
        "id": "HMuh9StycJK3"
      },
      "source": [
        "<p style=\" color : #4233FF\"><b>Q3: What is Hypothesis testing? Why is it used? State the importance of Hypothesis testing.</b>\n",
        "</p>"
      ]
    },
    {
      "cell_type": "markdown",
      "metadata": {},
      "source": [
        "Hypothesis testing is a statistical method used to make inferences about a population based on a sample of data. It involves testing a hypothesis or claim about a population parameter, such as the population mean or proportion, using sample data. The main goal of hypothesis testing is to determine whether there is enough evidence in the data to reject or support the null hypothesis, which is the default assumption that there is no effect or no difference.\n",
        "\n",
        "`Importance of Hypothesis Testing:`\n",
        "1. `Drawing conclusions from data:` Hypothesis testing allows us to draw conclusions and make decisions based on evidence from sample data. It provides a systematic way to determine whether the observed differences or effects are significant or just due to random chance.\n",
        "\n",
        "2. `Decision-making in research and business:` Hypothesis testing is widely used in scientific research, business, medicine, and many other fields to test hypotheses and make informed decisions. It helps researchers and decision-makers determine the effectiveness of treatments, the impact of interventions, and the validity of claims.\n",
        "\n",
        "3. `Reducing bias and subjectivity:` Hypothesis testing provides an objective and standardized approach to evaluating claims and drawing conclusions. It helps reduce bias and subjectivity that might arise from human judgment alone.\n",
        "\n",
        "4. `Comparing groups and populations:` Hypothesis testing is essential for comparing different groups or populations to determine whether they are statistically different or similar. For example, it is used to compare the performance of two drugs, the effectiveness of marketing strategies, or the difference in customer satisfaction between two regions.\n",
        "\n",
        "5. `Establishing scientific validity:` In scientific research, hypothesis testing is crucial for establishing the validity and reliability of findings. It ensures that the results are not merely due to chance or random variations in the data.\n",
        "\n",
        "Overall, hypothesis testing is a fundamental tool in statistics and data analysis that provides a rigorous and systematic approach to drawing conclusions from data, making informed decisions, and advancing scientific knowledge."
      ]
    },
    {
      "cell_type": "code",
      "execution_count": null,
      "metadata": {},
      "outputs": [],
      "source": []
    },
    {
      "cell_type": "markdown",
      "metadata": {
        "id": "9aKHN4uEcJK4"
      },
      "source": [
        "<p style=\" color : #4233FF\"><b>Q4. Create a hypothesis that states whether the average weight of male college students is greater than the average weight of female college students.</b>\n",
        "</p>"
      ]
    },
    {
      "cell_type": "markdown",
      "metadata": {},
      "source": [
        "`Null Hypothesis (H0):` The average weight of male college students is equal to or less than the average weight of female college students.\n",
        "\n",
        "`Alternative Hypothesis (H1):` The average weight of male college students is greater than the average weight of female college students."
      ]
    },
    {
      "cell_type": "code",
      "execution_count": null,
      "metadata": {},
      "outputs": [],
      "source": []
    },
    {
      "cell_type": "markdown",
      "metadata": {
        "id": "z2avHLHDcJK4"
      },
      "source": [
        "<p style=\" color : #4233FF\"><b>Q5. Write a Python script to conduct a hypothesis test on the difference between two population means, given a sample from each population.</b>\n",
        "</p>"
      ]
    },
    {
      "cell_type": "markdown",
      "metadata": {},
      "source": [
        "To conduct a hypothesis test on the difference between two population means, we can use the t-test for independent samples (also known as the two-sample t-test)."
      ]
    },
    {
      "cell_type": "code",
      "execution_count": 12,
      "metadata": {},
      "outputs": [
        {
          "name": "stdout",
          "output_type": "stream",
          "text": [
            "Reject the null hypothesis. There is enough evidence to suggest \n",
            "a significant difference between the population means.\n"
          ]
        }
      ],
      "source": [
        "import numpy as np\n",
        "import scipy.stats as stats\n",
        "\n",
        "# Sample data for two populations\n",
        "sample1 = np.array([85, 90, 88, 92, 89])\n",
        "sample2 = np.array([78, 80, 82, 85, 79])\n",
        "\n",
        "# Perform the t-test for independent samples\n",
        "t_stat, p_value = stats.ttest_ind(sample1, sample2, equal_var=False)\n",
        "\n",
        "# Set the significance level (alpha)\n",
        "alpha = 0.05\n",
        "\n",
        "# Check if the p-value is less than the significance level\n",
        "if p_value < alpha:\n",
        "    print(\"Reject the null hypothesis. There is enough evidence to suggest \\na significant difference between the population means.\")\n",
        "else:\n",
        "    print(\"Fail to reject the null hypothesis. There is not enough evidence \\nto suggest a significant difference between the population means.\")\n"
      ]
    },
    {
      "cell_type": "code",
      "execution_count": null,
      "metadata": {},
      "outputs": [],
      "source": []
    },
    {
      "cell_type": "markdown",
      "metadata": {},
      "source": [
        "<p style=\" color : #4233FF\"><b>Q6: What is a null and alternative hypothesis? Give some examples.</b>\n",
        "</p>"
      ]
    },
    {
      "cell_type": "markdown",
      "metadata": {},
      "source": [
        "In hypothesis testing, the null hypothesis (H0) and alternative hypothesis (H1) are two competing statements about a population parameter that are tested using sample data. The null hypothesis represents the status quo or the default assumption, while the alternative hypothesis represents the claim or the hypothesis we are trying to find evidence for.\n",
        "\n",
        "1. `Example for a Mean:`\n",
        "Null Hypothesis (H0): The average height of adult males is equal to 175 cm.\n",
        "Alternative Hypothesis (H1): The average height of adult males is not equal to 175 cm.\n",
        "\n",
        "2. `Example for a Proportion:`\n",
        "Null Hypothesis (H0): The proportion of people who prefer brand A is 0.4.\n",
        "Alternative Hypothesis (H1): The proportion of people who prefer brand A is different from 0.4.\n",
        "\n",
        "3. `Example for a Difference in Means:`\n",
        "Null Hypothesis (H0): There is no significant difference in test scores between Group 1 and Group 2.\n",
        "Alternative Hypothesis (H1): There is a significant difference in test scores between Group 1 and Group 2.\n",
        "\n",
        "In each example, the null hypothesis represents a lack of effect, no difference, or no change, while the alternative hypothesis represents a claim of a specific effect, difference, or change. The goal of hypothesis testing is to evaluate the evidence provided by the sample data to either support or reject the null hypothesis in favor of the alternative hypothesis."
      ]
    },
    {
      "cell_type": "code",
      "execution_count": null,
      "metadata": {},
      "outputs": [],
      "source": []
    },
    {
      "cell_type": "markdown",
      "metadata": {},
      "source": [
        "<p style=\" color : #4233FF\"><b>Q7: Write down the steps involved in hypothesis testing.</b>\n",
        "</p>"
      ]
    },
    {
      "cell_type": "markdown",
      "metadata": {},
      "source": [
        "Hypothesis testing is a systematic procedure that involves several steps. Here are the typical steps involved in hypothesis testing:\n",
        "\n",
        "1. `State the Hypotheses:`\n",
        "   - Formulate the null hypothesis (H0): It represents the default assumption, usually stating that there is no effect, no difference, or no change in the population parameter being tested.\n",
        "   - Formulate the alternative hypothesis (H1): It represents the claim or hypothesis you are trying to find evidence for, stating that there is a specific effect, difference, or change in the population parameter.\n",
        "\n",
        "2. `Set the Significance Level (α):`\n",
        "   - Choose the significance level (also called the alpha level), which represents the probability of making a Type I error (rejecting the null hypothesis when it is true). Commonly used significance levels are 0.05 (5%) or 0.01 (1%).\n",
        "\n",
        "3. `Select the Test Statistic:`\n",
        "   - Depending on the type of data and the research question, choose an appropriate test statistic. Common test statistics include t-tests, z-tests, chi-square tests, ANOVA, etc.\n",
        "\n",
        "4. `Collect Data and Calculate the Test Statistic:`\n",
        "   - Collect a representative sample from the population of interest.\n",
        "   - Calculate the test statistic based on the sample data and the chosen test.\n",
        "\n",
        "5. `Determine the Critical Region:`\n",
        "   - Identify the critical region in the probability distribution of the test statistic. The critical region is the range of values that would lead to the rejection of the null hypothesis.\n",
        "\n",
        "6. `Compare the Test Statistic to the Critical Region:`\n",
        "   - Compare the calculated test statistic to the critical values or use p-values to determine if it falls within the critical region.\n",
        "\n",
        "7. `Make a Decision:`\n",
        "   - If the test statistic falls within the critical region, reject the null hypothesis in favor of the alternative hypothesis.\n",
        "   - If the test statistic does not fall within the critical region, fail to reject the null hypothesis.\n",
        "\n",
        "8. `Draw a Conclusion:`\n",
        "   - Interpret the results of the hypothesis test in the context of the research question and make a conclusion about the population parameter based on the evidence provided by the sample data.\n",
        "\n",
        "9. `Report the Findings:`\n",
        "   - Clearly state the conclusions and findings of the hypothesis test, including the decision regarding the null hypothesis and any implications or recommendations.\n",
        "\n",
        "It is important to note that hypothesis testing is based on probability and involves making inferences about population parameters from sample data. Therefore, the conclusion of a hypothesis test is not absolute but provides evidence supporting or refuting the hypotheses at a certain level of confidence."
      ]
    },
    {
      "cell_type": "code",
      "execution_count": null,
      "metadata": {},
      "outputs": [],
      "source": []
    },
    {
      "cell_type": "markdown",
      "metadata": {},
      "source": [
        "<p style=\" color : #4233FF\"><b>Q8. Define p-value and explain its significance in hypothesis testing.</b>\n",
        "</p>"
      ]
    },
    {
      "cell_type": "markdown",
      "metadata": {},
      "source": [
        "The p-value, short for \"probability value,\" is a crucial concept in hypothesis testing. It is a measure that quantifies the strength of the evidence against the null hypothesis. The p-value represents the probability of obtaining the observed results (or more extreme results) under the assumption that the null hypothesis is true.\n",
        "\n",
        "In hypothesis testing, we compare the calculated test statistic (e.g., t-statistic or z-score) from our sample data to the critical values or cut-off points in the probability distribution of the test statistic. The p-value provides a more precise way to assess the strength of the evidence, and it allows us to make a more informed decision about whether to reject or fail to reject the null hypothesis.\n",
        "\n",
        "The significance of the p-value in hypothesis testing can be understood as follows:\n",
        "\n",
        "1. If the p-value is small (typically less than or equal to the chosen significance level α, e.g., 0.05), it suggests that the observed results are unlikely to have occurred by chance under the assumption of the null hypothesis. In this case, we have strong evidence against the null hypothesis, and we may reject it in favor of the alternative hypothesis.\n",
        "\n",
        "2. If the p-value is large (greater than the chosen significance level α), it indicates that the observed results are reasonably likely to have occurred by chance under the assumption of the null hypothesis. In this case, we do not have enough evidence to reject the null hypothesis, and we fail to reject it.\n",
        "\n",
        "3. A p-value exactly equal to the chosen significance level α is often referred to as the \"critical value\" or \"decision boundary.\" If the p-value is equal to α, the decision to reject or fail to reject the null hypothesis is right on the borderline, and it is common to be more cautious in such cases.\n",
        "\n",
        "In summary, the p-value helps us determine the strength of evidence against the null hypothesis and guides our decision-making in hypothesis testing. A smaller p-value indicates stronger evidence against the null hypothesis, while a larger p-value suggests weaker evidence and leads to a failure to reject the null hypothesis. However, it is essential to interpret p-values carefully, and they should not be taken as definitive proof of any hypothesis but rather as a guide for making informed decisions."
      ]
    },
    {
      "cell_type": "code",
      "execution_count": null,
      "metadata": {},
      "outputs": [],
      "source": []
    },
    {
      "cell_type": "markdown",
      "metadata": {},
      "source": [
        "<p style=\" color : #4233FF\"><b>Q9. Generate a Student's t-distribution plot using Python's matplotlib library, with the degrees of freedom parameter set to 10.</b>\n",
        "</p>"
      ]
    },
    {
      "cell_type": "code",
      "execution_count": 13,
      "metadata": {},
      "outputs": [
        {
          "data": {
            "image/png": "[encoded data removed]",
            "text/plain": [
              "<Figure size 640x480 with 1 Axes>"
            ]
          },
          "metadata": {},
          "output_type": "display_data"
        }
      ],
      "source": [
        "import numpy as np\n",
        "import matplotlib.pyplot as plt\n",
        "from scipy.stats import t\n",
        "\n",
        "# Set the degrees of freedom\n",
        "degrees_of_freedom = 10\n",
        "\n",
        "# Generate a range of x values\n",
        "x = np.linspace(-5, 5, 1000)\n",
        "\n",
        "# Calculate the probability density function (PDF) for the t-distribution\n",
        "pdf = t.pdf(x, df=degrees_of_freedom)\n",
        "\n",
        "# Plot the t-distribution\n",
        "plt.plot(x, pdf, label=f\"t-distribution (df={degrees_of_freedom})\")\n",
        "plt.xlabel(\"x\")\n",
        "plt.ylabel(\"Probability Density Function\")\n",
        "plt.title(\"Student's t-distribution\")\n",
        "plt.legend()\n",
        "plt.grid(True)\n",
        "plt.show()\n"
      ]
    },
    {
      "cell_type": "code",
      "execution_count": null,
      "metadata": {},
      "outputs": [],
      "source": []
    },
    {
      "cell_type": "markdown",
      "metadata": {},
      "source": [
        "<p style=\" color : #4233FF\"><b>Q10. Write a Python program to calculate the two-sample t-test for independent samples, given two random samples of equal size and a null hypothesis that the population means are equal.</b>\n",
        "</p>"
      ]
    },
    {
      "cell_type": "code",
      "execution_count": 14,
      "metadata": {},
      "outputs": [
        {
          "name": "stdout",
          "output_type": "stream",
          "text": [
            "Two-Sample t-test Results:\n",
            "t-statistic: 0.5741692517632145\n",
            "p-value: 0.5816333668955778\n",
            "The null hypothesis cannot be rejected. The means are not significantly different.\n"
          ]
        }
      ],
      "source": [
        "import numpy as np\n",
        "from scipy.stats import ttest_ind\n",
        "\n",
        "# Two random samples with equal size\n",
        "sample1 = np.array([25, 30, 35, 40, 45])\n",
        "sample2 = np.array([20, 28, 32, 38, 42])\n",
        "\n",
        "# Calculate the two-sample t-test\n",
        "t_statistic, p_value = ttest_ind(sample1, sample2)\n",
        "\n",
        "# Define the significance level\n",
        "alpha = 0.05\n",
        "\n",
        "# Print the results\n",
        "print(\"Two-Sample t-test Results:\")\n",
        "print(f\"t-statistic: {t_statistic}\")\n",
        "print(f\"p-value: {p_value}\")\n",
        "\n",
        "# Check for statistical significance\n",
        "if p_value < alpha:\n",
        "    print(\"The null hypothesis can be rejected. The means are significantly different.\")\n",
        "else:\n",
        "    print(\"The null hypothesis cannot be rejected. The means are not significantly different.\")\n"
      ]
    },
    {
      "cell_type": "code",
      "execution_count": null,
      "metadata": {},
      "outputs": [],
      "source": []
    },
    {
      "cell_type": "markdown",
      "metadata": {},
      "source": [
        "<p style=\" color : #4233FF\"><b>Q11: What is Student’s t distribution? When to use the t-Distribution.</b>\n",
        "</p>"
      ]
    },
    {
      "cell_type": "markdown",
      "metadata": {},
      "source": [
        "The Student's t-distribution, also known simply as the t-distribution, is a probability distribution that arises when we want to estimate the mean of a normally distributed population but only have a small sample size. It is similar to the standard normal distribution (z-distribution) but has heavier tails, which accounts for the uncertainty introduced by using a small sample.\n",
        "\n",
        "The t-distribution is typically used in situations where:\n",
        "\n",
        "1. The sample size is small (typically n < 30).\n",
        "2. The population standard deviation is unknown, and we need to estimate it from the sample.\n",
        "3. The data follows a normal distribution or is approximately normal.\n",
        "\n",
        "When the above conditions are met, we use the t-distribution instead of the standard normal distribution (z-distribution) to calculate probabilities or critical values for hypothesis testing or confidence intervals.\n",
        "\n",
        "The t-distribution has a parameter called degrees of freedom (df), which determines the shape of the distribution. As the sample size increases, the t-distribution approaches the standard normal distribution. The degrees of freedom is equal to the sample size minus one (df = n - 1).\n",
        "\n",
        "Overall, the t-distribution is a valuable tool when dealing with small samples and uncertainty about the population standard deviation. It allows us to make valid inferences and draw conclusions about population parameters based on limited data."
      ]
    },
    {
      "cell_type": "code",
      "execution_count": null,
      "metadata": {},
      "outputs": [],
      "source": []
    },
    {
      "cell_type": "markdown",
      "metadata": {},
      "source": [
        "<p style=\" color : #4233FF\"><b>Q12: What is t-statistic? State the formula for t-statistic.</b>\n",
        "</p>"
      ]
    },
    {
      "cell_type": "markdown",
      "metadata": {},
      "source": [
        "The t-statistic, also known as the Student's t-statistic, is a measure used in hypothesis testing to assess the difference between sample means and determine if it is statistically significant. It quantifies how many standard errors the sample mean is away from the hypothesized population mean.\n",
        "\n",
        "The formula for the t-statistic is:\n",
        "\n",
        "`t = (X‾ - μ0) / (s / √n)`\n",
        "\n",
        "where:\n",
        "- X‾ is the sample mean,\n",
        "- μ0 represents the population mean (under the null hypothesis),\n",
        "- s is the standard deviation of the sample,\n",
        "- n stands for the size of the sample.\n",
        "\n",
        "The t-statistic follows a t-distribution, as explained in the previous question, and its value determines the probability of observing the sample mean under the assumption that the null hypothesis is true. A larger absolute value of the t-statistic indicates a stronger evidence against the null hypothesis.\n",
        "\n",
        "In hypothesis testing, the t-statistic is compared to critical values from the t-distribution to determine whether to reject or fail to reject the null hypothesis. If the t-statistic falls within the critical region (tails of the t-distribution), we reject the null hypothesis, suggesting that there is a significant difference between the sample mean and the hypothesized population mean. Otherwise, we fail to reject the null hypothesis, indicating that there is not enough evidence to support a significant difference."
      ]
    },
    {
      "cell_type": "code",
      "execution_count": null,
      "metadata": {},
      "outputs": [],
      "source": []
    },
    {
      "cell_type": "markdown",
      "metadata": {},
      "source": [
        "<p style=\" color : #4233FF\"><b>Q13. A coffee shop owner wants to estimate the average daily revenue for their shop. They take a random sample of 50 days and find the sample mean revenue to be $500 with a standard deviation of $50.<br>\n",
        "Estimate the population mean revenue with a 95% confidence interval.</b>\n",
        "</p>"
      ]
    },
    {
      "cell_type": "markdown",
      "metadata": {},
      "source": [
        "To estimate the population mean revenue with a 95% confidence interval, we can use the t-distribution since the population standard deviation is not known, and the sample size is relatively small (n = 50).\n",
        "\n",
        "The formula for the confidence interval for the population mean (μ0) is:\n",
        "\n",
        "`Confidence Interval = x̄ ± tα/2 x s/√n`\n",
        "\n",
        "\n",
        "where:\n",
        "- x̄ is the sample mean (given as $500),\n",
        "- s is the sample standard deviation (given as $50),\n",
        "- √n is the sample size (given as 50),\n",
        "- tα/2 is the critical value from the t-distribution with (n-1) degrees of freedom at a confidence level of 95%.\n",
        "\n",
        "To find the critical value, we need to look it up from the t-table or use Python to calculate it. Let's assume the critical value is `tα/2 = 2.009`  for a 95% confidence level and `49 degrees of freedom (50 - 1)`.\n",
        "\n",
        "Now, we can plug the values into the formula:\n",
        "\n",
        "Confidence Interval = 500 ± 2.009 x (50 / √50)\n",
        "\n",
        "Calculating:\n",
        "\n",
        "Confidence Interval = 500 ± 14.14\n",
        "\n",
        "So, the 95% confidence interval for the population mean revenue is approximately `$485.86 to $514.14`. This means that we are 95% confident that the true average daily revenue for the coffee shop falls within this range."
      ]
    },
    {
      "cell_type": "code",
      "execution_count": 16,
      "metadata": {},
      "outputs": [
        {
          "name": "stdout",
          "output_type": "stream",
          "text": [
            "95% Confidence Interval: (485.79, 514.21)\n"
          ]
        }
      ],
      "source": [
        "# through library\n",
        "\n",
        "import scipy.stats as stats\n",
        "\n",
        "# Given data\n",
        "sample_mean = 500\n",
        "sample_std = 50\n",
        "sample_size = 50\n",
        "\n",
        "# Calculate the critical value (t-score) for a 95% confidence level and 49 degrees of freedom\n",
        "alpha = 0.05\n",
        "degrees_of_freedom = sample_size - 1\n",
        "critical_value = stats.t.ppf(1 - alpha/2, degrees_of_freedom)\n",
        "\n",
        "# Calculate the standard error\n",
        "standard_error = sample_std / (sample_size ** 0.5)\n",
        "\n",
        "# Calculate the confidence interval\n",
        "lower_bound = sample_mean - critical_value * standard_error\n",
        "upper_bound = sample_mean + critical_value * standard_error\n",
        "\n",
        "print(f\"95% Confidence Interval: ({lower_bound:.2f}, {upper_bound:.2f})\")\n"
      ]
    },
    {
      "cell_type": "code",
      "execution_count": null,
      "metadata": {},
      "outputs": [],
      "source": []
    },
    {
      "cell_type": "markdown",
      "metadata": {},
      "source": [
        "<p style=\" color : #4233FF\"><b>Q14. A researcher hypothesizes that a new drug will decrease blood pressure by 10 mmHg. They conduct a clinical trial with 100 patients and find that the sample mean decrease in blood pressure is 8 mmHg with a standard deviation of 3 mmHg. Test the hypothesis with a significance level of 0.05.</b>\n",
        "</p>"
      ]
    },
    {
      "cell_type": "markdown",
      "metadata": {},
      "source": [
        "Sure! Here's the revised response:\n",
        "\n",
        "1. `Formulate Hypotheses:`\n",
        "   - Null Hypothesis (H0): The new drug does not decrease blood pressure by 10 mmHg. (μ = 10)\n",
        "   - Alternative Hypothesis (Ha): The new drug decreases blood pressure by 10 mmHg. (μ < 10)\n",
        "\n",
        "2. `Calculate the Sample Mean (x̄):`\n",
        "   - Given: Sample mean (x̄) = 8 mmHg\n",
        "\n",
        "3. `Calculate the Standard Error (SE) of the Mean:`\n",
        "   - Given: Sample standard deviation (σ) = 3 mmHg\n",
        "   - Given: Sample size (n) = 100\n",
        "   - SE = σ / √n\n",
        "   - SE = 3 / √100\n",
        "   - SE = 3 / 10\n",
        "   - SE = 0.3\n",
        "\n",
        "4. `Calculate the z-score:`\n",
        "   - z = (x̄ - μ) / SE\n",
        "   - z = (8 - 10) / 0.3\n",
        "   - z = -2 / 0.3\n",
        "   - z ≈ -6.67\n",
        "\n",
        "5. `Find the p-value corresponding to the z-score`:\n",
        "   p-value = 1 - z\n",
        "   p-value = 0.999999999986916\n",
        "     \n",
        "\n",
        "6. `Compare the p-value with the significance level (α):`\n",
        "   - The calculated p-value (using the one-tailed test) is greater than the significance level (α = 0.05).\n",
        "\n",
        "7. `Conclusion:`\n",
        "   - Since the sample mean is 8 mmHg and the population mean is 10 mmHg (decrease in blood pressure by 10 mmHg), the sample mean is less than the population mean, which indicates that the new drug might not be effective in decreasing blood pressure by 10 mmHg.\n",
        "   \n",
        "   -Therefore, we fail to reject the null hypothesis.\n",
        "   - The data does not provide enough evidence to support the claim that the new drug decreases blood pressure by 10 mmHg."
      ]
    },
    {
      "cell_type": "code",
      "execution_count": 20,
      "metadata": {},
      "outputs": [
        {
          "name": "stdout",
          "output_type": "stream",
          "text": [
            "z-score -6.666666666666667\n",
            "Calculated p-value: 0.999999999986916\n",
            "Fail to reject the null hypothesis: The new drug does not decrease blood pressure.\n"
          ]
        }
      ],
      "source": [
        "import scipy.stats as stats\n",
        "\n",
        "# Given data\n",
        "sample_mean = 8\n",
        "population_mean = 10\n",
        "sample_std = 3\n",
        "sample_size = 100\n",
        "\n",
        "# Calculate the z-score\n",
        "z_score = (sample_mean - population_mean) / (sample_std / (sample_size ** 0.5))\n",
        "\n",
        "# Calculate the p-value for a one-tailed test\n",
        "p_value = 1 - stats.norm.cdf(z_score)\n",
        "\n",
        "# Compare the p-value with the significance level (α = 0.05)\n",
        "alpha = 0.05\n",
        "print('z-score', z_score)\n",
        "print(\"Calculated p-value:\", p_value)\n",
        "if p_value < alpha:\n",
        "    print(\"Reject the null hypothesis: The new drug decreases blood pressure.\")\n",
        "else:\n",
        "    print(\"Fail to reject the null hypothesis: The new drug does not decrease blood pressure.\")\n",
        "\n"
      ]
    },
    {
      "cell_type": "markdown",
      "metadata": {},
      "source": []
    },
    {
      "cell_type": "markdown",
      "metadata": {},
      "source": [
        "<p style=\" color : #4233FF\"><b>Q15. An electronics company produces a certain type of product with a mean weight of 5 pounds and a standard deviation of 0.5 pounds. A random sample of 25 products is taken, and the sample mean weight is found to be 4.8 pounds. Test the hypothesis that the true mean weight of the products is less than 5 pounds with a significance level of 0.01.</b>\n",
        "</p>"
      ]
    },
    {
      "cell_type": "markdown",
      "metadata": {},
      "source": [
        "\n",
        "1. `Formulate Hypotheses:`\n",
        "   - Null Hypothesis (H0): The true mean weight of the products is 5 pounds. (μ = 5)\n",
        "   - Alternative Hypothesis (Ha): The true mean weight of the products is less than 5 pounds. (μ < 5)\n",
        "\n",
        "2. `Calculate the Sample Mean (x̄):`\n",
        "   - Given: Sample mean (x̄) = 4.8 pounds\n",
        "\n",
        "3. `Calculate the Standard Error (SE) of the Mean:`\n",
        "   - Given: Sample standard deviation (σ) = 0.5 pounds\n",
        "   - Given: Sample size (n) = 25\n",
        "   - SE = σ / √n\n",
        "   - SE = 0.5 / √25\n",
        "   - SE = 0.5 / 5\n",
        "   - SE = 0.1\n",
        "\n",
        "4. `Calculate the z-score:`\n",
        "   - z = (x̄ - μ) / SE\n",
        "   - z = (4.8 - 5) / 0.1\n",
        "   - z = -0.2 / 0.1\n",
        "   - z = -2\n",
        "\n",
        "5. `Find the p-value corresponding to the z-score`:\n",
        "   The p-value for a one-tailed test (less than) at z = -2 is approximately 0.0228.\n",
        "\n",
        "6. `Compare the p-value with the significance level (α):`\n",
        "   - Given: Significance level (α) = 0.01 (1%)\n",
        "   - If p-value < α, then reject the null hypothesis.\n",
        "   - If p-value ≥ α, then fail to reject the null hypothesis.\n",
        "\n",
        "7. Conclusion:\n",
        "   The calculated p-value (0.0228) is greater than the significance level (0.01). Therefore, we fail to reject the null hypothesis. There is not enough evidence to support the claim that the true mean weight of the products is less than 5 pounds. The data does not provide sufficient evidence to conclude that the mean weight is less than 5 pounds at a significance level of 0.01."
      ]
    },
    {
      "cell_type": "code",
      "execution_count": 22,
      "metadata": {},
      "outputs": [
        {
          "name": "stdout",
          "output_type": "stream",
          "text": [
            "Calculated p-value: 0.0227501319481791\n",
            "Fail to reject the null hypothesis: The true mean weight of the products is 5 pounds or greater.\n"
          ]
        }
      ],
      "source": [
        "import scipy.stats as stats\n",
        "\n",
        "# Given data\n",
        "sample_mean = 4.8\n",
        "population_mean = 5\n",
        "sample_std = 0.5\n",
        "sample_size = 25\n",
        "\n",
        "# Calculate the Standard Error (SE) of the Mean\n",
        "se = sample_std / (sample_size ** 0.5)\n",
        "\n",
        "# Calculate the z-score\n",
        "z_score = (sample_mean - population_mean) / se\n",
        "\n",
        "# Find the p-value corresponding to the z-score\n",
        "p_value = stats.norm.cdf(z_score)\n",
        "\n",
        "# Compare the p-value with the significance level (α)\n",
        "significance_level = 0.01\n",
        "\n",
        "print(\"Calculated p-value:\", p_value)\n",
        "if p_value < significance_level:\n",
        "    print(\"Reject the null hypothesis: The true mean weight of the products is less than 5 pounds.\")\n",
        "else:\n",
        "    print(\"Fail to reject the null hypothesis: The true mean weight of the products is 5 pounds or greater.\")\n"
      ]
    },
    {
      "cell_type": "code",
      "execution_count": null,
      "metadata": {},
      "outputs": [],
      "source": []
    },
    {
      "cell_type": "markdown",
      "metadata": {},
      "source": [
        "<p style=\" color : #4233FF\"><b>Q16. Two groups of students are given different study materials to prepare for a test. The first group (n1 =30) has a mean score of 80 with a standard deviation of 10, and the second group (n2 = 40) has a mean score of 75 with a standard deviation of 8. Test the hypothesis that the population means for the two groups are equal with a significance level of 0.01.</b>\n",
        "</p>"
      ]
    },
    {
      "cell_type": "markdown",
      "metadata": {},
      "source": [
        "\n",
        "\n",
        "**Hypotheses:**\n",
        "- Null Hypothesis (H0): The population means for the two groups are equal. (μ1 = μ2)\n",
        "- Alternative Hypothesis (Ha): The population means for the two groups are different. (μ1 ≠ μ2)\n",
        "\n",
        "**Given Data:**\n",
        "- Sample mean (x̄1) = 80\n",
        "- Sample standard deviation (s1) = 10\n",
        "- Sample size (n1) = 30\n",
        "\n",
        "- Sample mean (x̄2) = 75\n",
        "- Sample standard deviation (s2) = 8\n",
        "- Sample size (n2) = 40\n",
        "\n",
        "**Calculate the Test Statistic (t-score):**\n",
        "- Pooled standard deviation (sp) = √[((s1^2 * (n1 - 1) + s2^2 * (n2 - 1)) / (n1 + n2 - 2))]\n",
        "- sp = √[((10^2 * (30 - 1) + 8^2 * (40 - 1)) / (30 + 40 - 2))]\n",
        "- sp ≈ √[(2900 + 3120) / 68]\n",
        "- sp ≈ √[6020 / 68]\n",
        "- sp ≈ √88.5294\n",
        "- sp ≈ 9.4115\n",
        "\n",
        "- t-score = (x̄1 - x̄2) / [sp * √((1/n1) + (1/n2))]\n",
        "- t-score = (80 - 75) / [9.4115 * √((1/30) + (1/40))]\n",
        "- t-score = 5 / [9.4115 * √(0.03333 + 0.025)]\n",
        "- t-score ≈ 5 / [9.4115 * √0.05833]\n",
        "- t-score ≈ 5 / [9.4115 * 0.24165]\n",
        "- t-score ≈ 5 / 2.2723\n",
        "- t-score ≈ 2.2008\n",
        "\n",
        "**Find the p-value corresponding to the t-score:**\n",
        "- For a two-tailed test with a significance level of 0.01 and degrees of freedom (df) = n1 + n2 - 2 = 30 + 40 - 2 = 68, the p-value is approximately 0.0316.\n",
        "\n",
        "**Compare the p-value with the significance level (α):**\n",
        "- Given significance level (α) = 0.01 (1%)\n",
        "- If p-value < α, then reject the null hypothesis.\n",
        "- If p-value ≥ α, then fail to reject the null hypothesis.\n",
        "\n",
        "**Conclusion:**\n",
        "- The calculated p-value (0.0316) is greater than the significance level (0.01). Therefore, we fail to reject the null hypothesis. The data does not provide enough evidence to support the claim that the population means for the two groups are different at a significance level of 0.01."
      ]
    },
    {
      "cell_type": "code",
      "execution_count": 24,
      "metadata": {},
      "outputs": [
        {
          "name": "stdout",
          "output_type": "stream",
          "text": [
            "Calculated p-value: 0.024377567946165524\n",
            "Fail to reject the null hypothesis: The population means for the two groups are equal.\n"
          ]
        }
      ],
      "source": [
        "import scipy.stats as stats\n",
        "\n",
        "# Given data for Group 1\n",
        "n1 = 30\n",
        "mean1 = 80\n",
        "std1 = 10\n",
        "\n",
        "# Given data for Group 2\n",
        "n2 = 40\n",
        "mean2 = 75\n",
        "std2 = 8\n",
        "\n",
        "# Calculate the pooled standard deviation (sp) for independent samples\n",
        "sp = ((std1**2 / n1) + (std2**2 / n2))**0.5\n",
        "\n",
        "# Calculate the test statistic (Z-score) for independent samples\n",
        "z_score = (mean1 - mean2) / sp\n",
        "\n",
        "# Find the p-value corresponding to the Z-score (two-tailed test)\n",
        "p_value = 2 * (1 - stats.norm.cdf(abs(z_score)))\n",
        "\n",
        "# Compare the p-value with the significance level (α)\n",
        "significance_level = 0.01\n",
        "\n",
        "print(\"Calculated p-value:\", p_value)\n",
        "\n",
        "if p_value < significance_level:\n",
        "    print(\"Reject the null hypothesis: The population means for the two groups are not equal.\")\n",
        "else:\n",
        "    print(\"Fail to reject the null hypothesis: The population means for the two groups are equal.\")\n"
      ]
    },
    {
      "cell_type": "code",
      "execution_count": null,
      "metadata": {},
      "outputs": [],
      "source": []
    },
    {
      "cell_type": "markdown",
      "metadata": {},
      "source": [
        "<p style=\" color : #4233FF\"><b>Q17. A marketing company wants to estimate the average number of ads watched by viewers during a TV program. They take a random sample of 50 viewers and find that the sample mean is 4 with a standard deviation of 1.5. Estimate the population mean with a 99% confidence interval.</b>\n",
        "</p>"
      ]
    },
    {
      "cell_type": "markdown",
      "metadata": {},
      "source": [
        "To estimate the population mean with a 99% confidence interval, we can use the formula for the confidence interval for a population mean:\n",
        "\n",
        "Confidence Interval = Sample Mean ± Margin of Error\n",
        "\n",
        "where the Margin of Error is given by:\n",
        "\n",
        "Margin of Error = Critical Value * Standard Error\n",
        "\n",
        "The critical value corresponds to the level of confidence and the degrees of freedom, and for a 99% confidence interval with 50-1 = 49 degrees of freedom, the critical value is approximately 2.68 (from the t-distribution table).\n",
        "\n",
        "The standard error can be calculated as:\n",
        "\n",
        "Standard Error = Sample Standard Deviation / √(Sample Size)\n",
        "\n",
        "Given data:\n",
        "Sample mean (x̄) = 4\n",
        "Sample standard deviation (s) = 1.5\n",
        "Sample size (n) = 50\n",
        "\n",
        "Now, let's calculate the confidence interval:\n",
        "\n",
        "1. Calculate the standard error:\n",
        "Standard Error = 1.5 / √50 ≈ 0.2121\n",
        "\n",
        "2. Calculate the margin of error:\n",
        "Margin of Error = 2.68 * 0.2121 ≈ 0.5680\n",
        "\n",
        "3. Calculate the confidence interval:\n",
        "Confidence Interval = 4 ± 0.5680\n",
        "\n",
        "The 99% confidence interval for the population mean is approximately (3.4320, 4.5680). This means that we can be 99% confident that the true average number of ads watched by viewers during the TV program lies within this interval."
      ]
    },
    {
      "cell_type": "code",
      "execution_count": 29,
      "metadata": {},
      "outputs": [
        {
          "name": "stdout",
          "output_type": "stream",
          "text": [
            "2.67995197363155\n",
            "99% Confidence Interval: (3.4314963358572577, 4.568503664142742)\n"
          ]
        }
      ],
      "source": [
        "import scipy.stats as stats\n",
        "\n",
        "# Given data\n",
        "sample_mean = 4\n",
        "sample_std = 1.5\n",
        "sample_size = 50\n",
        "confidence_level = 0.99\n",
        "\n",
        "# Calculate the standard error\n",
        "standard_error = sample_std / (sample_size ** 0.5)\n",
        "\n",
        "# Find the critical value for the confidence level and degrees of freedom\n",
        "degrees_of_freedom = sample_size - 1\n",
        "critical_value = stats.t.ppf((1 + confidence_level) / 2, df=degrees_of_freedom)\n",
        "\n",
        "# Calculate the margin of error\n",
        "margin_of_error = critical_value * standard_error\n",
        "print(critical_value)\n",
        "# Calculate the confidence interval\n",
        "lower_bound = sample_mean - margin_of_error\n",
        "upper_bound = sample_mean + margin_of_error\n",
        "\n",
        "print(f\"99% Confidence Interval: ({lower_bound}, {upper_bound})\")"
      ]
    },
    {
      "cell_type": "markdown",
      "metadata": {
        "id": "eOINuiGOcJK4"
      },
      "source": [
        "<h1 style = 'color:orange'>\n",
        "    <b><div>THANK YOU</div></b>\n",
        "</h1>\n"
      ]
    }
  ],
  "metadata": {
    "colab": {
      "provenance": []
    },
    "kernelspec": {
      "display_name": "Python 3",
      "language": "python",
      "name": "python3"
    },
    "language_info": {
      "codemirror_mode": {
        "name": "ipython",
        "version": 3
      },
      "file_extension": ".py",
      "mimetype": "text/x-python",
      "name": "python",
      "nbconvert_exporter": "python",
      "pygments_lexer": "ipython3",
      "version": "3.11.2"
    },
    "orig_nbformat": 4
  },
  "nbformat": 4,
  "nbformat_minor": 0
}
