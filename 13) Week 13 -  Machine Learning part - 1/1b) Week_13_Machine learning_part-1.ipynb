{
  "cells": [
    {
      "cell_type": "markdown",
      "metadata": {
        "id": "jHKORN_4cJKm"
      },
      "source": [
        "<h1 style = 'color:red'><b>Week-13, Introduction to Machine Learning-1 Assignment</b><h1>"
      ]
    },
    {
      "cell_type": "markdown",
      "metadata": {
        "id": "dVUW29xlcJKo"
      },
      "source": [
        "Name - Gorachanda Dash <br>\n",
        "Date - 15-Mar-2023<br>\n",
        "Week-13, Introduction to Machine Learning-1 Assignment"
      ]
    },
    {
      "cell_type": "markdown",
      "metadata": {
        "id": "fKnfvSL5cJK2"
      },
      "source": [
        "<p style=\" color : #4233FF\"><b>Q1: Explain the following with an example:<br>\n",
        "1) Artificial Intelligence\n",
        "2) Machine Learning\n",
        "3) Deep Learning</b></p>"
      ]
    },
    {
      "cell_type": "markdown",
      "metadata": {},
      "source": [
        "1. **`Artificial Intelligence (AI)`**:\n",
        "Artificial Intelligence refers to the ability of machines or computers to perform tasks that typically require human intelligence. These tasks include things like understanding natural language, recognizing patterns, solving complex problems, and making decisions. AI aims to create systems that can mimic human cognitive functions.\n",
        "\n",
        "Example: A voice-powered virtual assistant like Siri or Google Assistant. These assistants can understand and respond to voice commands, answer questions, set reminders, and perform tasks like sending messages, all of which require a level of intelligence.\n",
        "\n",
        "2. **`Machine Learning (ML)`**:\n",
        "Machine Learning is a subset of AI that involves training a model on data to make predictions or decisions without being explicitly programmed. In other words, instead of programming specific instructions, you provide data and let the model learn patterns from it.\n",
        "\n",
        "Example: Spam email detection. Instead of writing specific rules to identify spam, a machine learning model can be trained on a dataset of emails, both spam and non-spam. It learns to distinguish between the two based on features like keywords, sender, and email structure.\n",
        "\n",
        "3. **`Deep Learning`**:\n",
        "Deep Learning is a specialized subset of machine learning that involves neural networks with many layers (deep neural networks). These networks are designed to automatically learn and represent patterns in data by progressively extracting higher-level features.\n",
        "\n",
        "Example: Image recognition. A deep learning model, like a Convolutional Neural Network (CNN), can be trained to recognize objects in images. It learns to identify features like edges, textures, and shapes in earlier layers, and then combines them to recognize complex objects like animals or vehicles."
      ]
    },
    {
      "cell_type": "code",
      "execution_count": null,
      "metadata": {},
      "outputs": [],
      "source": []
    },
    {
      "cell_type": "markdown",
      "metadata": {
        "id": "l7nokEV7cJK3"
      },
      "source": [
        "<p style=\" color : #4233FF\"><b>Q2: What is supervised learning? List some examples of supervised learning.</b></p>"
      ]
    },
    {
      "cell_type": "markdown",
      "metadata": {},
      "source": [
        "**`Supervised Learning`** is a type of machine learning where the algorithm learns from labeled training data. In supervised learning, the algorithm learns to map inputs to corresponding outputs based on the example input-output pairs provided in the training dataset.\n",
        "\n",
        "In other words, the algorithm is \"supervised\" during training by knowing the correct answers. The goal of supervised learning is to learn a mapping function that can accurately predict the output for new, unseen inputs.\n",
        "\n",
        "`Examples of Supervised Learning:`\n",
        "\n",
        "1. **Image Classification**: Given a dataset of images with labeled categories (e.g., cat, dog, car), the algorithm learns to classify new images into these categories.\n",
        "\n",
        "2. **Regression**: Predicting a continuous numerical value based on input features. For example, predicting house prices based on features like area, number of bedrooms, and location.\n",
        "\n",
        "3. **Spam Detection**: Classifying emails as either spam or not spam based on the content and email features.\n",
        "\n",
        "4. **Language Translation**: Translating sentences from one language to another using a model trained on pairs of sentences in both languages.\n",
        "\n",
        "5. **Credit Scoring**: Determining whether a person is likely to default on a loan based on features like credit score, income, and employment history.\n",
        "\n",
        "6. **Medical Diagnosis**: Diagnosing diseases based on patient data and medical records, where the outputs are the identified diseases or conditions.\n",
        "\n",
        "7. **Sentiment Analysis**: Determining the sentiment (positive, negative, neutral) of a piece of text, such as a product review or a social media post.\n",
        "\n",
        "8. **Handwriting Recognition**: Recognizing handwritten digits on checks or postal addresses and converting them into machine-readable text.\n",
        "\n",
        "9. **Customer Churn Prediction**: Predicting whether a customer will leave or continue using a service, based on their usage behavior and other features.\n",
        "\n",
        "10. **Object Detection**: Detecting and localizing multiple objects within an image, often used in autonomous vehicles and surveillance systems."
      ]
    },
    {
      "cell_type": "code",
      "execution_count": null,
      "metadata": {},
      "outputs": [],
      "source": []
    },
    {
      "cell_type": "markdown",
      "metadata": {
        "id": "HMuh9StycJK3"
      },
      "source": [
        "<p style=\" color : #4233FF\"><b>Q3: What is unsupervised learning? List some examples of unsupervised learning.</b>\n",
        "</p>"
      ]
    },
    {
      "cell_type": "markdown",
      "metadata": {},
      "source": [
        "**`Unsupervised Learning`** is a type of machine learning where the algorithm learns from unlabeled data. In contrast to supervised learning, where the algorithm learns from labeled examples, unsupervised learning involves finding patterns or structures in data without explicit guidance on what the output should be.\n",
        "\n",
        "The goal of unsupervised learning is to explore the inherent structure of the data and learn meaningful insights that can aid in data analysis, clustering, or feature extraction.\n",
        "\n",
        "`Examples of Unsupervised Learning:`\n",
        "\n",
        "1. **Clustering**: Grouping similar data points together based on some similarity measure. For instance, clustering customers based on their purchasing behavior without knowing their actual categories.\n",
        "\n",
        "2. **Dimensionality Reduction**: Reducing the number of features in a dataset while preserving its important information. Principal Component Analysis (PCA) is a common technique used for this purpose.\n",
        "\n",
        "3. **Anomaly Detection**: Identifying data points that deviate significantly from the norm, which can be useful for fraud detection or quality control.\n",
        "\n",
        "4. **Topic Modeling**: Extracting common themes or topics from a collection of documents. Latent Dirichlet Allocation (LDA) is a technique often used for this purpose.\n",
        "\n",
        "5. **Recommendation Systems**: Providing personalized recommendations to users based on their preferences and behavior, without explicitly knowing their preferences beforehand.\n",
        "\n",
        "6. **Density Estimation**: Estimating the underlying probability distribution of the data, which can be useful for generating new samples or detecting outliers.\n",
        "\n",
        "7. **Neural Network Pretraining**: In some cases, unsupervised learning is used as a preliminary step to pretrain deep neural networks before fine-tuning them with supervised learning.\n",
        "\n",
        "8. **Market Basket Analysis**: Analyzing customer purchasing patterns to discover which products are often bought together, used in strategies like store shelf placement.\n",
        "\n",
        "9. **Image Compression**: Reducing the amount of data required to represent an image while retaining its important features, used in image storage and transmission.\n",
        "\n",
        "10. **Document Clustering**: Grouping similar documents together based on their content, helping in organizing and categorizing large text datasets."
      ]
    },
    {
      "cell_type": "code",
      "execution_count": null,
      "metadata": {},
      "outputs": [],
      "source": []
    },
    {
      "cell_type": "markdown",
      "metadata": {
        "id": "9aKHN4uEcJK4"
      },
      "source": [
        "<p style=\" color : #4233FF\"><b>Q4: What is the difference between AI, ML, DL, and DS?</b>\n",
        "</p>"
      ]
    },
    {
      "cell_type": "markdown",
      "metadata": {},
      "source": [
        "The differences between AI, ML, DL, and DS:\n",
        "\n",
        "1. **`Artificial Intelligence (AI)`**:\n",
        "   - AI refers to the broader concept of machines or computers simulating human intelligence to perform tasks that typically require human intelligence, such as problem-solving, decision-making, understanding natural language, and recognizing patterns.\n",
        "   - AI aims to create systems that can think, reason, and learn like humans.\n",
        "   - Example: Voice assistants like Siri, recommendation systems like those on streaming platforms, self-driving cars.\n",
        "\n",
        "2. **`Machine Learning (ML)`**:\n",
        "   - ML is a subset of AI that focuses on the development of algorithms and models that allow computers to learn from and make predictions or decisions based on data.\n",
        "   - ML algorithms learn patterns from data to improve their performance over time without being explicitly programmed.\n",
        "   - Example: Spam email detection, predicting stock prices, medical diagnosis.\n",
        "\n",
        "3. **`Deep Learning (DL)`**:\n",
        "   - Deep Learning is a specialized subset of ML that involves neural networks with many interconnected layers.\n",
        "   - DL algorithms aim to automatically learn representations of data by progressively extracting higher-level features.\n",
        "   - It has shown remarkable performance in tasks like image and speech recognition.\n",
        "   - Example: Image classification, speech recognition, language translation.\n",
        "\n",
        "4. **`Data Science (DS)`**:\n",
        "   - Data Science is a multidisciplinary field that uses techniques from statistics, ML, and computer science to extract insights and knowledge from data.\n",
        "   - It involves collecting, cleaning, analyzing, and interpreting large and complex datasets to drive informed decision-making.\n",
        "   - Data Scientists work with both structured and unstructured data to discover patterns and trends.\n",
        "   - Example: Analyzing user behavior on a website to improve user experience, predicting customer churn based on historical data.\n",
        "\n",
        "In summary:\n",
        "- AI is the broader goal of enabling machines to perform tasks that would typically require human intelligence.\n",
        "- ML is a subset of AI that focuses on the development of algorithms that enable machines to learn from data.\n",
        "- DL is a specialized subset of ML that uses neural networks with multiple layers to automatically learn patterns from data.\n",
        "- DS is a field that involves the collection, analysis, and interpretation of data to extract insights and inform decision-making. It often utilizes techniques from AI, ML, and statistics."
      ]
    },
    {
      "cell_type": "code",
      "execution_count": null,
      "metadata": {},
      "outputs": [],
      "source": []
    },
    {
      "cell_type": "markdown",
      "metadata": {
        "id": "z2avHLHDcJK4"
      },
      "source": [
        "<p style=\" color : #4233FF\"><b>Q5: What are the main differences between supervised, unsupervised, and semi-supervised learning?</b>\n",
        "</p>"
      ]
    },
    {
      "cell_type": "markdown",
      "metadata": {},
      "source": [
        "Thedifferences between supervised, unsupervised, and semi-supervised learning:\n",
        "\n",
        "1. **`Supervised Learning`**:\n",
        "   - **Labeled Data**: In supervised learning, the algorithm learns from a labeled dataset, where each example is paired with its corresponding correct output or label.\n",
        "   - **Goal**: The goal is to learn a mapping function that can accurately predict the output for new, unseen inputs.\n",
        "   - **Training Process**: The algorithm learns from the examples provided in the training dataset and adjusts its parameters to minimize the prediction errors.\n",
        "   - **Examples**: Image classification, regression, sentiment analysis.\n",
        "\n",
        "2. **`Unsupervised Learning`**:\n",
        "   - **Unlabeled Data**: Unsupervised learning involves working with unlabeled data, where the algorithm tries to find patterns or relationships in the data without guidance on the correct outputs.\n",
        "   - **Goals**: The primary goals include clustering similar data points together or reducing the dimensionality of the data.\n",
        "   - **Training Process**: The algorithm explores the data's inherent structure, looking for commonalities, differences, or groupings.\n",
        "   - **Examples**: Clustering, dimensionality reduction, anomaly detection.\n",
        "\n",
        "3. **`Semi-Supervised Learning`**:\n",
        "   - **Combination of Labeled and Unlabeled Data**: Semi-supervised learning combines both labeled and unlabeled data in the training process.\n",
        "   - **Benefits**: It can leverage the information from unlabeled data to improve the performance of the model, especially when labeled data is limited or expensive to obtain.\n",
        "   - **Usage**: Semi-supervised learning is often used when obtaining a large amount of labeled data is challenging, but some labeled data is available.\n",
        "   - **Examples**: Document classification, where a small subset of documents is labeled, but a larger pool of unlabeled documents can be used to improve the model's accuracy.\n",
        "\n",
        "In summary:\n",
        "- **Supervised Learning** uses labeled data to learn a predictive relationship.\n",
        "- **Unsupervised Learning** explores the structure of unlabeled data to uncover patterns.\n",
        "- **Semi-Supervised Learning** leverages both labeled and unlabeled data to improve model performance when labeled data is limited."
      ]
    },
    {
      "cell_type": "code",
      "execution_count": null,
      "metadata": {},
      "outputs": [],
      "source": []
    },
    {
      "cell_type": "markdown",
      "metadata": {},
      "source": [
        "<p style=\" color : #4233FF\"><b>Q6: What is train, test and validation split? Explain the importance of each term.</b>\n",
        "</p>"
      ]
    },
    {
      "cell_type": "markdown",
      "metadata": {},
      "source": [
        "In machine learning, the process of splitting your dataset into three main subsets, namely, the training set, the validation set, and the test set, is crucial for building and evaluating models effectively. Let's dive into each of these and their importance:\n",
        "\n",
        "1. **`Training Set`**:\n",
        "   - The training set is the portion of your dataset used to train or teach your machine learning model. It's the data on which the model learns the relationships and patterns between input features and their corresponding outputs.\n",
        "   - Importance: The training set is essential for the model to learn how to make accurate predictions or classifications. The model adjusts its parameters based on the training data in order to minimize the error.\n",
        "\n",
        "2. **`Validation Set`**:\n",
        "   - The validation set is a separate portion of the dataset that's not used during training. It's used to tune hyperparameters, which are settings that control how the model learns (like learning rate, number of hidden units, etc.).\n",
        "   - Importance: While the training set helps the model learn the relationships, the validation set helps you fine-tune the model's settings. By evaluating the model's performance on the validation set, you can choose the best hyperparameters that lead to the best generalization on unseen data.\n",
        "\n",
        "3. **`Test Set`**:\n",
        "   - The test set is another separate subset of data that hasn't been used during training or hyperparameter tuning. It's used to evaluate the final model's performance.\n",
        "   - Importance: The test set provides an unbiased estimate of how well your model will perform on completely new, unseen data. It gives you a realistic idea of how your model will generalize to real-world scenarios.\n",
        "\n",
        "Importance of the Split:\n",
        "- **Preventing Overfitting**: By evaluating the model's performance on data it hasn't seen during training (validation and test sets), you can detect if your model is overfitting, which means it's fitting the training data too closely and may not generalize well to new data.\n",
        "- **Hyperparameter Tuning**: The validation set helps you choose the best hyperparameters, which are settings that significantly affect the learning process but aren't learned directly from the data.\n",
        "- **Generalization Evaluation**: The test set provides a reliable evaluation of how well your model performs on new, unseen data, which is the ultimate goal of any machine learning model."
      ]
    },
    {
      "cell_type": "code",
      "execution_count": null,
      "metadata": {},
      "outputs": [],
      "source": []
    },
    {
      "cell_type": "markdown",
      "metadata": {},
      "source": [
        "<p style=\" color : #4233FF\"><b>Q7: How can unsupervised learning be used in anomaly detection?</b>\n",
        "</p>"
      ]
    },
    {
      "cell_type": "markdown",
      "metadata": {},
      "source": [
        "Unsupervised learning is widely used in anomaly detection because it doesn't require labeled data with known anomalies. Anomalies are often rare and unknown instances that deviate significantly from the norm in a dataset. Unsupervised learning algorithms can help identify such anomalies by learning the normal patterns within the data and flagging instances that don't conform to those patterns. Here's how unsupervised learning can be applied to anomaly detection:\n",
        "\n",
        "1. **`Clustering-Based Methods`**:\n",
        "   - **K-Means Clustering**: This algorithm groups similar data points into clusters. Anomalies can be identified as data points that don't belong to any cluster or belong to very small clusters.\n",
        "   - **DBSCAN (Density-Based Spatial Clustering of Applications with Noise)**: It's particularly effective at identifying dense clusters of data. Anomalies, which are typically isolated points or in sparse regions, are labeled as noise points.\n",
        "\n",
        "2. **`Autoencoders`**:\n",
        "   - Autoencoders are neural networks designed to learn efficient representations of data. When trained on normal data, they can capture the underlying patterns. If a new data point can't be reconstructed well by the autoencoder, it's considered an anomaly.\n",
        "\n",
        "3. **`Isolation Forest`**:\n",
        "   - This algorithm isolates anomalies by randomly selecting a feature and then randomly selecting a split value between the maximum and minimum values of the selected feature. The anomaly score is determined by how quickly a data point is isolated.\n",
        "\n",
        "4. **`One-Class SVM (Support Vector Machine)`**:\n",
        "   - This algorithm builds a boundary around the majority of the data, considering it as the \"normal\" class. Data points that fall outside this boundary are considered anomalies.\n",
        "\n",
        "5. **`Density Estimation`**:\n",
        "   - Models like Gaussian Mixture Models (GMM) estimate the underlying distribution of the data. Points with low probability under the estimated distribution are considered anomalies.\n",
        "\n",
        "6. **`Local Outlier Factor (LOF)`**:\n",
        "   - This method calculates the density deviation of a data point with respect to its neighbors. Anomalies have significantly lower density than their neighbors.\n",
        "\n",
        "7. **`PCA (Principal Component Analysis)`**:\n",
        "   - PCA reduces data dimensionality while retaining the most important information. Anomalies may have a high reconstruction error when projected back to the original space.\n",
        "\n",
        "The key advantage of using unsupervised learning for anomaly detection is that it can detect novel and unknown anomalies without needing labeled training data containing anomalies. However, it might also produce false positives as anything deviating from the norm can be flagged as an anomaly. Careful model selection, parameter tuning, and domain knowledge are crucial for successful unsupervised anomaly detection."
      ]
    },
    {
      "cell_type": "code",
      "execution_count": null,
      "metadata": {},
      "outputs": [],
      "source": []
    },
    {
      "cell_type": "markdown",
      "metadata": {},
      "source": [
        "<p style=\" color : #4233FF\"><b>Q8: List down some commonly used supervised learning algorithms and unsupervised learning algorithms.</b>\n",
        "</p>"
      ]
    },
    {
      "cell_type": "markdown",
      "metadata": {},
      "source": [
        "Here are some commonly used algorithms for both supervised and unsupervised learning:\n",
        "\n",
        "**`Supervised Learning Algorithms*`*:\n",
        "\n",
        "1. **Linear Regression**: Predicts a continuous value based on input features using a linear relationship.\n",
        "2. **Logistic Regression**: Used for binary classification, estimating the probability of an instance belonging to a certain class.\n",
        "3. **Decision Trees**: Builds a tree-like model of decisions and their possible consequences.\n",
        "4. **Random Forest**: Ensemble of decision trees that improves accuracy and controls overfitting.\n",
        "5. **Support Vector Machines (SVM)**: Constructs hyperplanes to separate different classes.\n",
        "6. **K-Nearest Neighbors (KNN)**: Classifies instances based on the majority class of their k-nearest neighbors.\n",
        "7. **Naive Bayes**: Uses Bayes' theorem to calculate the probability of a certain class given the data.\n",
        "8. **Neural Networks**: A set of interconnected nodes, simulating human brain's decision-making process.\n",
        "9. **Gradient Boosting**: Ensemble technique that builds a model in a stage-wise manner.\n",
        "10. **AdaBoost**: Iteratively trains models, giving more weight to incorrectly classified instances.\n",
        "11. **XGBoost**: An optimized version of gradient boosting, known for its high performance.\n",
        "\n",
        "**`Unsupervised Learning Algorithms`**:\n",
        "\n",
        "1. **K-Means Clustering**: Divides data points into clusters based on their similarity.\n",
        "2. **Hierarchical Clustering**: Builds a tree of clusters by merging or dividing them.\n",
        "3. **DBSCAN (Density-Based Spatial Clustering of Applications with Noise)**: Identifies clusters based on density of data points.\n",
        "4. **Gaussian Mixture Models (GMM)**: Assumes data points are generated from a mixture of several Gaussian distributions.\n",
        "5. **Principal Component Analysis (PCA)**: Reduces dimensionality while preserving most of the original data's variability.\n",
        "6. **Autoencoders**: Neural networks designed to create efficient codings of input data.\n",
        "7. **Isolation Forest**: Isolates anomalies by constructing random forests.\n",
        "8. **One-Class SVM**: Detects anomalies by constructing a boundary around normal instances.\n",
        "9. **Mean Shift Clustering**: Locates dense areas in the data's distribution.\n",
        "10. **Self-Organizing Maps (SOM)**: Neural networks used for dimensionality reduction and visualization."
      ]
    },
    {
      "cell_type": "markdown",
      "metadata": {
        "id": "eOINuiGOcJK4"
      },
      "source": [
        "<h1 style = 'color:orange'>\n",
        "    <b><div>🙏🙏🙏🙏🙏       THANK YOU        🙏🙏🙏🙏🙏</div></b>\n",
        "</h1>\n"
      ]
    }
  ],
  "metadata": {
    "colab": {
      "provenance": []
    },
    "kernelspec": {
      "display_name": "Python 3",
      "language": "python",
      "name": "python3"
    },
    "language_info": {
      "codemirror_mode": {
        "name": "ipython",
        "version": 3
      },
      "file_extension": ".py",
      "mimetype": "text/x-python",
      "name": "python",
      "nbconvert_exporter": "python",
      "pygments_lexer": "ipython3",
      "version": "3.11.2"
    },
    "orig_nbformat": 4
  },
  "nbformat": 4,
  "nbformat_minor": 0
}
