{
  "cells": [
    {
      "cell_type": "markdown",
      "metadata": {
        "id": "jHKORN_4cJKm"
      },
      "source": [
        "<h1 style = 'color:red'><b>Week-13, Feature Engineering-3 Assignment</b><h1>"
      ]
    },
    {
      "cell_type": "markdown",
      "metadata": {
        "id": "dVUW29xlcJKo"
      },
      "source": [
        "Name - Gorachanda Dash <br>\n",
        "Date - 20-Mar-2023<br>\n",
        "Week-13, Feature Engineering-3 Assignment"
      ]
    },
    {
      "cell_type": "markdown",
      "metadata": {
        "id": "fKnfvSL5cJK2"
      },
      "source": [
        "<p style=\" color : #4233FF\"><b>Q1. What is data encoding? How is it useful in data science?</b></p>"
      ]
    },
    {
      "cell_type": "markdown",
      "metadata": {},
      "source": [
        "**Data encoding**, in the context of data science and computer science, refers to the process of converting data from one format or representation to another. It is a fundamental technique used to prepare and transform data so that it can be effectively processed, stored, or used by computer systems, algorithms, or models. Data encoding serves several crucial purposes in data science:\n",
        "\n",
        "1. **Data Compatibility**: Data can originate from diverse sources, each with its own format and encoding. Data encoding ensures that data from different sources or systems can be combined, integrated, or analyzed together. It facilitates data compatibility by converting data into a common format.\n",
        "\n",
        "2. **Data Compression**: Encoding can be used to compress data, reducing its size while preserving essential information. This is particularly important for storing and transmitting data efficiently, as smaller data sizes require less storage space and bandwidth.\n",
        "\n",
        "3. **Data Security**: Encoding techniques such as encryption are used to protect sensitive data from unauthorized access. Encryption encodes data in a way that can only be decoded with the appropriate decryption key, ensuring data confidentiality.\n",
        "\n",
        "4. **Data Representation**: Encoding defines how data is represented, which affects how it can be processed. For example, encoding numeric data as floating-point numbers or integers affects the precision and storage requirements.\n",
        "\n",
        "5. **Character Encoding**: Character encoding is crucial for representing text data, especially in various languages and character sets. Unicode encoding, such as UTF-8, is widely used to support multilingual text and special characters.\n",
        "\n",
        "6. **Data Preprocessing**: In data preprocessing for machine learning, encoding categorical data (e.g., converting text labels to numerical values) is essential because many machine learning algorithms require numerical input. Common techniques include one-hot encoding and label encoding.\n",
        "\n",
        "7. **Data Serialization**: Encoding is used to serialize complex data structures (e.g., objects, JSON, XML) into a format that can be saved to disk or transmitted over a network. Deserialization is the reverse process.\n",
        "\n",
        "8. **Data Interoperability**: Encoding ensures that data can be shared and used across different software applications and platforms. Standardized encoding formats promote interoperability.\n",
        "\n",
        "9. **Data Cleaning**: Encoding can help identify and handle inconsistencies or errors in data. For example, encoding dates in a standard format can reveal inconsistencies in date entries.\n",
        "\n",
        "In summary, data encoding is a foundational concept in data science that addresses data representation, compatibility, security, and transformation. It plays a crucial role in preparing data for analysis, modeling, and the efficient operation of computer systems."
      ]
    },
    {
      "cell_type": "code",
      "execution_count": null,
      "metadata": {},
      "outputs": [],
      "source": []
    },
    {
      "cell_type": "markdown",
      "metadata": {
        "id": "HMuh9StycJK3"
      },
      "source": [
        "<p style=\" color : #4233FF\"><b>Q2. What is nominal encoding? Provide an example of how you would use it in a real-world scenario.</b>\n",
        "</p>"
      ]
    },
    {
      "cell_type": "markdown",
      "metadata": {},
      "source": [
        "**Nominal encoding**, also known as **label encoding**, is a technique used to convert categorical data into numerical values. In nominal encoding, each category or label of a categorical variable is assigned a unique integer or numerical code. Unlike ordinal encoding, which assigns numerical values based on an inherent order or ranking among categories, nominal encoding doesn't imply any specific order among the categories. It's primarily used when there's no intrinsic order in the categories.\n",
        "\n",
        "Here's an example of how we might use nominal encoding in a real-world scenario:\n",
        "\n",
        "**Scenario: Movie Genre Classification**\n",
        "\n",
        "Suppose we're working on a project to classify movies into different genres based on their titles. We have a dataset of movie titles, and each movie title belongs to one of several genres, such as \"Action,\" \"Comedy,\" \"Drama,\" \"Science Fiction,\" and \"Romance.\"\n",
        "\n",
        "The movie genre variable is categorical, and we want to convert it into numerical values using nominal encoding. Here's how we could do it:\n",
        "\n",
        "1. **Data Preparation**: Load the dataset of movie titles and genre labels.\n",
        "\n",
        "2. **Nominal Encoding**: Apply nominal encoding to the \"Genre\" column. Assign a unique numerical code to each genre category. For example:\n",
        "\n",
        "   - \"Action\" might be encoded as 1\n",
        "   - \"Comedy\" as 2\n",
        "   - \"Drama\" as 3\n",
        "   - \"Science Fiction\" as 4\n",
        "   - \"Romance\" as 5\n",
        "\n",
        "   our dataset would now have a new numerical column representing the encoded genre.\n",
        "\n",
        "3. **Data for Analysis**: We now have a dataset with the movie titles and their corresponding numerical genre codes. This data can be used for various tasks, such as:\n",
        "\n",
        "   - Building a machine learning model to predict movie genres based on titles.\n",
        "   - Analyzing the distribution of genres in our dataset.\n",
        "   - Recommending movies to users based on their genre preferences.\n"
      ]
    },
    {
      "cell_type": "code",
      "execution_count": 2,
      "metadata": {},
      "outputs": [
        {
          "data": {
            "text/html": [
              "<div>\n",
              "<style scoped>\n",
              "    .dataframe tbody tr th:only-of-type {\n",
              "        vertical-align: middle;\n",
              "    }\n",
              "\n",
              "    .dataframe tbody tr th {\n",
              "        vertical-align: top;\n",
              "    }\n",
              "\n",
              "    .dataframe thead th {\n",
              "        text-align: right;\n",
              "    }\n",
              "</style>\n",
              "<table border=\"1\" class=\"dataframe\">\n",
              "  <thead>\n",
              "    <tr style=\"text-align: right;\">\n",
              "      <th></th>\n",
              "      <th>Title</th>\n",
              "      <th>Genre</th>\n",
              "      <th>Genre_Encoded</th>\n",
              "    </tr>\n",
              "  </thead>\n",
              "  <tbody>\n",
              "    <tr>\n",
              "      <th>0</th>\n",
              "      <td>Movie A</td>\n",
              "      <td>Action</td>\n",
              "      <td>1</td>\n",
              "    </tr>\n",
              "    <tr>\n",
              "      <th>1</th>\n",
              "      <td>Movie B</td>\n",
              "      <td>Comedy</td>\n",
              "      <td>2</td>\n",
              "    </tr>\n",
              "    <tr>\n",
              "      <th>2</th>\n",
              "      <td>Movie C</td>\n",
              "      <td>Drama</td>\n",
              "      <td>3</td>\n",
              "    </tr>\n",
              "    <tr>\n",
              "      <th>3</th>\n",
              "      <td>Movie D</td>\n",
              "      <td>Science Fiction</td>\n",
              "      <td>4</td>\n",
              "    </tr>\n",
              "  </tbody>\n",
              "</table>\n",
              "</div>"
            ],
            "text/plain": [
              "     Title            Genre  Genre_Encoded\n",
              "0  Movie A           Action              1\n",
              "1  Movie B           Comedy              2\n",
              "2  Movie C            Drama              3\n",
              "3  Movie D  Science Fiction              4"
            ]
          },
          "execution_count": 2,
          "metadata": {},
          "output_type": "execute_result"
        }
      ],
      "source": [
        "import pandas as pd\n",
        "\n",
        "# Sample data\n",
        "data = {'Title': ['Movie A', 'Movie B', 'Movie C', 'Movie D'],\n",
        "        'Genre': ['Action', 'Comedy', 'Drama', 'Science Fiction']}\n",
        "\n",
        "df = pd.DataFrame(data)\n",
        "\n",
        "# Nominal encoding using a dictionary mapping\n",
        "genre_mapping = {'Action': 1, 'Comedy': 2, 'Drama': 3, 'Science Fiction': 4}\n",
        "df['Genre_Encoded'] = df['Genre'].map(genre_mapping)\n",
        "\n",
        "# Display the encoded data\n",
        "df"
      ]
    },
    {
      "cell_type": "markdown",
      "metadata": {},
      "source": [
        "<p style=\" color : #4233FF\"><b>Q3. In what situations is nominal encoding preferred over one-hot encoding? Provide a practical example.</b></p>"
      ]
    },
    {
      "cell_type": "markdown",
      "metadata": {},
      "source": [
        "**Nominal encoding** (also known as label encoding) is preferred over one-hot encoding in situations where the categorical variable being encoded has an intrinsic order or ranking among its categories, and this order is meaningful for the problem being solved. Here are some scenarios where nominal encoding is a better choice:\n",
        "\n",
        "1. **Ordinal Categorical Variables**: When dealing with ordinal variables, which have a clear order or hierarchy among their categories, nominal encoding can be suitable. This encoding method assigns numerical values based on the ordinal relationship among categories.\n",
        "\n",
        "   **Example**: Consider an \"Education Level\" variable with categories: High School, Bachelor's, Master's, Ph.D., and Professor. These categories have a clear order from lower to higher education levels. We can assign numerical labels (e.g., 1 to 5) to represent this order using nominal encoding.\n",
        "\n",
        "2. **Regression Models**: In regression models, where the target variable is continuous and numeric, nominal encoding can be used for categorical predictors with a meaningful order. The model can capture the linear relationship between the predictor's ordinal values and the target variable.\n",
        "\n",
        "   **Example**: Predicting a person's income based on their \"Education Level\" (using labels 1 to 5 as discussed earlier).\n",
        "\n",
        "3. **Dimensionality Reduction**: In situations where dimensionality reduction is crucial due to a large number of unique categories, nominal encoding can be a more efficient choice compared to one-hot encoding. It reduces the dimensionality of the data while preserving the ordinal information.\n",
        "\n",
        "   **Example**: In a survey where respondents rate a product on a scale from \"Strongly Dislike\" to \"Strongly Like\" (ordinal scale), nominal encoding with values 1 to 5 can be used for modeling, reducing the number of features.\n",
        "\n",
        "4. **Improved Interpretability**: In some cases, nominal encoding may lead to more interpretable models, especially if the ordinal values have a clear and intuitive meaning in the context of the problem.\n",
        "\n",
        "   **Example**: In customer satisfaction surveys, ordinal encoding of responses like \"Very Dissatisfied,\" \"Dissatisfied,\" \"Neutral,\" \"Satisfied,\" and \"Very Satisfied\" can result in a model that is easy to interpret, where higher ordinal values correspond to higher satisfaction levels.\n",
        "\n",
        "5. **Handling Missing Data**: Nominal encoding can handle missing data more naturally. In some datasets, missing values may be represented by a specific category or code, which can be integrated into nominal encoding without introducing additional columns (unlike one-hot encoding).\n",
        "\n",
        "   **Example**: In a survey, if \"Education Level\" is missing for some respondents, we can assign a unique code (e.g., 0) to represent \"Missing\" in the nominal encoding.\n",
        "\n",
        "It's important to note that nominal encoding should be used when there is a genuine ordinal relationship among the categories. If no meaningful order exists, or if the order is arbitrary, one-hot encoding is often the preferred choice as it avoids introducing unintended relationships and maintains the independence of categories. The choice between these encoding methods should be guided by the nature of the data and the requirements of the modeling task."
      ]
    },
    {
      "cell_type": "code",
      "execution_count": null,
      "metadata": {},
      "outputs": [],
      "source": []
    },
    {
      "cell_type": "markdown",
      "metadata": {},
      "source": [
        "<p style=\" color : #4233FF\"><b>Q4. Suppose you have a dataset containing categorical data with 5 unique values. Which encoding technique would you use to transform this data into a format suitable for machine learning algorithms? Explain why you made this choice.</b></p>"
      ]
    },
    {
      "cell_type": "markdown",
      "metadata": {},
      "source": [
        "When we have a dataset containing categorical data with 5 unique values, the choice of encoding technique depends on the nature of the categorical variable and its impact on the machine learning model. Here are two common encoding techniques and considerations for each:\n",
        "\n",
        "1. **One-Hot Encoding (OHE)**:\n",
        "\n",
        "   - **When to Use**: One-hot encoding is a suitable choice when the categorical variable doesn't have an intrinsic order or ranking among its categories, and each category is equally important. It is used for nominal categorical variables.\n",
        "   \n",
        "   - **How It Works**: Each unique category is transformed into a binary vector with a length equal to the number of unique categories. Each category gets a binary indicator (0 or 1) in its corresponding position in the vector. Only one position is 1 (hot), and the rest are 0 (cold).\n",
        "\n",
        "   - **Example**: Suppose we have a \"Color\" variable with categories: Red, Blue, Green, Yellow, and Orange. After one-hot encoding, we would have five binary columns, each representing one of these colors, with 0s and 1s indicating the presence of each color.\n",
        "\n",
        "   - **Pros**:\n",
        "     - Maintains the distinctiveness of categories.\n",
        "     - Suitable for most machine learning algorithms.\n",
        "   - **Cons**:\n",
        "     - Increases dimensionality, especially if there are many unique categories.\n",
        "\n",
        "2. **Label Encoding**:\n",
        "\n",
        "   - **When to Use**: Label encoding can be used when there's an inherent order or ranking among the categories, and this order is meaningful for the problem we're solving. It is used for ordinal categorical variables.\n",
        "\n",
        "   - **How It Works**: Each category is assigned a unique numerical label based on its order. Lower numbers typically represent categories with lower importance or priority.\n",
        "\n",
        "   - **Example**: Suppose we have an \"Education Level\" variable with categories: High School, Bachelor's, Master's, Ph.D., and Professor. In label encoding, these categories could be assigned labels 1 through 5, reflecting the order of educational attainment.\n",
        "\n",
        "   - **Pros**:\n",
        "     - Reduces dimensionality compared to one-hot encoding.\n",
        "     - Preserves ordinal information if it exists in the data.\n",
        "   - **Cons**:\n",
        "     - May introduce artificial ordinal relationships where none exist.\n",
        "     - Not suitable for nominal categorical variables without order.\n",
        "\n",
        "The choice between one-hot encoding and label encoding depends on the specific characteristics of the categorical variable and the machine learning model we plan to use:\n",
        "\n",
        "- If the categorical variable is nominal (no meaningful order) and there is no inherent ordinal relationship, one-hot encoding is generally a safer choice because it doesn't introduce unintended relationships between categories.\n",
        "\n",
        "- If the categorical variable is ordinal, and the order of categories is meaningful for the problem, we can consider label encoding to reduce dimensionality. However, be cautious not to introduce artificial relationships, and ensure that the model can interpret the encoded values correctly.\n",
        "\n",
        "Ultimately, the choice should align with the characteristics of our data and the requirements of our machine learning task."
      ]
    },
    {
      "cell_type": "code",
      "execution_count": null,
      "metadata": {},
      "outputs": [],
      "source": []
    },
    {
      "cell_type": "markdown",
      "metadata": {
        "id": "z2avHLHDcJK4"
      },
      "source": [
        "<p style=\" color : #4233FF\"><b>Q5. In a machine learning project, you have a dataset with 1000 rows and 5 columns. Two of the columns are categorical, and the remaining three columns are numerical. If you were to use nominal encoding to transform the categorical data, how many new columns would be created? Show your calculations.</b>\n",
        "</p>"
      ]
    },
    {
      "cell_type": "markdown",
      "metadata": {},
      "source": [
        "When we use nominal encoding (also known as label encoding) to transform categorical data, we create a new column for each unique category in the categorical variable. This means that for each of the two categorical columns in our dataset, we will create a new set of columns, one for each unique category in that column. Let's calculate how many new columns would be created based on the information provided:\n",
        "\n",
        "- Number of categorical columns: 2\n",
        "- Number of unique categories in the first categorical column: Let's denote this as N_1\n",
        "- Number of unique categories in the second categorical column: Let's denote this as N_2\n",
        "\n",
        "The total number of new columns created will be N_1 + N_2 because we create a new column for each unique category in each categorical column.\n",
        "\n",
        "Now, let's assume the following for our dataset:\n",
        "\n",
        "- The first categorical column has N_1 = 10 unique categories.\n",
        "- The second categorical column has N_2 = 5 unique categories.\n",
        "\n",
        "Using these values, we can calculate the total number of new columns:\n",
        "\n",
        "Total new columns = N_1 + N_2 = 10 + 5 = 15\n",
        "\n",
        "So, if we were to use nominal encoding to transform the categorical data in our dataset with 2 categorical columns, we would create a total of 15 new columns. These new columns would represent the encoded values of the unique categories in the original categorical columns."
      ]
    },
    {
      "cell_type": "code",
      "execution_count": null,
      "metadata": {},
      "outputs": [],
      "source": []
    },
    {
      "cell_type": "markdown",
      "metadata": {},
      "source": [
        "<p style=\" color : #4233FF\"><b>Q6. You are working with a dataset containing information about different types of animals, including their species, habitat, and diet. Which encoding technique would you use to transform the categorical data into a format suitable for machine learning algorithms? Justify your answer.</b>\n",
        "</p>"
      ]
    },
    {
      "cell_type": "markdown",
      "metadata": {},
      "source": [
        "The choice of encoding technique for transforming categorical data into a format suitable for machine learning algorithms depends on the nature of the categorical variables and the specific machine learning model we plan to use. In our dataset containing information about animals, including their species, habitat, and diet, I would recommend the following encoding techniques for each type of categorical variable:\n",
        "\n",
        "1. **Species (Nominal Categorical)**: Since \"Species\" typically represents distinct categories with no inherent order or ranking, one-hot encoding is a suitable choice. Each species category should be transformed into a binary vector with a unique column for each species. This technique ensures that no artificial ordinal relationships are introduced among species.\n",
        "\n",
        "   - **Example**: If our dataset includes species like \"Lion,\" \"Tiger,\" \"Bear,\" and \"Elephant,\" each of these species would be represented by a separate binary column.\n",
        "\n",
        "2. **Habitat (Nominal Categorical)**: Similar to \"Species,\" \"Habitat\" is also a nominal categorical variable with distinct categories but no inherent order. One-hot encoding is appropriate to represent each habitat category as a binary vector.\n",
        "\n",
        "   - **Example**: If our dataset includes habitat types like \"Forest,\" \"Savannah,\" \"Desert,\" and \"Aquatic,\" each of these habitat categories would be transformed into separate binary columns.\n",
        "\n",
        "3. **Diet (Ordinal Categorical)**: If \"Diet\" has an intrinsic order or ranking, such as \"Herbivore,\" \"Omnivore,\" and \"Carnivore,\" we could consider nominal encoding (label encoding) since the order is meaningful. Assign numerical labels to each diet category to capture this ordinal relationship.\n",
        "\n",
        "   - **Example**: \"Herbivore\" might be encoded as 1, \"Omnivore\" as 2, and \"Carnivore\" as 3.\n",
        "\n",
        "Justification for the Choices:\n",
        "\n",
        "- One-hot encoding is suitable for nominal categorical variables (Species and Habitat) because it maintains the independence of categories and is compatible with most machine learning models.\n",
        "\n",
        "- Nominal encoding (label encoding) can be applied to \"Diet\" if there is a clear and meaningful order among the categories, allowing the model to capture the ordinal relationship.\n",
        "\n",
        "The choice of encoding techniques ensures that the transformed categorical data is suitable for machine learning algorithms while respecting the characteristics and relationships within each categorical variable. It's important to choose the encoding method that aligns with the nature of the data and the modeling requirements."
      ]
    },
    {
      "cell_type": "code",
      "execution_count": null,
      "metadata": {},
      "outputs": [],
      "source": []
    },
    {
      "cell_type": "markdown",
      "metadata": {},
      "source": [
        "<p style=\" color : #4233FF\"><b>Q7.You are working on a project that involves predicting customer churn for a telecommunications company. You have a dataset with 5 features, including the customer's gender, age, contract type, monthly charges, and tenure. Which encoding technique(s) would you use to transform the categorical data into numerical data? Provide a step-by-step explanation of how you would implement the encoding.</b>\n",
        "</p>"
      ]
    },
    {
      "cell_type": "markdown",
      "metadata": {},
      "source": [
        "In a project involving predicting customer churn for a telecommunications company with a dataset containing categorical features (gender and contract type) and numerical features (age, monthly charges, and tenure), you would need to encode the categorical data into numerical form for machine learning. Here's a step-by-step explanation of how we can implement the encoding:\n",
        "\n",
        "**Step 1: Data Preparation**\n",
        "\n",
        "Before encoding, we should load and preprocess the dataset. This may involve tasks such as handling missing values, data scaling, and splitting the dataset into training and testing sets.\n",
        "\n",
        "**Step 2: Handling Numerical Features**\n",
        "\n",
        "Since \"age,\" \"monthly charges,\" and \"tenure\" are already numerical features, they do not require encoding.\n",
        "\n",
        "**Step 3: Encoding Categorical Features**\n",
        "\n",
        "In this dataset, \"gender\" and \"contract type\" are the categorical features that need to be encoded.\n",
        "\n",
        "**For \"Gender\" (Nominal Categorical):**\n",
        "\n",
        "- Since \"gender\" is nominal and has only two categories (e.g., \"Male\" and \"Female\"), we can use one-hot encoding to represent it. One-hot encoding will create a binary column for each category, where 1 represents the presence of the category, and 0 represents its absence.\n",
        "\n",
        "Here's a Python code snippet for one-hot encoding \"gender\" using pandas:\n",
        "\n",
        "```python\n",
        "import pandas as pd\n",
        "\n",
        "# Assuming df is our DataFrame\n",
        "df = pd.get_dummies(df, columns=[\"gender\"], prefix=[\"gender\"], drop_first=True)\n",
        "```\n",
        "\n",
        "This code will create a new binary column, e.g., \"gender_Male,\" to represent the gender information.\n",
        "\n",
        "**For \"Contract Type\" (Nominal Categorical):**\n",
        "\n",
        "- \"Contract type\" is also nominal, and it likely has multiple categories (e.g., \"Month-to-Month,\" \"One Year,\" \"Two Year\"). Similar to \"gender,\" we can use one-hot encoding to represent it. One-hot encoding will create binary columns for each category.\n",
        "\n",
        "Here's a Python code snippet for one-hot encoding \"contract type\" using pandas:\n",
        "\n",
        "```python\n",
        "# Assuming df is our DataFrame\n",
        "df = pd.get_dummies(df, columns=[\"contract type\"], prefix=[\"contract\"], drop_first=True)\n",
        "```\n",
        "\n",
        "This code will create new binary columns, e.g., \"contract_One Year\" and \"contract_Two Year,\" to represent the contract type information.\n",
        "\n",
        "**Step 4: Final Dataset**\n",
        "\n",
        "After encoding both \"gender\" and \"contract type\" using one-hot encoding, we will have a final dataset with all numerical features, which can be used for training and evaluating machine learning models to predict customer churn.\n",
        "\n",
        "By using one-hot encoding for nominal categorical variables, we ensure that the model can interpret these features correctly without introducing artificial ordinal relationships among categories."
      ]
    },
    {
      "cell_type": "markdown",
      "metadata": {
        "id": "eOINuiGOcJK4"
      },
      "source": [
        "<h1 style = 'color:orange'>\n",
        "    <b><div>🙏🙏🙏🙏🙏       THANK YOU        🙏🙏🙏🙏🙏</div></b>\n",
        "</h1>\n"
      ]
    }
  ],
  "metadata": {
    "colab": {
      "provenance": []
    },
    "kernelspec": {
      "display_name": "Python 3",
      "language": "python",
      "name": "python3"
    },
    "language_info": {
      "codemirror_mode": {
        "name": "ipython",
        "version": 3
      },
      "file_extension": ".py",
      "mimetype": "text/x-python",
      "name": "python",
      "nbconvert_exporter": "python",
      "pygments_lexer": "ipython3",
      "version": "3.11.2"
    },
    "orig_nbformat": 4
  },
  "nbformat": 4,
  "nbformat_minor": 0
}
