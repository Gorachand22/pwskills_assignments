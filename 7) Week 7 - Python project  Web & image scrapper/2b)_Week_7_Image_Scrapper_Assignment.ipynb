{
  "cells": [
    {
      "cell_type": "markdown",
      "metadata": {
        "id": "jHKORN_4cJKm"
      },
      "source": [
        "<h1 style = 'color:red'><b>Week-7, Image Scrapper Assignment</b><h1>"
      ]
    },
    {
      "cell_type": "markdown",
      "metadata": {
        "id": "dVUW29xlcJKo"
      },
      "source": [
        "Name - Gorachanda Dash <br>\n",
        "Date - 22 Feb 2023\n",
        "Week 7, Image Scrapper Assignment"
      ]
    },
    {
      "cell_type": "markdown",
      "metadata": {
        "id": "11Z2th_gcJKs"
      },
      "source": [
        "Go to this given URL and solve the following questions<br><br>\n",
        "URL: https://www.youtube.com/@PW-Foundation/videos"
      ]
    },
    {
      "cell_type": "markdown",
      "metadata": {},
      "source": [
        "All the scraping process I did with the help of YouTube API"
      ]
    },
    {
      "cell_type": "code",
      "execution_count": null,
      "metadata": {},
      "outputs": [],
      "source": [
        "# https://console.cloud.google.com/ ---> Get the api key\n",
        "# https://developers.google.com/youtube/v3/docs - youtube doc to scrape"
      ]
    },
    {
      "cell_type": "code",
      "execution_count": 1,
      "metadata": {
        "id": "KyTiJ75pcJKu"
      },
      "outputs": [],
      "source": [
        "from googleapiclient.discovery import build\n",
        "import pandas as pd"
      ]
    },
    {
      "cell_type": "code",
      "execution_count": 2,
      "metadata": {
        "id": "PeWo_TGtcJKx"
      },
      "outputs": [],
      "source": [
        "headers = {\"User-Agent\": \"Mozilla/5.0 (Windows NT 10.0; Win64; x64) AppleWebKit/537.36 (KHTML, like Gecko) Chrome/58.0.3029.110 Safari/537.36\"}"
      ]
    },
    {
      "cell_type": "code",
      "execution_count": 3,
      "metadata": {
        "id": "D0EHXP2lcJKy"
      },
      "outputs": [],
      "source": [
        "api_key = 'API'\n",
        "\n",
        "channel_url = 'https://www.youtube.com/@PW-Foundation/videos'\n",
        "\n",
        "channel_id = \"UCphU2bAGmw304CFAzy0Enuw\"\n",
        "youtube = build('youtube','v3',developerKey=api_key)"
      ]
    },
    {
      "cell_type": "code",
      "execution_count": 9,
      "metadata": {
        "colab": {
          "base_uri": "https://localhost:8080/",
          "height": 35
        },
        "id": "ynca1J7LcJK1",
        "outputId": "722ce165-101c-454d-b5ca-b704b832dc47"
      },
      "outputs": [
        {
          "data": {
            "application/vnd.google.colaboratory.intrinsic+json": {
              "type": "string"
            },
            "text/plain": [
              "'UUphU2bAGmw304CFAzy0Enuw'"
            ]
          },
          "execution_count": 9,
          "metadata": {},
          "output_type": "execute_result"
        }
      ],
      "source": [
        "# all videos id\n",
        "def get_channel_stats(youtube, channel_id):\n",
        "    request = youtube.channels().list(\n",
        "        part=\"snippet,contentDetails,statistics\",\n",
        "        id=channel_id\n",
        "    )\n",
        "    response = request.execute()\n",
        "\n",
        "    data =  response['items'][0]['contentDetails']['relatedPlaylists']['uploads']\n",
        "\n",
        "    return data\n",
        "\n",
        "playlist_id = get_channel_stats(youtube, channel_id)\n",
        "playlist_id"
      ]
    },
    {
      "cell_type": "code",
      "execution_count": 15,
      "metadata": {
        "colab": {
          "base_uri": "https://localhost:8080/"
        },
        "id": "9yF4kSQKBUtH",
        "outputId": "e2a069e0-2078-46f1-dd9d-44cbcc5a465c"
      },
      "outputs": [
        {
          "data": {
            "text/plain": [
              "['Q1VVgfbd8i0', 'SJXg12-3eNw', 'HqG2QchBw8Y', 'I_CnERi_YAs', 'dNoGxuIPB8k']"
            ]
          },
          "execution_count": 15,
          "metadata": {},
          "output_type": "execute_result"
        }
      ],
      "source": [
        "# 1st five videos ids\n",
        "def get_video_ids(youtube, playlist_id):\n",
        "    video_ids=[]\n",
        "    request = youtube.playlistItems().list(\n",
        "                part='contentDetails',\n",
        "                playlistId = playlist_id,\n",
        "                maxResults = 5)\n",
        "    response = request.execute()\n",
        "    for i in range(len(response['items'])):\n",
        "                video_ids.append(response['items'][i]['contentDetails']['videoId'])\n",
        "    return video_ids\n",
        "\n",
        "video_ids=get_video_ids(youtube, playlist_id)\n",
        "video_ids"
      ]
    },
    {
      "cell_type": "code",
      "execution_count": 18,
      "metadata": {
        "id": "zemhoPo1BHQa"
      },
      "outputs": [],
      "source": [
        "# Extract video URL, URL Thumbnails, Titles, Views, Time of posting\n",
        "\n",
        "def get_video_details(youtube, video_ids):\n",
        "\n",
        "    request = youtube.videos().list(\n",
        "                part='snippet,statistics',\n",
        "                id=','.join(video_ids))\n",
        "    response = request.execute()\n",
        "    full_data = []\n",
        "    for i in range(len(response[\"items\"])):\n",
        "            data = dict(video_url=\"https://www.youtube.com/watch?v=\"+str(response[\"items\"][i][\"id\"]),\n",
        "                        url_thumnails = response[\"items\"][i][\"snippet\"][\"thumbnails\"][\"high\"][\"url\"],\n",
        "                        titles=str(response[\"items\"][i][\"snippet\"][\"title\"]),\n",
        "                        views = response[\"items\"][i][\"statistics\"][ \"viewCount\"],\n",
        "                        time_of_posting = response[\"items\"][i][\"snippet\"][\"publishedAt\"])\n",
        "            full_data.append(data)\n",
        "    return full_data\n",
        "all_video_stats=get_video_details(youtube, video_ids)"
      ]
    },
    {
      "cell_type": "markdown",
      "metadata": {
        "id": "fKnfvSL5cJK2"
      },
      "source": [
        "<p style=\" color : #4233FF\"><b>Q1. Write a python program to extract the video URL of the first five videos.<br></b></p>"
      ]
    },
    {
      "cell_type": "code",
      "execution_count": 22,
      "metadata": {
        "colab": {
          "base_uri": "https://localhost:8080/"
        },
        "id": "cvxJP2sqcJK2",
        "outputId": "41913d6f-e995-45c4-afd3-3a4e152211fe"
      },
      "outputs": [
        {
          "name": "stdout",
          "output_type": "stream",
          "text": [
            "https://www.youtube.com/watch?v=Q1VVgfbd8i0\n",
            "https://www.youtube.com/watch?v=SJXg12-3eNw\n",
            "https://www.youtube.com/watch?v=HqG2QchBw8Y\n",
            "https://www.youtube.com/watch?v=I_CnERi_YAs\n",
            "https://www.youtube.com/watch?v=dNoGxuIPB8k\n"
          ]
        }
      ],
      "source": [
        "# first five videos\n",
        "for i in all_video_stats:\n",
        "    print(i['video_url'])"
      ]
    },
    {
      "cell_type": "code",
      "execution_count": null,
      "metadata": {
        "id": "lW4IuWbT6TWq"
      },
      "outputs": [],
      "source": []
    },
    {
      "cell_type": "markdown",
      "metadata": {
        "id": "l7nokEV7cJK3"
      },
      "source": [
        "<p style=\" color : #4233FF\"><b>Q2. Write a python program to extract the URL of the video thumbnails of the first five videos.<br></b></p>"
      ]
    },
    {
      "cell_type": "code",
      "execution_count": 23,
      "metadata": {
        "colab": {
          "base_uri": "https://localhost:8080/"
        },
        "id": "2EE8UwO77N7v",
        "outputId": "76503968-c4a4-4ad3-9288-73861449d730"
      },
      "outputs": [
        {
          "name": "stdout",
          "output_type": "stream",
          "text": [
            "https://i.ytimg.com/vi/Q1VVgfbd8i0/hqdefault.jpg\n",
            "https://i.ytimg.com/vi/SJXg12-3eNw/hqdefault_live.jpg\n",
            "https://i.ytimg.com/vi/HqG2QchBw8Y/hqdefault.jpg\n",
            "https://i.ytimg.com/vi/I_CnERi_YAs/hqdefault.jpg\n",
            "https://i.ytimg.com/vi/dNoGxuIPB8k/hqdefault.jpg\n"
          ]
        }
      ],
      "source": [
        "# 1st five thumbnails\n",
        "for i in all_video_stats:\n",
        "    print(i['url_thumnails'])"
      ]
    },
    {
      "cell_type": "code",
      "execution_count": null,
      "metadata": {
        "id": "pSG-G8J77Pm3"
      },
      "outputs": [],
      "source": []
    },
    {
      "cell_type": "markdown",
      "metadata": {
        "id": "HMuh9StycJK3"
      },
      "source": [
        "<p style=\" color : #4233FF\"><b>Q3. Write a python program to extract the title of the first five videos.<br></b></p>"
      ]
    },
    {
      "cell_type": "code",
      "execution_count": 26,
      "metadata": {
        "colab": {
          "base_uri": "https://localhost:8080/"
        },
        "id": "_kD9H636cJK4",
        "outputId": "f8f0ea87-8e68-44aa-8714-811e422acfe8"
      },
      "outputs": [
        {
          "name": "stdout",
          "output_type": "stream",
          "text": [
            "Class 9th SST : Make Your Basics Super Strong || Back To Basics || Must Watch 🔥 \n",
            "\n",
            "Class 9th English : Make Your Basics Super Strong || Back To Basics || Must Watch 🔥 \n",
            "\n",
            "Launching FUNDO For Class - 6th to 8th Students 🔥💯 || Ab Hoga Padhai Ke Sath FUN 🤩 \n",
            "\n",
            "इस Guru Purnima क्या होने वाला है खास..!!🤩📚 #PWShorts #PhysicsWallah \n",
            "\n",
            "Launching The Most Demanding Batches For Class - 6th, 7th & 8th Students ⚡ || For Complete Year📚🔥 \n",
            "\n"
          ]
        }
      ],
      "source": [
        "# 1st five titles\n",
        "for i in all_video_stats:\n",
        "    print(i['titles'],'\\n')"
      ]
    },
    {
      "cell_type": "markdown",
      "metadata": {
        "id": "9aKHN4uEcJK4"
      },
      "source": [
        "<p style=\" color : #4233FF\"><b>Q4. Write a python program to extract the number of views of the first five videos.<br></b></p>"
      ]
    },
    {
      "cell_type": "code",
      "execution_count": 27,
      "metadata": {
        "colab": {
          "base_uri": "https://localhost:8080/"
        },
        "id": "-9lUni6qcJK4",
        "outputId": "3fe2ef07-8a7b-446b-88ac-6237f52e2911"
      },
      "outputs": [
        {
          "name": "stdout",
          "output_type": "stream",
          "text": [
            "20524 \n",
            "\n",
            "0 \n",
            "\n",
            "16702 \n",
            "\n",
            "43398 \n",
            "\n",
            "43181 \n",
            "\n"
          ]
        }
      ],
      "source": [
        "# 1st five no. of views\n",
        "for i in all_video_stats:\n",
        "    print(i['views'],'\\n')"
      ]
    },
    {
      "cell_type": "markdown",
      "metadata": {
        "id": "z2avHLHDcJK4"
      },
      "source": [
        "<p style=\" color : #4233FF\"><b>Q5. Write a python program to extract the time of posting of video for the first five videos.<br></b></p>"
      ]
    },
    {
      "cell_type": "code",
      "execution_count": 28,
      "metadata": {
        "colab": {
          "base_uri": "https://localhost:8080/"
        },
        "id": "NV-35wfmE0rj",
        "outputId": "c2e03371-a91f-4763-b564-889b0b12fc3b"
      },
      "outputs": [
        {
          "name": "stdout",
          "output_type": "stream",
          "text": [
            "2023-07-06T16:31:26Z \n",
            "\n",
            "2023-07-06T12:52:10Z \n",
            "\n",
            "2023-07-05T12:30:07Z \n",
            "\n",
            "2023-07-03T14:38:57Z \n",
            "\n",
            "2023-06-28T14:41:42Z \n",
            "\n"
          ]
        }
      ],
      "source": [
        "# 1st five time of posting\n",
        "for i in all_video_stats:\n",
        "    print(i['time_of_posting'],'\\n')"
      ]
    },
    {
      "cell_type": "code",
      "execution_count": null,
      "metadata": {
        "id": "YiIrdsHdE1AY"
      },
      "outputs": [],
      "source": [
        "\n",
        "\n"
      ]
    },
    {
      "cell_type": "markdown",
      "metadata": {
        "id": "1Ynu0WrsFtgy"
      },
      "source": [
        "<p style=\" color : #4233FF\"><b>Save all the data scraped in the above questions in a CSV file.<br></b></p>"
      ]
    },
    {
      "cell_type": "code",
      "execution_count": 29,
      "metadata": {
        "id": "ve2XMk8aG5qb"
      },
      "outputs": [],
      "source": [
        "video_data = pd.DataFrame(all_video_stats)"
      ]
    },
    {
      "cell_type": "code",
      "execution_count": 32,
      "metadata": {
        "id": "oGdezDAuHUST"
      },
      "outputs": [],
      "source": [
        "video_data['views'] = pd.to_numeric(video_data['views'])\n",
        "video_data['time_of_posting'] = pd.to_datetime(video_data['time_of_posting']).dt.date"
      ]
    },
    {
      "cell_type": "code",
      "execution_count": 34,
      "metadata": {
        "colab": {
          "base_uri": "https://localhost:8080/",
          "height": 508
        },
        "id": "o6Dy2tj0IgQA",
        "outputId": "15432b75-8663-43e8-8734-7b4cbb49e005"
      },
      "outputs": [
        {
          "data": {
            "text/html": [
              "\n",
              "  <div id=\"df-7359d967-9451-4afc-b3e5-5456bed6751a\">\n",
              "    <div class=\"colab-df-container\">\n",
              "      <div>\n",
              "<style scoped>\n",
              "    .dataframe tbody tr th:only-of-type {\n",
              "        vertical-align: middle;\n",
              "    }\n",
              "\n",
              "    .dataframe tbody tr th {\n",
              "        vertical-align: top;\n",
              "    }\n",
              "\n",
              "    .dataframe thead th {\n",
              "        text-align: right;\n",
              "    }\n",
              "</style>\n",
              "<table border=\"1\" class=\"dataframe\">\n",
              "  <thead>\n",
              "    <tr style=\"text-align: right;\">\n",
              "      <th></th>\n",
              "      <th>video_url</th>\n",
              "      <th>url_thumnails</th>\n",
              "      <th>titles</th>\n",
              "      <th>views</th>\n",
              "      <th>time_of_posting</th>\n",
              "    </tr>\n",
              "  </thead>\n",
              "  <tbody>\n",
              "    <tr>\n",
              "      <th>0</th>\n",
              "      <td>https://www.youtube.com/watch?v=Q1VVgfbd8i0</td>\n",
              "      <td>https://i.ytimg.com/vi/Q1VVgfbd8i0/hqdefault.jpg</td>\n",
              "      <td>Class 9th SST : Make Your Basics Super Strong ...</td>\n",
              "      <td>20524</td>\n",
              "      <td>2023-07-06</td>\n",
              "    </tr>\n",
              "    <tr>\n",
              "      <th>1</th>\n",
              "      <td>https://www.youtube.com/watch?v=SJXg12-3eNw</td>\n",
              "      <td>https://i.ytimg.com/vi/SJXg12-3eNw/hqdefault_l...</td>\n",
              "      <td>Class 9th English : Make Your Basics Super Str...</td>\n",
              "      <td>0</td>\n",
              "      <td>2023-07-06</td>\n",
              "    </tr>\n",
              "    <tr>\n",
              "      <th>2</th>\n",
              "      <td>https://www.youtube.com/watch?v=HqG2QchBw8Y</td>\n",
              "      <td>https://i.ytimg.com/vi/HqG2QchBw8Y/hqdefault.jpg</td>\n",
              "      <td>Launching FUNDO For Class - 6th to 8th Student...</td>\n",
              "      <td>16702</td>\n",
              "      <td>2023-07-05</td>\n",
              "    </tr>\n",
              "    <tr>\n",
              "      <th>3</th>\n",
              "      <td>https://www.youtube.com/watch?v=I_CnERi_YAs</td>\n",
              "      <td>https://i.ytimg.com/vi/I_CnERi_YAs/hqdefault.jpg</td>\n",
              "      <td>इस Guru Purnima क्या होने वाला है खास..!!🤩📚 #P...</td>\n",
              "      <td>43398</td>\n",
              "      <td>2023-07-03</td>\n",
              "    </tr>\n",
              "    <tr>\n",
              "      <th>4</th>\n",
              "      <td>https://www.youtube.com/watch?v=dNoGxuIPB8k</td>\n",
              "      <td>https://i.ytimg.com/vi/dNoGxuIPB8k/hqdefault.jpg</td>\n",
              "      <td>Launching The Most Demanding Batches For Class...</td>\n",
              "      <td>43181</td>\n",
              "      <td>2023-06-28</td>\n",
              "    </tr>\n",
              "  </tbody>\n",
              "</table>\n",
              "</div>\n",
              "      <button class=\"colab-df-convert\" onclick=\"convertToInteractive('df-7359d967-9451-4afc-b3e5-5456bed6751a')\"\n",
              "              title=\"Convert this dataframe to an interactive table.\"\n",
              "              style=\"display:none;\">\n",
              "        \n",
              "  <svg xmlns=\"http://www.w3.org/2000/svg\" height=\"24px\"viewBox=\"0 0 24 24\"\n",
              "       width=\"24px\">\n",
              "    <path d=\"M0 0h24v24H0V0z\" fill=\"none\"/>\n",
              "    <path d=\"M18.56 5.44l.94 2.06.94-2.06 2.06-.94-2.06-.94-.94-2.06-.94 2.06-2.06.94zm-11 1L8.5 8.5l.94-2.06 2.06-.94-2.06-.94L8.5 2.5l-.94 2.06-2.06.94zm10 10l.94 2.06.94-2.06 2.06-.94-2.06-.94-.94-2.06-.94 2.06-2.06.94z\"/><path d=\"M17.41 7.96l-1.37-1.37c-.4-.4-.92-.59-1.43-.59-.52 0-1.04.2-1.43.59L10.3 9.45l-7.72 7.72c-.78.78-.78 2.05 0 2.83L4 21.41c.39.39.9.59 1.41.59.51 0 1.02-.2 1.41-.59l7.78-7.78 2.81-2.81c.8-.78.8-2.07 0-2.86zM5.41 20L4 18.59l7.72-7.72 1.47 1.35L5.41 20z\"/>\n",
              "  </svg>\n",
              "      </button>\n",
              "      \n",
              "  <style>\n",
              "    .colab-df-container {\n",
              "      display:flex;\n",
              "      flex-wrap:wrap;\n",
              "      gap: 12px;\n",
              "    }\n",
              "\n",
              "    .colab-df-convert {\n",
              "      background-color: #E8F0FE;\n",
              "      border: none;\n",
              "      border-radius: 50%;\n",
              "      cursor: pointer;\n",
              "      display: none;\n",
              "      fill: #1967D2;\n",
              "      height: 32px;\n",
              "      padding: 0 0 0 0;\n",
              "      width: 32px;\n",
              "    }\n",
              "\n",
              "    .colab-df-convert:hover {\n",
              "      background-color: #E2EBFA;\n",
              "      box-shadow: 0px 1px 2px rgba(60, 64, 67, 0.3), 0px 1px 3px 1px rgba(60, 64, 67, 0.15);\n",
              "      fill: #174EA6;\n",
              "    }\n",
              "\n",
              "    [theme=dark] .colab-df-convert {\n",
              "      background-color: #3B4455;\n",
              "      fill: #D2E3FC;\n",
              "    }\n",
              "\n",
              "    [theme=dark] .colab-df-convert:hover {\n",
              "      background-color: #434B5C;\n",
              "      box-shadow: 0px 1px 3px 1px rgba(0, 0, 0, 0.15);\n",
              "      filter: drop-shadow(0px 1px 2px rgba(0, 0, 0, 0.3));\n",
              "      fill: #FFFFFF;\n",
              "    }\n",
              "  </style>\n",
              "\n",
              "      <script>\n",
              "        const buttonEl =\n",
              "          document.querySelector('#df-7359d967-9451-4afc-b3e5-5456bed6751a button.colab-df-convert');\n",
              "        buttonEl.style.display =\n",
              "          google.colab.kernel.accessAllowed ? 'block' : 'none';\n",
              "\n",
              "        async function convertToInteractive(key) {\n",
              "          const element = document.querySelector('#df-7359d967-9451-4afc-b3e5-5456bed6751a');\n",
              "          const dataTable =\n",
              "            await google.colab.kernel.invokeFunction('convertToInteractive',\n",
              "                                                     [key], {});\n",
              "          if (!dataTable) return;\n",
              "\n",
              "          const docLinkHtml = 'Like what you see? Visit the ' +\n",
              "            '<a target=\"_blank\" href=https://colab.research.google.com/notebooks/data_table.ipynb>data table notebook</a>'\n",
              "            + ' to learn more about interactive tables.';\n",
              "          element.innerHTML = '';\n",
              "          dataTable['output_type'] = 'display_data';\n",
              "          await google.colab.output.renderOutput(dataTable, element);\n",
              "          const docLink = document.createElement('div');\n",
              "          docLink.innerHTML = docLinkHtml;\n",
              "          element.appendChild(docLink);\n",
              "        }\n",
              "      </script>\n",
              "    </div>\n",
              "  </div>\n",
              "  "
            ],
            "text/plain": [
              "                                     video_url  \\\n",
              "0  https://www.youtube.com/watch?v=Q1VVgfbd8i0   \n",
              "1  https://www.youtube.com/watch?v=SJXg12-3eNw   \n",
              "2  https://www.youtube.com/watch?v=HqG2QchBw8Y   \n",
              "3  https://www.youtube.com/watch?v=I_CnERi_YAs   \n",
              "4  https://www.youtube.com/watch?v=dNoGxuIPB8k   \n",
              "\n",
              "                                       url_thumnails  \\\n",
              "0   https://i.ytimg.com/vi/Q1VVgfbd8i0/hqdefault.jpg   \n",
              "1  https://i.ytimg.com/vi/SJXg12-3eNw/hqdefault_l...   \n",
              "2   https://i.ytimg.com/vi/HqG2QchBw8Y/hqdefault.jpg   \n",
              "3   https://i.ytimg.com/vi/I_CnERi_YAs/hqdefault.jpg   \n",
              "4   https://i.ytimg.com/vi/dNoGxuIPB8k/hqdefault.jpg   \n",
              "\n",
              "                                              titles  views time_of_posting  \n",
              "0  Class 9th SST : Make Your Basics Super Strong ...  20524      2023-07-06  \n",
              "1  Class 9th English : Make Your Basics Super Str...      0      2023-07-06  \n",
              "2  Launching FUNDO For Class - 6th to 8th Student...  16702      2023-07-05  \n",
              "3  इस Guru Purnima क्या होने वाला है खास..!!🤩📚 #P...  43398      2023-07-03  \n",
              "4  Launching The Most Demanding Batches For Class...  43181      2023-06-28  "
            ]
          },
          "execution_count": 34,
          "metadata": {},
          "output_type": "execute_result"
        }
      ],
      "source": [
        "video_data"
      ]
    },
    {
      "cell_type": "code",
      "execution_count": 35,
      "metadata": {
        "id": "wmYxTCeOIpLJ"
      },
      "outputs": [],
      "source": [
        "video_data.to_csv('Video_Details(PW-Foundation).csv')"
      ]
    },
    {
      "cell_type": "markdown",
      "metadata": {},
      "source": [
        "# Link"
      ]
    },
    {
      "cell_type": "markdown",
      "metadata": {},
      "source": [
        "AWS Asking payment rightnow I don't have that card I can't pay it<br>\n",
        "But I made rest of things and this is the that deployment github link<br><br>\n",
        "\n",
        "https://github.com/Gorachand22/Youtube_Web_Scraping\n",
        "\n",
        "and I use free pythonanywhere for hosting this the deployment link\n",
        "\n",
        "http://gorachand22.pythonanywhere.com/"
      ]
    },
    {
      "cell_type": "markdown",
      "metadata": {
        "id": "eOINuiGOcJK4"
      },
      "source": [
        "\n",
        "<h1 style = 'color:orange'>\n",
        "    <b><div>THANK YOU</div></b>\n",
        "</h1>\n"
      ]
    },
    {
      "cell_type": "markdown",
      "metadata": {},
      "source": []
    }
  ],
  "metadata": {
    "colab": {
      "provenance": []
    },
    "kernelspec": {
      "display_name": "Python 3",
      "language": "python",
      "name": "python3"
    },
    "language_info": {
      "codemirror_mode": {
        "name": "ipython",
        "version": 3
      },
      "file_extension": ".py",
      "mimetype": "text/x-python",
      "name": "python",
      "nbconvert_exporter": "python",
      "pygments_lexer": "ipython3",
      "version": "3.11.2"
    },
    "orig_nbformat": 4
  },
  "nbformat": 4,
  "nbformat_minor": 0
}
