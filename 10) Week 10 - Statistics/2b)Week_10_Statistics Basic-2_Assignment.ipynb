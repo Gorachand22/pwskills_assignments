{
  "cells": [
    {
      "cell_type": "markdown",
      "metadata": {
        "id": "jHKORN_4cJKm"
      },
      "source": [
        "<h1 style = 'color:red'><b>Week-9, Statistics Basic-2 Assignment</b><h1>"
      ]
    },
    {
      "cell_type": "markdown",
      "metadata": {
        "id": "dVUW29xlcJKo"
      },
      "source": [
        "Name - Gorachanda Dash <br>\n",
        "Date - 07-Mar-2023<br>\n",
        "Week 10, Statistics Basic-2 Assignment"
      ]
    },
    {
      "cell_type": "markdown",
      "metadata": {
        "id": "fKnfvSL5cJK2"
      },
      "source": [
        "<p style=\" color : #4233FF\"><b>Q1. What are the three measures of central tendency?</b></p>"
      ]
    },
    {
      "cell_type": "markdown",
      "metadata": {},
      "source": [
        "- Mean\n",
        "- Median\n",
        "- Mode"
      ]
    },
    {
      "cell_type": "code",
      "execution_count": null,
      "metadata": {},
      "outputs": [],
      "source": []
    },
    {
      "cell_type": "markdown",
      "metadata": {
        "id": "l7nokEV7cJK3"
      },
      "source": [
        "<p style=\" color : #4233FF\"><b>Q2. What is the difference between the mean, median, and mode? How are they used to measure the central tendency of a dataset?</b></p>"
      ]
    },
    {
      "cell_type": "markdown",
      "metadata": {},
      "source": [
        "The mean, median, and mode are measures of central tendency used to describe the typical or central value of a dataset. They represent different aspects of the dataset and are calculated in different ways:\n",
        "\n",
        "1. Mean: The mean is the arithmetic average of a dataset and is calculated by summing all the values and dividing by the number of values. It takes into account all the data points and is sensitive to extreme values (outliers) since it uses every value in the calculation.\n",
        "\n",
        "2. Median: The median is the middle value of a dataset when it is arranged in ascending or descending order. It is not influenced by extreme values and provides a better representation of the central tendency when there are outliers. The median is particularly useful when dealing with skewed distributions.\n",
        "\n",
        "3. Mode: The mode is the value that occurs most frequently in a dataset. It is the most common value and is useful for datasets with categorical or discrete data. Unlike the mean and median, the mode can be applied to both numerical and non-numerical data.\n",
        "\n",
        "Each measure has its advantages and is used depending on the nature of the dataset and the specific characteristics of the data. For symmetric distributions with no outliers, the mean and median are likely to be close to each other. In skewed distributions or datasets with outliers, the median can provide a more robust measure of central tendency compared to the mean. The mode is useful for identifying the most frequent category or value in a dataset, especially in categorical data analysis."
      ]
    },
    {
      "cell_type": "code",
      "execution_count": null,
      "metadata": {},
      "outputs": [],
      "source": []
    },
    {
      "cell_type": "markdown",
      "metadata": {
        "id": "HMuh9StycJK3"
      },
      "source": [
        "<p style=\" color : #4233FF\"><b>Q3. Measure the three measures of central tendency for the given height data:\n",
        "\n",
        "[178,177,176,177,178.2,178,175,179,180,175,178.9,176.2,177,172.5,178,176.5]</b>\n",
        "</p>"
      ]
    },
    {
      "cell_type": "markdown",
      "metadata": {},
      "source": [
        "\n",
        "1. Mean:\n",
        "Mean = (178 + 177 + 176 + 177 + 178.2 + 178 + 175 + 179 + 180 + 175 + 178.9 + 176.2 + 177 + 172.5 + 178 + 176.5) / 16\n",
        "Mean = 2823.3 / 16\n",
        "Mean ≈ 176.45625\n",
        "\n",
        "2. Median:\n",
        "To find the median, we need to sort the data in ascending order:\n",
        "[172.5, 175, 175, 176, 176, 176.2, 176.5, 177, 177, 178, 178, 178, 178.2, 178.9, 179, 180]\n",
        "\n",
        "Since there are 16 data points, the median is the average of the 8th and 9th values:\n",
        "Median = (177 + 178) / 2\n",
        "Median = 355 / 2\n",
        "Median = 177.5\n",
        "\n",
        "3. Mode:\n",
        "The mode is the value that appears most frequently in the dataset. In this case, the mode is 178, as it appears three times, which is more frequent than any other value.\n",
        "\n",
        "So, the measures of central tendency for the given height data are:\n",
        "Mean ≈ 176.46\n",
        "Median = 177.5\n",
        "Mode = 178"
      ]
    },
    {
      "cell_type": "code",
      "execution_count": null,
      "metadata": {},
      "outputs": [],
      "source": []
    },
    {
      "cell_type": "code",
      "execution_count": null,
      "metadata": {},
      "outputs": [],
      "source": []
    },
    {
      "cell_type": "markdown",
      "metadata": {
        "id": "9aKHN4uEcJK4"
      },
      "source": [
        "<p style=\" color : #4233FF\"><b>Q4. Find the standard deviation for the given data:\n",
        "[178,177,176,177,178.2,178,175,179,180,175,178.9,176.2,177,172.5,178,176.5]</b>\n",
        "</p>"
      ]
    },
    {
      "cell_type": "markdown",
      "metadata": {},
      "source": [
        "`Step 1: Find the mean:`\n",
        "\n",
        "Mean = (178 + 177 + 176 + 177 + 178.2 + 178 + 175 + 179 + 180 + 175 + 178.9 + 176.2 + 177 + 172.5 + 178 + 176.5) / 16\n",
        "Mean = 2823.3 / 16\n",
        "Mean ≈ 176.45625\n",
        "\n",
        "`Step 2: Deviations from the mean:`\n",
        "Deviations = [178-176.45625, 177-176.45625, 176-176.45625, 177-176.45625, 178.2-176.45625, 178-176.45625, 175-176.45625, 179-176.45625, 180-176.45625, 175-176.45625, 178.9-176.45625, 176.2-176.45625, 177-176.45625, 172.5-176.45625, 178-176.45625, 176.5-176.45625]\n",
        "Deviations ≈ [1.54375, 0.54375, -0.45625, 0.54375, 1.74375, 1.54375, -1.45625, 2.54375, 3.54375, -1.45625, 2.44375, -0.25625, 0.54375, -3.95625, 1.54375, 0.04375]\n",
        "\n",
        "`Step 3: Square each deviation:`\n",
        "Squared Deviations ≈ [2.38013, 0.29563, 0.20801, 0.29563, 3.04151, 2.38013, 2.11551, 6.47421, 12.58469, 2.11551, 5.98131, 0.06566, 0.29563, 15.64984, 2.38013, 0.00192]\n",
        "\n",
        "`Step 4: Find the mean of squared deviations:`\n",
        "Mean of Squared Deviations = (2.38013 + 0.29563 + 0.20801 + 0.29563 + 3.04151 + 2.38013 + 2.11551 + 6.47421 + 12.58469 + 2.11551 + 5.98131 + 0.06566 + 0.29563 + 15.64984 + 2.38013 + 0.00192) / 16\n",
        "Mean of Squared Deviations ≈ 3.42453\n",
        "\n",
        "`Step 5: Take the square root of the mean of squared deviations:`\n",
        "Standard Deviation ≈ √3.42453 ≈ 1.8498\n",
        "\n",
        "So, the standard deviation for the given data is approximately 1.8498."
      ]
    },
    {
      "cell_type": "code",
      "execution_count": null,
      "metadata": {},
      "outputs": [],
      "source": []
    },
    {
      "cell_type": "markdown",
      "metadata": {
        "id": "z2avHLHDcJK4"
      },
      "source": [
        "<p style=\" color : #4233FF\"><b>Q5. How are measures of dispersion such as range, variance, and standard deviation used to describe the spread of a dataset? Provide an example.</b>\n",
        "</p>"
      ]
    },
    {
      "cell_type": "markdown",
      "metadata": {},
      "source": [
        "1. Range: The range is the simplest measure of dispersion and represents the difference between the maximum and minimum values in the dataset. It shows the total span or extent of the data. For example, if we have a dataset of test scores [70, 80, 85, 90, 95], the range is 95 - 70 = 25, indicating that the test scores vary by 25 points.\n",
        "\n",
        "2. Variance: Variance measures the average of squared deviations from the mean. It quantifies the average distance of data points from the mean. A higher variance indicates greater variability in the data. For example, consider the dataset [5, 6, 7, 8, 9]. The mean is (5 + 6 + 7 + 8 + 9) / 5 = 7. The squared deviations from the mean are (7-5)^2, (7-6)^2, (7-7)^2, (7-8)^2, (7-9)^2, which are 4, 1, 0, 1, and 4. The variance is the average of these squared deviations, (4 + 1 + 0 + 1 + 4) / 5 = 2.\n",
        "\n",
        "3. Standard Deviation: The standard deviation is the square root of the variance and provides a more interpretable measure of dispersion. It represents the average distance of data points from the mean, similar to variance but in the original units of the data. A higher standard deviation indicates greater variability. For the dataset [5, 6, 7, 8, 9], the standard deviation is √2 ≈ 1.41.\n",
        "\n",
        "In summary, measures of dispersion help to understand the spread of data points around the central tendency. They are useful for comparing the variability between different datasets or subsets and identifying outliers or extreme values that can impact the overall characteristics of the data."
      ]
    },
    {
      "cell_type": "code",
      "execution_count": null,
      "metadata": {},
      "outputs": [],
      "source": []
    },
    {
      "cell_type": "markdown",
      "metadata": {},
      "source": [
        "<p style=\" color : #4233FF\"><b>Q6. What is a Venn diagram?</b>\n",
        "</p>"
      ]
    },
    {
      "cell_type": "markdown",
      "metadata": {},
      "source": [
        "A Venn diagram is a graphical representation used to show the relationship between different sets or groups. It consists of overlapping circles, each representing a set, and the overlapping regions represent the elements that belong to both sets.\n",
        "\n",
        "Venn diagrams are commonly used in various fields to illustrate set relationships, especially in mathematics, logic, statistics, and data analysis. They help visualize the common elements between sets, as well as the unique elements within each set.\n",
        "\n",
        "For example, consider two sets, Set A (consisting of even numbers) and Set B (consisting of multiples of 3). In a Venn diagram, Set A would be represented by one circle, Set B by another circle, and the overlapping region would show the numbers that are both even and multiples of 3. The non-overlapping areas would represent the numbers that are exclusively in Set A or Set B."
      ]
    },
    {
      "cell_type": "code",
      "execution_count": null,
      "metadata": {},
      "outputs": [],
      "source": []
    },
    {
      "cell_type": "markdown",
      "metadata": {},
      "source": [
        "<p style=\" color : #4233FF\"><b>Q7. For the two given sets A = (2,3,4,5,6,7) & B = (0,2,6,8,10). Find:<br>\n",
        "(i) A ∩ B<br>\n",
        "(ii) A ⋃ B</b>\n",
        "</p>"
      ]
    },
    {
      "cell_type": "markdown",
      "metadata": {},
      "source": [
        "(i) `A ∩ B (Intersection of A and B):` The intersection of two sets includes all the elements that are common to both sets.\n",
        "\n",
        "A = {2, 3, 4, 5, 6, 7}\n",
        "B = {0, 2, 6, 8, 10}\n",
        "\n",
        "The elements that are common to both sets A and B are {2, 6}.\n",
        "\n",
        "(ii) `A ⋃ B (Union of A and B):` The union of two sets includes all the elements that belong to either set or both sets.\n",
        "\n",
        "A = {2, 3, 4, 5, 6, 7}\n",
        "B = {0, 2, 6, 8, 10}\n",
        "\n",
        "The elements in the union of A and B are {0, 2, 3, 4, 5, 6, 7, 8, 10}."
      ]
    },
    {
      "cell_type": "code",
      "execution_count": null,
      "metadata": {},
      "outputs": [],
      "source": []
    },
    {
      "cell_type": "markdown",
      "metadata": {},
      "source": [
        "<p style=\" color : #4233FF\"><b>Q8. What do you understand about skewness in data?</b>\n",
        "</p>"
      ]
    },
    {
      "cell_type": "markdown",
      "metadata": {},
      "source": [
        "Skewness in data refers to the asymmetry of the data's distribution. It measures the extent to which a dataset deviates from a symmetrical distribution. Skewness can be classified into three types:\n",
        "\n",
        "1. Positive Skewness (Right Skewed): When the tail of the distribution extends towards the right side, the dataset is said to have positive skewness. In this case, the mean is greater than the median, and the distribution is concentrated on the left side.\n",
        "\n",
        "2. Negative Skewness (Left Skewed): When the tail of the distribution extends towards the left side, the dataset is said to have negative skewness. In this case, the mean is less than the median, and the distribution is concentrated on the right side.\n",
        "\n",
        "3. Zero Skewness (Symmetrical): When the data is symmetrically distributed around the mean, it has zero skewness. In this case, the mean and the median are equal, and the data is evenly spread on both sides of the mean.\n",
        "\n",
        "Skewness is an essential statistical measure because it helps us understand the shape and characteristics of the dataset's distribution. It can indicate whether the data is concentrated towards one end, which can affect the choice of appropriate statistical methods and modeling techniques. Skewed data can have implications on data analysis and inferential statistics, and it is crucial to consider skewness when interpreting the results of any statistical analysis."
      ]
    },
    {
      "cell_type": "code",
      "execution_count": null,
      "metadata": {},
      "outputs": [],
      "source": []
    },
    {
      "cell_type": "markdown",
      "metadata": {},
      "source": [
        "<p style=\" color : #4233FF\"><b>Q9. If a data is right skewed then what will be the position of median with respect to mean?</b>\n",
        "</p>"
      ]
    },
    {
      "cell_type": "markdown",
      "metadata": {},
      "source": [
        "If a data set is right-skewed (positively skewed), the median will be less than the mean. In right-skewed distributions, the tail of the distribution extends towards the right side, pulling the mean in that direction. As a result, the mean will be larger than the median because it is more affected by extreme values in the right tail.\n",
        "\n",
        "In a right-skewed distribution, the bulk of the data is concentrated on the left side, where the values are lower. The median, which represents the middle value of the data when arranged in ascending order, is less affected by extreme values in the right tail. It is more robust to outliers and extreme values compared to the mean.\n",
        "\n",
        "Overall, the position of the median will be closer to the left side (lower values) of the data distribution, while the mean will be pulled towards the right side (higher values) due to the influence of the right-skewed tail."
      ]
    },
    {
      "cell_type": "code",
      "execution_count": null,
      "metadata": {},
      "outputs": [],
      "source": []
    },
    {
      "cell_type": "markdown",
      "metadata": {},
      "source": [
        "<p style=\" color : #4233FF\"><b>Q10. Explain the difference between covariance and correlation. How are these measures used in statistical analysis?</b>\n",
        "</p>"
      ]
    },
    {
      "cell_type": "markdown",
      "metadata": {},
      "source": [
        "Covariance and correlation are both measures used to quantify the relationship between two variables in statistical analysis. However, they differ in their interpretation and scale:\n",
        "\n",
        "1. `Covariance:`\n",
        "Covariance measures the degree to which two variables change together. It indicates whether the variables move in the same direction (positive covariance) or opposite directions (negative covariance). The formula for calculating the covariance between two variables X and Y in a dataset is:\n",
        "\n",
        "Cov(X, Y) = Σ [(Xᵢ - X̄) * (Yᵢ - Ȳ)] / n\n",
        "\n",
        "Where Xᵢ and Yᵢ are individual data points, X̄ and Ȳ are the means of X and Y, respectively, and n is the number of data points. The resulting value can be positive, negative, or zero.\n",
        "\n",
        "2. `Correlation:`\n",
        "Correlation is a standardized version of covariance that measures the strength and direction of the linear relationship between two variables. Unlike covariance, correlation always ranges between -1 and 1, providing a more interpretable and consistent measure of association. The Pearson correlation coefficient is the most common method used for measuring correlation:\n",
        "\n",
        "Corr(X, Y) = Cov(X, Y) / (σX * σY)\n",
        "\n",
        "Where Cov(X, Y) is the covariance between X and Y, and σX and σY are the standard deviations of X and Y, respectively.\n",
        "\n",
        "In statistical analysis, both covariance and correlation are useful for understanding the relationship between variables. However, correlation is more commonly used because it is dimensionless and allows for comparison of relationships across different datasets. Positive correlation (correlation coefficient close to 1) indicates that as one variable increases, the other tends to increase, while negative correlation (correlation coefficient close to -1) indicates that as one variable increases, the other tends to decrease. A correlation coefficient close to 0 suggests a weak or no linear relationship between the variables. Correlation is widely used in data analysis, regression analysis, and machine learning to assess the strength of associations and to make predictions based on these relationships."
      ]
    },
    {
      "cell_type": "code",
      "execution_count": null,
      "metadata": {},
      "outputs": [],
      "source": []
    },
    {
      "cell_type": "markdown",
      "metadata": {},
      "source": [
        "<p style=\" color : #4233FF\"><b>Q11. What is the formula for calculating the sample mean? Provide an example calculation for a dataset.</b>\n",
        "</p>"
      ]
    },
    {
      "cell_type": "markdown",
      "metadata": {},
      "source": [
        "The formula for calculating the sample mean (also known as the sample average) is the sum of all the data points divided by the number of data points in the sample. Mathematically, it can be represented as:\n",
        "\n",
        "Sample Mean (X̄) = (Σ Xᵢ) / n\n",
        "\n",
        "Where:\n",
        "X̄ = Sample Mean\n",
        "Σ = Summation symbol (to add up all the data points)\n",
        "Xᵢ = Individual data points in the sample\n",
        "n = Number of data points in the sample\n",
        "\n",
        "Example calculation:\n",
        "Let's calculate the sample mean for the following dataset:\n",
        "\n",
        "[10, 15, 20, 25, 30]\n",
        "\n",
        "Step 1: Add up all the data points:\n",
        "Sum = 10 + 15 + 20 + 25 + 30 = 100\n",
        "\n",
        "Step 2: Count the number of data points (n):\n",
        "n = 5\n",
        "\n",
        "Step 3: Calculate the sample mean:\n",
        "Sample Mean (X̄) = Sum / n\n",
        "Sample Mean (X̄) = 100 / 5 = 20\n",
        "\n",
        "So, the sample mean for the given dataset is 20."
      ]
    },
    {
      "cell_type": "code",
      "execution_count": null,
      "metadata": {},
      "outputs": [],
      "source": []
    },
    {
      "cell_type": "markdown",
      "metadata": {},
      "source": [
        "<p style=\" color : #4233FF\"><b>Q12. For a normal distribution data what is the relationship between its measure of central tendency?</b>\n",
        "</p>"
      ]
    },
    {
      "cell_type": "markdown",
      "metadata": {},
      "source": [
        "For a normal distribution, the three measures of central tendency, namely the mean, median, and mode, are equal to each other. This is one of the defining characteristics of a perfectly symmetrical normal distribution.\n",
        "\n",
        "In a normal distribution, the mean is at the center of the distribution, and the median and mode are also located at the same point. This is because the normal distribution is symmetric around its mean. The mean, median, and mode have the same value, making them all equal for a perfectly normal distribution.\n",
        "\n",
        "However, in real-world data, the distribution may not always be perfectly normal, and there might be slight variations between the measures of central tendency. Nevertheless, for a reasonably symmetric normal distribution, the mean, median, and mode will be close to each other."
      ]
    },
    {
      "cell_type": "code",
      "execution_count": null,
      "metadata": {},
      "outputs": [],
      "source": []
    },
    {
      "cell_type": "markdown",
      "metadata": {},
      "source": [
        "<p style=\" color : #4233FF\"><b>Q13. How is covariance different from correlation?</b>\n",
        "</p>"
      ]
    },
    {
      "cell_type": "markdown",
      "metadata": {},
      "source": [
        "Covariance and correlation are both measures used to describe the relationship between two variables in a dataset, but they have some important differences:\n",
        "\n",
        "1. Definition:\n",
        "   - Covariance: Covariance is a measure of how two variables change together. It indicates the direction of the relationship (positive or negative) and the extent to which the variables tend to vary together.\n",
        "   - Correlation: Correlation is a standardized measure of the strength and direction of the linear relationship between two variables. It scales the covariance by the product of the standard deviations of the two variables, making it easier to compare across different datasets.\n",
        "\n",
        "2. Range of Values:\n",
        "   - Covariance: The range of covariance can be positive or negative, depending on the direction of the relationship. A positive covariance indicates that as one variable increases, the other tends to increase as well, while a negative covariance indicates an inverse relationship.\n",
        "   - Correlation: The correlation coefficient always ranges between -1 and +1. A correlation of +1 indicates a perfect positive linear relationship, -1 indicates a perfect negative linear relationship, and 0 indicates no linear relationship.\n",
        "\n",
        "3. Interpretation:\n",
        "   - Covariance: The magnitude of the covariance is not easily interpretable on its own, as it depends on the scale of the variables. Positive covariance only indicates that the variables tend to increase together, and negative covariance indicates they tend to change in opposite directions.\n",
        "   - Correlation: The correlation coefficient is standardized, making it easier to interpret. A correlation close to +1 or -1 indicates a strong linear relationship, while a correlation close to 0 suggests a weak or no linear relationship.\n",
        "\n",
        "4. Unit Independence:\n",
        "   - Covariance: The covariance is affected by the units of measurement of the variables. Changing the units of one or both variables will change the magnitude of the covariance.\n",
        "   - Correlation: The correlation coefficient is unitless and independent of the units of measurement. It only depends on the relationship between the variables.\n",
        "\n",
        "In summary, while covariance and correlation both describe the relationship between variables, correlation provides a more standardized and interpretable measure of the strength and direction of the linear relationship, making it a more commonly used measure in statistical analysis."
      ]
    },
    {
      "cell_type": "code",
      "execution_count": null,
      "metadata": {},
      "outputs": [],
      "source": []
    },
    {
      "cell_type": "markdown",
      "metadata": {},
      "source": [
        "<p style=\" color : #4233FF\"><b>Q14. How do outliers affect measures of central tendency and dispersion? Provide an example.</b>\n",
        "</p>"
      ]
    },
    {
      "cell_type": "markdown",
      "metadata": {},
      "source": [
        "Outliers can significantly impact both measures of central tendency and dispersion in a dataset. An outlier is an observation that lies far away from the other data points, either on the high or low end of the distribution. Here's how outliers affect these measures:\n",
        "\n",
        "1. `Measures of Central Tendency:`\n",
        "   - Mean: Outliers can heavily influence the mean because it takes into account the value of each data point. An extreme outlier can pull the mean towards itself, making it an unreliable representation of the \"typical\" value in the dataset.\n",
        "   - Median: The median is less affected by outliers since it is based on the middle value of the data when arranged in ascending or descending order. Outliers have no impact on the median as long as they don't change the order of the data.\n",
        "   - Mode: The mode, which represents the most frequently occurring value in the dataset, is not directly affected by outliers since it only considers the frequencies of values.\n",
        "\n",
        "2. `Measures of Dispersion:`\n",
        "   - Range: Outliers can significantly widen the range, as they increase the spread between the maximum and minimum values. It reflects the extent of variation in the dataset, and outliers add to this variation.\n",
        "   - Variance: Outliers contribute to larger variance values, as they are squared during the calculation. The squared differences between outliers and the mean result in larger deviations.\n",
        "   - Standard Deviation: Similar to variance, outliers have a substantial impact on the standard deviation since it is based on the square root of the variance. Outliers can increase the standard deviation and lead to a less accurate representation of the spread of data.\n",
        "\n",
        "Example:\n",
        "Consider a dataset representing salaries (in thousands) of employees in a company:\n",
        "[30, 32, 31, 33, 35, 40, 38, 36, 34, 200]\n",
        "\n",
        "In this dataset, 200 is an outlier, as it is much larger than the other salary values. If we calculate the mean, it would be (30 + 32 + 31 + 33 + 35 + 40 + 38 + 36 + 34 + 200) / 10 = 38.9. The presence of the outlier 200 significantly increases the mean, making it an inaccurate representation of the typical salary.\n",
        "\n",
        "Similarly, the standard deviation and variance would also be affected by the presence of the outlier, resulting in larger values and indicating higher variability in the data than actually present among the majority of salaries."
      ]
    },
    {
      "cell_type": "markdown",
      "metadata": {
        "id": "eOINuiGOcJK4"
      },
      "source": [
        "<h1 style = 'color:orange'>\n",
        "    <b><div>THANK YOU</div></b>\n",
        "</h1>\n"
      ]
    }
  ],
  "metadata": {
    "colab": {
      "provenance": []
    },
    "kernelspec": {
      "display_name": "Python 3",
      "language": "python",
      "name": "python3"
    },
    "language_info": {
      "codemirror_mode": {
        "name": "ipython",
        "version": 3
      },
      "file_extension": ".py",
      "mimetype": "text/x-python",
      "name": "python",
      "nbconvert_exporter": "python",
      "pygments_lexer": "ipython3",
      "version": "3.11.2"
    },
    "orig_nbformat": 4
  },
  "nbformat": 4,
  "nbformat_minor": 0
}
