{
 "cells": [
  {
   "attachments": {},
   "cell_type": "markdown",
   "metadata": {},
   "source": [
    "<h1 style = 'color:red'><b>Week-4, OOPS Assignment-1</b><h1>"
   ]
  },
  {
   "attachments": {},
   "cell_type": "markdown",
   "metadata": {},
   "source": [
    "Name - Gorachanda Dash <br>\n",
    "Date - Feb 05 2023\n",
    "Week 4, Oops"
   ]
  },
  {
   "attachments": {},
   "cell_type": "markdown",
   "metadata": {},
   "source": [
    "<p style=\" color : #4233FF\"><b>Q1. Explain Class and Object with respect to Object-Oriented Programming. Give a suitable example.<b>"
   ]
  },
  {
   "attachments": {},
   "cell_type": "markdown",
   "metadata": {},
   "source": [
    "`In object-oriented programming (OOP)`, a class is a blueprint or template for creating objects. It defines the attributes (data) and behaviors (methods) that objects of the class will have. An object, on the other hand, is an instance of a class. It is a tangible entity that can store data and perform actions based on the defined behaviors of its class."
   ]
  },
  {
   "cell_type": "code",
   "execution_count": 2,
   "metadata": {},
   "outputs": [
    {
     "name": "stdout",
     "output_type": "stream",
     "text": [
      "Toyota\n",
      "The Toyota Camry's engine is starting.\n",
      "The Toyota Camry is driving 35 kilometers.\n"
     ]
    }
   ],
   "source": [
    "class Car:\n",
    "    def __init__(self, brand, model, color):\n",
    "        self.brand = brand\n",
    "        self.model = model\n",
    "        self.color = color\n",
    "\n",
    "    def start_engine(self):\n",
    "        print(f\"The {self.brand} {self.model}'s engine is starting.\")\n",
    "\n",
    "    def drive(self, distance):\n",
    "        print(f\"The {self.brand} {self.model} is driving {distance} kilometers.\")\n",
    "\n",
    "# Creating objects (instances) of the Car class\n",
    "car1 = Car(\"Toyota\", \"Camry\", \"Blue\")\n",
    "\n",
    "# Accessing object attributes\n",
    "print(car1.brand)  \n",
    "\n",
    "# Calling object methods\n",
    "car1.start_engine() \n",
    "\n",
    "car1.drive('35')\n"
   ]
  },
  {
   "attachments": {},
   "cell_type": "markdown",
   "metadata": {},
   "source": [
    "<p style=\" color : #4233FF\"><b>Q2. Name the four pillars of OOPs.</b>"
   ]
  },
  {
   "attachments": {},
   "cell_type": "markdown",
   "metadata": {},
   "source": [
    "The four pillars of object-oriented programming (OOP) are:\n",
    "\n",
    "`1. Encapsulation:` Encapsulation refers to the bundling of data and methods (or functions) that operate on that data within a single unit called a class. It allows for data hiding and abstraction, where the internal details of an object are hidden from the outside and only accessible through defined methods. Encapsulation helps in achieving code modularity, reusability, and protection of data integrity.\n",
    "\n",
    "`2. Inheritance:` Inheritance allows classes to inherit attributes and behaviors from other classes. A class that inherits from another class is called a subclass or derived class, while the class being inherited from is called the superclass or base class. Inheritance facilitates code reuse, as subclasses can inherit and extend the functionalities of their superclasses. It helps in achieving hierarchical classification and promotes the concept of \"is-a\" relationship.\n",
    "\n",
    "`3. Polymorphism:` Polymorphism refers to the ability of objects to take on multiple forms or have multiple behaviors depending on the context. It allows different classes to have methods with the same name but different implementations. Polymorphism is achieved through method overriding (redefining a method in a subclass) and method overloading (defining multiple methods with the same name but different parameters). Polymorphism promotes code flexibility, extensibility, and modularity.\n",
    "\n",
    "`4. Abstraction:` Abstraction involves focusing on the essential features and behavior of an object while hiding unnecessary details. It provides a simplified view of complex systems by defining interfaces and abstract classes that specify the methods that should be implemented by their subclasses. Abstraction helps in managing complexity, reducing code duplication, and enhancing code maintainability. It allows programmers to work with high-level concepts rather than getting into implementation specifics.\n"
   ]
  },
  {
   "attachments": {},
   "cell_type": "markdown",
   "metadata": {},
   "source": [
    "<p style=\" color : #4233FF\"><b>Q3. Explain why the __init__() function is used. Give a suitable example.</b>"
   ]
  },
  {
   "attachments": {},
   "cell_type": "markdown",
   "metadata": {},
   "source": [
    "The `__init__()` function is a special method in Python classes that is automatically called when an object is created from the class. It is known as the constructor method and is used to initialize the attributes (or properties) of an object. The `__init__()` method allows you to set the initial state of the object by assigning values to its attributes."
   ]
  },
  {
   "cell_type": "code",
   "execution_count": 4,
   "metadata": {},
   "outputs": [
    {
     "name": "stdout",
     "output_type": "stream",
     "text": [
      "Gorachand\n",
      "49\n",
      "Name: Gorachand, Age: 23\n",
      "Name: Laveena, Age: 49\n"
     ]
    }
   ],
   "source": [
    "class Person:\n",
    "    def __init__(self, name, age):\n",
    "        self.name = name\n",
    "        self.age = age\n",
    "\n",
    "    def display_info(self):\n",
    "        print(f\"Name: {self.name}, Age: {self.age}\")\n",
    "\n",
    "# Creating objects and initializing their attributes\n",
    "person1 = Person(\"Gorachand\", 23)\n",
    "person2 = Person(\"Laveena\", 49)\n",
    "\n",
    "# Accessing object attributes\n",
    "print(person1.name)   \n",
    "print(person2.age)   \n",
    "\n",
    "# Calling object method\n",
    "person1.display_info()\n",
    "person2.display_info()\n"
   ]
  },
  {
   "attachments": {},
   "cell_type": "markdown",
   "metadata": {},
   "source": [
    "<p style=\" color : #4233FF\"><b>Q4. Why self is used in OOPs?</b>"
   ]
  },
  {
   "attachments": {},
   "cell_type": "markdown",
   "metadata": {},
   "source": [
    "In object-oriented programming (OOP), the self parameter is used as a convention to refer to the instance of the class itself. It acts as a reference to the current object and allows access to its attributes and methods within the class's methods.\n",
    "\n",
    "When defining methods in a class, the first parameter is always self, although you can give it any name you prefer. By convention, self is used to make the code more readable and to adhere to common coding practices in Python."
   ]
  },
  {
   "cell_type": "code",
   "execution_count": 5,
   "metadata": {},
   "outputs": [
    {
     "name": "stdout",
     "output_type": "stream",
     "text": [
      "Hello, my name is Gorachand.\n"
     ]
    }
   ],
   "source": [
    "class Person:\n",
    "    def __init__(self, name):\n",
    "        self.name = name\n",
    "\n",
    "    def greet(self):\n",
    "        print(f\"Hello, my name is {self.name}.\")\n",
    "\n",
    "# Creating an object of the Person class\n",
    "person = Person(\"Gorachand\")\n",
    "\n",
    "# Calling the greet() method on the person object\n",
    "person.greet()\n"
   ]
  },
  {
   "attachments": {},
   "cell_type": "markdown",
   "metadata": {},
   "source": [
    "<p style=\" color : #4233FF\"><b>Q5. What is inheritance? Give an example for each type of inheritance.</b>"
   ]
  },
  {
   "attachments": {},
   "cell_type": "markdown",
   "metadata": {},
   "source": [
    "`Inheritance` is a fundamental concept in object-oriented programming (OOP) that allows a class to inherit attributes and methods from another class. The class that inherits is called the subclass or derived class, and the class being inherited from is called the superclass or base class.\n",
    "\n",
    "`Inheritance` facilitates code reuse and promotes the concept of \"is-a\" relationship. The subclass inherits the characteristics of the superclass, allowing it to extend or modify the inherited attributes and behaviors as needed."
   ]
  },
  {
   "attachments": {},
   "cell_type": "markdown",
   "metadata": {},
   "source": [
    "* `Single Inheritance:` Single inheritance is when a subclass inherits from a single superclass. It is the simplest form of inheritance."
   ]
  },
  {
   "cell_type": "code",
   "execution_count": 7,
   "metadata": {},
   "outputs": [
    {
     "name": "stdout",
     "output_type": "stream",
     "text": [
      "inherit from Class A\n",
      "From class B\n"
     ]
    }
   ],
   "source": [
    "class A:\n",
    "    def a(self):\n",
    "        print(\"inherit from Class A\")\n",
    "\n",
    "class B(A):\n",
    "    def b(self):\n",
    "        print(\"From class B\")\n",
    "\n",
    "# Creating an object of the B class\n",
    "d = B()\n",
    "\n",
    "# Accessing methods from both the A and B classes\n",
    "d.a()   \n",
    "d.b() "
   ]
  },
  {
   "attachments": {},
   "cell_type": "markdown",
   "metadata": {},
   "source": [
    "* `Multilevel Inheritance:` Multilevel inheritance is when a subclass inherits from another subclass, creating a chain of inheritance. This allows for the inheritance of attributes and methods from multiple levels of classes."
   ]
  },
  {
   "cell_type": "code",
   "execution_count": 9,
   "metadata": {},
   "outputs": [
    {
     "name": "stdout",
     "output_type": "stream",
     "text": [
      "The animal is eating.\n",
      "The dog is barking.\n",
      "The bulldog is guarding.\n"
     ]
    }
   ],
   "source": [
    "class Animal:\n",
    "    def eat(self):\n",
    "        print(\"The animal is eating.\")\n",
    "\n",
    "class Dog(Animal):\n",
    "    def bark(self):\n",
    "        print(\"The dog is barking.\")\n",
    "\n",
    "class Bulldog(Dog):\n",
    "    def guard(self):\n",
    "        print(\"The bulldog is guarding.\")\n",
    "\n",
    "# Creating an object of the Bulldog class\n",
    "bulldog = Bulldog()\n",
    "\n",
    "# Accessing methods from all the classes in the inheritance chain\n",
    "bulldog.eat()   \n",
    "bulldog.bark()  \n",
    "bulldog.guard()"
   ]
  },
  {
   "attachments": {},
   "cell_type": "markdown",
   "metadata": {},
   "source": [
    "* `Multiple Inheritance:` Multiple inheritance is when a subclass inherits from multiple superclasses. This allows the subclass to inherit attributes and methods from multiple classes."
   ]
  },
  {
   "cell_type": "code",
   "execution_count": 8,
   "metadata": {},
   "outputs": [
    {
     "name": "stdout",
     "output_type": "stream",
     "text": [
      "From class A\n"
     ]
    }
   ],
   "source": [
    "class A:\n",
    "    def fun(self):\n",
    "        print('From class A')\n",
    "\n",
    "class B:\n",
    "    def fun(self):\n",
    "        print(\"From class B\")\n",
    "\n",
    "class D(A, B):\n",
    "    def d (self):\n",
    "        return self.fun()\n",
    "\n",
    "# Creating an object of the D class\n",
    "call = D()\n",
    "\n",
    "# Accessing methods from all the classes inherited by D\n",
    "\n",
    "call.fun()"
   ]
  },
  {
   "attachments": {},
   "cell_type": "markdown",
   "metadata": {},
   "source": [
    "* `Hierarchical Inheritance:` Hierarchical inheritance is when multiple subclasses inherit from a single superclass. This means that there is a common superclass, and multiple subclasses extend from it independently."
   ]
  },
  {
   "cell_type": "code",
   "execution_count": 10,
   "metadata": {},
   "outputs": [
    {
     "name": "stdout",
     "output_type": "stream",
     "text": [
      "The animal is eating.\n",
      "The dog is barking.\n",
      "The animal is eating.\n",
      "The cat is meowing.\n"
     ]
    }
   ],
   "source": [
    "class Animal:\n",
    "    def eat(self):\n",
    "        print(\"The animal is eating.\")\n",
    "\n",
    "class Dog(Animal):\n",
    "    def bark(self):\n",
    "        print(\"The dog is barking.\")\n",
    "\n",
    "class Cat(Animal):\n",
    "    def meow(self):\n",
    "        print(\"The cat is meowing.\")\n",
    "\n",
    "# Creating objects of the Dog and Cat classes\n",
    "dog = Dog()\n",
    "cat = Cat()\n",
    "\n",
    "# Accessing methods from the Animal, Dog, and Cat classes\n",
    "dog.eat()   \n",
    "dog.bark() \n",
    "cat.eat()   \n",
    "cat.meow()\n"
   ]
  },
  {
   "attachments": {},
   "cell_type": "markdown",
   "metadata": {},
   "source": [
    "* `Hybrid Inheritance:` Hybrid inheritance is a combination of different types of inheritance, such as multiple inheritance and multilevel inheritance."
   ]
  },
  {
   "cell_type": "code",
   "execution_count": 11,
   "metadata": {},
   "outputs": [
    {
     "name": "stdout",
     "output_type": "stream",
     "text": [
      "The vehicle is moving.\n",
      "The car is driving.\n",
      "The flyer is flying.\n",
      "The flying car is hovering.\n"
     ]
    }
   ],
   "source": [
    "class Vehicle:\n",
    "    def move(self):\n",
    "        print(\"The vehicle is moving.\")\n",
    "\n",
    "class Flyer:\n",
    "    def fly(self):\n",
    "        print(\"The flyer is flying.\")\n",
    "\n",
    "class Car(Vehicle):\n",
    "    def drive(self):\n",
    "        print(\"The car is driving.\")\n",
    "\n",
    "class FlyingCar(Car, Flyer):\n",
    "    def hover(self):\n",
    "        print(\"The flying car is hovering.\")\n",
    "\n",
    "# Creating an object of the FlyingCar class\n",
    "flying_car = FlyingCar()\n",
    "\n",
    "# Accessing methods from all the classes in the hybrid inheritance\n",
    "flying_car.move()   \n",
    "flying_car.drive()  \n",
    "flying_car.fly()    \n",
    "flying_car.hover() \n"
   ]
  },
  {
   "attachments": {},
   "cell_type": "markdown",
   "metadata": {},
   "source": [
    "\n",
    "<h1 style = 'color:orange'>\n",
    "    <b><div>THANK YOU</div></b>\n",
    "</h1>\n"
   ]
  }
 ],
 "metadata": {
  "kernelspec": {
   "display_name": "Python 3",
   "language": "python",
   "name": "python3"
  },
  "language_info": {
   "codemirror_mode": {
    "name": "ipython",
    "version": 3
   },
   "file_extension": ".py",
   "mimetype": "text/x-python",
   "name": "python",
   "nbconvert_exporter": "python",
   "pygments_lexer": "ipython3",
   "version": "3.11.2"
  },
  "orig_nbformat": 4
 },
 "nbformat": 4,
 "nbformat_minor": 2
}
