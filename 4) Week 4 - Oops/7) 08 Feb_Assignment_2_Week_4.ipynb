{
 "cells": [
  {
   "attachments": {},
   "cell_type": "markdown",
   "metadata": {},
   "source": [
    "<h1 style = 'color:red'><b>Week-4, OOPS Assignment-2\n",
    "</b><h1>"
   ]
  },
  {
   "attachments": {},
   "cell_type": "markdown",
   "metadata": {},
   "source": [
    "Name - Gorachanda Dash <br>\n",
    "Date - Feb 08 2023\n",
    "Week 4, Oops"
   ]
  },
  {
   "attachments": {},
   "cell_type": "markdown",
   "metadata": {},
   "source": [
    "<p style=\" color : #4233FF\"><b>Q1. What is Abstraction in OOps? Explain with an example.<b>"
   ]
  },
  {
   "attachments": {},
   "cell_type": "markdown",
   "metadata": {},
   "source": [
    "`Abstraction` in OOP in Python helps in simplifying complex systems by providing a clear and simplified view of objects and their behaviors. It allows you to create abstract classes that define common methods and attributes, which can then be implemented by concrete subclasses. This way, abstraction promotes code reusability, maintainability, and helps in managing the complexity of large-scale applications."
   ]
  },
  {
   "cell_type": "code",
   "execution_count": 1,
   "metadata": {},
   "outputs": [
    {
     "name": "stdout",
     "output_type": "stream",
     "text": [
      "The dog is running.\n",
      "The cat is walking.\n"
     ]
    }
   ],
   "source": [
    "from abc import ABC, abstractmethod\n",
    "\n",
    "class Animal(ABC):\n",
    "    @abstractmethod\n",
    "    def move(self):\n",
    "        pass\n",
    "\n",
    "class Dog(Animal):\n",
    "    def move(self):\n",
    "        print(\"The dog is running.\")\n",
    "\n",
    "class Cat(Animal):\n",
    "    def move(self):\n",
    "        print(\"The cat is walking.\")\n",
    "\n",
    "# Creating objects of the Dog and Cat classes\n",
    "dog = Dog()\n",
    "cat = Cat()\n",
    "\n",
    "# Calling the move() method on the objects\n",
    "dog.move()  \n",
    "cat.move()\n"
   ]
  },
  {
   "attachments": {},
   "cell_type": "markdown",
   "metadata": {},
   "source": [
    "<p style=\" color : #4233FF\"><b>Q2. Differentiate between Abstraction and Encapsulation. Explain with an example.</b>"
   ]
  },
  {
   "attachments": {},
   "cell_type": "markdown",
   "metadata": {},
   "source": [
    "`Abstraction` focuses on the essential features and behavior of an object while hiding unnecessary details. It provides a high-level view and defines interfaces and abstract classes. Abstraction allows you to work with objects in a generalized manner, ignoring implementation specifics.\n",
    "\n",
    "`Encapsulation`, on the other hand, is about bundling data and methods together within a class and controlling their access. It ensures that the internal state of an object is protected and can only be accessed through defined methods. Encapsulation helps in achieving data hiding, modularity, and code organization."
   ]
  },
  {
   "cell_type": "code",
   "execution_count": 18,
   "metadata": {},
   "outputs": [
    {
     "name": "stdout",
     "output_type": "stream",
     "text": [
      "Gorachand\n",
      "Name: Gorachand, Department: IT\n"
     ]
    }
   ],
   "source": [
    "from abc import ABC, abstractmethod\n",
    "\n",
    "class Person(ABC):\n",
    "    def __init__(self, name, department):\n",
    "        self.__name = name # Encapsulates the name\n",
    "        self.__department = department # Encapsulates the department\n",
    "\n",
    "    @abstractmethod\n",
    "    def department(self):\n",
    "        self.__department #Abstract method\n",
    "\n",
    "    def display_info(self):\n",
    "        print(f\"Name: {self.__name}, Department: {self.department()}\")\n",
    "\n",
    "class Person1(Person):\n",
    "    def __init__(self, name, department):\n",
    "        self.__name = name\n",
    "        super().__init__(name, department)\n",
    "        self.__department = department\n",
    "    \n",
    "    def get_name(self):\n",
    "        return self.__name\n",
    "    \n",
    "    def department(self):\n",
    "        return self.__department\n",
    "    \n",
    "    def display_info(self):\n",
    "        return super().display_info()\n",
    "        \n",
    "\n",
    "obj = Person1('Gorachand', 'IT')\n",
    "print(obj.get_name())\n",
    "obj.display_info()\n"
   ]
  },
  {
   "cell_type": "code",
   "execution_count": null,
   "metadata": {},
   "outputs": [],
   "source": []
  },
  {
   "attachments": {},
   "cell_type": "markdown",
   "metadata": {},
   "source": [
    "<p style=\" color : #4233FF\"><b>Q3. What is abc module in python? Why is it used?</b>"
   ]
  },
  {
   "attachments": {},
   "cell_type": "markdown",
   "metadata": {},
   "source": [
    "The `abc` module in Python stands for \"Abstract Base Classes.\" It is a module that provides mechanisms for defining abstract base classes in Python.\n",
    "\n",
    "Abstract base classes (ABCs) are classes that cannot be instantiated and are designed to be subclassed. They are meant to serve as a blueprint for other classes and define a common interface for their subclasses. ABCs allow you to define methods that must be implemented by any concrete subclass.\n",
    "\n",
    "The `abc` module provides the `ABC` class, which serves as a helper class for defining abstract base classes. It also provides decorators and functions that assist in defining and working with abstract methods and abstract properties.\n",
    "\n",
    "The `abc` module is used for implementing abstraction in object-oriented programming. It allows you to define abstract classes and enforce certain methods or properties that subclasses must implement. By defining abstract methods, you can create contracts that ensure the expected behavior of subclasses. This promotes code modularity, reusability, and helps in managing complexity.\n",
    "\n",
    "\n",
    "### why the `abc` module is used:\n",
    "\n",
    "1. Define abstract base classes: The `abc` module allows you to define abstract base classes, which serve as blueprints for subclasses.\n",
    "\n",
    "2. Enforce method implementation: Abstract base classes can have abstract methods that must be implemented by subclasses, enforcing a common interface.\n",
    "\n",
    "3. Promote code consistency: By using abstract base classes, you can ensure that subclasses follow a standardized structure and behavior.\n",
    "\n",
    "4. Enable polymorphism: Abstract base classes provide a way to create polymorphic relationships, allowing objects of different classes to be treated uniformly."
   ]
  },
  {
   "cell_type": "code",
   "execution_count": null,
   "metadata": {},
   "outputs": [],
   "source": []
  },
  {
   "attachments": {},
   "cell_type": "markdown",
   "metadata": {},
   "source": [
    "<p style=\" color : #4233FF\"><b>Q4. How can we achieve data abstraction?</b>"
   ]
  },
  {
   "attachments": {},
   "cell_type": "markdown",
   "metadata": {},
   "source": [
    "`Data abstraction` in Python can be achieved by using classes, objects, and access modifiers.\n",
    "\n",
    "Here are the steps to achieve data abstraction:\n",
    "\n",
    "* `Create a class:` Define a class that represents the abstract data type. The class should encapsulate the data and related behaviors.\n",
    "\n",
    "* `Define private attributes:` Use access modifiers to make attributes private, indicating that they should not be accessed directly from outside the class. In Python, prefixing an attribute name with double underscores (__) makes it private.\n",
    "\n",
    "* `Provide public methods:` Define public methods (also known as accessor and mutator methods) that allow controlled access to the private attributes. These methods provide a way to interact with the data without directly accessing the private attributes.\n",
    "\n",
    "* `Encapsulate implementation details:` Hide the implementation details of how the data is stored or manipulated from the external code. Only expose the necessary methods that provide the required functionality."
   ]
  },
  {
   "cell_type": "code",
   "execution_count": 1,
   "metadata": {},
   "outputs": [
    {
     "name": "stdout",
     "output_type": "stream",
     "text": [
      "123456789\n",
      "1000\n",
      "500\n"
     ]
    }
   ],
   "source": [
    "class BankAccount:\n",
    "    def __init__(self):\n",
    "        self.__account_number = None\n",
    "        self.__balance = 0\n",
    "\n",
    "    def set_account_number(self, account_number):\n",
    "        self.__account_number = account_number\n",
    "\n",
    "    def get_account_number(self):\n",
    "        return self.__account_number\n",
    "\n",
    "    def deposit(self, amount):\n",
    "        self.__balance += amount\n",
    "\n",
    "    def withdraw(self, amount):\n",
    "        if amount <= self.__balance:\n",
    "            self.__balance -= amount\n",
    "        else:\n",
    "            print(\"Insufficient balance.\")\n",
    "\n",
    "    def get_balance(self):\n",
    "        return self.__balance\n",
    "\n",
    "\n",
    "# Creating an object of the BankAccount class\n",
    "account = BankAccount()\n",
    "\n",
    "# Setting account number and depositing money\n",
    "account.set_account_number(\"123456789\")\n",
    "account.deposit(1000)\n",
    "\n",
    "# Getting account number and balance\n",
    "print(account.get_account_number())  \n",
    "print(account.get_balance())        \n",
    "\n",
    "# Withdrawing money\n",
    "account.withdraw(500)\n",
    "print(account.get_balance())       "
   ]
  },
  {
   "cell_type": "code",
   "execution_count": null,
   "metadata": {},
   "outputs": [],
   "source": []
  },
  {
   "attachments": {},
   "cell_type": "markdown",
   "metadata": {},
   "source": [
    "<p style=\" color : #4233FF\"><b>Q5. Can we create an instance of an abstract class? Explain your answer.</b>"
   ]
  },
  {
   "attachments": {},
   "cell_type": "markdown",
   "metadata": {},
   "source": [
    "`No`, we cannot create an instance of an abstract class in Python.\n",
    "\n",
    "An abstract class is a class that is meant to be subclassed but not instantiated directly. It is designed to serve as a blueprint for other classes and provides a common interface or structure for its subclasses. Abstract classes often contain abstract methods, which are methods that are declared but do not have an implementation in the abstract class itself.\n",
    "\n",
    "In Python, abstract classes are created using the abc module, and the ABC class from this module is typically used as the base class for abstract classes. The ABC class stands for \"Abstract Base Class.\"\n",
    "\n",
    "To create an abstract class, you need to import the ABC class and mark the class itself or the methods as abstract using the @abstractmethod decorator. This indicates that the class is intended to be subclassed and that the abstract methods must be implemented by the concrete subclasses."
   ]
  },
  {
   "cell_type": "code",
   "execution_count": null,
   "metadata": {},
   "outputs": [],
   "source": [
    "from abc import ABC, abstractmethod\n",
    "\n",
    "class AbstractClass(ABC):\n",
    "    @abstractmethod\n",
    "    def abstract_method(self):\n",
    "        pass\n",
    "\n",
    "class ConcreteClass(AbstractClass):\n",
    "    def abstract_method(self):\n",
    "        print(\"Abstract method implementation in ConcreteClass\")\n",
    "\n",
    "# Trying to create an instance of the abstract class\n",
    "instance = AbstractClass()  \n",
    "\n",
    "# Raises TypeError\n"
   ]
  },
  {
   "attachments": {},
   "cell_type": "markdown",
   "metadata": {},
   "source": [
    "\n",
    "<h1 style = 'color:orange'>\n",
    "    <b><div>THANK YOU</div></b>\n",
    "</h1>\n"
   ]
  }
 ],
 "metadata": {
  "kernelspec": {
   "display_name": "Python 3",
   "language": "python",
   "name": "python3"
  },
  "language_info": {
   "codemirror_mode": {
    "name": "ipython",
    "version": 3
   },
   "file_extension": ".py",
   "mimetype": "text/x-python",
   "name": "python",
   "nbconvert_exporter": "python",
   "pygments_lexer": "ipython3",
   "version": "3.11.2"
  },
  "orig_nbformat": 4
 },
 "nbformat": 4,
 "nbformat_minor": 2
}
