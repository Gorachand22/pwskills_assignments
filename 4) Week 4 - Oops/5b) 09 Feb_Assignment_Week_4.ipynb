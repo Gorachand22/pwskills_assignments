{
 "cells": [
  {
   "attachments": {},
   "cell_type": "markdown",
   "metadata": {},
   "source": [
    "<h1 style = 'color:red'><b>Week-4, Assignment</b><h1>"
   ]
  },
  {
   "attachments": {},
   "cell_type": "markdown",
   "metadata": {},
   "source": [
    "Name - Gorachanda Dash <br>\n",
    "Date - Feb 09 2023\n",
    "Week 4, Oops"
   ]
  },
  {
   "attachments": {},
   "cell_type": "markdown",
   "metadata": {},
   "source": [
    "<p style=\" color : #4233FF\"><b>Q1. Create a vehicle class with an init method having instance variables as name_of_vehicle, max_speed\n",
    "and average_of_vehicle.<b>"
   ]
  },
  {
   "cell_type": "code",
   "execution_count": 1,
   "metadata": {},
   "outputs": [
    {
     "name": "stdout",
     "output_type": "stream",
     "text": [
      "Car\n",
      "200\n",
      "40\n"
     ]
    }
   ],
   "source": [
    "class Vehicle:\n",
    "    def __init__(self, name_of_vehicle, max_speed, average_of_vehicle):\n",
    "        self.name_of_vehicle = name_of_vehicle\n",
    "        self.max_speed = max_speed\n",
    "        self.average_of_vehicle = average_of_vehicle\n",
    "\n",
    "car = Vehicle('Car', 200, 40)\n",
    "print(car.name_of_vehicle)    \n",
    "print(car.max_speed)             \n",
    "print(car.average_of_vehicle)"
   ]
  },
  {
   "attachments": {},
   "cell_type": "markdown",
   "metadata": {},
   "source": [
    "<p style=\" color : #4233FF\"><b>Q2. Create a child class car from the vehicle class created in Que 1, which will inherit the vehicle class.\n",
    "Create a method named seating_capacity which takes capacity as an argument and returns the name of\n",
    "the vehicle and its seating capacity.</b>"
   ]
  },
  {
   "cell_type": "code",
   "execution_count": 2,
   "metadata": {},
   "outputs": [
    {
     "name": "stdout",
     "output_type": "stream",
     "text": [
      "Car\n",
      "200\n",
      "40\n",
      "The Car has a seating capacity of 5 passengers.\n"
     ]
    }
   ],
   "source": [
    "class Vehicle:\n",
    "    def __init__(self, name_of_vehicle, max_speed, average_of_vehicle):\n",
    "        self.name_of_vehicle = name_of_vehicle\n",
    "        self.max_speed = max_speed\n",
    "        self.average_of_vehicle = average_of_vehicle\n",
    "\n",
    "class Car(Vehicle):\n",
    "    def seating_capacity(self, capacity):\n",
    "        return f\"The {self.name_of_vehicle} has a seating capacity of {capacity} passengers.\"\n",
    "\n",
    "# Creating instances of the classes\n",
    "car = Car('Car', 200, 40)\n",
    "\n",
    "# Accessing attributes of the Vehicle class\n",
    "print(car.name_of_vehicle)      \n",
    "print(car.max_speed)             \n",
    "print(car.average_of_vehicle)    \n",
    "\n",
    "# Calling the seating_capacity method of the Car class\n",
    "capacity = 5\n",
    "print(car.seating_capacity(capacity))\n"
   ]
  },
  {
   "attachments": {},
   "cell_type": "markdown",
   "metadata": {},
   "source": [
    "<p style=\" color : #4233FF\"><b>Q3. What is multiple inheritance? Write a python code to demonstrate multiple inheritance.</b>"
   ]
  },
  {
   "attachments": {},
   "cell_type": "markdown",
   "metadata": {},
   "source": [
    "`Multiple inheritance` is a feature in object-oriented programming where a class can inherit attributes and methods from multiple parent classes. In other words, a class can derive characteristics from more than one base class."
   ]
  },
  {
   "cell_type": "code",
   "execution_count": 4,
   "metadata": {},
   "outputs": [
    {
     "name": "stdout",
     "output_type": "stream",
     "text": [
      "Method A from class A\n",
      "Method B from class B\n",
      "Method C from class C\n"
     ]
    }
   ],
   "source": [
    "class A:\n",
    "    def method_a(self):\n",
    "        print(\"Method A from class A\")\n",
    "\n",
    "class B:\n",
    "    def method_b(self):\n",
    "        print(\"Method B from class B\")\n",
    "\n",
    "class C(A, B):\n",
    "    def method_c(self):\n",
    "        print(\"Method C from class C\")\n",
    "\n",
    "# Creating an instance of class C\n",
    "c = C()\n",
    "\n",
    "# Calling methods from class A\n",
    "c.method_a() \n",
    "\n",
    "# Calling methods from class B\n",
    "c.method_b() \n",
    "\n",
    "# Calling method specific to class C\n",
    "c.method_c() \n"
   ]
  },
  {
   "attachments": {},
   "cell_type": "markdown",
   "metadata": {},
   "source": [
    "<p style=\" color : #4233FF\"><b>Q4. What are getter and setter in python? Create a class and create a getter and a setter method in this\n",
    "class.</b>"
   ]
  },
  {
   "attachments": {},
   "cell_type": "markdown",
   "metadata": {},
   "source": [
    "In Python, `getters` and `setters` are methods used to access and modify the attributes (properties) of a class. They provide a way to encapsulate the access and modification of the class attributes, allowing for better control and abstraction."
   ]
  },
  {
   "cell_type": "code",
   "execution_count": 7,
   "metadata": {},
   "outputs": [
    {
     "name": "stdout",
     "output_type": "stream",
     "text": [
      "Gorachand\n",
      "Laveena\n"
     ]
    }
   ],
   "source": [
    "class Person:\n",
    "    def __init__(self, name):\n",
    "        self.__name = name\n",
    "\n",
    "    # Getter method for the name attribute\n",
    "    def get_name(self):\n",
    "        return self.__name\n",
    "\n",
    "    # Setter method for the name attribute\n",
    "    def set_name(self, name):\n",
    "        self.__name = name\n",
    "\n",
    "# Creating an instance of the Person class\n",
    "person = Person(\"Gorachand\")\n",
    "\n",
    "# Using the getter method to access the name attribute\n",
    "print(person.get_name())  \n",
    "\n",
    "# Using the setter method to modify the name attribute\n",
    "person.set_name(\"Laveena\")\n",
    "\n",
    "# Accessing the modified name attribute\n",
    "print(person.get_name()) \n"
   ]
  },
  {
   "attachments": {},
   "cell_type": "markdown",
   "metadata": {},
   "source": [
    "<p style=\" color : #4233FF\"><b>Q5.What is method overriding in python? Write a python code to demonstrate method overriding.</b>"
   ]
  },
  {
   "attachments": {},
   "cell_type": "markdown",
   "metadata": {},
   "source": [
    "`Method overriding` in Python is the ability of a subclass to provide a different implementation of a method that is already defined in its superclass. This allows the subclass to modify or extend the behavior of the inherited method according to its specific needs."
   ]
  },
  {
   "cell_type": "code",
   "execution_count": 8,
   "metadata": {},
   "outputs": [
    {
     "name": "stdout",
     "output_type": "stream",
     "text": [
      "Driving a vehicle\n",
      "Driving a car\n"
     ]
    }
   ],
   "source": [
    "class Vehicle:\n",
    "    def drive(self):\n",
    "        print(\"Driving a vehicle\")\n",
    "\n",
    "class Car(Vehicle):\n",
    "    def drive(self):\n",
    "        print(\"Driving a car\")\n",
    "\n",
    "# Creating instances of the classes\n",
    "vehicle = Vehicle()\n",
    "car = Car()\n",
    "\n",
    "# Calling the drive() method on the instances\n",
    "vehicle.drive()  \n",
    "car.drive()      \n"
   ]
  },
  {
   "attachments": {},
   "cell_type": "markdown",
   "metadata": {},
   "source": [
    "In this example, we have a Vehicle class with a drive() method that prints \"Driving a vehicle\". We also have a Car class that inherits from the Vehicle class and overrides the drive() method with its own implementation that prints \"Driving a car\"."
   ]
  },
  {
   "attachments": {},
   "cell_type": "markdown",
   "metadata": {},
   "source": [
    "\n",
    "<h1 style = 'color:orange'>\n",
    "    <b><div>THANK YOU</div></b>\n",
    "</h1>\n"
   ]
  }
 ],
 "metadata": {
  "kernelspec": {
   "display_name": "Python 3",
   "language": "python",
   "name": "python3"
  },
  "language_info": {
   "codemirror_mode": {
    "name": "ipython",
    "version": 3
   },
   "file_extension": ".py",
   "mimetype": "text/x-python",
   "name": "python",
   "nbconvert_exporter": "python",
   "pygments_lexer": "ipython3",
   "version": "3.11.2"
  },
  "orig_nbformat": 4
 },
 "nbformat": 4,
 "nbformat_minor": 2
}
